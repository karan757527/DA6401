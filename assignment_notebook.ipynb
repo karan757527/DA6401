{
 "cells": [
  {
   "cell_type": "markdown",
   "id": "bbe1c6e9-1751-4085-a2f3-ef368d8c413c",
   "metadata": {},
   "source": [
    "# DA6401 Assignment 1  \n",
    " \n",
    "- [GitHub Repository](https://github.com/karan757527/DA6401)  \n",
    "- [Project Report](https://wandb.ai/cs24m021-iit-madras/DA6401_DL_Assignment1/reports/DA6401-Assignment-1--VmlldzoxMTc4Mzg1Mw)  "
   ]
  },
  {
   "cell_type": "markdown",
   "id": "0774dd86-4004-48ff-968d-6eeec441e1c2",
   "metadata": {},
   "source": [
    "### Requirements"
   ]
  },
  {
   "cell_type": "code",
   "execution_count": 1,
   "id": "bee20018-8afb-4cf5-9a88-2622625cf598",
   "metadata": {},
   "outputs": [
    {
     "name": "stdout",
     "output_type": "stream",
     "text": [
      "Requirement already satisfied: numpy in /opt/anaconda3/lib/python3.11/site-packages (from -r requirements.txt (line 1)) (1.26.4)\n",
      "Requirement already satisfied: pandas in /opt/anaconda3/lib/python3.11/site-packages (from -r requirements.txt (line 2)) (2.1.4)\n",
      "Requirement already satisfied: scikit-learn in /opt/anaconda3/lib/python3.11/site-packages (from -r requirements.txt (line 3)) (1.2.2)\n",
      "Requirement already satisfied: keras in /opt/anaconda3/lib/python3.11/site-packages (from -r requirements.txt (line 4)) (3.8.0)\n",
      "Requirement already satisfied: tensorflow in /opt/anaconda3/lib/python3.11/site-packages (from -r requirements.txt (line 5)) (2.18.0)\n",
      "Requirement already satisfied: wandb in /opt/anaconda3/lib/python3.11/site-packages (from -r requirements.txt (line 6)) (0.19.7)\n",
      "Collecting argparse (from -r requirements.txt (line 7))\n",
      "  Using cached argparse-1.4.0-py2.py3-none-any.whl.metadata (2.8 kB)\n",
      "Requirement already satisfied: seaborn in /opt/anaconda3/lib/python3.11/site-packages (from -r requirements.txt (line 8)) (0.12.2)\n",
      "Requirement already satisfied: matplotlib in /opt/anaconda3/lib/python3.11/site-packages (from -r requirements.txt (line 9)) (3.8.0)\n",
      "Requirement already satisfied: python-dateutil>=2.8.2 in /opt/anaconda3/lib/python3.11/site-packages (from pandas->-r requirements.txt (line 2)) (2.8.2)\n",
      "Requirement already satisfied: pytz>=2020.1 in /opt/anaconda3/lib/python3.11/site-packages (from pandas->-r requirements.txt (line 2)) (2023.3.post1)\n",
      "Requirement already satisfied: tzdata>=2022.1 in /opt/anaconda3/lib/python3.11/site-packages (from pandas->-r requirements.txt (line 2)) (2023.3)\n",
      "Requirement already satisfied: scipy>=1.3.2 in /opt/anaconda3/lib/python3.11/site-packages (from scikit-learn->-r requirements.txt (line 3)) (1.11.4)\n",
      "Requirement already satisfied: joblib>=1.1.1 in /opt/anaconda3/lib/python3.11/site-packages (from scikit-learn->-r requirements.txt (line 3)) (1.1.1)\n",
      "Requirement already satisfied: threadpoolctl>=2.0.0 in /opt/anaconda3/lib/python3.11/site-packages (from scikit-learn->-r requirements.txt (line 3)) (2.2.0)\n",
      "Requirement already satisfied: absl-py in /opt/anaconda3/lib/python3.11/site-packages (from keras->-r requirements.txt (line 4)) (2.1.0)\n",
      "Requirement already satisfied: rich in /opt/anaconda3/lib/python3.11/site-packages (from keras->-r requirements.txt (line 4)) (13.3.5)\n",
      "Requirement already satisfied: namex in /opt/anaconda3/lib/python3.11/site-packages (from keras->-r requirements.txt (line 4)) (0.0.8)\n",
      "Requirement already satisfied: h5py in /opt/anaconda3/lib/python3.11/site-packages (from keras->-r requirements.txt (line 4)) (3.13.0)\n",
      "Requirement already satisfied: optree in /opt/anaconda3/lib/python3.11/site-packages (from keras->-r requirements.txt (line 4)) (0.14.0)\n",
      "Requirement already satisfied: ml-dtypes in /opt/anaconda3/lib/python3.11/site-packages (from keras->-r requirements.txt (line 4)) (0.4.1)\n",
      "Requirement already satisfied: packaging in /opt/anaconda3/lib/python3.11/site-packages (from keras->-r requirements.txt (line 4)) (23.1)\n",
      "Requirement already satisfied: astunparse>=1.6.0 in /opt/anaconda3/lib/python3.11/site-packages (from tensorflow->-r requirements.txt (line 5)) (1.6.3)\n",
      "Requirement already satisfied: flatbuffers>=24.3.25 in /opt/anaconda3/lib/python3.11/site-packages (from tensorflow->-r requirements.txt (line 5)) (25.2.10)\n",
      "Requirement already satisfied: gast!=0.5.0,!=0.5.1,!=0.5.2,>=0.2.1 in /opt/anaconda3/lib/python3.11/site-packages (from tensorflow->-r requirements.txt (line 5)) (0.6.0)\n",
      "Requirement already satisfied: google-pasta>=0.1.1 in /opt/anaconda3/lib/python3.11/site-packages (from tensorflow->-r requirements.txt (line 5)) (0.2.0)\n",
      "Requirement already satisfied: libclang>=13.0.0 in /opt/anaconda3/lib/python3.11/site-packages (from tensorflow->-r requirements.txt (line 5)) (18.1.1)\n",
      "Requirement already satisfied: opt-einsum>=2.3.2 in /opt/anaconda3/lib/python3.11/site-packages (from tensorflow->-r requirements.txt (line 5)) (3.4.0)\n",
      "Requirement already satisfied: protobuf!=4.21.0,!=4.21.1,!=4.21.2,!=4.21.3,!=4.21.4,!=4.21.5,<6.0.0dev,>=3.20.3 in /opt/anaconda3/lib/python3.11/site-packages (from tensorflow->-r requirements.txt (line 5)) (3.20.3)\n",
      "Requirement already satisfied: requests<3,>=2.21.0 in /opt/anaconda3/lib/python3.11/site-packages (from tensorflow->-r requirements.txt (line 5)) (2.31.0)\n",
      "Requirement already satisfied: setuptools in /opt/anaconda3/lib/python3.11/site-packages (from tensorflow->-r requirements.txt (line 5)) (68.2.2)\n",
      "Requirement already satisfied: six>=1.12.0 in /opt/anaconda3/lib/python3.11/site-packages (from tensorflow->-r requirements.txt (line 5)) (1.16.0)\n",
      "Requirement already satisfied: termcolor>=1.1.0 in /opt/anaconda3/lib/python3.11/site-packages (from tensorflow->-r requirements.txt (line 5)) (2.5.0)\n",
      "Requirement already satisfied: typing-extensions>=3.6.6 in /opt/anaconda3/lib/python3.11/site-packages (from tensorflow->-r requirements.txt (line 5)) (4.12.2)\n",
      "Requirement already satisfied: wrapt>=1.11.0 in /opt/anaconda3/lib/python3.11/site-packages (from tensorflow->-r requirements.txt (line 5)) (1.14.1)\n",
      "Requirement already satisfied: grpcio<2.0,>=1.24.3 in /opt/anaconda3/lib/python3.11/site-packages (from tensorflow->-r requirements.txt (line 5)) (1.70.0)\n",
      "Requirement already satisfied: tensorboard<2.19,>=2.18 in /opt/anaconda3/lib/python3.11/site-packages (from tensorflow->-r requirements.txt (line 5)) (2.18.0)\n",
      "Requirement already satisfied: tensorflow-io-gcs-filesystem>=0.23.1 in /opt/anaconda3/lib/python3.11/site-packages (from tensorflow->-r requirements.txt (line 5)) (0.37.1)\n",
      "Requirement already satisfied: click!=8.0.0,>=7.1 in /opt/anaconda3/lib/python3.11/site-packages (from wandb->-r requirements.txt (line 6)) (8.1.7)\n",
      "Requirement already satisfied: docker-pycreds>=0.4.0 in /opt/anaconda3/lib/python3.11/site-packages (from wandb->-r requirements.txt (line 6)) (0.4.0)\n",
      "Requirement already satisfied: gitpython!=3.1.29,>=1.0.0 in /opt/anaconda3/lib/python3.11/site-packages (from wandb->-r requirements.txt (line 6)) (3.1.37)\n",
      "Requirement already satisfied: platformdirs in /opt/anaconda3/lib/python3.11/site-packages (from wandb->-r requirements.txt (line 6)) (3.10.0)\n",
      "Requirement already satisfied: psutil>=5.0.0 in /opt/anaconda3/lib/python3.11/site-packages (from wandb->-r requirements.txt (line 6)) (5.9.0)\n",
      "Requirement already satisfied: pydantic<3,>=2.6 in /opt/anaconda3/lib/python3.11/site-packages (from wandb->-r requirements.txt (line 6)) (2.10.6)\n",
      "Requirement already satisfied: pyyaml in /opt/anaconda3/lib/python3.11/site-packages (from wandb->-r requirements.txt (line 6)) (6.0.1)\n",
      "Requirement already satisfied: sentry-sdk>=2.0.0 in /opt/anaconda3/lib/python3.11/site-packages (from wandb->-r requirements.txt (line 6)) (2.22.0)\n",
      "Requirement already satisfied: setproctitle in /opt/anaconda3/lib/python3.11/site-packages (from wandb->-r requirements.txt (line 6)) (1.3.5)\n",
      "Requirement already satisfied: contourpy>=1.0.1 in /opt/anaconda3/lib/python3.11/site-packages (from matplotlib->-r requirements.txt (line 9)) (1.2.0)\n",
      "Requirement already satisfied: cycler>=0.10 in /opt/anaconda3/lib/python3.11/site-packages (from matplotlib->-r requirements.txt (line 9)) (0.11.0)\n",
      "Requirement already satisfied: fonttools>=4.22.0 in /opt/anaconda3/lib/python3.11/site-packages (from matplotlib->-r requirements.txt (line 9)) (4.25.0)\n",
      "Requirement already satisfied: kiwisolver>=1.0.1 in /opt/anaconda3/lib/python3.11/site-packages (from matplotlib->-r requirements.txt (line 9)) (1.4.4)\n",
      "Requirement already satisfied: pillow>=6.2.0 in /opt/anaconda3/lib/python3.11/site-packages (from matplotlib->-r requirements.txt (line 9)) (10.2.0)\n",
      "Requirement already satisfied: pyparsing>=2.3.1 in /opt/anaconda3/lib/python3.11/site-packages (from matplotlib->-r requirements.txt (line 9)) (3.0.9)\n",
      "Requirement already satisfied: wheel<1.0,>=0.23.0 in /opt/anaconda3/lib/python3.11/site-packages (from astunparse>=1.6.0->tensorflow->-r requirements.txt (line 5)) (0.41.2)\n",
      "Requirement already satisfied: gitdb<5,>=4.0.1 in /opt/anaconda3/lib/python3.11/site-packages (from gitpython!=3.1.29,>=1.0.0->wandb->-r requirements.txt (line 6)) (4.0.7)\n",
      "Requirement already satisfied: annotated-types>=0.6.0 in /opt/anaconda3/lib/python3.11/site-packages (from pydantic<3,>=2.6->wandb->-r requirements.txt (line 6)) (0.7.0)\n",
      "Requirement already satisfied: pydantic-core==2.27.2 in /opt/anaconda3/lib/python3.11/site-packages (from pydantic<3,>=2.6->wandb->-r requirements.txt (line 6)) (2.27.2)\n",
      "Requirement already satisfied: charset-normalizer<4,>=2 in /opt/anaconda3/lib/python3.11/site-packages (from requests<3,>=2.21.0->tensorflow->-r requirements.txt (line 5)) (2.0.4)\n",
      "Requirement already satisfied: idna<4,>=2.5 in /opt/anaconda3/lib/python3.11/site-packages (from requests<3,>=2.21.0->tensorflow->-r requirements.txt (line 5)) (3.4)\n",
      "Requirement already satisfied: urllib3<3,>=1.21.1 in /opt/anaconda3/lib/python3.11/site-packages (from requests<3,>=2.21.0->tensorflow->-r requirements.txt (line 5)) (2.0.7)\n",
      "Requirement already satisfied: certifi>=2017.4.17 in /opt/anaconda3/lib/python3.11/site-packages (from requests<3,>=2.21.0->tensorflow->-r requirements.txt (line 5)) (2024.2.2)\n",
      "Requirement already satisfied: markdown>=2.6.8 in /opt/anaconda3/lib/python3.11/site-packages (from tensorboard<2.19,>=2.18->tensorflow->-r requirements.txt (line 5)) (3.4.1)\n",
      "Requirement already satisfied: tensorboard-data-server<0.8.0,>=0.7.0 in /opt/anaconda3/lib/python3.11/site-packages (from tensorboard<2.19,>=2.18->tensorflow->-r requirements.txt (line 5)) (0.7.2)\n",
      "Requirement already satisfied: werkzeug>=1.0.1 in /opt/anaconda3/lib/python3.11/site-packages (from tensorboard<2.19,>=2.18->tensorflow->-r requirements.txt (line 5)) (2.2.3)\n",
      "Requirement already satisfied: markdown-it-py<3.0.0,>=2.2.0 in /opt/anaconda3/lib/python3.11/site-packages (from rich->keras->-r requirements.txt (line 4)) (2.2.0)\n",
      "Requirement already satisfied: pygments<3.0.0,>=2.13.0 in /opt/anaconda3/lib/python3.11/site-packages (from rich->keras->-r requirements.txt (line 4)) (2.15.1)\n",
      "Requirement already satisfied: smmap<5,>=3.0.1 in /opt/anaconda3/lib/python3.11/site-packages (from gitdb<5,>=4.0.1->gitpython!=3.1.29,>=1.0.0->wandb->-r requirements.txt (line 6)) (4.0.0)\n",
      "Requirement already satisfied: mdurl~=0.1 in /opt/anaconda3/lib/python3.11/site-packages (from markdown-it-py<3.0.0,>=2.2.0->rich->keras->-r requirements.txt (line 4)) (0.1.0)\n",
      "Requirement already satisfied: MarkupSafe>=2.1.1 in /opt/anaconda3/lib/python3.11/site-packages (from werkzeug>=1.0.1->tensorboard<2.19,>=2.18->tensorflow->-r requirements.txt (line 5)) (2.1.3)\n",
      "Using cached argparse-1.4.0-py2.py3-none-any.whl (23 kB)\n",
      "Installing collected packages: argparse\n",
      "Successfully installed argparse-1.4.0\n"
     ]
    }
   ],
   "source": [
    "!pip install -r requirements.txt"
   ]
  },
  {
   "cell_type": "code",
   "execution_count": 2,
   "id": "39f5911a-48bf-43ab-aac4-bd8ffa36bd22",
   "metadata": {},
   "outputs": [],
   "source": [
    "import numpy as np\n",
    "import pandas as pd\n",
    "import matplotlib.pyplot as plt\n",
    "from keras.datasets import fashion_mnist\n",
    "import wandb\n",
    "from sklearn.model_selection import train_test_split\n",
    "import seaborn as sns\n",
    "from keras.datasets import mnist"
   ]
  },
  {
   "cell_type": "code",
   "execution_count": 3,
   "id": "cf8ecbbe-b398-4744-a262-4f34061fc6c0",
   "metadata": {},
   "outputs": [
    {
     "name": "stderr",
     "output_type": "stream",
     "text": [
      "\u001b[34m\u001b[1mwandb\u001b[0m: Using wandb-core as the SDK backend.  Please refer to https://wandb.me/wandb-core for more information.\n",
      "\u001b[34m\u001b[1mwandb\u001b[0m: \u001b[33mWARNING\u001b[0m If you're specifying your api key in code, ensure this code is not shared publicly.\n",
      "\u001b[34m\u001b[1mwandb\u001b[0m: \u001b[33mWARNING\u001b[0m Consider setting the WANDB_API_KEY environment variable, or running `wandb login` from the command line.\n",
      "\u001b[34m\u001b[1mwandb\u001b[0m: Appending key for api.wandb.ai to your netrc file: /Users/karanagrawal/.netrc\n",
      "\u001b[34m\u001b[1mwandb\u001b[0m: Currently logged in as: \u001b[33mcs24m021\u001b[0m (\u001b[33mcs24m021-iit-madras\u001b[0m) to \u001b[32mhttps://api.wandb.ai\u001b[0m. Use \u001b[1m`wandb login --relogin`\u001b[0m to force relogin\n"
     ]
    },
    {
     "data": {
      "text/plain": [
       "True"
      ]
     },
     "execution_count": 3,
     "metadata": {},
     "output_type": "execute_result"
    }
   ],
   "source": [
    "wandb.login(key=\"843913992a9025996973825be4ad46e4636d0610\")"
   ]
  },
  {
   "cell_type": "code",
   "execution_count": 4,
   "id": "65e52d64-a568-4e04-8769-4e9646eec589",
   "metadata": {},
   "outputs": [],
   "source": [
    "PROJECT = \"DA6401_Assignment1\" #\"DA6401_DL_Assignment1\"\n",
    "ENTITY = \"karan\"\n",
    "SWEEPCOUNT = 5 #250"
   ]
  },
  {
   "cell_type": "markdown",
   "id": "5dbf992f-ce80-4d1f-acc4-dce004734f6c",
   "metadata": {},
   "source": [
    "### Loading Data"
   ]
  },
  {
   "cell_type": "code",
   "execution_count": 5,
   "id": "5f201fa9-7bab-447a-87ed-381b94bb22d3",
   "metadata": {},
   "outputs": [],
   "source": [
    "# for question 1-8\n",
    "(train_img, train_labels), (test_img, test_labels) = fashion_mnist.load_data()\n",
    "target_classes = [\"T-shirt/top\", \"Trouser\", \"Pullover\", \"Dress\", \"Coat\", \"Sandal\", \"Shirt\", \"Sneaker\", \"Bag\", \"Ankle boot\"]\n",
    "\n",
    "# for question 10\n",
    "(mnist_train, mnist_train_label), (mnist_test, mnist_test_label) = mnist.load_data()"
   ]
  },
  {
   "cell_type": "markdown",
   "id": "8f9182d6-4795-420e-9030-e7042756e3c2",
   "metadata": {},
   "source": [
    "## Question 1: Plot one sample per class"
   ]
  },
  {
   "cell_type": "code",
   "execution_count": 6,
   "id": "5a3db74c-9b57-4973-a572-dd17c379050e",
   "metadata": {},
   "outputs": [
    {
     "data": {
      "text/html": [
       "Tracking run with wandb version 0.19.7"
      ],
      "text/plain": [
       "<IPython.core.display.HTML object>"
      ]
     },
     "metadata": {},
     "output_type": "display_data"
    },
    {
     "data": {
      "text/html": [
       "Run data is saved locally in <code>/Users/karanagrawal/Desktop/Sem 2/DL/Assignment 1/wandb/run-20250315_235335-q7euri80</code>"
      ],
      "text/plain": [
       "<IPython.core.display.HTML object>"
      ]
     },
     "metadata": {},
     "output_type": "display_data"
    },
    {
     "data": {
      "text/html": [
       "Syncing run <strong><a href='https://wandb.ai/cs24m021-iit-madras/DA6401_Assignment1/runs/q7euri80' target=\"_blank\">Question_1</a></strong> to <a href='https://wandb.ai/cs24m021-iit-madras/DA6401_Assignment1' target=\"_blank\">Weights & Biases</a> (<a href='https://wandb.me/developer-guide' target=\"_blank\">docs</a>)<br>"
      ],
      "text/plain": [
       "<IPython.core.display.HTML object>"
      ]
     },
     "metadata": {},
     "output_type": "display_data"
    },
    {
     "data": {
      "text/html": [
       " View project at <a href='https://wandb.ai/cs24m021-iit-madras/DA6401_Assignment1' target=\"_blank\">https://wandb.ai/cs24m021-iit-madras/DA6401_Assignment1</a>"
      ],
      "text/plain": [
       "<IPython.core.display.HTML object>"
      ]
     },
     "metadata": {},
     "output_type": "display_data"
    },
    {
     "data": {
      "text/html": [
       " View run at <a href='https://wandb.ai/cs24m021-iit-madras/DA6401_Assignment1/runs/q7euri80' target=\"_blank\">https://wandb.ai/cs24m021-iit-madras/DA6401_Assignment1/runs/q7euri80</a>"
      ],
      "text/plain": [
       "<IPython.core.display.HTML object>"
      ]
     },
     "metadata": {},
     "output_type": "display_data"
    },
    {
     "data": {
      "image/png": "[encoded data removed]",
      "text/plain": [
       "<Figure size 1500x1500 with 12 Axes>"
      ]
     },
     "metadata": {},
     "output_type": "display_data"
    },
    {
     "data": {
      "text/html": [],
      "text/plain": [
       "<IPython.core.display.HTML object>"
      ]
     },
     "metadata": {},
     "output_type": "display_data"
    },
    {
     "data": {
      "text/html": [
       " View run <strong style=\"color:#cdcd00\">Question_1</strong> at: <a href='https://wandb.ai/cs24m021-iit-madras/DA6401_Assignment1/runs/q7euri80' target=\"_blank\">https://wandb.ai/cs24m021-iit-madras/DA6401_Assignment1/runs/q7euri80</a><br> View project at: <a href='https://wandb.ai/cs24m021-iit-madras/DA6401_Assignment1' target=\"_blank\">https://wandb.ai/cs24m021-iit-madras/DA6401_Assignment1</a><br>Synced 5 W&B file(s), 1 media file(s), 0 artifact file(s) and 0 other file(s)"
      ],
      "text/plain": [
       "<IPython.core.display.HTML object>"
      ]
     },
     "metadata": {},
     "output_type": "display_data"
    },
    {
     "data": {
      "text/html": [
       "Find logs at: <code>./wandb/run-20250315_235335-q7euri80/logs</code>"
      ],
      "text/plain": [
       "<IPython.core.display.HTML object>"
      ]
     },
     "metadata": {},
     "output_type": "display_data"
    }
   ],
   "source": [
    "wandb.init(project=PROJECT, name=\"Question_1\")  \n",
    "sample = []\n",
    "for id in range(10):\n",
    "    index = np.where(train_labels == id)[0][0]  # first occurrence of each class\n",
    "    sample.append(train_img[index])  # corresponding image to the sample list\n",
    "\n",
    "fig, axes = plt.subplots(4, 3, figsize=(15, 15))  \n",
    "fig.suptitle(\"Fashion-MNIST Sample Images\", fontsize=14)  \n",
    "\n",
    "for i, ax in enumerate(axes.flat):\n",
    "    if i < len(sample):\n",
    "        ax.imshow(sample[i], cmap='gray')  # display the image in grayscale\n",
    "        ax.set_title(target_classes[i]) \n",
    "        ax.axis(\"off\") \n",
    "    else:\n",
    "        ax.axis(\"off\")  \n",
    "\n",
    "plt.tight_layout() \n",
    "wandb.log({\"Sample_Images\": wandb.Image(plt)})  # logging to wandb\n",
    "plt.show()\n",
    "wandb.finish(); "
   ]
  },
  {
   "cell_type": "markdown",
   "id": "3ccfbe1b-6164-4ecf-af16-5a763cd66d20",
   "metadata": {},
   "source": [
    "### Activation Functions"
   ]
  },
  {
   "cell_type": "code",
   "execution_count": 7,
   "id": "4f58b1df-45b4-43ce-9299-5d6aaded0279",
   "metadata": {},
   "outputs": [],
   "source": [
    "class Activation_Functions:\n",
    "    def __init__(self):\n",
    "        self.activation_functions = {\n",
    "            \"tanh\": self.tanh,\n",
    "            \"sigmoid\": self.sigmoid,\n",
    "            \"ReLU\": self.ReLU,\n",
    "            \"softmax\": self.softmax,\n",
    "            \"identity\": self.identity\n",
    "        }\n",
    "\n",
    "    def softmax(self, x):\n",
    "        exp_x = np.exp(x - np.max(x, axis=1, keepdims=True))  # numerical stability\n",
    "        return exp_x / np.sum(exp_x, axis=1, keepdims=True)  # softmax probabilities\n",
    "        \n",
    "    def sigmoid(self, x):\n",
    "        result = np.zeros_like(x)\n",
    "        result[x >= 0] = 1 / (1 + np.exp(-x[x >= 0]))  # for positive values\n",
    "        result[x < 0] = np.exp(x[x < 0]) / (1 + np.exp(x[x < 0]))  # for negative values\n",
    "        return result\n",
    "\n",
    "    def ReLU(self, x):\n",
    "        return np.maximum(0, x)  # ReLU activation\n",
    "\n",
    "    def tanh(self, x):\n",
    "        return np.tanh(x)  # hyperbolic tangent activation\n",
    "\n",
    "    def identity(self, x):\n",
    "        return x  # identity function\n",
    "\n",
    "    def activation(self, x, fun):\n",
    "        activation_function = self.activation_functions.get(fun)\n",
    "        if activation_function:\n",
    "            return activation_function(x)\n",
    "        else:\n",
    "            raise ValueError(f\"Activation function '{fun}' is not supported.\")"
   ]
  },
  {
   "cell_type": "markdown",
   "id": "dae421e1-7a19-43ba-8ea0-faaccb4c7f53",
   "metadata": {},
   "source": [
    "### Loss Functions"
   ]
  },
  {
   "cell_type": "code",
   "execution_count": 8,
   "id": "e58f861d-871c-4ec4-b5c1-9164ed4d5226",
   "metadata": {},
   "outputs": [],
   "source": [
    "class Loss_Function:\n",
    "    def __init__(self):\n",
    "        pass\n",
    "\n",
    "    def compute_loss(self, y_true, y_pred, loss_function=\"cross_entropy\"):\n",
    "        if loss_function == \"cross_entropy\":\n",
    "            epsilon = 1e-15\n",
    "            y_pred = np.clip(y_pred, epsilon, 1 - epsilon)  # clip to avoid log(0)\n",
    "            return np.mean(-np.sum(y_true * np.log(y_pred), axis=1))  # cross-entropy loss\n",
    "        if loss_function == \"mean_squared_error\":\n",
    "            return 0.5 * np.mean(np.sum((y_true - y_pred) ** 2, axis=1))  # MSE loss\n",
    "\n",
    "    def last_output_derivative(self, y_pred, y_true, activation_derivative, loss_function=\"cross_entropy\"):\n",
    "        if loss_function == \"mean_squared_error\":\n",
    "            return (y_pred - y_true) * activation_derivative / len(y_true)  # MSE derivative\n",
    "        if loss_function == \"cross_entropy\":\n",
    "            return -(y_true - y_pred)  # cross-entropy derivative"
   ]
  },
  {
   "cell_type": "markdown",
   "id": "66112254-bc9d-49cf-af7f-361303de2ecf",
   "metadata": {},
   "source": [
    "### Derivatioves"
   ]
  },
  {
   "cell_type": "code",
   "execution_count": 9,
   "id": "399cb629-a646-4080-bc30-11dd8c58dbe0",
   "metadata": {},
   "outputs": [],
   "source": [
    "class Derivatives:\n",
    "    def __init__(self):\n",
    "        self.activation = Activation_Functions()\n",
    "        self.derivative_functions = {\n",
    "            \"sigmoid\": self.sigmoid_derivative,\n",
    "            \"tanh\": self.tanh_derivative,\n",
    "            \"ReLU\": self.ReLU_derivative,\n",
    "            \"softmax\": self.softmax_derivative,\n",
    "            \"identity\": self.identity_derivative\n",
    "        }\n",
    "\n",
    "    def sigmoid_derivative(self, x):\n",
    "        k = self.activation.sigmoid(x)\n",
    "        return k * (1 - k)  # derivative of sigmoid\n",
    "\n",
    "    def softmax_derivative(self, x):\n",
    "        k = self.activation.softmax(x)\n",
    "        return k * (1 - k)  # derivative of softmax\n",
    "\n",
    "    def tanh_derivative(self, x):\n",
    "        k = self.activation.tanh(x)\n",
    "        return 1 - k ** 2  # derivative of tanh\n",
    "\n",
    "    def ReLU_derivative(self, x):\n",
    "        x[x > 0] = 1  # derivative is 1 for x > 0\n",
    "        x[x <= 0] = 0  # derivative is 0 for x <= 0\n",
    "        return x\n",
    "\n",
    "    def identity_derivative(self, x):\n",
    "        return np.ones_like(x)  # derivative of identity is 1\n",
    "\n",
    "    def derivatives(self, x, activation_function):\n",
    "        derivative_function = self.derivative_functions.get(activation_function)\n",
    "        if derivative_function:\n",
    "            return derivative_function(x)\n",
    "        else:\n",
    "            raise ValueError(f\"Derivative for activation function '{activation_function}' is not supported.\")"
   ]
  },
  {
   "cell_type": "markdown",
   "id": "403bafe9-8b02-4040-8ae0-2b55ae08a1cf",
   "metadata": {},
   "source": [
    "## Question 2"
   ]
  },
  {
   "cell_type": "code",
   "execution_count": 10,
   "id": "373fc4d0-57f4-4196-a0b3-38c0b2e1386c",
   "metadata": {},
   "outputs": [],
   "source": [
    "def forward_pass(x, weights, biases, activation, layer_sizes):\n",
    "    activation_func = Activation_Functions()\n",
    "    outputs, activations = {}, {}\n",
    "    outputs[0] = x  # input layer\n",
    "    \n",
    "    num_layers = len(layer_sizes)\n",
    "    \n",
    "    for layer in range(1, num_layers - 1):\n",
    "        activations[layer] = np.dot(outputs[layer - 1], weights[layer]) + biases[layer]  # linear transformation\n",
    "        outputs[layer] = activation_func.activation(activations[layer], fun=activation)  # apply activation\n",
    "    \n",
    "    activations[num_layers - 1] = np.dot(outputs[num_layers - 2], weights[num_layers - 1]) + biases[num_layers - 1]\n",
    "    outputs[num_layers - 1] = activation_func.activation(activations[num_layers - 1], fun=\"softmax\")  # softmax for output layer\n",
    "    \n",
    "    return outputs[num_layers - 1]  # final output\n",
    "\n",
    "def Network_Q2(data, activation, input_size, layers, output_size):\n",
    "    weights, biases = {}, {}\n",
    "    layer_sizes = [input_size] + layers + [output_size]  # define layer sizes\n",
    "    predicted_probs = []\n",
    "    \n",
    "    for layer in range(1, len(layer_sizes)):\n",
    "        weights[layer] = np.random.randn(layer_sizes[layer - 1], layer_sizes[layer])  # initialize weights\n",
    "        biases[layer] = np.random.randn(1, layer_sizes[layer])  # initialize biases\n",
    "    \n",
    "    for sample in data:\n",
    "        x = sample.reshape(1, -1) / 255.0  # normalize input\n",
    "        y_pred = forward_pass(x, weights, biases, activation, layer_sizes)  # forward pass\n",
    "        predicted_probs.append(y_pred)  # store predictions\n",
    "    \n",
    "    return predicted_probs  # return all predictions"
   ]
  },
  {
   "cell_type": "code",
   "execution_count": 11,
   "id": "0288c9d3-9f39-49c1-9905-99c17bac9751",
   "metadata": {},
   "outputs": [
    {
     "name": "stdout",
     "output_type": "stream",
     "text": [
      "[[[1.36000e-03 2.97000e-04 9.99060e-02 8.88156e-01 1.20000e-05\n",
      "   3.34200e-03 2.48800e-03 1.16000e-03 4.00000e-06 3.27400e-03]]\n",
      "\n",
      " [[7.13700e-03 1.90270e-02 5.77940e-01 1.91462e-01 1.51000e-04\n",
      "   3.47710e-02 1.05657e-01 5.89650e-02 2.67000e-04 4.62400e-03]]\n",
      "\n",
      " [[3.51600e-03 3.82000e-04 4.63640e-01 5.17520e-01 1.00000e-05\n",
      "   2.34500e-03 9.44200e-03 2.65800e-03 2.50000e-05 4.62000e-04]]\n",
      "\n",
      " [[3.38050e-02 1.00830e-02 5.53862e-01 3.11355e-01 8.60000e-05\n",
      "   2.42060e-02 3.72010e-02 2.50880e-02 2.86000e-04 4.02700e-03]]\n",
      "\n",
      " [[4.67780e-02 1.59100e-03 3.85896e-01 4.96653e-01 2.60000e-05\n",
      "   1.28030e-02 3.74600e-02 1.61560e-02 1.37000e-04 2.50000e-03]]]\n"
     ]
    }
   ],
   "source": [
    "y_pred_Q2 = Network_Q2(train_img, \"sigmoid\", 784, [32, 32, 32], 10)  \n",
    "print(np.array(y_pred_Q2[:5]).round(6))  # print first 5 predictions"
   ]
  },
  {
   "cell_type": "markdown",
   "id": "fa887bba-57d6-4436-bf27-3fef1fdd3de1",
   "metadata": {},
   "source": [
    "### Optimizers"
   ]
  },
  {
   "cell_type": "code",
   "execution_count": 12,
   "id": "5550fbe8-0bba-4929-b620-13a594048ace",
   "metadata": {},
   "outputs": [],
   "source": [
    "class Optimizer:\n",
    "    def __init__(self, model, config):\n",
    "        self.model = model  \n",
    "        self.learning_rate = config[\"eta\"]  \n",
    "        self.decay = config[\"weight_decay\"]  \n",
    "        self.optim_type = config[\"optimizer\"]  \n",
    "        self.momentum = config[\"momentum\"] \n",
    "        self.beta1 = config[\"beta1\"] \n",
    "        self.beta2 = config[\"beta2\"]  \n",
    "        self.epsilon_val = config[\"epsilon\"]\n",
    "        self.optimization_methods = {\n",
    "            \"sgd\": self.stochastic_gradient_descent,\n",
    "            \"momentum\": self.momentum_gradient_descent,\n",
    "            \"nesterov\": self.nesterov_gradient_descent,\n",
    "            \"nag\": self.nesterov_gradient_descent,\n",
    "            \"rmsprop\": self.rmsprop,\n",
    "            \"adam\": self.adam,\n",
    "            \"nadam\": self.nadam\n",
    "        }\n",
    "\n",
    "    def update_parameters(self, timestep):\n",
    "        optimization_function = self.optimization_methods.get(self.optim_type)\n",
    "        \n",
    "        if optimization_function:\n",
    "            if self.optim_type in [\"adam\", \"nadam\"]:\n",
    "                optimization_function(timestep)\n",
    "            else:\n",
    "                optimization_function()\n",
    "        else:\n",
    "            raise ValueError(f\"Optimization method '{self.optim_type}' is not supported.\")\n",
    "\n",
    "    def stochastic_gradient_descent(self):\n",
    "        param_layers = self.model.weights.keys()\n",
    "        for l in param_layers:\n",
    "            reg_term = self.model.weights[l] * self.decay  # weight decay\n",
    "            self.model.grad_weights[l] += reg_term\n",
    "            bias_update = self.learning_rate * self.model.grad_biases[l]  # bias update\n",
    "            self.model.biases[l] -= bias_update\n",
    "            weight_update = self.learning_rate * self.model.grad_weights[l]  # weight update\n",
    "            self.model.weights[l] -= weight_update\n",
    "\n",
    "    def momentum_gradient_descent(self):\n",
    "        for layer in self.model.weights.keys():\n",
    "            self.model.grad_weights[layer] += self.decay * self.model.weights[layer]  # weight decay\n",
    "            prev_momentum_w = self.momentum * self.model.m_weights[layer]\n",
    "            new_momentum_w = prev_momentum_w + self.learning_rate * self.model.grad_weights[layer]  # momentum update\n",
    "            prev_momentum_b = self.momentum * self.model.m_biases[layer]\n",
    "            new_momentum_b = prev_momentum_b + self.learning_rate * self.model.grad_biases[layer]\n",
    "            self.model.m_weights[layer] = new_momentum_w\n",
    "            self.model.m_biases[layer] = new_momentum_b\n",
    "            self.model.weights[layer] -= new_momentum_w\n",
    "            self.model.biases[layer] -= new_momentum_b\n",
    "\n",
    "    def nesterov_gradient_descent(self):\n",
    "        for l in self.model.weights.keys():\n",
    "            momentum_w = self.momentum * self.model.m_weights[l]  # momentum term\n",
    "            lookahead_w = self.model.weights[l] - momentum_w  # lookahead step\n",
    "            lookahead_b = self.model.biases[l] - self.momentum * self.model.m_biases[l]\n",
    "            self.model.grad_weights[l] += lookahead_w * self.decay  # weight decay\n",
    "            grad_w = self.model.grad_weights[l]\n",
    "            grad_b = self.model.grad_biases[l]\n",
    "            new_m_w = self.momentum * self.model.m_weights[l] - self.learning_rate * grad_w  # update momentum\n",
    "            new_m_b = self.momentum * self.model.m_biases[l] - self.learning_rate * grad_b\n",
    "            self.model.weights[l] += new_m_w\n",
    "            self.model.biases[l] += new_m_b\n",
    "            self.model.m_weights[l] = new_m_w\n",
    "            self.model.m_biases[l] = new_m_b\n",
    "\n",
    "    def rmsprop(self):\n",
    "        for layer in self.model.weights.keys():\n",
    "            current_grad_w = self.model.grad_weights[layer] + self.model.weights[layer] * self.decay  # weight decay\n",
    "            current_grad_b = self.model.grad_biases[layer]\n",
    "            self.model.v_weights[layer] = self.beta2*self.model.v_weights[layer] + (1-self.beta2)*(current_grad_w**2)  # velocity update\n",
    "            self.model.v_biases[layer] = self.beta2*self.model.v_biases[layer] + (1-self.beta2)*(current_grad_b**2)\n",
    "            epsilon = 1e-8 if self.epsilon_val < 1e-8 else self.epsilon_val  # numerical stability\n",
    "            self.model.weights[layer] -= (current_grad_w * self.learning_rate) / (np.sqrt(self.model.v_weights[layer]) + epsilon)  # update weights\n",
    "            self.model.biases[layer] -= (current_grad_b * self.learning_rate) / (np.sqrt(self.model.v_biases[layer]) + epsilon)\n",
    "\n",
    "    def adam(self, step):\n",
    "        for l in self.model.weights.keys():\n",
    "            decay_contribution = self.decay * self.model.weights[l] # weight decay\n",
    "            self.model.grad_weights[l] += decay_contribution\n",
    "            \n",
    "            grad_w = np.clip(self.model.grad_weights[l], -1e3, 1e3)\n",
    "            grad_b = np.clip(self.model.grad_biases[l], -1e3, 1e3)\n",
    "            \n",
    "            m_w = self.beta1 * self.model.m_weights[l] + (1 - self.beta1) * grad_w # momentum update with numerical stability\n",
    "            m_b = self.beta1 * self.model.m_biases[l] + (1 - self.beta1) * grad_b\n",
    "            \n",
    "            v_w = self.beta2 * self.model.v_weights[l] + (1 - self.beta2) * (grad_w**2 + 1e-8)\n",
    "            v_b = self.beta2 * self.model.v_biases[l] + (1 - self.beta2) * (grad_b**2 + 1e-8)\n",
    "            \n",
    "            self.model.m_weights[l], self.model.v_weights[l] = m_w, v_w\n",
    "            self.model.m_biases[l], self.model.v_biases[l] = m_b, v_b\n",
    "            \n",
    "            beta1_t = max(self.beta1**step, 1e-8)\n",
    "            beta2_t = max(self.beta2**step, 1e-8)\n",
    "            mw_corrected = m_w / (1 - beta1_t + 1e-8)\n",
    "            vw_corrected = v_w / (1 - beta2_t + 1e-8)\n",
    "            mb_corrected = m_b / (1 - beta1_t + 1e-8)\n",
    "            vb_corrected = v_b / (1 - beta2_t + 1e-8)\n",
    "            \n",
    "            weight_update = self.learning_rate * mw_corrected / (np.sqrt(vw_corrected) + self.epsilon_val)\n",
    "            bias_update = self.learning_rate * mb_corrected / (np.sqrt(vb_corrected) + self.epsilon_val)\n",
    "            \n",
    "            self.model.weights[l] -= np.clip(weight_update, -1e3, 1e3)\n",
    "            self.model.biases[l] -= np.clip(bias_update, -1e3, 1e3)\n",
    "\n",
    "    def nadam(self, step):\n",
    "        for l in self.model.weights.keys():\n",
    "            self.model.grad_weights[l] += self.model.weights[l] * self.decay\n",
    "            grad_w = np.clip(self.model.grad_weights[l], -1e3, 1e3)\n",
    "            grad_b = np.clip(self.model.grad_biases[l], -1e3, 1e3)\n",
    "            \n",
    "            m_w_new = self.beta1 * self.model.m_weights[l] + (1-self.beta1)*grad_w\n",
    "            m_b_new = self.beta1 * self.model.m_biases[l] + (1-self.beta1)*grad_b\n",
    "\n",
    "            v_w_new = self.beta2 * self.model.v_weights[l] + (1-self.beta2)*(grad_w**2 + 1e-8)\n",
    "            v_b_new = self.beta2 * self.model.v_biases[l] + (1-self.beta2)*(grad_b**2 + 1e-8)\n",
    "            \n",
    "            beta1_t = max(self.beta1**step, 1e-8)\n",
    "            beta2_t = max(self.beta2**step, 1e-8)\n",
    "            mw_hat = m_w_new / (1 - beta1_t + 1e-8)\n",
    "            vw_hat = v_w_new / (1 - beta2_t + 1e-8)\n",
    "            mb_hat = m_b_new / (1 - beta1_t + 1e-8)\n",
    "            vb_hat = v_b_new / (1 - beta2_t + 1e-8)\n",
    "            \n",
    "            nesterov_w = self.beta1 * mw_hat + (1-self.beta1)*grad_w/(1 - beta1_t + 1e-8)\n",
    "            nesterov_b = self.beta1 * mb_hat + (1-self.beta1)*grad_b/(1 - beta1_t + 1e-8)\n",
    "            \n",
    "            weight_update = self.learning_rate * nesterov_w / (np.sqrt(vw_hat) + self.epsilon_val)\n",
    "            bias_update = self.learning_rate * nesterov_b / (np.sqrt(vb_hat) + self.epsilon_val)\n",
    "            \n",
    "            self.model.weights[l] -= np.clip(weight_update, -1e3, 1e3)\n",
    "            self.model.biases[l] -= np.clip(bias_update, -1e3, 1e3)\n",
    "            \n",
    "            self.model.m_weights[l], self.model.v_weights[l] = m_w_new, v_w_new\n",
    "            self.model.m_biases[l], self.model.v_biases[l] = m_b_new, v_b_new"
   ]
  },
  {
   "cell_type": "markdown",
   "id": "73b19a0e-8173-4b38-81bc-8ac2f639f0dd",
   "metadata": {},
   "source": [
    "### Final Neural Network Functionalities"
   ]
  },
  {
   "cell_type": "code",
   "execution_count": 13,
   "id": "568cab05-630a-41fe-bbbb-6e008e495dc2",
   "metadata": {},
   "outputs": [],
   "source": [
    "class Neural_Network:\n",
    "    def __init__(self, config, log=1, console=1):\n",
    "        self.weights, self.biases, self.a, self.h = {}, {}, {}, {}\n",
    "        self.grad_weights, self.grad_biases, self.m_weights, self.m_biases = {}, {}, {}, {}\n",
    "        self.v_weights, self.v_biases = {}, {}\n",
    "\n",
    "        self.activation_function = config[\"activation_function\"]\n",
    "        self.loss_function = config[\"loss_function\"]\n",
    "        self.initialization = config[\"init\"]\n",
    "        self.hidden_layers = config[\"hidden_layers\"]\n",
    "        self.hidden_layer_sizes = config[\"hidden_layer_sizes\"]\n",
    "        self.dataset = config[\"dataset\"]\n",
    "        self.wan_log, self.console_log = log, console\n",
    "        self.loss = Loss_Function()\n",
    "        self.act = Activation_Functions()\n",
    "        self.derivative = Derivatives()\n",
    "\n",
    "        (train_img, train_lbl), (test_img, test_lbl) = self.load_dataset()\n",
    "        train_img, val_img, train_lbl, val_lbl = train_test_split(train_img, train_lbl, test_size=0.1, random_state=41)\n",
    "\n",
    "        self.input, self.y_true = self.preprocess_data(train_img, train_lbl)  # preprocess training data\n",
    "        self.val_img, self.val_true = self.preprocess_data(val_img, val_lbl)  # preprocess validation data\n",
    "        self.test_img, self.test_true = self.preprocess_data(test_img, test_lbl)  # preprocess test data\n",
    "        self.layers = [self.input.shape[1]] + [self.hidden_layer_sizes] * self.hidden_layers + [10]  \n",
    "        \n",
    "        self.initialize_parameters()  # initialize weights and biases\n",
    "\n",
    "    def load_dataset(self):\n",
    "        if self.dataset == 'fashion_mnist':\n",
    "            return (train_img, train_labels), (test_img, test_labels)\n",
    "        if self.dataset == 'mnist':\n",
    "            return (mnist_train, mnist_train_label), (mnist_test, mnist_test_label)\n",
    "        else:\n",
    "            raise ValueError(\"Unknown dataset\")\n",
    "\n",
    "    def preprocess_data(self, images, labels):\n",
    "        return images.reshape(images.shape[0], -1) / 255.0 , labels  # normalize and reshape data\n",
    "\n",
    "    def initialize_parameters(self):\n",
    "        for layer in range(1, len(self.layers)):\n",
    "            self.v_weights[layer] = np.zeros((self.layers[layer-1], self.layers[layer]))  # initialize velocity for weights\n",
    "            self.v_biases[layer] = np.zeros((1, self.layers[layer]))  # initialize velocity for biases\n",
    "            \n",
    "            self.m_weights[layer] = np.zeros((self.layers[layer-1], self.layers[layer]))  # initialize momentum for weights\n",
    "            self.m_biases[layer] = np.zeros((1, self.layers[layer]))  # initialize momentum for biases\n",
    "            \n",
    "            if self.initialization == \"random\":\n",
    "                self.weights[layer] = np.random.normal(0, 1, (self.layers[layer-1], self.layers[layer]))\n",
    "                self.biases[layer] = np.random.normal(0, 1, (1, self.layers[layer]))\n",
    "            elif self.initialization == \"Xavier\":\n",
    "                scale_w = np.sqrt(2.0 / (self.layers[layer-1] + self.layers[layer]))\n",
    "                scale_b = np.sqrt(2.0 / (1 + self.layers[layer]))\n",
    "                self.weights[layer] = np.random.normal(0, scale_w, (self.layers[layer-1], self.layers[layer]))\n",
    "                self.biases[layer] = np.random.normal(0, scale_b, (1, self.layers[layer]))\n",
    "\n",
    "    def forward_propagation(self, x):\n",
    "        self.h[0] = x\n",
    "        num_layers = len(self.layers) - 1\n",
    "    \n",
    "        for layer in range(1, num_layers):\n",
    "            linear_output = self.h[layer-1] @ self.weights[layer]\n",
    "            self.a[layer] = linear_output + self.biases[layer]   # linear transformation\n",
    "            self.h[layer] = self.act.activation(self.a[layer], self.activation_function)\n",
    "    \n",
    "        final_linear_output = self.h[num_layers-1] @ self.weights[num_layers]\n",
    "        self.a[num_layers] = final_linear_output + self.biases[num_layers]\n",
    "        self.h[num_layers] = self.act.activation(self.a[num_layers], \"softmax\") # softmax for output layer\n",
    "    \n",
    "        output = self.h[num_layers]\n",
    "        return output\n",
    "\n",
    "    def backward_propagation(self, x, y_true, y_hat): \n",
    "        output_layer_index = len(self.layers) - 1  # softmax derivative for output layer  \n",
    "        softmax_grad = self.derivative.derivatives(self.a[output_layer_index], \"softmax\")  \n",
    "        error = self.loss.last_output_derivative(y_hat, y_true, softmax_grad, self.loss_function)  \n",
    "    \n",
    "        # for hidden layers\n",
    "        for current_layer in reversed(range(2, len(self.layers))):  \n",
    "            prev_hidden = self.h[current_layer - 1]  \n",
    "    \n",
    "            self.grad_weights[current_layer] = prev_hidden.T @ error  \n",
    "            self.grad_biases[current_layer] = np.sum(error, axis=0, keepdims=True)  \n",
    "    \n",
    "            weight_matrix = self.weights[current_layer].T  \n",
    "            error_hidden = error @ weight_matrix  \n",
    "            deriv_activation = self.derivative.derivatives(self.a[current_layer - 1], self.activation_function)  \n",
    "            error = error_hidden * deriv_activation  \n",
    "    \n",
    "        input_grad_weights = x.T @ error  \n",
    "        input_grad_biases = np.sum(error, axis=0, keepdims=True)  \n",
    "        self.grad_weights[1] = input_grad_weights  \n",
    "        self.grad_biases[1] = input_grad_biases  \n",
    "\n",
    "    def one_hot_matrix(self, labels):\n",
    "        mat = np.zeros((labels.shape[0], 10)) \n",
    "        mat[np.arange(labels.shape[0]), labels] = 1\n",
    "        return mat\n",
    "\n",
    "    def compute_performance(self, data, labels):\n",
    "        y_pred = self.forward_propagation(data)  # forward pass\n",
    "        one_hot_labels = self.one_hot_matrix(labels)  # convert labels to one-hot\n",
    "        accuracy = np.mean(np.argmax(y_pred, axis=1) == np.argmax(one_hot_labels, axis=1)) * 100 \n",
    "        loss = self.loss.compute_loss(one_hot_labels, y_pred, self.loss_function)  \n",
    "        return loss, accuracy\n",
    "\n",
    "    \n",
    "    def probability(self, data):\n",
    "        return self.forward_propagation(data)  \n",
    "\n",
    "        \n",
    "    def fit(self, batch_size, epochs, optimizer):  \n",
    "        num_samples = self.input.shape[0]  \n",
    "        num_mini_batches = int(np.ceil(num_samples / batch_size))  # total batches  \n",
    "    \n",
    "        for epoch_num in range(epochs):  \n",
    "            step_counter = 1  \n",
    "    \n",
    "            for iteration in range(num_mini_batches):  \n",
    "                start_idx = iteration * batch_size  \n",
    "                end_idx = min(start_idx + batch_size, num_samples)  \n",
    "                batch_images = self.input[start_idx:end_idx]  \n",
    "                batch_labels = self.y_true[start_idx:end_idx]  \n",
    "    \n",
    "                predictions = self.forward_propagation(batch_images)  # forward and backward pass  \n",
    "                true_labels_one_hot = self.one_hot_matrix(batch_labels)  \n",
    "                self.backward_propagation(batch_images, true_labels_one_hot, predictions)  \n",
    "     \n",
    "                for layer_idx in self.grad_weights.keys():  \n",
    "                    self.grad_weights[layer_idx] = self.grad_weights[layer_idx] / batch_size  \n",
    "                    self.grad_biases[layer_idx] = self.grad_biases[layer_idx] / batch_size  \n",
    "      \n",
    "                optimizer.update_parameters(step_counter)  \n",
    "                step_counter = step_counter + 1  \n",
    "    \n",
    "            training_loss, training_acc = self.compute_performance(self.input, self.y_true)  \n",
    "            val_loss, val_acc = self.compute_performance(self.val_img, self.val_true)  \n",
    "    \n",
    "            log_data = {  \n",
    "                'epoch': epoch_num + 1,  \n",
    "                'train_loss': training_loss,  \n",
    "                'train_acc': training_acc,  \n",
    "                'val_loss': val_loss,  \n",
    "                'val_acc': val_acc  \n",
    "            }  \n",
    "    \n",
    "            if self.wan_log:  \n",
    "                wandb.log(log_data)  # log to wandb  \n",
    "    \n",
    "            if self.console_log:  \n",
    "                status_msg = (  \n",
    "                    f\"Epoch {epoch_num + 1}: \"  \n",
    "                    f\"Train Loss={training_loss:.4f}, \"  \n",
    "                    f\"Train Acc={training_acc:.2f}%, \"  \n",
    "                    f\"Val Loss={val_loss:.4f}, \"  \n",
    "                    f\"Val Acc={val_acc:.2f}%\"  \n",
    "                )  \n",
    "                print(status_msg)  \n",
    "    \n",
    "        return training_loss, training_acc, val_loss, val_acc  "
   ]
  },
  {
   "cell_type": "markdown",
   "id": "bd6d31ba-6077-4621-93f2-2004d7cb1f93",
   "metadata": {},
   "source": [
    "## Question 3"
   ]
  },
  {
   "cell_type": "code",
   "execution_count": null,
   "id": "27f2596c-56aa-4b0e-a8aa-4ab7ad0b268b",
   "metadata": {},
   "outputs": [
    {
     "name": "stdout",
     "output_type": "stream",
     "text": [
      "Optimiser: sgd\n",
      "\n",
      "Epoch 1: Train Loss=1.6643, Train Acc=43.83%, Val Loss=1.6599, Val Acc=43.70%\n",
      "Epoch 2: Train Loss=1.3355, Train Acc=53.45%, Val Loss=1.3336, Val Acc=53.43%\n",
      "Epoch 3: Train Loss=1.1828, Train Acc=58.29%, Val Loss=1.1819, Val Acc=58.13%\n",
      "Epoch 4: Train Loss=1.0887, Train Acc=61.30%, Val Loss=1.0886, Val Acc=61.00%\n",
      "Epoch 5: Train Loss=1.0226, Train Acc=63.51%, Val Loss=1.0235, Val Acc=63.17%\n",
      "Test Loss: 1.0571, Test Acc: 61.96%\n",
      "\n",
      "\n",
      "Optimiser: momentum\n",
      "\n",
      "Epoch 1: Train Loss=0.8569, Train Acc=69.80%, Val Loss=0.8717, Val Acc=68.75%\n",
      "Epoch 2: Train Loss=0.7188, Train Acc=74.41%, Val Loss=0.7395, Val Acc=73.35%\n",
      "Epoch 3: Train Loss=0.6562, Train Acc=76.48%, Val Loss=0.6784, Val Acc=75.27%\n",
      "Epoch 4: Train Loss=0.6164, Train Acc=77.90%, Val Loss=0.6398, Val Acc=76.87%\n"
     ]
    }
   ],
   "source": [
    "for opt in [\"sgd\", \"momentum\", \"nesterov\", \"rmsprop\", \"adam\", \"nadam\"]:\n",
    "    print(\"Optimiser: \" + opt + \"\\n\")\n",
    "    config_nn = {\n",
    "        \"activation_function\": \"sigmoid\",  \n",
    "        \"init\": \"random\",\n",
    "        \"dataset\": \"fashion_mnist\",\n",
    "        \"loss_function\": \"cross_entropy\", \n",
    "        \"hidden_layers\": 4,\n",
    "        \"hidden_layer_sizes\": 128\n",
    "        \n",
    "    }\n",
    "    \n",
    "    config_opt = {\n",
    "        \"optimizer\": f\"{opt}\",\n",
    "        \"eta\": 0.005,  \n",
    "        \"beta\": 0.9,\n",
    "        \"beta2\": 0.999,\n",
    "        \"beta1\": 0.9,\n",
    "        \"weight_decay\": 0.0005,\n",
    "        \"epsilon\": 1e-8,\n",
    "        \"momentum\": 0.9\n",
    "    }\n",
    "    \n",
    "    nn = Neural_Network(config_nn, log=0, console=1)\n",
    "    optimizer = Optimizer(nn, config_opt)\n",
    "    \n",
    "    t_loss, t_acc, v_loss, v_acc = nn.fit(batch_size=64, epochs=5, optimizer=optimizer)\n",
    "    loss, accuracy = nn.compute_performance(nn.test_img, nn.test_true)  # evaluate on test data\n",
    "    print(f\"Test Loss: {loss:.4f}, Test Acc: {accuracy:.2f}%\")  # print test loss and accuracy\n",
    "    print()\n",
    "    print()\n"
   ]
  },
  {
   "cell_type": "markdown",
   "id": "0ab381f1-2f93-4f27-893e-6af71a6b2841",
   "metadata": {},
   "source": [
    "## Question 4"
   ]
  },
  {
   "cell_type": "code",
   "execution_count": null,
   "id": "a42ce22a-6b99-4f7c-b7cd-bfd0cf9b1f53",
   "metadata": {},
   "outputs": [],
   "source": [
    "# sweep configuration as specified in question maximizing test accuracy\n",
    "sweep_config = {\n",
    "    \"method\": \"bayes\",  \n",
    "    \"project\": f\"{PROJECT}\",\n",
    "    \"metric\": {\"name\": \"test_accuracy\", \"goal\": \"maximize\"},\n",
    "    \"parameters\": {\n",
    "        \"epochs\": {\"values\": [5, 10]},\n",
    "        \"hidden_layers\": {\"values\": [3, 4, 5]},\n",
    "        \"hidden_layer_sizes\": {\"values\": [32, 64, 128]},\n",
    "        \"weight_decay\": {\"values\": [0, 0.0005, 0.5]},\n",
    "        \"learning_rate\": {\"values\": [1e-3, 1e-4]},\n",
    "        \"optimizer\": {\"values\": [\"sgd\", \"momentum\", \"nesterov\", \"rmsprop\", \"adam\", \"nadam\"]},\n",
    "        \"batch_size\": {\"values\": [16, 32, 64]},\n",
    "        \"activation\": {\"values\": [\"sigmoid\", \"tanh\", \"ReLU\"]},\n",
    "        \"initialization\": {\"values\": [\"Xavier\", \"random\"]},\n",
    "        \"dataset\": {\"values\": [\"fashion_mnist\"]}\n",
    "    }\n",
    "}"
   ]
  },
  {
   "cell_type": "code",
   "execution_count": null,
   "id": "8e1edd9e-9afe-46e9-ba3a-b7cddf224d6b",
   "metadata": {},
   "outputs": [],
   "source": [
    "# to call inside wandb.agent()\n",
    "def train(loss_function):\n",
    "    sw = wandb.init(project = PROJECT)\n",
    "    sw = sw.config\n",
    "\n",
    "    wandb.run.name = f\"opt_{sw.optimizer}_hl_{sw.hidden_layers}_bs_{sw.batch_size}_e_{sw.epochs}_act_{sw.activation}_eta_{sw.learning_rate}_init_{sw.initialization}_hls_{sw.hidden_layer_sizes}_dataset_{sw.dataset}_{loss_function}\"\n",
    "    # Example: opt_adam_hl_4_bs_32_e_10_act_ReLU_eta_0.001_init_Xavier_hls_64_dataset_fashion_mnist_cross_entropy\n",
    "    \n",
    "    config_nn = {\n",
    "        \"activation_function\": sw.activation, \n",
    "        \"init\" : sw.initialization, \n",
    "        \"dataset\" : sw.dataset,\n",
    "        \"loss_function\" : loss_function,\n",
    "        \"hidden_layers\": sw.hidden_layers,\n",
    "        \"hidden_layer_sizes\" : sw.hidden_layer_sizes\n",
    "    }\n",
    "\n",
    "    config_opt = {\n",
    "        \"optimizer\": sw.optimizer,\n",
    "        \"eta\": sw.learning_rate,\n",
    "        \"beta1\" : 0.9,\n",
    "        \"beta2\" : 0.999,\n",
    "        \"beta\": 0.9,\n",
    "        \"weight_decay\": sw.weight_decay,\n",
    "        \"epsilon\": 1e-8,\n",
    "        \"momentum\" : 0.9\n",
    "    }\n",
    "\n",
    "    nn = Neural_Network(config_nn,log = 1,console=1)\n",
    "    opt = Optimizer(nn, config_opt)\n",
    "\n",
    "    t_loss, t_acc, v_loss, v_acc = nn.fit(batch_size=sw.batch_size, epochs=sw.epochs, optimizer=opt)\n",
    "\n",
    "    loss, accuracy = nn.compute_performance(nn.test_img, nn.test_true)  # evaluate on test data\n",
    "    print(f\"Test Loss: {loss:.4f}, Test Acc: {accuracy:.2f}%\")  # print test loss and accuracy\n",
    "    wandb.log({\"test_accuracy\" : accuracy})\n",
    "    "
   ]
  },
  {
   "cell_type": "code",
   "execution_count": null,
   "id": "ed6d1f11-1b39-4a3c-afd9-d007b97c9da0",
   "metadata": {},
   "outputs": [],
   "source": [
    "sweep_id = wandb.sweep(sweep_config)\n",
    "wandb.agent(sweep_id,  lambda : train(loss_function = \"cross_entropy\"), count = SWEEPCOUNT)\n",
    "wandb.finish()"
   ]
  },
  {
   "cell_type": "markdown",
   "id": "e23a3356-1ee8-4484-bc10-274c21ae29f8",
   "metadata": {},
   "source": [
    "## Question 5\n",
    "Plot can be seen [here](https://wandb.ai/cs24m021-iit-madras/DA6401_DL_Assignment1/reports/DA6401-Assignment-1--VmlldzoxMTc4Mzg1Mw)  "
   ]
  },
  {
   "cell_type": "markdown",
   "id": "af21d5dd-c2c8-41d0-8049-ee57d478c50e",
   "metadata": {},
   "source": [
    "## Question 6\n",
    "Plot can be seen [here](https://wandb.ai/cs24m021-iit-madras/DA6401_DL_Assignment1/reports/DA6401-Assignment-1--VmlldzoxMTc4Mzg1Mw)  "
   ]
  },
  {
   "cell_type": "markdown",
   "id": "4f7a06e4-9df6-42fa-9d83-d6798680fa06",
   "metadata": {},
   "source": [
    "## Question 7"
   ]
  },
  {
   "cell_type": "code",
   "execution_count": null,
   "id": "4f638aa2-1fc9-4900-95df-98f45183f2e1",
   "metadata": {},
   "outputs": [],
   "source": [
    "def generate_and_plot_confusion_matrix(y_pred, y_true):  \n",
    "    \n",
    "    wandb.init(project=PROJECT, name=\"Question:7\")  \n",
    "    \n",
    "    predicted_classes = np.argmax(y_pred, axis=1)   # predicted classes \n",
    "    num_labels = len(target_classes)  \n",
    "    conf_matrix = np.zeros((num_labels, num_labels), dtype=int)  \n",
    "      \n",
    "    for idx, actual_label in enumerate(y_true):  \n",
    "        true_idx = int(actual_label)  \n",
    "        pred_idx = int(predicted_classes[idx])  \n",
    "        \n",
    "        if (true_idx >= 0 and true_idx < num_labels) and (pred_idx >= 0 and pred_idx < num_labels):  \n",
    "            conf_matrix[true_idx, pred_idx] += 1  \n",
    "        else:  \n",
    "            print(f\"Skipping invalid index: y_true={true_idx}, y_pred={pred_idx}\")  \n",
    "    \n",
    "    df_confusion = pd.DataFrame(conf_matrix, index=target_classes, columns=target_classes)  \n",
    "\n",
    "    \n",
    "    fig = plt.figure(figsize=(15, 15))  # plot heatmap  \n",
    "    ax = sns.heatmap(  \n",
    "        df_confusion,  \n",
    "        annot=True,  \n",
    "        fmt='d',  \n",
    "        cmap=\"Reds\",  \n",
    "        linewidths=4,  \n",
    "        linecolor='white'  \n",
    "    )  \n",
    "    ax.set_xlabel(\"Predicted Class\")  \n",
    "    ax.set_ylabel(\"True Class\")  \n",
    "    ax.set_xticklabels(target_classes, rotation=90)  \n",
    "    ax.set_yticklabels(target_classes, rotation=0)  \n",
    "    plt.title('Confusion Matrix', fontsize=12)  \n",
    "    \n",
    "    plt.show()  \n",
    "    wandb.log({\"conf_mat\": wandb.plot.confusion_matrix(probs=None,\n",
    "                                                       y_true=y_true, \n",
    "                                                       preds=predicted_classes,\n",
    "                                                       class_names=target_classes)})  \n",
    "    wandb.finish()  "
   ]
  },
  {
   "cell_type": "code",
   "execution_count": null,
   "id": "f6c792e6-cdfb-48c0-ab9c-d28e90aee3c2",
   "metadata": {},
   "outputs": [],
   "source": [
    "# best config was opt_rmsprop_hl_4_bs_16_e_10_act_ReLU_eta_0.0001_init_Xavier_hls_128_dataset_fashion_mnist_cross_entropy\n",
    "config_nn = {\n",
    "        \"activation_function\": \"ReLU\",  \n",
    "        \"init\": \"Xavier\",\n",
    "        \"dataset\": \"fashion_mnist\",\n",
    "        \"loss_function\": \"cross_entropy\", \n",
    "        \"hidden_layers\": 4,\n",
    "        \"hidden_layer_sizes\": 128\n",
    "        \n",
    "}\n",
    "\n",
    "config_opt = {\n",
    "    \"optimizer\": \"rmsprop\",\n",
    "    \"eta\": 0.0001,  \n",
    "    \"beta\": 0.9,\n",
    "    \"beta2\": 0.999,\n",
    "    \"beta1\": 0.9,\n",
    "    \"weight_decay\": 0.0005,\n",
    "    \"epsilon\": 1e-8,\n",
    "    \"momentum\": 0.9\n",
    "}\n",
    "\n",
    "nn = Neural_Network(config_nn, log=0, console=1)\n",
    "optimizer = Optimizer(nn, config_opt)\n",
    "\n",
    "t_loss, t_acc, v_loss, v_acc = nn.fit(batch_size=16, epochs=10, optimizer=optimizer)\n",
    "loss, accuracy = nn.compute_performance(nn.test_img, nn.test_true)  # evaluate on test data\n",
    "print(f\"Test Loss: {loss:.4f}, Test Acc: {accuracy:.2f}%\")  # print test loss and accuracy\n",
    "y_pred = nn.probability(nn.test_img)\n",
    "generate_and_plot_confusion_matrix(y_pred, nn.test_true) # plot confusion matrox"
   ]
  },
  {
   "cell_type": "markdown",
   "id": "d83730bb-ddb5-4242-9b88-e34e7a3460a2",
   "metadata": {},
   "source": [
    "## Question 8"
   ]
  },
  {
   "cell_type": "code",
   "execution_count": null,
   "id": "7d146cd0-03a5-41ba-b2ac-7438b3ea56a5",
   "metadata": {},
   "outputs": [],
   "source": [
    "sweep_id = wandb.sweep(sweep_config)\n",
    "wandb.agent(sweep_id,  lambda : train(loss_function = \"mean_squared_error\"), count = 150)\n",
    "wandb.finish()"
   ]
  },
  {
   "cell_type": "markdown",
   "id": "8765c217-0265-4500-8d7b-afc752aef8fa",
   "metadata": {},
   "source": [
    "## Question 9 \n",
    " \n",
    "- [GitHub Repository](https://github.com/karan757527/DA6401)  \n",
    "- [Project Report](https://wandb.ai/cs24m021-iit-madras/DA6401_DL_Assignment1/reports/DA6401-Assignment-1--VmlldzoxMTc4Mzg1Mw)  "
   ]
  },
  {
   "cell_type": "markdown",
   "id": "03967f39-c42b-4996-8773-7fbaa24a466a",
   "metadata": {},
   "source": [
    "## Question 10"
   ]
  },
  {
   "cell_type": "code",
   "execution_count": null,
   "id": "799dd799-4ab5-4fa7-870f-8cebc2e14ed6",
   "metadata": {},
   "outputs": [],
   "source": [
    "# best three configurations are:\n",
    "config_nn = [{\n",
    "        \"activation_function\": \"ReLU\",  \n",
    "        \"init\": \"Xavier\",\n",
    "        \"dataset\": \"mnist\",\n",
    "        \"loss_function\": \"cross_entropy\", \n",
    "        \"hidden_layers\": 4,\n",
    "        \"hidden_layer_sizes\": 128\n",
    "        \n",
    "},\n",
    "            {\n",
    "        \"activation_function\": \"ReLU\",  \n",
    "        \"init\": \"Xavier\",\n",
    "        \"dataset\": \"mnist\",\n",
    "        \"loss_function\": \"cross_entropy\", \n",
    "        \"hidden_layers\": 3,\n",
    "        \"hidden_layer_sizes\": 128\n",
    "        \n",
    "},\n",
    "            {\n",
    "        \"activation_function\": \"tanh\",  \n",
    "        \"init\": \"Xavier\",\n",
    "        \"dataset\": \"mnist\",\n",
    "        \"loss_function\": \"cross_entropy\", \n",
    "        \"hidden_layers\": 3,\n",
    "        \"hidden_layer_sizes\": 64\n",
    "        \n",
    "}]\n",
    "\n",
    "config_opt = [{\n",
    "    \"optimizer\": \"rmsprop\",\n",
    "    \"eta\": 0.0001,  \n",
    "    \"beta\": 0.9,\n",
    "    \"beta2\": 0.999,\n",
    "    \"beta1\": 0.9,\n",
    "    \"weight_decay\": 0.0005,\n",
    "    \"epsilon\": 1e-8,\n",
    "    \"momentum\": 0.9\n",
    "},\n",
    "              {\n",
    "    \"optimizer\": \"adam\",\n",
    "    \"eta\": 0.001,  \n",
    "    \"beta\": 0.9,\n",
    "    \"beta2\": 0.999,\n",
    "    \"beta1\": 0.9,\n",
    "    \"weight_decay\": 0.0005,\n",
    "    \"epsilon\": 1e-8,\n",
    "    \"momentum\": 0.9\n",
    "},\n",
    "              {\n",
    "    \"optimizer\": \"momentum\",\n",
    "    \"eta\": 0.01,  \n",
    "    \"beta\": 0.9,\n",
    "    \"beta2\": 0.999,\n",
    "    \"beta1\": 0.9,\n",
    "    \"weight_decay\": 0.0005,\n",
    "    \"epsilon\": 1e-8,\n",
    "    \"momentum\": 0.9\n",
    "}]\n",
    "\n",
    "batch_size=[16, 32, 32]\n",
    "\n",
    "for i in range(3):  # Loop through all three configurations\n",
    "    print(f\"Running configuration {i+1}...\")\n",
    "    \n",
    "    nn = Neural_Network(config_nn[i], log=0, console=1)\n",
    "    optimizer = Optimizer(nn, config_opt[i])\n",
    "    \n",
    "    t_loss, t_acc, v_loss, v_acc = nn.fit(batch_size=batch_size[i], epochs=10, optimizer=optimizer)\n",
    "    loss, accuracy = nn.compute_performance(nn.test_img, nn.test_true)  # Evaluate on test data\n",
    "    \n",
    "    print(f\"Config {i+1} - Test Loss: {loss:.4f}, Test Acc: {accuracy:.2f}%\\n\")"
   ]
  },
  {
   "cell_type": "code",
   "execution_count": null,
   "id": "2b01218e-99d0-4ac9-a98d-ae20ba36e264",
   "metadata": {},
   "outputs": [],
   "source": []
  },
  {
   "cell_type": "code",
   "execution_count": null,
   "id": "71e24443-7277-45f9-b977-cf67635a9379",
   "metadata": {},
   "outputs": [],
   "source": [
    "!python train.py -wp DA6401A1 -e 15 -b 64 -o adam -lr 0.001 -beta1 0.999 -beta2 0.9 -w_i Xavier -nhl 4  -sz 128 -a sigmoid "
   ]
  },
  {
   "cell_type": "code",
   "execution_count": null,
   "id": "3af8e323-5113-430d-b459-71c707c80bc2",
   "metadata": {},
   "outputs": [],
   "source": []
  }
 ],
 "metadata": {
  "kernelspec": {
   "display_name": "Python 3 (ipykernel)",
   "language": "python",
   "name": "python3"
  },
  "language_info": {
   "codemirror_mode": {
    "name": "ipython",
    "version": 3
   },
   "file_extension": ".py",
   "mimetype": "text/x-python",
   "name": "python",
   "nbconvert_exporter": "python",
   "pygments_lexer": "ipython3",
   "version": "3.11.7"
  }
 },
 "nbformat": 4,
 "nbformat_minor": 5
}
