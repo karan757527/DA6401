{
 "cells": [
  {
   "cell_type": "markdown",
   "id": "0774dd86-4004-48ff-968d-6eeec441e1c2",
   "metadata": {},
   "source": [
    "### Requirements"
   ]
  },
  {
   "cell_type": "code",
   "execution_count": 2,
   "id": "bee20018-8afb-4cf5-9a88-2622625cf598",
   "metadata": {},
   "outputs": [
    {
     "name": "stdout",
     "output_type": "stream",
     "text": [
      "Defaulting to user installation because normal site-packages is not writeable\n",
      "Collecting numpy\n",
      "  Downloading numpy-2.2.3-cp310-cp310-manylinux_2_17_x86_64.manylinux2014_x86_64.whl (16.4 MB)\n",
      "\u001b[2K     \u001b[90m━━━━━━━━━━━━━━━━━━━━━━━━━━━━━━━━━━━━━━━━\u001b[0m \u001b[32m16.4/16.4 MB\u001b[0m \u001b[31m35.9 MB/s\u001b[0m eta \u001b[36m0:00:00\u001b[0m00:01\u001b[0m00:01\u001b[0m\n",
      "Collecting pandas\n",
      "  Downloading pandas-2.2.3-cp310-cp310-manylinux_2_17_x86_64.manylinux2014_x86_64.whl (13.1 MB)\n",
      "\u001b[2K     \u001b[90m━━━━━━━━━━━━━━━━━━━━━━━━━━━━━━━━━━━━━━━━\u001b[0m \u001b[32m13.1/13.1 MB\u001b[0m \u001b[31m63.6 MB/s\u001b[0m eta \u001b[36m0:00:00\u001b[0m00:01\u001b[0m00:01\u001b[0m\n",
      "Collecting scikit-learn\n",
      "  Downloading scikit_learn-1.6.1-cp310-cp310-manylinux_2_17_x86_64.manylinux2014_x86_64.whl (13.5 MB)\n",
      "\u001b[2K     \u001b[90m━━━━━━━━━━━━━━━━━━━━━━━━━━━━━━━━━━━━━━━━\u001b[0m \u001b[32m13.5/13.5 MB\u001b[0m \u001b[31m71.0 MB/s\u001b[0m eta \u001b[36m0:00:00\u001b[0m00:01\u001b[0m00:01\u001b[0m\n",
      "Collecting keras\n",
      "  Downloading keras-3.9.0-py3-none-any.whl (1.3 MB)\n",
      "\u001b[2K     \u001b[90m━━━━━━━━━━━━━━━━━━━━━━━━━━━━━━━━━━━━━━━━\u001b[0m \u001b[32m1.3/1.3 MB\u001b[0m \u001b[31m65.4 MB/s\u001b[0m eta \u001b[36m0:00:00\u001b[0m\n",
      "Collecting tensorflow\n",
      "  Downloading tensorflow-2.18.0-cp310-cp310-manylinux_2_17_x86_64.manylinux2014_x86_64.whl (615.3 MB)\n",
      "\u001b[2K     \u001b[90m━━━━━━━━━━━━━━━━━━━━━━━━━━━━━━━━━━━━━━━\u001b[0m \u001b[32m615.3/615.3 MB\u001b[0m \u001b[31m3.6 MB/s\u001b[0m eta \u001b[36m0:00:00\u001b[0m00:01\u001b[0m00:01\u001b[0m\n",
      "Collecting wandb\n",
      "  Downloading wandb-0.19.8-py3-none-manylinux_2_17_x86_64.manylinux2014_x86_64.whl (20.8 MB)\n",
      "\u001b[2K     \u001b[90m━━━━━━━━━━━━━━━━━━━━━━━━━━━━━━━━━━━━━━━━\u001b[0m \u001b[32m20.8/20.8 MB\u001b[0m \u001b[31m42.4 MB/s\u001b[0m eta \u001b[36m0:00:00\u001b[0m00:01\u001b[0m00:01\u001b[0m\n",
      "Collecting argparse\n",
      "  Downloading argparse-1.4.0-py2.py3-none-any.whl (23 kB)\n",
      "Collecting seaborn\n",
      "  Downloading seaborn-0.13.2-py3-none-any.whl (294 kB)\n",
      "\u001b[2K     \u001b[90m━━━━━━━━━━━━━━━━━━━━━━━━━━━━━━━━━━━━━━\u001b[0m \u001b[32m294.9/294.9 KB\u001b[0m \u001b[31m32.4 MB/s\u001b[0m eta \u001b[36m0:00:00\u001b[0m\n",
      "Collecting matplotlib\n",
      "  Downloading matplotlib-3.10.1-cp310-cp310-manylinux_2_17_x86_64.manylinux2014_x86_64.whl (8.6 MB)\n",
      "\u001b[2K     \u001b[90m━━━━━━━━━━━━━━━━━━━━━━━━━━━━━━━━━━━━━━━━\u001b[0m \u001b[32m8.6/8.6 MB\u001b[0m \u001b[31m81.6 MB/s\u001b[0m eta \u001b[36m0:00:00\u001b[0m:00:01\u001b[0m00:01\u001b[0m\n",
      "Collecting tzdata>=2022.7\n",
      "  Downloading tzdata-2025.1-py2.py3-none-any.whl (346 kB)\n",
      "\u001b[2K     \u001b[90m━━━━━━━━━━━━━━━━━━━━━━━━━━━━━━━━━━━━━━\u001b[0m \u001b[32m346.8/346.8 KB\u001b[0m \u001b[31m37.9 MB/s\u001b[0m eta \u001b[36m0:00:00\u001b[0m\n",
      "Requirement already satisfied: pytz>=2020.1 in /usr/lib/python3/dist-packages (from pandas->-r requirements.txt (line 2)) (2022.1)\n",
      "Requirement already satisfied: python-dateutil>=2.8.2 in ./.local/lib/python3.10/site-packages (from pandas->-r requirements.txt (line 2)) (2.9.0.post0)\n",
      "Collecting threadpoolctl>=3.1.0\n",
      "  Downloading threadpoolctl-3.5.0-py3-none-any.whl (18 kB)\n",
      "Collecting joblib>=1.2.0\n",
      "  Downloading joblib-1.4.2-py3-none-any.whl (301 kB)\n",
      "\u001b[2K     \u001b[90m━━━━━━━━━━━━━━━━━━━━━━━━━━━━━━━━━━━━━━\u001b[0m \u001b[32m301.8/301.8 KB\u001b[0m \u001b[31m31.8 MB/s\u001b[0m eta \u001b[36m0:00:00\u001b[0m\n",
      "Collecting scipy>=1.6.0\n",
      "  Downloading scipy-1.15.2-cp310-cp310-manylinux_2_17_x86_64.manylinux2014_x86_64.whl (37.6 MB)\n",
      "\u001b[2K     \u001b[90m━━━━━━━━━━━━━━━━━━━━━━━━━━━━━━━━━━━━━━━━\u001b[0m \u001b[32m37.6/37.6 MB\u001b[0m \u001b[31m31.9 MB/s\u001b[0m eta \u001b[36m0:00:00\u001b[0m00:01\u001b[0m00:01\u001b[0m\n",
      "Collecting absl-py\n",
      "  Downloading absl_py-2.1.0-py3-none-any.whl (133 kB)\n",
      "\u001b[2K     \u001b[90m━━━━━━━━━━━━━━━━━━━━━━━━━━━━━━━━━━━━━━\u001b[0m \u001b[32m133.7/133.7 KB\u001b[0m \u001b[31m20.7 MB/s\u001b[0m eta \u001b[36m0:00:00\u001b[0m\n",
      "Collecting optree\n",
      "  Downloading optree-0.14.1-cp310-cp310-manylinux_2_17_x86_64.manylinux2014_x86_64.whl (395 kB)\n",
      "\u001b[2K     \u001b[90m━━━━━━━━━━━━━━━━━━━━━━━━━━━━━━━━━━━━━━\u001b[0m \u001b[32m395.2/395.2 KB\u001b[0m \u001b[31m36.9 MB/s\u001b[0m eta \u001b[36m0:00:00\u001b[0m\n",
      "\u001b[?25hRequirement already satisfied: packaging in ./.local/lib/python3.10/site-packages (from keras->-r requirements.txt (line 4)) (24.2)\n",
      "Collecting rich\n",
      "  Downloading rich-13.9.4-py3-none-any.whl (242 kB)\n",
      "\u001b[2K     \u001b[90m━━━━━━━━━━━━━━━━━━━━━━━━━━━━━━━━━━━━━━\u001b[0m \u001b[32m242.4/242.4 KB\u001b[0m \u001b[31m29.3 MB/s\u001b[0m eta \u001b[36m0:00:00\u001b[0m\n",
      "Collecting h5py\n",
      "  Downloading h5py-3.13.0-cp310-cp310-manylinux_2_17_x86_64.manylinux2014_x86_64.whl (4.5 MB)\n",
      "\u001b[2K     \u001b[90m━━━━━━━━━━━━━━━━━━━━━━━━━━━━━━━━━━━━━━━━\u001b[0m \u001b[32m4.5/4.5 MB\u001b[0m \u001b[31m84.6 MB/s\u001b[0m eta \u001b[36m0:00:00\u001b[0m:00:01\u001b[0m\n",
      "Collecting namex\n",
      "  Downloading namex-0.0.8-py3-none-any.whl (5.8 kB)\n",
      "Collecting ml-dtypes\n",
      "  Downloading ml_dtypes-0.5.1-cp310-cp310-manylinux_2_17_x86_64.manylinux2014_x86_64.whl (4.7 MB)\n",
      "\u001b[2K     \u001b[90m━━━━━━━━━━━━━━━━━━━━━━━━━━━━━━━━━━━━━━━━\u001b[0m \u001b[32m4.7/4.7 MB\u001b[0m \u001b[31m80.6 MB/s\u001b[0m eta \u001b[36m0:00:00\u001b[0m:00:01\u001b[0m\n",
      "Collecting termcolor>=1.1.0\n",
      "  Downloading termcolor-2.5.0-py3-none-any.whl (7.8 kB)\n",
      "Collecting tensorflow-io-gcs-filesystem>=0.23.1\n",
      "  Downloading tensorflow_io_gcs_filesystem-0.37.1-cp310-cp310-manylinux_2_17_x86_64.manylinux2014_x86_64.whl (5.1 MB)\n",
      "\u001b[2K     \u001b[90m━━━━━━━━━━━━━━━━━━━━━━━━━━━━━━━━━━━━━━━━\u001b[0m \u001b[32m5.1/5.1 MB\u001b[0m \u001b[31m81.9 MB/s\u001b[0m eta \u001b[36m0:00:00\u001b[0m:00:01\u001b[0m\n",
      "Collecting wrapt>=1.11.0\n",
      "  Downloading wrapt-1.17.2-cp310-cp310-manylinux_2_5_x86_64.manylinux1_x86_64.manylinux_2_17_x86_64.manylinux2014_x86_64.whl (82 kB)\n",
      "\u001b[2K     \u001b[90m━━━━━━━━━━━━━━━━━━━━━━━━━━━━━━━━━━━━━━━━\u001b[0m \u001b[32m82.8/82.8 KB\u001b[0m \u001b[31m10.2 MB/s\u001b[0m eta \u001b[36m0:00:00\u001b[0m\n",
      "\u001b[?25hRequirement already satisfied: setuptools in /usr/lib/python3/dist-packages (from tensorflow->-r requirements.txt (line 5)) (59.6.0)\n",
      "Collecting gast!=0.5.0,!=0.5.1,!=0.5.2,>=0.2.1\n",
      "  Downloading gast-0.6.0-py3-none-any.whl (21 kB)\n",
      "Collecting protobuf!=4.21.0,!=4.21.1,!=4.21.2,!=4.21.3,!=4.21.4,!=4.21.5,<6.0.0dev,>=3.20.3\n",
      "  Downloading protobuf-5.29.3-cp38-abi3-manylinux2014_x86_64.whl (319 kB)\n",
      "\u001b[2K     \u001b[90m━━━━━━━━━━━━━━━━━━━━━━━━━━━━━━━━━━━━━━\u001b[0m \u001b[32m319.7/319.7 KB\u001b[0m \u001b[31m33.0 MB/s\u001b[0m eta \u001b[36m0:00:00\u001b[0m\n",
      "\u001b[?25hRequirement already satisfied: six>=1.12.0 in /usr/lib/python3/dist-packages (from tensorflow->-r requirements.txt (line 5)) (1.16.0)\n",
      "Collecting ml-dtypes\n",
      "  Downloading ml_dtypes-0.4.1-cp310-cp310-manylinux_2_17_x86_64.manylinux2014_x86_64.whl (2.2 MB)\n",
      "\u001b[2K     \u001b[90m━━━━━━━━━━━━━━━━━━━━━━━━━━━━━━━━━━━━━━━━\u001b[0m \u001b[32m2.2/2.2 MB\u001b[0m \u001b[31m64.8 MB/s\u001b[0m eta \u001b[36m0:00:00\u001b[0m\n",
      "Collecting grpcio<2.0,>=1.24.3\n",
      "  Downloading grpcio-1.71.0-cp310-cp310-manylinux_2_17_x86_64.manylinux2014_x86_64.whl (5.9 MB)\n",
      "\u001b[2K     \u001b[90m━━━━━━━━━━━━━━━━━━━━━━━━━━━━━━━━━━━━━━━━\u001b[0m \u001b[32m5.9/5.9 MB\u001b[0m \u001b[31m83.6 MB/s\u001b[0m eta \u001b[36m0:00:00\u001b[0m:00:01\u001b[0m\n",
      "Collecting flatbuffers>=24.3.25\n",
      "  Downloading flatbuffers-25.2.10-py2.py3-none-any.whl (30 kB)\n",
      "Collecting astunparse>=1.6.0\n",
      "  Downloading astunparse-1.6.3-py2.py3-none-any.whl (12 kB)\n",
      "Collecting google-pasta>=0.1.1\n",
      "  Downloading google_pasta-0.2.0-py3-none-any.whl (57 kB)\n",
      "\u001b[2K     \u001b[90m━━━━━━━━━━━━━━━━━━━━━━━━━━━━━━━━━━━━━━━━\u001b[0m \u001b[32m57.5/57.5 KB\u001b[0m \u001b[31m9.7 MB/s\u001b[0m eta \u001b[36m0:00:00\u001b[0m\n",
      "Collecting opt-einsum>=2.3.2\n",
      "  Downloading opt_einsum-3.4.0-py3-none-any.whl (71 kB)\n",
      "\u001b[2K     \u001b[90m━━━━━━━━━━━━━━━━━━━━━━━━━━━━━━━━━━━━━━━━\u001b[0m \u001b[32m71.9/71.9 KB\u001b[0m \u001b[31m10.2 MB/s\u001b[0m eta \u001b[36m0:00:00\u001b[0m\n",
      "\u001b[?25hRequirement already satisfied: typing-extensions>=3.6.6 in ./.local/lib/python3.10/site-packages (from tensorflow->-r requirements.txt (line 5)) (4.12.2)\n",
      "Collecting tensorboard<2.19,>=2.18\n",
      "  Downloading tensorboard-2.18.0-py3-none-any.whl (5.5 MB)\n",
      "\u001b[2K     \u001b[90m━━━━━━━━━━━━━━━━━━━━━━━━━━━━━━━━━━━━━━━━\u001b[0m \u001b[32m5.5/5.5 MB\u001b[0m \u001b[31m79.4 MB/s\u001b[0m eta \u001b[36m0:00:00\u001b[0m:00:01\u001b[0m\n",
      "Collecting numpy\n",
      "  Downloading numpy-2.0.2-cp310-cp310-manylinux_2_17_x86_64.manylinux2014_x86_64.whl (19.5 MB)\n",
      "\u001b[2K     \u001b[90m━━━━━━━━━━━━━━━━━━━━━━━━━━━━━━━━━━━━━━━━\u001b[0m \u001b[32m19.5/19.5 MB\u001b[0m \u001b[31m69.0 MB/s\u001b[0m eta \u001b[36m0:00:00\u001b[0m00:01\u001b[0m00:01\u001b[0m\n",
      "Collecting libclang>=13.0.0\n",
      "  Downloading libclang-18.1.1-py2.py3-none-manylinux2010_x86_64.whl (24.5 MB)\n",
      "\u001b[2K     \u001b[90m━━━━━━━━━━━━━━━━━━━━━━━━━━━━━━━━━━━━━━━━\u001b[0m \u001b[32m24.5/24.5 MB\u001b[0m \u001b[31m54.3 MB/s\u001b[0m eta \u001b[36m0:00:00\u001b[0m00:01\u001b[0m00:01\u001b[0m\n",
      "Requirement already satisfied: requests<3,>=2.21.0 in ./.local/lib/python3.10/site-packages (from tensorflow->-r requirements.txt (line 5)) (2.32.3)\n",
      "Requirement already satisfied: click!=8.0.0,>=7.1 in /usr/lib/python3/dist-packages (from wandb->-r requirements.txt (line 6)) (8.0.3)\n",
      "Requirement already satisfied: platformdirs in ./.local/lib/python3.10/site-packages (from wandb->-r requirements.txt (line 6)) (4.3.6)\n",
      "Requirement already satisfied: psutil>=5.0.0 in ./.local/lib/python3.10/site-packages (from wandb->-r requirements.txt (line 6)) (7.0.0)\n",
      "Collecting pydantic<3,>=2.6\n",
      "  Downloading pydantic-2.10.6-py3-none-any.whl (431 kB)\n",
      "\u001b[2K     \u001b[90m━━━━━━━━━━━━━━━━━━━━━━━━━━━━━━━━━━━━━━\u001b[0m \u001b[32m431.7/431.7 KB\u001b[0m \u001b[31m45.6 MB/s\u001b[0m eta \u001b[36m0:00:00\u001b[0m\n",
      "Collecting docker-pycreds>=0.4.0\n",
      "  Downloading docker_pycreds-0.4.0-py2.py3-none-any.whl (9.0 kB)\n",
      "Collecting gitpython!=3.1.29,>=1.0.0\n",
      "  Downloading GitPython-3.1.44-py3-none-any.whl (207 kB)\n",
      "\u001b[2K     \u001b[90m━━━━━━━━━━━━━━━━━━━━━━━━━━━━━━━━━━━━━━\u001b[0m \u001b[32m207.6/207.6 KB\u001b[0m \u001b[31m24.6 MB/s\u001b[0m eta \u001b[36m0:00:00\u001b[0m\n",
      "Requirement already satisfied: pyyaml in /usr/lib/python3/dist-packages (from wandb->-r requirements.txt (line 6)) (5.4.1)\n",
      "Collecting setproctitle\n",
      "  Downloading setproctitle-1.3.5-cp310-cp310-manylinux_2_5_x86_64.manylinux1_x86_64.manylinux_2_17_x86_64.manylinux2014_x86_64.whl (30 kB)\n",
      "Collecting sentry-sdk>=2.0.0\n",
      "  Downloading sentry_sdk-2.22.0-py2.py3-none-any.whl (325 kB)\n",
      "\u001b[2K     \u001b[90m━━━━━━━━━━━━━━━━━━━━━━━━━━━━━━━━━━━━━━\u001b[0m \u001b[32m325.8/325.8 KB\u001b[0m \u001b[31m34.3 MB/s\u001b[0m eta \u001b[36m0:00:00\u001b[0m\n",
      "Collecting cycler>=0.10\n",
      "  Downloading cycler-0.12.1-py3-none-any.whl (8.3 kB)\n",
      "Collecting fonttools>=4.22.0\n",
      "  Downloading fonttools-4.56.0-cp310-cp310-manylinux_2_17_x86_64.manylinux2014_x86_64.whl (4.6 MB)\n",
      "\u001b[2K     \u001b[90m━━━━━━━━━━━━━━━━━━━━━━━━━━━━━━━━━━━━━━━━\u001b[0m \u001b[32m4.6/4.6 MB\u001b[0m \u001b[31m80.3 MB/s\u001b[0m eta \u001b[36m0:00:00\u001b[0m:00:01\u001b[0m\n",
      "Collecting pillow>=8\n",
      "  Downloading pillow-11.1.0-cp310-cp310-manylinux_2_28_x86_64.whl (4.5 MB)\n",
      "\u001b[2K     \u001b[90m━━━━━━━━━━━━━━━━━━━━━━━━━━━━━━━━━━━━━━━━\u001b[0m \u001b[32m4.5/4.5 MB\u001b[0m \u001b[31m75.1 MB/s\u001b[0m eta \u001b[36m0:00:00\u001b[0m:00:01\u001b[0m\n",
      "\u001b[?25hRequirement already satisfied: pyparsing>=2.3.1 in /usr/lib/python3/dist-packages (from matplotlib->-r requirements.txt (line 9)) (2.4.7)\n",
      "Collecting contourpy>=1.0.1\n",
      "  Downloading contourpy-1.3.1-cp310-cp310-manylinux_2_17_x86_64.manylinux2014_x86_64.whl (324 kB)\n",
      "\u001b[2K     \u001b[90m━━━━━━━━━━━━━━━━━━━━━━━━━━━━━━━━━━━━━━\u001b[0m \u001b[32m325.0/325.0 KB\u001b[0m \u001b[31m34.1 MB/s\u001b[0m eta \u001b[36m0:00:00\u001b[0m\n",
      "Collecting kiwisolver>=1.3.1\n",
      "  Downloading kiwisolver-1.4.8-cp310-cp310-manylinux_2_12_x86_64.manylinux2010_x86_64.whl (1.6 MB)\n",
      "\u001b[2K     \u001b[90m━━━━━━━━━━━━━━━━━━━━━━━━━━━━━━━━━━━━━━━━\u001b[0m \u001b[32m1.6/1.6 MB\u001b[0m \u001b[31m59.5 MB/s\u001b[0m eta \u001b[36m0:00:00\u001b[0m\n",
      "\u001b[?25hRequirement already satisfied: wheel<1.0,>=0.23.0 in /usr/lib/python3/dist-packages (from astunparse>=1.6.0->tensorflow->-r requirements.txt (line 5)) (0.37.1)\n",
      "Collecting gitdb<5,>=4.0.1\n",
      "  Downloading gitdb-4.0.12-py3-none-any.whl (62 kB)\n",
      "\u001b[2K     \u001b[90m━━━━━━━━━━━━━━━━━━━━━━━━━━━━━━━━━━━━━━━━\u001b[0m \u001b[32m62.8/62.8 KB\u001b[0m \u001b[31m10.2 MB/s\u001b[0m eta \u001b[36m0:00:00\u001b[0m\n",
      "Collecting pydantic-core==2.27.2\n",
      "  Downloading pydantic_core-2.27.2-cp310-cp310-manylinux_2_17_x86_64.manylinux2014_x86_64.whl (2.0 MB)\n",
      "\u001b[2K     \u001b[90m━━━━━━━━━━━━━━━━━━━━━━━━━━━━━━━━━━━━━━━━\u001b[0m \u001b[32m2.0/2.0 MB\u001b[0m \u001b[31m69.6 MB/s\u001b[0m eta \u001b[36m0:00:00\u001b[0m\n",
      "Collecting annotated-types>=0.6.0\n",
      "  Downloading annotated_types-0.7.0-py3-none-any.whl (13 kB)\n",
      "Requirement already satisfied: charset-normalizer<4,>=2 in ./.local/lib/python3.10/site-packages (from requests<3,>=2.21.0->tensorflow->-r requirements.txt (line 5)) (3.4.1)\n",
      "Requirement already satisfied: certifi>=2017.4.17 in /usr/lib/python3/dist-packages (from requests<3,>=2.21.0->tensorflow->-r requirements.txt (line 5)) (2020.6.20)\n",
      "Requirement already satisfied: idna<4,>=2.5 in /usr/lib/python3/dist-packages (from requests<3,>=2.21.0->tensorflow->-r requirements.txt (line 5)) (3.3)\n",
      "Requirement already satisfied: urllib3<3,>=1.21.1 in /usr/local/lib/python3.10/dist-packages/urllib3-1.26.19-py3.10.egg (from requests<3,>=2.21.0->tensorflow->-r requirements.txt (line 5)) (1.26.19)\n",
      "Collecting werkzeug>=1.0.1\n",
      "  Downloading werkzeug-3.1.3-py3-none-any.whl (224 kB)\n",
      "\u001b[2K     \u001b[90m━━━━━━━━━━━━━━━━━━━━━━━━━━━━━━━━━━━━━━\u001b[0m \u001b[32m224.5/224.5 KB\u001b[0m \u001b[31m26.1 MB/s\u001b[0m eta \u001b[36m0:00:00\u001b[0m\n",
      "\u001b[?25hCollecting tensorboard-data-server<0.8.0,>=0.7.0\n",
      "  Downloading tensorboard_data_server-0.7.2-py3-none-manylinux_2_31_x86_64.whl (6.6 MB)\n",
      "\u001b[2K     \u001b[90m━━━━━━━━━━━━━━━━━━━━━━━━━━━━━━━━━━━━━━━━\u001b[0m \u001b[32m6.6/6.6 MB\u001b[0m \u001b[31m38.0 MB/s\u001b[0m eta \u001b[36m0:00:00\u001b[0m00:01\u001b[0m:00:01\u001b[0m\n",
      "Collecting markdown>=2.6.8\n",
      "  Downloading Markdown-3.7-py3-none-any.whl (106 kB)\n",
      "\u001b[2K     \u001b[90m━━━━━━━━━━━━━━━━━━━━━━━━━━━━━━━━━━━━━━\u001b[0m \u001b[32m106.3/106.3 KB\u001b[0m \u001b[31m11.7 MB/s\u001b[0m eta \u001b[36m0:00:00\u001b[0m\n",
      "Collecting markdown-it-py>=2.2.0\n",
      "  Downloading markdown_it_py-3.0.0-py3-none-any.whl (87 kB)\n",
      "\u001b[2K     \u001b[90m━━━━━━━━━━━━━━━━━━━━━━━━━━━━━━━━━━━━━━━━\u001b[0m \u001b[32m87.5/87.5 KB\u001b[0m \u001b[31m12.3 MB/s\u001b[0m eta \u001b[36m0:00:00\u001b[0m\n",
      "\u001b[?25hRequirement already satisfied: pygments<3.0.0,>=2.13.0 in ./.local/lib/python3.10/site-packages (from rich->keras->-r requirements.txt (line 4)) (2.19.1)\n",
      "Collecting smmap<6,>=3.0.1\n",
      "  Downloading smmap-5.0.2-py3-none-any.whl (24 kB)\n",
      "Collecting mdurl~=0.1\n",
      "  Downloading mdurl-0.1.2-py3-none-any.whl (10.0 kB)\n",
      "Collecting MarkupSafe>=2.1.1\n",
      "  Downloading MarkupSafe-3.0.2-cp310-cp310-manylinux_2_17_x86_64.manylinux2014_x86_64.whl (20 kB)\n",
      "Installing collected packages: namex, libclang, flatbuffers, argparse, wrapt, tzdata, threadpoolctl, termcolor, tensorflow-io-gcs-filesystem, tensorboard-data-server, smmap, setproctitle, sentry-sdk, pydantic-core, protobuf, pillow, optree, opt-einsum, numpy, mdurl, MarkupSafe, markdown, kiwisolver, joblib, grpcio, google-pasta, gast, fonttools, docker-pycreds, cycler, astunparse, annotated-types, absl-py, werkzeug, scipy, pydantic, pandas, ml-dtypes, markdown-it-py, h5py, gitdb, contourpy, tensorboard, scikit-learn, rich, matplotlib, gitpython, wandb, seaborn, keras, tensorflow\n",
      "Successfully installed MarkupSafe-3.0.2 absl-py-2.1.0 annotated-types-0.7.0 argparse-1.4.0 astunparse-1.6.3 contourpy-1.3.1 cycler-0.12.1 docker-pycreds-0.4.0 flatbuffers-25.2.10 fonttools-4.56.0 gast-0.6.0 gitdb-4.0.12 gitpython-3.1.44 google-pasta-0.2.0 grpcio-1.71.0 h5py-3.13.0 joblib-1.4.2 keras-3.9.0 kiwisolver-1.4.8 libclang-18.1.1 markdown-3.7 markdown-it-py-3.0.0 matplotlib-3.10.1 mdurl-0.1.2 ml-dtypes-0.4.1 namex-0.0.8 numpy-2.0.2 opt-einsum-3.4.0 optree-0.14.1 pandas-2.2.3 pillow-11.1.0 protobuf-5.29.3 pydantic-2.10.6 pydantic-core-2.27.2 rich-13.9.4 scikit-learn-1.6.1 scipy-1.15.2 seaborn-0.13.2 sentry-sdk-2.22.0 setproctitle-1.3.5 smmap-5.0.2 tensorboard-2.18.0 tensorboard-data-server-0.7.2 tensorflow-2.18.0 tensorflow-io-gcs-filesystem-0.37.1 termcolor-2.5.0 threadpoolctl-3.5.0 tzdata-2025.1 wandb-0.19.8 werkzeug-3.1.3 wrapt-1.17.2\n"
     ]
    }
   ],
   "source": [
    "!pip install -r requirements.txt"
   ]
  },
  {
   "cell_type": "code",
   "execution_count": 1,
   "id": "39f5911a-48bf-43ab-aac4-bd8ffa36bd22",
   "metadata": {},
   "outputs": [],
   "source": [
    "import numpy as np\n",
    "import pandas as pd\n",
    "import matplotlib.pyplot as plt\n",
    "from keras.datasets import fashion_mnist\n",
    "import wandb\n",
    "from sklearn.model_selection import train_test_split\n",
    "import seaborn as sns\n",
    "from keras.datasets import mnist"
   ]
  },
  {
   "cell_type": "code",
   "execution_count": 2,
   "id": "cf8ecbbe-b398-4744-a262-4f34061fc6c0",
   "metadata": {},
   "outputs": [
    {
     "name": "stderr",
     "output_type": "stream",
     "text": [
      "\u001b[34m\u001b[1mwandb\u001b[0m: Using wandb-core as the SDK backend.  Please refer to https://wandb.me/wandb-core for more information.\n",
      "\u001b[34m\u001b[1mwandb\u001b[0m: \u001b[33mWARNING\u001b[0m If you're specifying your api key in code, ensure this code is not shared publicly.\n",
      "\u001b[34m\u001b[1mwandb\u001b[0m: \u001b[33mWARNING\u001b[0m Consider setting the WANDB_API_KEY environment variable, or running `wandb login` from the command line.\n",
      "\u001b[34m\u001b[1mwandb\u001b[0m: Appending key for api.wandb.ai to your netrc file: /Users/karanagrawal/.netrc\n",
      "\u001b[34m\u001b[1mwandb\u001b[0m: Currently logged in as: \u001b[33mcs24m021\u001b[0m (\u001b[33mcs24m021-iit-madras\u001b[0m) to \u001b[32mhttps://api.wandb.ai\u001b[0m. Use \u001b[1m`wandb login --relogin`\u001b[0m to force relogin\n"
     ]
    },
    {
     "data": {
      "text/plain": [
       "True"
      ]
     },
     "execution_count": 2,
     "metadata": {},
     "output_type": "execute_result"
    }
   ],
   "source": [
    "wandb.login(key=\"843913992a9025996973825be4ad46e4636d0610\")"
   ]
  },
  {
   "cell_type": "code",
   "execution_count": 3,
   "id": "65e52d64-a568-4e04-8769-4e9646eec589",
   "metadata": {},
   "outputs": [],
   "source": [
    "PROJECT = \"DA6401_DL_Assignment1\"\n",
    "ENTITY = \"karan\"\n",
    "SWEEPCOUNT = 250"
   ]
  },
  {
   "cell_type": "markdown",
   "id": "5dbf992f-ce80-4d1f-acc4-dce004734f6c",
   "metadata": {},
   "source": [
    "### Loading Data"
   ]
  },
  {
   "cell_type": "code",
   "execution_count": 4,
   "id": "5f201fa9-7bab-447a-87ed-381b94bb22d3",
   "metadata": {},
   "outputs": [],
   "source": [
    "# for question 1-8\n",
    "(train_img, train_labels), (test_img, test_labels) = fashion_mnist.load_data()\n",
    "target_classes = [\"T-shirt/top\", \"Trouser\", \"Pullover\", \"Dress\", \"Coat\", \"Sandal\", \"Shirt\", \"Sneaker\", \"Bag\", \"Ankle boot\"]\n",
    "\n",
    "# for question 10\n",
    "(mnist_train, mnist_train_label), (mnist_test, mnist_test_label) = mnist.load_data()"
   ]
  },
  {
   "cell_type": "markdown",
   "id": "8f9182d6-4795-420e-9030-e7042756e3c2",
   "metadata": {},
   "source": [
    "## Question 1: Plot one sample per class"
   ]
  },
  {
   "cell_type": "code",
   "execution_count": 6,
   "id": "5a3db74c-9b57-4973-a572-dd17c379050e",
   "metadata": {},
   "outputs": [
    {
     "data": {
      "text/html": [
       "creating run (1.0s)"
      ],
      "text/plain": [
       "<IPython.core.display.HTML object>"
      ]
     },
     "metadata": {},
     "output_type": "display_data"
    },
    {
     "data": {
      "text/html": [
       "Tracking run with wandb version 0.19.7"
      ],
      "text/plain": [
       "<IPython.core.display.HTML object>"
      ]
     },
     "metadata": {},
     "output_type": "display_data"
    },
    {
     "data": {
      "text/html": [
       "Run data is saved locally in <code>/Users/karanagrawal/Desktop/Sem 2/DL/Assignment 1/wandb/run-20250313_233837-3pbyljtj</code>"
      ],
      "text/plain": [
       "<IPython.core.display.HTML object>"
      ]
     },
     "metadata": {},
     "output_type": "display_data"
    },
    {
     "data": {
      "text/html": [
       "Syncing run <strong><a href='https://wandb.ai/cs24m021-iit-madras/DA6401_DL_Assignment1/runs/3pbyljtj' target=\"_blank\">Question_1</a></strong> to <a href='https://wandb.ai/cs24m021-iit-madras/DA6401_DL_Assignment1' target=\"_blank\">Weights & Biases</a> (<a href='https://wandb.me/developer-guide' target=\"_blank\">docs</a>)<br>"
      ],
      "text/plain": [
       "<IPython.core.display.HTML object>"
      ]
     },
     "metadata": {},
     "output_type": "display_data"
    },
    {
     "data": {
      "text/html": [
       " View project at <a href='https://wandb.ai/cs24m021-iit-madras/DA6401_DL_Assignment1' target=\"_blank\">https://wandb.ai/cs24m021-iit-madras/DA6401_DL_Assignment1</a>"
      ],
      "text/plain": [
       "<IPython.core.display.HTML object>"
      ]
     },
     "metadata": {},
     "output_type": "display_data"
    },
    {
     "data": {
      "text/html": [
       " View run at <a href='https://wandb.ai/cs24m021-iit-madras/DA6401_DL_Assignment1/runs/3pbyljtj' target=\"_blank\">https://wandb.ai/cs24m021-iit-madras/DA6401_DL_Assignment1/runs/3pbyljtj</a>"
      ],
      "text/plain": [
       "<IPython.core.display.HTML object>"
      ]
     },
     "metadata": {},
     "output_type": "display_data"
    },
    {
     "data": {
      "image/png": "[encoded data removed]",
      "text/plain": [
       "<Figure size 1500x1500 with 12 Axes>"
      ]
     },
     "metadata": {},
     "output_type": "display_data"
    },
    {
     "data": {
      "text/html": [],
      "text/plain": [
       "<IPython.core.display.HTML object>"
      ]
     },
     "metadata": {},
     "output_type": "display_data"
    },
    {
     "data": {
      "text/html": [
       " View run <strong style=\"color:#cdcd00\">Question_1</strong> at: <a href='https://wandb.ai/cs24m021-iit-madras/DA6401_DL_Assignment1/runs/3pbyljtj' target=\"_blank\">https://wandb.ai/cs24m021-iit-madras/DA6401_DL_Assignment1/runs/3pbyljtj</a><br> View project at: <a href='https://wandb.ai/cs24m021-iit-madras/DA6401_DL_Assignment1' target=\"_blank\">https://wandb.ai/cs24m021-iit-madras/DA6401_DL_Assignment1</a><br>Synced 5 W&B file(s), 1 media file(s), 0 artifact file(s) and 0 other file(s)"
      ],
      "text/plain": [
       "<IPython.core.display.HTML object>"
      ]
     },
     "metadata": {},
     "output_type": "display_data"
    },
    {
     "data": {
      "text/html": [
       "Find logs at: <code>./wandb/run-20250313_233837-3pbyljtj/logs</code>"
      ],
      "text/plain": [
       "<IPython.core.display.HTML object>"
      ]
     },
     "metadata": {},
     "output_type": "display_data"
    }
   ],
   "source": [
    "wandb.init(project=PROJECT, name=\"Question_1\")  \n",
    "sample = []\n",
    "for id in range(10):\n",
    "    index = np.where(train_labels == id)[0][0]  # first occurrence of each class\n",
    "    sample.append(train_img[index])  # corresponding image to the sample list\n",
    "\n",
    "fig, axes = plt.subplots(4, 3, figsize=(15, 15))  \n",
    "fig.suptitle(\"Fashion-MNIST Sample Images\", fontsize=14)  \n",
    "\n",
    "for i, ax in enumerate(axes.flat):\n",
    "    if i < len(sample):\n",
    "        ax.imshow(sample[i], cmap='gray')  # display the image in grayscale\n",
    "        ax.set_title(target_classes[i]) \n",
    "        ax.axis(\"off\") \n",
    "    else:\n",
    "        ax.axis(\"off\")  \n",
    "\n",
    "plt.tight_layout() \n",
    "wandb.log({\"Sample_Images\": wandb.Image(plt)})  # logging to wandb\n",
    "plt.show()\n",
    "wandb.finish(); "
   ]
  },
  {
   "cell_type": "markdown",
   "id": "3ccfbe1b-6164-4ecf-af16-5a763cd66d20",
   "metadata": {},
   "source": [
    "### Activation Functions"
   ]
  },
  {
   "cell_type": "code",
   "execution_count": 5,
   "id": "4f58b1df-45b4-43ce-9299-5d6aaded0279",
   "metadata": {},
   "outputs": [],
   "source": [
    "class Activation_Functions:\n",
    "    def __init__(self):\n",
    "        self.activation_functions = {\n",
    "            \"tanh\": self.tanh,\n",
    "            \"sigmoid\": self.sigmoid,\n",
    "            \"ReLU\": self.ReLU,\n",
    "            \"softmax\": self.softmax,\n",
    "            \"identity\": self.identity\n",
    "        }\n",
    "\n",
    "    def softmax(self, x):\n",
    "        exp_x = np.exp(x - np.max(x, axis=1, keepdims=True))  # numerical stability\n",
    "        return exp_x / np.sum(exp_x, axis=1, keepdims=True)  # softmax probabilities\n",
    "        \n",
    "    def sigmoid(self, x):\n",
    "        result = np.zeros_like(x)\n",
    "        result[x >= 0] = 1 / (1 + np.exp(-x[x >= 0]))  # for positive values\n",
    "        result[x < 0] = np.exp(x[x < 0]) / (1 + np.exp(x[x < 0]))  # for negative values\n",
    "        return result\n",
    "\n",
    "    def ReLU(self, x):\n",
    "        return np.maximum(0, x)  # ReLU activation\n",
    "\n",
    "    def tanh(self, x):\n",
    "        return np.tanh(x)  # hyperbolic tangent activation\n",
    "\n",
    "    def identity(self, x):\n",
    "        return x  # identity function\n",
    "\n",
    "    def activation(self, x, fun):\n",
    "        activation_function = self.activation_functions.get(fun)\n",
    "        if activation_function:\n",
    "            return activation_function(x)\n",
    "        else:\n",
    "            raise ValueError(f\"Activation function '{fun}' is not supported.\")"
   ]
  },
  {
   "cell_type": "markdown",
   "id": "dae421e1-7a19-43ba-8ea0-faaccb4c7f53",
   "metadata": {},
   "source": [
    "### Loss Functions"
   ]
  },
  {
   "cell_type": "code",
   "execution_count": 6,
   "id": "e58f861d-871c-4ec4-b5c1-9164ed4d5226",
   "metadata": {},
   "outputs": [],
   "source": [
    "class Loss_Function:\n",
    "    def __init__(self):\n",
    "        pass\n",
    "\n",
    "    def compute_loss(self, y_true, y_pred, loss_function=\"cross_entropy\"):\n",
    "        if loss_function == \"cross_entropy\":\n",
    "            epsilon = 1e-15\n",
    "            y_pred = np.clip(y_pred, epsilon, 1 - epsilon)  # clip to avoid log(0)\n",
    "            return np.mean(-np.sum(y_true * np.log(y_pred), axis=1))  # cross-entropy loss\n",
    "        if loss_function == \"mean_squared_error\":\n",
    "            return 0.5 * np.mean(np.sum((y_true - y_pred) ** 2, axis=1))  # MSE loss\n",
    "\n",
    "    def last_output_derivative(self, y_pred, y_true, activation_derivative, loss_function=\"cross_entropy\"):\n",
    "        if loss_function == \"mean_squared_error\":\n",
    "            return (y_pred - y_true) * activation_derivative / len(y_true)  # MSE derivative\n",
    "        if loss_function == \"cross_entropy\":\n",
    "            return -(y_true - y_pred)  # cross-entropy derivative"
   ]
  },
  {
   "cell_type": "markdown",
   "id": "66112254-bc9d-49cf-af7f-361303de2ecf",
   "metadata": {},
   "source": [
    "### Derivatioves"
   ]
  },
  {
   "cell_type": "code",
   "execution_count": 7,
   "id": "399cb629-a646-4080-bc30-11dd8c58dbe0",
   "metadata": {},
   "outputs": [],
   "source": [
    "class Derivatives:\n",
    "    def __init__(self):\n",
    "        self.activation = Activation_Functions()\n",
    "        self.derivative_functions = {\n",
    "            \"sigmoid\": self.sigmoid_derivative,\n",
    "            \"tanh\": self.tanh_derivative,\n",
    "            \"ReLU\": self.ReLU_derivative,\n",
    "            \"softmax\": self.softmax_derivative,\n",
    "            \"identity\": self.identity_derivative\n",
    "        }\n",
    "\n",
    "    def sigmoid_derivative(self, x):\n",
    "        k = self.activation.sigmoid(x)\n",
    "        return k * (1 - k)  # derivative of sigmoid\n",
    "\n",
    "    def softmax_derivative(self, x):\n",
    "        k = self.activation.softmax(x)\n",
    "        return k * (1 - k)  # derivative of softmax\n",
    "\n",
    "    def tanh_derivative(self, x):\n",
    "        k = self.activation.tanh(x)\n",
    "        return 1 - k ** 2  # derivative of tanh\n",
    "\n",
    "    def ReLU_derivative(self, x):\n",
    "        x[x > 0] = 1  # derivative is 1 for x > 0\n",
    "        x[x <= 0] = 0  # derivative is 0 for x <= 0\n",
    "        return x\n",
    "\n",
    "    def identity_derivative(self, x):\n",
    "        return np.ones_like(x)  # derivative of identity is 1\n",
    "\n",
    "    def derivatives(self, x, activation_function):\n",
    "        derivative_function = self.derivative_functions.get(activation_function)\n",
    "        if derivative_function:\n",
    "            return derivative_function(x)\n",
    "        else:\n",
    "            raise ValueError(f\"Derivative for activation function '{activation_function}' is not supported.\")"
   ]
  },
  {
   "cell_type": "markdown",
   "id": "403bafe9-8b02-4040-8ae0-2b55ae08a1cf",
   "metadata": {},
   "source": [
    "## Question 2"
   ]
  },
  {
   "cell_type": "code",
   "execution_count": 8,
   "id": "373fc4d0-57f4-4196-a0b3-38c0b2e1386c",
   "metadata": {},
   "outputs": [],
   "source": [
    "def forward_pass(x, weights, biases, activation, layer_sizes):\n",
    "    activation_func = Activation_Functions()\n",
    "    outputs, activations = {}, {}\n",
    "    outputs[0] = x  # input layer\n",
    "    \n",
    "    num_layers = len(layer_sizes)\n",
    "    \n",
    "    for layer in range(1, num_layers - 1):\n",
    "        activations[layer] = np.dot(outputs[layer - 1], weights[layer]) + biases[layer]  # linear transformation\n",
    "        outputs[layer] = activation_func.activation(activations[layer], fun=activation)  # apply activation\n",
    "    \n",
    "    activations[num_layers - 1] = np.dot(outputs[num_layers - 2], weights[num_layers - 1]) + biases[num_layers - 1]\n",
    "    outputs[num_layers - 1] = activation_func.activation(activations[num_layers - 1], fun=\"softmax\")  # softmax for output layer\n",
    "    \n",
    "    return outputs[num_layers - 1]  # final output\n",
    "\n",
    "def Network_Q2(data, activation, input_size, layers, output_size):\n",
    "    weights, biases = {}, {}\n",
    "    layer_sizes = [input_size] + layers + [output_size]  # define layer sizes\n",
    "    predicted_probs = []\n",
    "    \n",
    "    for layer in range(1, len(layer_sizes)):\n",
    "        weights[layer] = np.random.randn(layer_sizes[layer - 1], layer_sizes[layer])  # initialize weights\n",
    "        biases[layer] = np.random.randn(1, layer_sizes[layer])  # initialize biases\n",
    "    \n",
    "    for sample in data:\n",
    "        x = sample.reshape(1, -1) / 255.0  # normalize input\n",
    "        y_pred = forward_pass(x, weights, biases, activation, layer_sizes)  # forward pass\n",
    "        predicted_probs.append(y_pred)  # store predictions\n",
    "    \n",
    "    return predicted_probs  # return all predictions"
   ]
  },
  {
   "cell_type": "code",
   "execution_count": 12,
   "id": "0288c9d3-9f39-49c1-9905-99c17bac9751",
   "metadata": {},
   "outputs": [
    {
     "name": "stdout",
     "output_type": "stream",
     "text": [
      "[[[1.17250e-02 2.72300e-02 1.21100e-03 5.57880e-02 8.69800e-02\n",
      "   7.82199e-01 3.15600e-03 2.66560e-02 2.38600e-03 2.66900e-03]]\n",
      "\n",
      " [[7.55920e-02 7.82340e-02 1.19300e-03 3.16612e-01 2.12596e-01\n",
      "   2.85222e-01 5.74600e-03 1.22360e-02 3.82600e-03 8.74300e-03]]\n",
      "\n",
      " [[9.62940e-02 1.96890e-02 1.26600e-03 5.35780e-02 4.44051e-01\n",
      "   3.52069e-01 1.96590e-02 6.00300e-03 7.98000e-04 6.59300e-03]]\n",
      "\n",
      " [[1.19331e-01 6.60670e-02 4.68000e-04 6.86380e-02 4.67997e-01\n",
      "   2.56594e-01 7.13500e-03 7.14000e-03 2.27900e-03 4.35200e-03]]\n",
      "\n",
      " [[5.33150e-02 8.15390e-02 1.64200e-03 1.47451e-01 2.19385e-01\n",
      "   4.68893e-01 1.10290e-02 9.51000e-03 2.33900e-03 4.89800e-03]]]\n"
     ]
    }
   ],
   "source": [
    "y_pred_Q2 = Network_Q2(train_img, \"sigmoid\", 784, [32, 32, 32], 10)  \n",
    "print(np.array(y_pred_Q2[:5]).round(6))  # print first 5 predictions"
   ]
  },
  {
   "cell_type": "markdown",
   "id": "fa887bba-57d6-4436-bf27-3fef1fdd3de1",
   "metadata": {},
   "source": [
    "### Optimizers"
   ]
  },
  {
   "cell_type": "code",
   "execution_count": 9,
   "id": "5550fbe8-0bba-4929-b620-13a594048ace",
   "metadata": {},
   "outputs": [],
   "source": [
    "class Optimizer:\n",
    "    def __init__(self, model, config):\n",
    "        self.model = model  \n",
    "        self.learning_rate = config[\"eta\"]  \n",
    "        self.decay = config[\"weight_decay\"]  \n",
    "        self.optim_type = config[\"optimizer\"]  \n",
    "        self.momentum = config[\"momentum\"] \n",
    "        self.beta1 = config[\"beta1\"] \n",
    "        self.beta2 = config[\"beta2\"]  \n",
    "        self.epsilon_val = config[\"epsilon\"]\n",
    "        self.optimization_methods = {\n",
    "            \"sgd\": self.stochastic_gradient_descent,\n",
    "            \"momentum\": self.momentum_gradient_descent,\n",
    "            \"nesterov\": self.nesterov_gradient_descent,\n",
    "            \"nag\": self.nesterov_gradient_descent,\n",
    "            \"rmsprop\": self.rmsprop,\n",
    "            \"adam\": self.adam,\n",
    "            \"nadam\": self.nadam\n",
    "        }\n",
    "\n",
    "    def update_parameters(self, timestep):\n",
    "        optimization_function = self.optimization_methods.get(self.optim_type)\n",
    "        \n",
    "        if optimization_function:\n",
    "            if self.optim_type in [\"adam\", \"nadam\"]:\n",
    "                optimization_function(timestep)\n",
    "            else:\n",
    "                optimization_function()\n",
    "        else:\n",
    "            raise ValueError(f\"Optimization method '{self.optim_type}' is not supported.\")\n",
    "\n",
    "    def stochastic_gradient_descent(self):\n",
    "        param_layers = self.model.weights.keys()\n",
    "        for l in param_layers:\n",
    "            reg_term = self.model.weights[l] * self.decay  # weight decay\n",
    "            self.model.grad_weights[l] += reg_term\n",
    "            bias_update = self.learning_rate * self.model.grad_biases[l]  # bias update\n",
    "            self.model.biases[l] -= bias_update\n",
    "            weight_update = self.learning_rate * self.model.grad_weights[l]  # weight update\n",
    "            self.model.weights[l] -= weight_update\n",
    "\n",
    "    def momentum_gradient_descent(self):\n",
    "        for layer in self.model.weights.keys():\n",
    "            self.model.grad_weights[layer] += self.decay * self.model.weights[layer]  # weight decay\n",
    "            prev_momentum_w = self.momentum * self.model.m_weights[layer]\n",
    "            new_momentum_w = prev_momentum_w + self.learning_rate * self.model.grad_weights[layer]  # momentum update\n",
    "            prev_momentum_b = self.momentum * self.model.m_biases[layer]\n",
    "            new_momentum_b = prev_momentum_b + self.learning_rate * self.model.grad_biases[layer]\n",
    "            self.model.m_weights[layer] = new_momentum_w\n",
    "            self.model.m_biases[layer] = new_momentum_b\n",
    "            self.model.weights[layer] -= new_momentum_w\n",
    "            self.model.biases[layer] -= new_momentum_b\n",
    "\n",
    "    def nesterov_gradient_descent(self):\n",
    "        for l in self.model.weights.keys():\n",
    "            momentum_w = self.momentum * self.model.m_weights[l]  # momentum term\n",
    "            lookahead_w = self.model.weights[l] - momentum_w  # lookahead step\n",
    "            lookahead_b = self.model.biases[l] - self.momentum * self.model.m_biases[l]\n",
    "            self.model.grad_weights[l] += lookahead_w * self.decay  # weight decay\n",
    "            grad_w = self.model.grad_weights[l]\n",
    "            grad_b = self.model.grad_biases[l]\n",
    "            new_m_w = self.momentum * self.model.m_weights[l] - self.learning_rate * grad_w  # update momentum\n",
    "            new_m_b = self.momentum * self.model.m_biases[l] - self.learning_rate * grad_b\n",
    "            self.model.weights[l] += new_m_w\n",
    "            self.model.biases[l] += new_m_b\n",
    "            self.model.m_weights[l] = new_m_w\n",
    "            self.model.m_biases[l] = new_m_b\n",
    "\n",
    "    def rmsprop(self):\n",
    "        for layer in self.model.weights.keys():\n",
    "            current_grad_w = self.model.grad_weights[layer] + self.model.weights[layer] * self.decay  # weight decay\n",
    "            current_grad_b = self.model.grad_biases[layer]\n",
    "            self.model.v_weights[layer] = self.beta2*self.model.v_weights[layer] + (1-self.beta2)*(current_grad_w**2)  # velocity update\n",
    "            self.model.v_biases[layer] = self.beta2*self.model.v_biases[layer] + (1-self.beta2)*(current_grad_b**2)\n",
    "            epsilon = 1e-8 if self.epsilon_val < 1e-8 else self.epsilon_val  # numerical stability\n",
    "            self.model.weights[layer] -= (current_grad_w * self.learning_rate) / (np.sqrt(self.model.v_weights[layer]) + epsilon)  # update weights\n",
    "            self.model.biases[layer] -= (current_grad_b * self.learning_rate) / (np.sqrt(self.model.v_biases[layer]) + epsilon)\n",
    "\n",
    "    def adam(self, step):\n",
    "        for l in self.model.weights.keys():\n",
    "            decay_contribution = self.decay * self.model.weights[l] # weight decay\n",
    "            self.model.grad_weights[l] += decay_contribution\n",
    "            \n",
    "            grad_w = np.clip(self.model.grad_weights[l], -1e3, 1e3)\n",
    "            grad_b = np.clip(self.model.grad_biases[l], -1e3, 1e3)\n",
    "            \n",
    "            m_w = self.beta1 * self.model.m_weights[l] + (1 - self.beta1) * grad_w # momentum update with numerical stability\n",
    "            m_b = self.beta1 * self.model.m_biases[l] + (1 - self.beta1) * grad_b\n",
    "            \n",
    "            v_w = self.beta2 * self.model.v_weights[l] + (1 - self.beta2) * (grad_w**2 + 1e-8)\n",
    "            v_b = self.beta2 * self.model.v_biases[l] + (1 - self.beta2) * (grad_b**2 + 1e-8)\n",
    "            \n",
    "            self.model.m_weights[l], self.model.v_weights[l] = m_w, v_w\n",
    "            self.model.m_biases[l], self.model.v_biases[l] = m_b, v_b\n",
    "            \n",
    "            beta1_t = max(self.beta1**step, 1e-8)\n",
    "            beta2_t = max(self.beta2**step, 1e-8)\n",
    "            mw_corrected = m_w / (1 - beta1_t + 1e-8)\n",
    "            vw_corrected = v_w / (1 - beta2_t + 1e-8)\n",
    "            mb_corrected = m_b / (1 - beta1_t + 1e-8)\n",
    "            vb_corrected = v_b / (1 - beta2_t + 1e-8)\n",
    "            \n",
    "            weight_update = self.learning_rate * mw_corrected / (np.sqrt(vw_corrected) + self.epsilon_val)\n",
    "            bias_update = self.learning_rate * mb_corrected / (np.sqrt(vb_corrected) + self.epsilon_val)\n",
    "            \n",
    "            self.model.weights[l] -= np.clip(weight_update, -1e3, 1e3)\n",
    "            self.model.biases[l] -= np.clip(bias_update, -1e3, 1e3)\n",
    "\n",
    "    def nadam(self, step):\n",
    "        for l in self.model.weights.keys():\n",
    "            self.model.grad_weights[l] += self.model.weights[l] * self.decay\n",
    "            grad_w = np.clip(self.model.grad_weights[l], -1e3, 1e3)\n",
    "            grad_b = np.clip(self.model.grad_biases[l], -1e3, 1e3)\n",
    "            \n",
    "            m_w_new = self.beta1 * self.model.m_weights[l] + (1-self.beta1)*grad_w\n",
    "            m_b_new = self.beta1 * self.model.m_biases[l] + (1-self.beta1)*grad_b\n",
    "\n",
    "            v_w_new = self.beta2 * self.model.v_weights[l] + (1-self.beta2)*(grad_w**2 + 1e-8)\n",
    "            v_b_new = self.beta2 * self.model.v_biases[l] + (1-self.beta2)*(grad_b**2 + 1e-8)\n",
    "            \n",
    "            beta1_t = max(self.beta1**step, 1e-8)\n",
    "            beta2_t = max(self.beta2**step, 1e-8)\n",
    "            mw_hat = m_w_new / (1 - beta1_t + 1e-8)\n",
    "            vw_hat = v_w_new / (1 - beta2_t + 1e-8)\n",
    "            mb_hat = m_b_new / (1 - beta1_t + 1e-8)\n",
    "            vb_hat = v_b_new / (1 - beta2_t + 1e-8)\n",
    "            \n",
    "            nesterov_w = self.beta1 * mw_hat + (1-self.beta1)*grad_w/(1 - beta1_t + 1e-8)\n",
    "            nesterov_b = self.beta1 * mb_hat + (1-self.beta1)*grad_b/(1 - beta1_t + 1e-8)\n",
    "            \n",
    "            weight_update = self.learning_rate * nesterov_w / (np.sqrt(vw_hat) + self.epsilon_val)\n",
    "            bias_update = self.learning_rate * nesterov_b / (np.sqrt(vb_hat) + self.epsilon_val)\n",
    "            \n",
    "            self.model.weights[l] -= np.clip(weight_update, -1e3, 1e3)\n",
    "            self.model.biases[l] -= np.clip(bias_update, -1e3, 1e3)\n",
    "            \n",
    "            self.model.m_weights[l], self.model.v_weights[l] = m_w_new, v_w_new\n",
    "            self.model.m_biases[l], self.model.v_biases[l] = m_b_new, v_b_new"
   ]
  },
  {
   "cell_type": "markdown",
   "id": "73b19a0e-8173-4b38-81bc-8ac2f639f0dd",
   "metadata": {},
   "source": [
    "### Final Neural Network Functionalities"
   ]
  },
  {
   "cell_type": "code",
   "execution_count": 10,
   "id": "568cab05-630a-41fe-bbbb-6e008e495dc2",
   "metadata": {},
   "outputs": [],
   "source": [
    "class Neural_Network:\n",
    "    def __init__(self, config, log=1, console=1):\n",
    "        self.weights, self.biases, self.a, self.h = {}, {}, {}, {}\n",
    "        self.grad_weights, self.grad_biases, self.m_weights, self.m_biases = {}, {}, {}, {}\n",
    "        self.v_weights, self.v_biases = {}, {}\n",
    "\n",
    "        self.activation_function = config[\"activation_function\"]\n",
    "        self.loss_function = config[\"loss_function\"]\n",
    "        self.initialization = config[\"init\"]\n",
    "        self.hidden_layers = config[\"hidden_layers\"]\n",
    "        self.hidden_layer_sizes = config[\"hidden_layer_sizes\"]\n",
    "        self.dataset = config[\"dataset\"]\n",
    "        self.wan_log, self.console_log = log, console\n",
    "        self.loss = Loss_Function()\n",
    "        self.act = Activation_Functions()\n",
    "        self.derivative = Derivatives()\n",
    "\n",
    "        (train_img, train_lbl), (test_img, test_lbl) = self.load_dataset()\n",
    "        train_img, val_img, train_lbl, val_lbl = train_test_split(train_img, train_lbl, test_size=0.1, random_state=41)\n",
    "\n",
    "        self.input, self.y_true = self.preprocess_data(train_img, train_lbl)  # preprocess training data\n",
    "        self.val_img, self.val_true = self.preprocess_data(val_img, val_lbl)  # preprocess validation data\n",
    "        self.test_img, self.test_true = self.preprocess_data(test_img, test_lbl)  # preprocess test data\n",
    "        self.layers = [self.input.shape[1]] + [self.hidden_layer_sizes] * self.hidden_layers + [10]  \n",
    "        \n",
    "        self.initialize_parameters()  # initialize weights and biases\n",
    "\n",
    "    def load_dataset(self):\n",
    "        if self.dataset == 'fashion_mnist':\n",
    "            return (train_img, train_labels), (test_img, test_labels)\n",
    "        if self.dataset == 'mnist':\n",
    "            return (mnist_train, mnist_train_label), (mnist_test, mnist_test_label)\n",
    "        else:\n",
    "            raise ValueError(\"Unknown dataset\")\n",
    "\n",
    "    def preprocess_data(self, images, labels):\n",
    "        return images.reshape(images.shape[0], -1) / 255.0 , labels  # normalize and reshape data\n",
    "\n",
    "    def initialize_parameters(self):\n",
    "        for layer in range(1, len(self.layers)):\n",
    "            self.v_weights[layer] = np.zeros((self.layers[layer-1], self.layers[layer]))  # initialize velocity for weights\n",
    "            self.v_biases[layer] = np.zeros((1, self.layers[layer]))  # initialize velocity for biases\n",
    "            \n",
    "            self.m_weights[layer] = np.zeros((self.layers[layer-1], self.layers[layer]))  # initialize momentum for weights\n",
    "            self.m_biases[layer] = np.zeros((1, self.layers[layer]))  # initialize momentum for biases\n",
    "            \n",
    "            if self.initialization == \"random\":\n",
    "                self.weights[layer] = np.random.normal(0, 1, (self.layers[layer-1], self.layers[layer]))\n",
    "                self.biases[layer] = np.random.normal(0, 1, (1, self.layers[layer]))\n",
    "            elif self.initialization == \"Xavier\":\n",
    "                scale_w = np.sqrt(2.0 / (self.layers[layer-1] + self.layers[layer]))\n",
    "                scale_b = np.sqrt(2.0 / (1 + self.layers[layer]))\n",
    "                self.weights[layer] = np.random.normal(0, scale_w, (self.layers[layer-1], self.layers[layer]))\n",
    "                self.biases[layer] = np.random.normal(0, scale_b, (1, self.layers[layer]))\n",
    "\n",
    "    def forward_propagation(self, x):\n",
    "        self.h[0] = x\n",
    "        num_layers = len(self.layers) - 1\n",
    "    \n",
    "        for layer in range(1, num_layers):\n",
    "            linear_output = self.h[layer-1] @ self.weights[layer]\n",
    "            self.a[layer] = linear_output + self.biases[layer]   # linear transformation\n",
    "            self.h[layer] = self.act.activation(self.a[layer], self.activation_function)\n",
    "    \n",
    "        final_linear_output = self.h[num_layers-1] @ self.weights[num_layers]\n",
    "        self.a[num_layers] = final_linear_output + self.biases[num_layers]\n",
    "        self.h[num_layers] = self.act.activation(self.a[num_layers], \"softmax\") # softmax for output layer\n",
    "    \n",
    "        output = self.h[num_layers]\n",
    "        return output\n",
    "\n",
    "    def backward_propagation(self, x, y_true, y_hat): \n",
    "        output_layer_index = len(self.layers) - 1  # softmax derivative for output layer  \n",
    "        softmax_grad = self.derivative.derivatives(self.a[output_layer_index], \"softmax\")  \n",
    "        error = self.loss.last_output_derivative(y_hat, y_true, softmax_grad, self.loss_function)  \n",
    "    \n",
    "        # for hidden layers\n",
    "        for current_layer in reversed(range(2, len(self.layers))):  \n",
    "            prev_hidden = self.h[current_layer - 1]  \n",
    "    \n",
    "            self.grad_weights[current_layer] = prev_hidden.T @ error  \n",
    "            self.grad_biases[current_layer] = np.sum(error, axis=0, keepdims=True)  \n",
    "    \n",
    "            weight_matrix = self.weights[current_layer].T  \n",
    "            error_hidden = error @ weight_matrix  \n",
    "            deriv_activation = self.derivative.derivatives(self.a[current_layer - 1], self.activation_function)  \n",
    "            error = error_hidden * deriv_activation  \n",
    "    \n",
    "        input_grad_weights = x.T @ error  \n",
    "        input_grad_biases = np.sum(error, axis=0, keepdims=True)  \n",
    "        self.grad_weights[1] = input_grad_weights  \n",
    "        self.grad_biases[1] = input_grad_biases  \n",
    "\n",
    "    def one_hot_matrix(self, labels):\n",
    "        mat = np.zeros((labels.shape[0], 10)) \n",
    "        mat[np.arange(labels.shape[0]), labels] = 1\n",
    "        return mat\n",
    "\n",
    "    def compute_performance(self, data, labels):\n",
    "        y_pred = self.forward_propagation(data)  # forward pass\n",
    "        one_hot_labels = self.one_hot_matrix(labels)  # convert labels to one-hot\n",
    "        accuracy = np.mean(np.argmax(y_pred, axis=1) == np.argmax(one_hot_labels, axis=1)) * 100 \n",
    "        loss = self.loss.compute_loss(one_hot_labels, y_pred, self.loss_function)  \n",
    "        return loss, accuracy\n",
    "\n",
    "    \n",
    "    def probability(self, data):\n",
    "        return self.forward_propagation(data)  \n",
    "\n",
    "        \n",
    "    def fit(self, batch_size, epochs, optimizer):  \n",
    "        num_samples = self.input.shape[0]  \n",
    "        num_mini_batches = int(np.ceil(num_samples / batch_size))  # total batches  \n",
    "    \n",
    "        for epoch_num in range(epochs):  \n",
    "            step_counter = 1  \n",
    "    \n",
    "            for iteration in range(num_mini_batches):  \n",
    "                start_idx = iteration * batch_size  \n",
    "                end_idx = min(start_idx + batch_size, num_samples)  \n",
    "                batch_images = self.input[start_idx:end_idx]  \n",
    "                batch_labels = self.y_true[start_idx:end_idx]  \n",
    "    \n",
    "                predictions = self.forward_propagation(batch_images)  # forward and backward pass  \n",
    "                true_labels_one_hot = self.one_hot_matrix(batch_labels)  \n",
    "                self.backward_propagation(batch_images, true_labels_one_hot, predictions)  \n",
    "     \n",
    "                for layer_idx in self.grad_weights.keys():  \n",
    "                    self.grad_weights[layer_idx] = self.grad_weights[layer_idx] / batch_size  \n",
    "                    self.grad_biases[layer_idx] = self.grad_biases[layer_idx] / batch_size  \n",
    "      \n",
    "                optimizer.update_parameters(step_counter)  \n",
    "                step_counter = step_counter + 1  \n",
    "    \n",
    "            training_loss, training_acc = self.compute_performance(self.input, self.y_true)  \n",
    "            val_loss, val_acc = self.compute_performance(self.val_img, self.val_true)  \n",
    "    \n",
    "            log_data = {  \n",
    "                'epoch': epoch_num + 1,  \n",
    "                'train_loss': training_loss,  \n",
    "                'train_acc': training_acc,  \n",
    "                'val_loss': val_loss,  \n",
    "                'val_acc': val_acc  \n",
    "            }  \n",
    "    \n",
    "            if self.wan_log:  \n",
    "                wandb.log(log_data)  # log to wandb  \n",
    "    \n",
    "            if self.console_log:  \n",
    "                status_msg = (  \n",
    "                    f\"Epoch {epoch_num + 1}: \"  \n",
    "                    f\"Train Loss={training_loss:.4f}, \"  \n",
    "                    f\"Train Acc={training_acc:.2f}%, \"  \n",
    "                    f\"Val Loss={val_loss:.4f}, \"  \n",
    "                    f\"Val Acc={val_acc:.2f}%\"  \n",
    "                )  \n",
    "                print(status_msg)  \n",
    "    \n",
    "        return training_loss, training_acc, val_loss, val_acc  "
   ]
  },
  {
   "cell_type": "markdown",
   "id": "bd6d31ba-6077-4621-93f2-2004d7cb1f93",
   "metadata": {},
   "source": [
    "## Question 3"
   ]
  },
  {
   "cell_type": "code",
   "execution_count": 13,
   "id": "27f2596c-56aa-4b0e-a8aa-4ab7ad0b268b",
   "metadata": {},
   "outputs": [
    {
     "name": "stdout",
     "output_type": "stream",
     "text": [
      "Optimiser: sgd\n",
      "\n",
      "Epoch 1: Train Loss=1.5051, Train Acc=51.09%, Val Loss=1.5213, Val Acc=50.58%\n",
      "Epoch 2: Train Loss=1.2204, Train Acc=59.03%, Val Loss=1.2367, Val Acc=58.48%\n",
      "Epoch 3: Train Loss=1.0919, Train Acc=62.88%, Val Loss=1.1085, Val Acc=62.27%\n",
      "Epoch 4: Train Loss=1.0121, Train Acc=65.56%, Val Loss=1.0299, Val Acc=64.48%\n",
      "Epoch 5: Train Loss=0.9553, Train Acc=67.46%, Val Loss=0.9744, Val Acc=66.37%\n",
      "Test Loss: 0.9893, Test Acc: 66.05%\n",
      "\n",
      "\n",
      "Optimiser: momentum\n",
      "\n",
      "Epoch 1: Train Loss=0.8456, Train Acc=69.40%, Val Loss=0.8651, Val Acc=68.12%\n",
      "Epoch 2: Train Loss=0.7220, Train Acc=73.88%, Val Loss=0.7431, Val Acc=72.52%\n",
      "Epoch 3: Train Loss=0.6611, Train Acc=76.01%, Val Loss=0.6841, Val Acc=74.62%\n",
      "Epoch 4: Train Loss=0.6217, Train Acc=77.43%, Val Loss=0.6461, Val Acc=76.20%\n",
      "Epoch 5: Train Loss=0.5926, Train Acc=78.50%, Val Loss=0.6177, Val Acc=77.28%\n",
      "Test Loss: 0.6239, Test Acc: 77.44%\n",
      "\n",
      "\n",
      "Optimiser: nesterov\n",
      "\n",
      "Epoch 1: Train Loss=0.8247, Train Acc=70.55%, Val Loss=0.8356, Val Acc=70.10%\n",
      "Epoch 2: Train Loss=0.7086, Train Acc=74.64%, Val Loss=0.7249, Val Acc=74.15%\n",
      "Epoch 3: Train Loss=0.6497, Train Acc=76.67%, Val Loss=0.6707, Val Acc=75.82%\n",
      "Epoch 4: Train Loss=0.6121, Train Acc=77.94%, Val Loss=0.6355, Val Acc=77.37%\n",
      "Epoch 5: Train Loss=0.5843, Train Acc=78.93%, Val Loss=0.6092, Val Acc=78.60%\n",
      "Test Loss: 0.6284, Test Acc: 77.66%\n",
      "\n",
      "\n",
      "Optimiser: rmsprop\n",
      "\n",
      "Epoch 1: Train Loss=0.7114, Train Acc=72.40%, Val Loss=0.7255, Val Acc=71.83%\n",
      "Epoch 2: Train Loss=0.6056, Train Acc=79.55%, Val Loss=0.6218, Val Acc=78.63%\n",
      "Epoch 3: Train Loss=0.5739, Train Acc=79.93%, Val Loss=0.5879, Val Acc=79.40%\n",
      "Epoch 4: Train Loss=0.5282, Train Acc=82.18%, Val Loss=0.5398, Val Acc=81.57%\n",
      "Epoch 5: Train Loss=0.4841, Train Acc=83.56%, Val Loss=0.4952, Val Acc=83.05%\n",
      "Test Loss: 0.5225, Test Acc: 81.91%\n",
      "\n",
      "\n",
      "Optimiser: adam\n",
      "\n",
      "Epoch 1: Train Loss=0.5229, Train Acc=81.65%, Val Loss=0.5340, Val Acc=81.17%\n",
      "Epoch 2: Train Loss=0.4426, Train Acc=83.66%, Val Loss=0.4529, Val Acc=83.12%\n",
      "Epoch 3: Train Loss=0.4345, Train Acc=84.06%, Val Loss=0.4466, Val Acc=83.28%\n",
      "Epoch 4: Train Loss=0.4357, Train Acc=84.21%, Val Loss=0.4513, Val Acc=83.17%\n",
      "Epoch 5: Train Loss=0.4364, Train Acc=84.17%, Val Loss=0.4513, Val Acc=83.35%\n",
      "Test Loss: 0.4738, Test Acc: 82.89%\n",
      "\n",
      "\n",
      "Optimiser: nadam\n",
      "\n",
      "Epoch 1: Train Loss=0.4505, Train Acc=83.50%, Val Loss=0.4612, Val Acc=82.93%\n",
      "Epoch 2: Train Loss=0.3940, Train Acc=85.86%, Val Loss=0.4045, Val Acc=85.17%\n",
      "Epoch 3: Train Loss=0.3829, Train Acc=86.10%, Val Loss=0.3940, Val Acc=85.47%\n",
      "Epoch 4: Train Loss=0.3788, Train Acc=86.32%, Val Loss=0.3890, Val Acc=85.72%\n",
      "Epoch 5: Train Loss=0.3751, Train Acc=86.38%, Val Loss=0.3849, Val Acc=85.63%\n",
      "Test Loss: 0.4228, Test Acc: 85.11%\n",
      "\n",
      "\n"
     ]
    }
   ],
   "source": [
    "for opt in [\"sgd\", \"momentum\", \"nesterov\", \"rmsprop\", \"adam\", \"nadam\"]:\n",
    "    print(\"Optimiser: \" + opt + \"\\n\")\n",
    "    config_nn = {\n",
    "        \"activation_function\": \"sigmoid\",  \n",
    "        \"init\": \"random\",\n",
    "        \"dataset\": \"fashion_mnist\",\n",
    "        \"loss_function\": \"cross_entropy\", \n",
    "        \"hidden_layers\": 4,\n",
    "        \"hidden_layer_sizes\": 128\n",
    "        \n",
    "    }\n",
    "    \n",
    "    config_opt = {\n",
    "        \"optimizer\": f\"{opt}\",\n",
    "        \"eta\": 0.005,  \n",
    "        \"beta\": 0.9,\n",
    "        \"beta2\": 0.999,\n",
    "        \"beta1\": 0.9,\n",
    "        \"weight_decay\": 0.0005,\n",
    "        \"epsilon\": 1e-8,\n",
    "        \"momentum\": 0.9\n",
    "    }\n",
    "    \n",
    "    nn = Neural_Network(config_nn, log=0, console=1)\n",
    "    optimizer = Optimizer(nn, config_opt)\n",
    "    \n",
    "    t_loss, t_acc, v_loss, v_acc = nn.fit(batch_size=64, epochs=5, optimizer=optimizer)\n",
    "    loss, accuracy = nn.compute_performance(nn.test_img, nn.test_true)  # evaluate on test data\n",
    "    print(f\"Test Loss: {loss:.4f}, Test Acc: {accuracy:.2f}%\")  # print test loss and accuracy\n",
    "    print()\n",
    "    print()\n"
   ]
  },
  {
   "cell_type": "markdown",
   "id": "0ab381f1-2f93-4f27-893e-6af71a6b2841",
   "metadata": {},
   "source": [
    "## Question 4"
   ]
  },
  {
   "cell_type": "code",
   "execution_count": 17,
   "id": "a42ce22a-6b99-4f7c-b7cd-bfd0cf9b1f53",
   "metadata": {},
   "outputs": [],
   "source": [
    "# sweep configuration as specified in question maximizing test accuracy\n",
    "sweep_config = {\n",
    "    \"method\": \"bayes\",  \n",
    "    \"project\": f\"{PROJECT}\",\n",
    "    \"metric\": {\"name\": \"test_accuracy\", \"goal\": \"maximize\"},\n",
    "    \"parameters\": {\n",
    "        \"epochs\": {\"values\": [5, 10]},\n",
    "        \"hidden_layers\": {\"values\": [3, 4, 5]},\n",
    "        \"hidden_layer_sizes\": {\"values\": [32, 64, 128]},\n",
    "        \"weight_decay\": {\"values\": [0, 0.0005, 0.5]},\n",
    "        \"learning_rate\": {\"values\": [1e-3, 1e-4]},\n",
    "        \"optimizer\": {\"values\": [\"sgd\", \"momentum\", \"nesterov\", \"rmsprop\", \"adam\", \"nadam\"]},\n",
    "        \"batch_size\": {\"values\": [16, 32, 64]},\n",
    "        \"activation\": {\"values\": [\"sigmoid\", \"tanh\", \"ReLU\"]},\n",
    "        \"initialization\": {\"values\": [\"Xavier\", \"random\"]},\n",
    "        \"dataset\": {\"values\": [\"fashion_mnist\"]}\n",
    "    }\n",
    "}"
   ]
  },
  {
   "cell_type": "code",
   "execution_count": 18,
   "id": "8e1edd9e-9afe-46e9-ba3a-b7cddf224d6b",
   "metadata": {},
   "outputs": [],
   "source": [
    "# to call inside wandb.agent()\n",
    "def train(loss_function):\n",
    "    sw = wandb.init(project = PROJECT)\n",
    "    sw = sw.config\n",
    "\n",
    "    wandb.run.name = f\"opt_{sw.optimizer}_hl_{sw.hidden_layers}_bs_{sw.batch_size}_e_{sw.epochs}_act_{sw.activation}_eta_{sw.learning_rate}_init_{sw.initialization}_hls_{sw.hidden_layer_sizes}_dataset_{sw.dataset}_{loss_function}\"\n",
    "    # Example: opt_adam_hl_4_bs_32_e_10_act_ReLU_eta_0.001_init_Xavier_hls_64_dataset_fashion_mnist_cross_entropy\n",
    "    \n",
    "    config_nn = {\n",
    "        \"activation_function\": sw.activation, \n",
    "        \"init\" : sw.initialization, \n",
    "        \"dataset\" : sw.dataset,\n",
    "        \"loss_function\" : loss_function,\n",
    "        \"hidden_layers\": sw.hidden_layers,\n",
    "        \"hidden_layer_sizes\" : sw.hidden_layer_sizes\n",
    "    }\n",
    "\n",
    "    config_opt = {\n",
    "        \"optimizer\": sw.optimizer,\n",
    "        \"eta\": sw.learning_rate,\n",
    "        \"beta1\" : 0.9,\n",
    "        \"beta2\" : 0.999,\n",
    "        \"beta\": 0.9,\n",
    "        \"weight_decay\": sw.weight_decay,\n",
    "        \"epsilon\": 1e-8,\n",
    "        \"momentum\" : 0.9\n",
    "    }\n",
    "\n",
    "    nn = Neural_Network(config_nn,log = 1,console=1)\n",
    "    opt = Optimizer(nn, config_opt)\n",
    "\n",
    "    t_loss, t_acc, v_loss, v_acc = nn.fit(batch_size=sw.batch_size, epochs=sw.epochs, optimizer=opt)\n",
    "\n",
    "    loss, accuracy = nn.compute_performance(nn.test_img, nn.test_true)  # evaluate on test data\n",
    "    print(f\"Test Loss: {loss:.4f}, Test Acc: {accuracy:.2f}%\")  # print test loss and accuracy\n",
    "    wandb.log({\"test_accuracy\" : accuracy})\n",
    "    "
   ]
  },
  {
   "cell_type": "code",
   "execution_count": null,
   "id": "ed6d1f11-1b39-4a3c-afd9-d007b97c9da0",
   "metadata": {},
   "outputs": [
    {
     "name": "stdout",
     "output_type": "stream",
     "text": [
      "Create sweep with ID: 6frmzevi\n",
      "Sweep URL: https://wandb.ai/cs24m021-iit-madras/DA6401_DL_Assignment1/sweeps/6frmzevi\n"
     ]
    },
    {
     "name": "stderr",
     "output_type": "stream",
     "text": [
      "\u001b[34m\u001b[1mwandb\u001b[0m: Agent Starting Run: erymihsw with config:\n",
      "\u001b[34m\u001b[1mwandb\u001b[0m: \tactivation: ReLU\n",
      "\u001b[34m\u001b[1mwandb\u001b[0m: \tbatch_size: 16\n",
      "\u001b[34m\u001b[1mwandb\u001b[0m: \tdataset: fashion_mnist\n",
      "\u001b[34m\u001b[1mwandb\u001b[0m: \tepochs: 10\n",
      "\u001b[34m\u001b[1mwandb\u001b[0m: \thidden_layer_sizes: 128\n",
      "\u001b[34m\u001b[1mwandb\u001b[0m: \thidden_layers: 4\n",
      "\u001b[34m\u001b[1mwandb\u001b[0m: \tinitialization: random\n",
      "\u001b[34m\u001b[1mwandb\u001b[0m: \tlearning_rate: 0.001\n",
      "\u001b[34m\u001b[1mwandb\u001b[0m: \toptimizer: nadam\n",
      "\u001b[34m\u001b[1mwandb\u001b[0m: \tweight_decay: 0.5\n"
     ]
    },
    {
     "data": {
      "text/html": [
       "Ignoring project 'DA6401_DL_Assignment1' when running a sweep."
      ],
      "text/plain": [
       "<IPython.core.display.HTML object>"
      ]
     },
     "metadata": {},
     "output_type": "display_data"
    },
    {
     "data": {
      "text/html": [
       "Tracking run with wandb version 0.19.8"
      ],
      "text/plain": [
       "<IPython.core.display.HTML object>"
      ]
     },
     "metadata": {},
     "output_type": "display_data"
    },
    {
     "data": {
      "text/html": [
       "Run data is saved locally in <code>/home/ubuntu/wandb/run-20250310_201012-erymihsw</code>"
      ],
      "text/plain": [
       "<IPython.core.display.HTML object>"
      ]
     },
     "metadata": {},
     "output_type": "display_data"
    },
    {
     "data": {
      "text/html": [
       "Syncing run <strong><a href='https://wandb.ai/cs24m021-iit-madras/DA6401_DL_Assignment1/runs/erymihsw' target=\"_blank\">flowing-sweep-1</a></strong> to <a href='https://wandb.ai/cs24m021-iit-madras/DA6401_DL_Assignment1' target=\"_blank\">Weights & Biases</a> (<a href='https://wandb.me/developer-guide' target=\"_blank\">docs</a>)<br>Sweep page: <a href='https://wandb.ai/cs24m021-iit-madras/DA6401_DL_Assignment1/sweeps/6frmzevi' target=\"_blank\">https://wandb.ai/cs24m021-iit-madras/DA6401_DL_Assignment1/sweeps/6frmzevi</a>"
      ],
      "text/plain": [
       "<IPython.core.display.HTML object>"
      ]
     },
     "metadata": {},
     "output_type": "display_data"
    },
    {
     "data": {
      "text/html": [
       " View project at <a href='https://wandb.ai/cs24m021-iit-madras/DA6401_DL_Assignment1' target=\"_blank\">https://wandb.ai/cs24m021-iit-madras/DA6401_DL_Assignment1</a>"
      ],
      "text/plain": [
       "<IPython.core.display.HTML object>"
      ]
     },
     "metadata": {},
     "output_type": "display_data"
    },
    {
     "data": {
      "text/html": [
       " View sweep at <a href='https://wandb.ai/cs24m021-iit-madras/DA6401_DL_Assignment1/sweeps/6frmzevi' target=\"_blank\">https://wandb.ai/cs24m021-iit-madras/DA6401_DL_Assignment1/sweeps/6frmzevi</a>"
      ],
      "text/plain": [
       "<IPython.core.display.HTML object>"
      ]
     },
     "metadata": {},
     "output_type": "display_data"
    },
    {
     "data": {
      "text/html": [
       " View run at <a href='https://wandb.ai/cs24m021-iit-madras/DA6401_DL_Assignment1/runs/erymihsw' target=\"_blank\">https://wandb.ai/cs24m021-iit-madras/DA6401_DL_Assignment1/runs/erymihsw</a>"
      ],
      "text/plain": [
       "<IPython.core.display.HTML object>"
      ]
     },
     "metadata": {},
     "output_type": "display_data"
    },
    {
     "name": "stdout",
     "output_type": "stream",
     "text": [
      "Epoch 1: Train Loss=8.4432, Train Acc=75.36%, Val Loss=8.5584, Val Acc=75.12%\n",
      "Epoch 2: Train Loss=7.5326, Train Acc=77.83%, Val Loss=8.0299, Val Acc=76.33%\n",
      "Epoch 3: Train Loss=7.6741, Train Acc=76.49%, Val Loss=7.8197, Val Acc=76.12%\n",
      "Epoch 4: Train Loss=5.9646, Train Acc=74.31%, Val Loss=6.2494, Val Acc=73.47%\n",
      "Epoch 5: Train Loss=0.6876, Train Acc=76.22%, Val Loss=0.7093, Val Acc=75.02%\n",
      "Epoch 6: Train Loss=1.1895, Train Acc=67.28%, Val Loss=1.1922, Val Acc=67.30%\n",
      "Epoch 7: Train Loss=2.3118, Train Acc=10.01%, Val Loss=2.3076, Val Acc=9.88%\n",
      "Epoch 8: Train Loss=2.3140, Train Acc=10.01%, Val Loss=2.3100, Val Acc=9.88%\n",
      "Epoch 9: Train Loss=2.3129, Train Acc=10.01%, Val Loss=2.3091, Val Acc=9.88%\n",
      "Epoch 10: Train Loss=2.3112, Train Acc=10.01%, Val Loss=2.3077, Val Acc=9.88%\n",
      "Test Loss: 2.3108, Test Acc: 10.00%\n"
     ]
    },
    {
     "data": {
      "text/html": [],
      "text/plain": [
       "<IPython.core.display.HTML object>"
      ]
     },
     "metadata": {},
     "output_type": "display_data"
    },
    {
     "data": {
      "text/html": [
       "<br>    <style><br>        .wandb-row {<br>            display: flex;<br>            flex-direction: row;<br>            flex-wrap: wrap;<br>            justify-content: flex-start;<br>            width: 100%;<br>        }<br>        .wandb-col {<br>            display: flex;<br>            flex-direction: column;<br>            flex-basis: 100%;<br>            flex: 1;<br>            padding: 10px;<br>        }<br>    </style><br><div class=\"wandb-row\"><div class=\"wandb-col\"><h3>Run history:</h3><br/><table class=\"wandb\"><tr><td>epoch</td><td>▁▂▃▃▄▅▆▆▇█</td></tr><tr><td>test_accuracy</td><td>▁</td></tr><tr><td>train_acc</td><td>█████▇▁▁▁▁</td></tr><tr><td>train_loss</td><td>█▇▇▆▁▁▂▂▂▂</td></tr><tr><td>val_acc</td><td>█████▇▁▁▁▁</td></tr><tr><td>val_loss</td><td>██▇▆▁▁▂▂▂▂</td></tr></table><br/></div><div class=\"wandb-col\"><h3>Run summary:</h3><br/><table class=\"wandb\"><tr><td>epoch</td><td>10</td></tr><tr><td>test_accuracy</td><td>10</td></tr><tr><td>train_acc</td><td>10.01296</td></tr><tr><td>train_loss</td><td>2.31117</td></tr><tr><td>val_acc</td><td>9.88333</td></tr><tr><td>val_loss</td><td>2.30765</td></tr></table><br/></div></div>"
      ],
      "text/plain": [
       "<IPython.core.display.HTML object>"
      ]
     },
     "metadata": {},
     "output_type": "display_data"
    },
    {
     "data": {
      "text/html": [
       " View run <strong style=\"color:#cdcd00\">opt_nadam_hl_4_bs_16_e_10_act_ReLU_eta_0.001_init_random_hls_128_dataset_fashion_mnist_cross_entropy</strong> at: <a href='https://wandb.ai/cs24m021-iit-madras/DA6401_DL_Assignment1/runs/erymihsw' target=\"_blank\">https://wandb.ai/cs24m021-iit-madras/DA6401_DL_Assignment1/runs/erymihsw</a><br> View project at: <a href='https://wandb.ai/cs24m021-iit-madras/DA6401_DL_Assignment1' target=\"_blank\">https://wandb.ai/cs24m021-iit-madras/DA6401_DL_Assignment1</a><br>Synced 5 W&B file(s), 0 media file(s), 0 artifact file(s) and 0 other file(s)"
      ],
      "text/plain": [
       "<IPython.core.display.HTML object>"
      ]
     },
     "metadata": {},
     "output_type": "display_data"
    },
    {
     "data": {
      "text/html": [
       "Find logs at: <code>./wandb/run-20250310_201012-erymihsw/logs</code>"
      ],
      "text/plain": [
       "<IPython.core.display.HTML object>"
      ]
     },
     "metadata": {},
     "output_type": "display_data"
    },
    {
     "name": "stderr",
     "output_type": "stream",
     "text": [
      "\u001b[34m\u001b[1mwandb\u001b[0m: Agent Starting Run: 7ehfe447 with config:\n",
      "\u001b[34m\u001b[1mwandb\u001b[0m: \tactivation: ReLU\n",
      "\u001b[34m\u001b[1mwandb\u001b[0m: \tbatch_size: 32\n",
      "\u001b[34m\u001b[1mwandb\u001b[0m: \tdataset: fashion_mnist\n",
      "\u001b[34m\u001b[1mwandb\u001b[0m: \tepochs: 10\n",
      "\u001b[34m\u001b[1mwandb\u001b[0m: \thidden_layer_sizes: 128\n",
      "\u001b[34m\u001b[1mwandb\u001b[0m: \thidden_layers: 3\n",
      "\u001b[34m\u001b[1mwandb\u001b[0m: \tinitialization: Xavier\n",
      "\u001b[34m\u001b[1mwandb\u001b[0m: \tlearning_rate: 0.0001\n",
      "\u001b[34m\u001b[1mwandb\u001b[0m: \toptimizer: adam\n",
      "\u001b[34m\u001b[1mwandb\u001b[0m: \tweight_decay: 0\n"
     ]
    },
    {
     "data": {
      "text/html": [
       "Ignoring project 'DA6401_DL_Assignment1' when running a sweep."
      ],
      "text/plain": [
       "<IPython.core.display.HTML object>"
      ]
     },
     "metadata": {},
     "output_type": "display_data"
    },
    {
     "data": {
      "text/html": [
       "Tracking run with wandb version 0.19.8"
      ],
      "text/plain": [
       "<IPython.core.display.HTML object>"
      ]
     },
     "metadata": {},
     "output_type": "display_data"
    },
    {
     "data": {
      "text/html": [
       "Run data is saved locally in <code>/home/ubuntu/wandb/run-20250310_201302-7ehfe447</code>"
      ],
      "text/plain": [
       "<IPython.core.display.HTML object>"
      ]
     },
     "metadata": {},
     "output_type": "display_data"
    },
    {
     "data": {
      "text/html": [
       "Syncing run <strong><a href='https://wandb.ai/cs24m021-iit-madras/DA6401_DL_Assignment1/runs/7ehfe447' target=\"_blank\">royal-sweep-2</a></strong> to <a href='https://wandb.ai/cs24m021-iit-madras/DA6401_DL_Assignment1' target=\"_blank\">Weights & Biases</a> (<a href='https://wandb.me/developer-guide' target=\"_blank\">docs</a>)<br>Sweep page: <a href='https://wandb.ai/cs24m021-iit-madras/DA6401_DL_Assignment1/sweeps/6frmzevi' target=\"_blank\">https://wandb.ai/cs24m021-iit-madras/DA6401_DL_Assignment1/sweeps/6frmzevi</a>"
      ],
      "text/plain": [
       "<IPython.core.display.HTML object>"
      ]
     },
     "metadata": {},
     "output_type": "display_data"
    },
    {
     "data": {
      "text/html": [
       " View project at <a href='https://wandb.ai/cs24m021-iit-madras/DA6401_DL_Assignment1' target=\"_blank\">https://wandb.ai/cs24m021-iit-madras/DA6401_DL_Assignment1</a>"
      ],
      "text/plain": [
       "<IPython.core.display.HTML object>"
      ]
     },
     "metadata": {},
     "output_type": "display_data"
    },
    {
     "data": {
      "text/html": [
       " View sweep at <a href='https://wandb.ai/cs24m021-iit-madras/DA6401_DL_Assignment1/sweeps/6frmzevi' target=\"_blank\">https://wandb.ai/cs24m021-iit-madras/DA6401_DL_Assignment1/sweeps/6frmzevi</a>"
      ],
      "text/plain": [
       "<IPython.core.display.HTML object>"
      ]
     },
     "metadata": {},
     "output_type": "display_data"
    },
    {
     "data": {
      "text/html": [
       " View run at <a href='https://wandb.ai/cs24m021-iit-madras/DA6401_DL_Assignment1/runs/7ehfe447' target=\"_blank\">https://wandb.ai/cs24m021-iit-madras/DA6401_DL_Assignment1/runs/7ehfe447</a>"
      ],
      "text/plain": [
       "<IPython.core.display.HTML object>"
      ]
     },
     "metadata": {},
     "output_type": "display_data"
    },
    {
     "name": "stdout",
     "output_type": "stream",
     "text": [
      "Epoch 1: Train Loss=0.4567, Train Acc=84.08%, Val Loss=0.4627, Val Acc=83.68%\n",
      "Epoch 2: Train Loss=0.4124, Train Acc=85.36%, Val Loss=0.4171, Val Acc=85.22%\n",
      "Epoch 3: Train Loss=0.3908, Train Acc=86.01%, Val Loss=0.3972, Val Acc=85.70%\n",
      "Epoch 4: Train Loss=0.3756, Train Acc=86.55%, Val Loss=0.3845, Val Acc=86.13%\n",
      "Epoch 5: Train Loss=0.3625, Train Acc=87.00%, Val Loss=0.3744, Val Acc=86.42%\n",
      "Epoch 6: Train Loss=0.3520, Train Acc=87.31%, Val Loss=0.3668, Val Acc=86.88%\n",
      "Epoch 7: Train Loss=0.3427, Train Acc=87.62%, Val Loss=0.3605, Val Acc=87.12%\n",
      "Epoch 8: Train Loss=0.3337, Train Acc=87.89%, Val Loss=0.3551, Val Acc=87.17%\n",
      "Epoch 9: Train Loss=0.3238, Train Acc=88.26%, Val Loss=0.3488, Val Acc=87.50%\n",
      "Epoch 10: Train Loss=0.3163, Train Acc=88.49%, Val Loss=0.3446, Val Acc=87.73%\n",
      "Test Loss: 0.3796, Test Acc: 86.45%\n"
     ]
    },
    {
     "data": {
      "text/html": [],
      "text/plain": [
       "<IPython.core.display.HTML object>"
      ]
     },
     "metadata": {},
     "output_type": "display_data"
    },
    {
     "data": {
      "text/html": [
       "<br>    <style><br>        .wandb-row {<br>            display: flex;<br>            flex-direction: row;<br>            flex-wrap: wrap;<br>            justify-content: flex-start;<br>            width: 100%;<br>        }<br>        .wandb-col {<br>            display: flex;<br>            flex-direction: column;<br>            flex-basis: 100%;<br>            flex: 1;<br>            padding: 10px;<br>        }<br>    </style><br><div class=\"wandb-row\"><div class=\"wandb-col\"><h3>Run history:</h3><br/><table class=\"wandb\"><tr><td>epoch</td><td>▁▂▃▃▄▅▆▆▇█</td></tr><tr><td>test_accuracy</td><td>▁</td></tr><tr><td>train_acc</td><td>▁▃▄▅▆▆▇▇██</td></tr><tr><td>train_loss</td><td>█▆▅▄▃▃▂▂▁▁</td></tr><tr><td>val_acc</td><td>▁▄▄▅▆▇▇▇██</td></tr><tr><td>val_loss</td><td>█▅▄▃▃▂▂▂▁▁</td></tr></table><br/></div><div class=\"wandb-col\"><h3>Run summary:</h3><br/><table class=\"wandb\"><tr><td>epoch</td><td>10</td></tr><tr><td>test_accuracy</td><td>86.45</td></tr><tr><td>train_acc</td><td>88.49074</td></tr><tr><td>train_loss</td><td>0.31634</td></tr><tr><td>val_acc</td><td>87.73333</td></tr><tr><td>val_loss</td><td>0.34459</td></tr></table><br/></div></div>"
      ],
      "text/plain": [
       "<IPython.core.display.HTML object>"
      ]
     },
     "metadata": {},
     "output_type": "display_data"
    },
    {
     "data": {
      "text/html": [
       " View run <strong style=\"color:#cdcd00\">opt_adam_hl_3_bs_32_e_10_act_ReLU_eta_0.0001_init_Xavier_hls_128_dataset_fashion_mnist_cross_entropy</strong> at: <a href='https://wandb.ai/cs24m021-iit-madras/DA6401_DL_Assignment1/runs/7ehfe447' target=\"_blank\">https://wandb.ai/cs24m021-iit-madras/DA6401_DL_Assignment1/runs/7ehfe447</a><br> View project at: <a href='https://wandb.ai/cs24m021-iit-madras/DA6401_DL_Assignment1' target=\"_blank\">https://wandb.ai/cs24m021-iit-madras/DA6401_DL_Assignment1</a><br>Synced 5 W&B file(s), 0 media file(s), 0 artifact file(s) and 0 other file(s)"
      ],
      "text/plain": [
       "<IPython.core.display.HTML object>"
      ]
     },
     "metadata": {},
     "output_type": "display_data"
    },
    {
     "data": {
      "text/html": [
       "Find logs at: <code>./wandb/run-20250310_201302-7ehfe447/logs</code>"
      ],
      "text/plain": [
       "<IPython.core.display.HTML object>"
      ]
     },
     "metadata": {},
     "output_type": "display_data"
    },
    {
     "name": "stderr",
     "output_type": "stream",
     "text": [
      "\u001b[34m\u001b[1mwandb\u001b[0m: Agent Starting Run: pz6s8h6p with config:\n",
      "\u001b[34m\u001b[1mwandb\u001b[0m: \tactivation: ReLU\n",
      "\u001b[34m\u001b[1mwandb\u001b[0m: \tbatch_size: 64\n",
      "\u001b[34m\u001b[1mwandb\u001b[0m: \tdataset: fashion_mnist\n",
      "\u001b[34m\u001b[1mwandb\u001b[0m: \tepochs: 5\n",
      "\u001b[34m\u001b[1mwandb\u001b[0m: \thidden_layer_sizes: 128\n",
      "\u001b[34m\u001b[1mwandb\u001b[0m: \thidden_layers: 5\n",
      "\u001b[34m\u001b[1mwandb\u001b[0m: \tinitialization: Xavier\n",
      "\u001b[34m\u001b[1mwandb\u001b[0m: \tlearning_rate: 0.001\n",
      "\u001b[34m\u001b[1mwandb\u001b[0m: \toptimizer: adam\n",
      "\u001b[34m\u001b[1mwandb\u001b[0m: \tweight_decay: 0.0005\n"
     ]
    },
    {
     "data": {
      "text/html": [
       "Ignoring project 'DA6401_DL_Assignment1' when running a sweep."
      ],
      "text/plain": [
       "<IPython.core.display.HTML object>"
      ]
     },
     "metadata": {},
     "output_type": "display_data"
    },
    {
     "data": {
      "text/html": [
       "Tracking run with wandb version 0.19.8"
      ],
      "text/plain": [
       "<IPython.core.display.HTML object>"
      ]
     },
     "metadata": {},
     "output_type": "display_data"
    },
    {
     "data": {
      "text/html": [
       "Run data is saved locally in <code>/home/ubuntu/wandb/run-20250310_201442-pz6s8h6p</code>"
      ],
      "text/plain": [
       "<IPython.core.display.HTML object>"
      ]
     },
     "metadata": {},
     "output_type": "display_data"
    },
    {
     "data": {
      "text/html": [
       "Syncing run <strong><a href='https://wandb.ai/cs24m021-iit-madras/DA6401_DL_Assignment1/runs/pz6s8h6p' target=\"_blank\">smart-sweep-3</a></strong> to <a href='https://wandb.ai/cs24m021-iit-madras/DA6401_DL_Assignment1' target=\"_blank\">Weights & Biases</a> (<a href='https://wandb.me/developer-guide' target=\"_blank\">docs</a>)<br>Sweep page: <a href='https://wandb.ai/cs24m021-iit-madras/DA6401_DL_Assignment1/sweeps/6frmzevi' target=\"_blank\">https://wandb.ai/cs24m021-iit-madras/DA6401_DL_Assignment1/sweeps/6frmzevi</a>"
      ],
      "text/plain": [
       "<IPython.core.display.HTML object>"
      ]
     },
     "metadata": {},
     "output_type": "display_data"
    },
    {
     "data": {
      "text/html": [
       " View project at <a href='https://wandb.ai/cs24m021-iit-madras/DA6401_DL_Assignment1' target=\"_blank\">https://wandb.ai/cs24m021-iit-madras/DA6401_DL_Assignment1</a>"
      ],
      "text/plain": [
       "<IPython.core.display.HTML object>"
      ]
     },
     "metadata": {},
     "output_type": "display_data"
    },
    {
     "data": {
      "text/html": [
       " View sweep at <a href='https://wandb.ai/cs24m021-iit-madras/DA6401_DL_Assignment1/sweeps/6frmzevi' target=\"_blank\">https://wandb.ai/cs24m021-iit-madras/DA6401_DL_Assignment1/sweeps/6frmzevi</a>"
      ],
      "text/plain": [
       "<IPython.core.display.HTML object>"
      ]
     },
     "metadata": {},
     "output_type": "display_data"
    },
    {
     "data": {
      "text/html": [
       " View run at <a href='https://wandb.ai/cs24m021-iit-madras/DA6401_DL_Assignment1/runs/pz6s8h6p' target=\"_blank\">https://wandb.ai/cs24m021-iit-madras/DA6401_DL_Assignment1/runs/pz6s8h6p</a>"
      ],
      "text/plain": [
       "<IPython.core.display.HTML object>"
      ]
     },
     "metadata": {},
     "output_type": "display_data"
    },
    {
     "name": "stdout",
     "output_type": "stream",
     "text": [
      "Epoch 1: Train Loss=0.3741, Train Acc=86.25%, Val Loss=0.3797, Val Acc=86.25%\n",
      "Epoch 2: Train Loss=0.3375, Train Acc=87.32%, Val Loss=0.3509, Val Acc=87.03%\n",
      "Epoch 3: Train Loss=0.3229, Train Acc=87.77%, Val Loss=0.3446, Val Acc=87.47%\n",
      "Epoch 4: Train Loss=0.3076, Train Acc=88.53%, Val Loss=0.3324, Val Acc=88.15%\n",
      "Epoch 5: Train Loss=0.2872, Train Acc=89.37%, Val Loss=0.3217, Val Acc=88.43%\n",
      "Test Loss: 0.3674, Test Acc: 87.26%\n"
     ]
    },
    {
     "data": {
      "text/html": [],
      "text/plain": [
       "<IPython.core.display.HTML object>"
      ]
     },
     "metadata": {},
     "output_type": "display_data"
    },
    {
     "data": {
      "text/html": [
       "<br>    <style><br>        .wandb-row {<br>            display: flex;<br>            flex-direction: row;<br>            flex-wrap: wrap;<br>            justify-content: flex-start;<br>            width: 100%;<br>        }<br>        .wandb-col {<br>            display: flex;<br>            flex-direction: column;<br>            flex-basis: 100%;<br>            flex: 1;<br>            padding: 10px;<br>        }<br>    </style><br><div class=\"wandb-row\"><div class=\"wandb-col\"><h3>Run history:</h3><br/><table class=\"wandb\"><tr><td>epoch</td><td>▁▃▅▆█</td></tr><tr><td>test_accuracy</td><td>▁</td></tr><tr><td>train_acc</td><td>▁▃▄▆█</td></tr><tr><td>train_loss</td><td>█▅▄▃▁</td></tr><tr><td>val_acc</td><td>▁▄▅▇█</td></tr><tr><td>val_loss</td><td>█▅▄▂▁</td></tr></table><br/></div><div class=\"wandb-col\"><h3>Run summary:</h3><br/><table class=\"wandb\"><tr><td>epoch</td><td>5</td></tr><tr><td>test_accuracy</td><td>87.26</td></tr><tr><td>train_acc</td><td>89.36667</td></tr><tr><td>train_loss</td><td>0.2872</td></tr><tr><td>val_acc</td><td>88.43333</td></tr><tr><td>val_loss</td><td>0.32171</td></tr></table><br/></div></div>"
      ],
      "text/plain": [
       "<IPython.core.display.HTML object>"
      ]
     },
     "metadata": {},
     "output_type": "display_data"
    },
    {
     "data": {
      "text/html": [
       " View run <strong style=\"color:#cdcd00\">opt_adam_hl_5_bs_64_e_5_act_ReLU_eta_0.001_init_Xavier_hls_128_dataset_fashion_mnist_cross_entropy</strong> at: <a href='https://wandb.ai/cs24m021-iit-madras/DA6401_DL_Assignment1/runs/pz6s8h6p' target=\"_blank\">https://wandb.ai/cs24m021-iit-madras/DA6401_DL_Assignment1/runs/pz6s8h6p</a><br> View project at: <a href='https://wandb.ai/cs24m021-iit-madras/DA6401_DL_Assignment1' target=\"_blank\">https://wandb.ai/cs24m021-iit-madras/DA6401_DL_Assignment1</a><br>Synced 5 W&B file(s), 0 media file(s), 0 artifact file(s) and 0 other file(s)"
      ],
      "text/plain": [
       "<IPython.core.display.HTML object>"
      ]
     },
     "metadata": {},
     "output_type": "display_data"
    },
    {
     "data": {
      "text/html": [
       "Find logs at: <code>./wandb/run-20250310_201442-pz6s8h6p/logs</code>"
      ],
      "text/plain": [
       "<IPython.core.display.HTML object>"
      ]
     },
     "metadata": {},
     "output_type": "display_data"
    },
    {
     "name": "stderr",
     "output_type": "stream",
     "text": [
      "\u001b[34m\u001b[1mwandb\u001b[0m: Agent Starting Run: rx7clsde with config:\n",
      "\u001b[34m\u001b[1mwandb\u001b[0m: \tactivation: ReLU\n",
      "\u001b[34m\u001b[1mwandb\u001b[0m: \tbatch_size: 32\n",
      "\u001b[34m\u001b[1mwandb\u001b[0m: \tdataset: fashion_mnist\n",
      "\u001b[34m\u001b[1mwandb\u001b[0m: \tepochs: 5\n",
      "\u001b[34m\u001b[1mwandb\u001b[0m: \thidden_layer_sizes: 32\n",
      "\u001b[34m\u001b[1mwandb\u001b[0m: \thidden_layers: 4\n",
      "\u001b[34m\u001b[1mwandb\u001b[0m: \tinitialization: random\n",
      "\u001b[34m\u001b[1mwandb\u001b[0m: \tlearning_rate: 0.001\n",
      "\u001b[34m\u001b[1mwandb\u001b[0m: \toptimizer: nadam\n",
      "\u001b[34m\u001b[1mwandb\u001b[0m: \tweight_decay: 0\n"
     ]
    },
    {
     "data": {
      "text/html": [
       "Ignoring project 'DA6401_DL_Assignment1' when running a sweep."
      ],
      "text/plain": [
       "<IPython.core.display.HTML object>"
      ]
     },
     "metadata": {},
     "output_type": "display_data"
    },
    {
     "data": {
      "text/html": [
       "Tracking run with wandb version 0.19.8"
      ],
      "text/plain": [
       "<IPython.core.display.HTML object>"
      ]
     },
     "metadata": {},
     "output_type": "display_data"
    },
    {
     "data": {
      "text/html": [
       "Run data is saved locally in <code>/home/ubuntu/wandb/run-20250310_201525-rx7clsde</code>"
      ],
      "text/plain": [
       "<IPython.core.display.HTML object>"
      ]
     },
     "metadata": {},
     "output_type": "display_data"
    },
    {
     "data": {
      "text/html": [
       "Syncing run <strong><a href='https://wandb.ai/cs24m021-iit-madras/DA6401_DL_Assignment1/runs/rx7clsde' target=\"_blank\">earthy-sweep-4</a></strong> to <a href='https://wandb.ai/cs24m021-iit-madras/DA6401_DL_Assignment1' target=\"_blank\">Weights & Biases</a> (<a href='https://wandb.me/developer-guide' target=\"_blank\">docs</a>)<br>Sweep page: <a href='https://wandb.ai/cs24m021-iit-madras/DA6401_DL_Assignment1/sweeps/6frmzevi' target=\"_blank\">https://wandb.ai/cs24m021-iit-madras/DA6401_DL_Assignment1/sweeps/6frmzevi</a>"
      ],
      "text/plain": [
       "<IPython.core.display.HTML object>"
      ]
     },
     "metadata": {},
     "output_type": "display_data"
    },
    {
     "data": {
      "text/html": [
       " View project at <a href='https://wandb.ai/cs24m021-iit-madras/DA6401_DL_Assignment1' target=\"_blank\">https://wandb.ai/cs24m021-iit-madras/DA6401_DL_Assignment1</a>"
      ],
      "text/plain": [
       "<IPython.core.display.HTML object>"
      ]
     },
     "metadata": {},
     "output_type": "display_data"
    },
    {
     "data": {
      "text/html": [
       " View sweep at <a href='https://wandb.ai/cs24m021-iit-madras/DA6401_DL_Assignment1/sweeps/6frmzevi' target=\"_blank\">https://wandb.ai/cs24m021-iit-madras/DA6401_DL_Assignment1/sweeps/6frmzevi</a>"
      ],
      "text/plain": [
       "<IPython.core.display.HTML object>"
      ]
     },
     "metadata": {},
     "output_type": "display_data"
    },
    {
     "data": {
      "text/html": [
       " View run at <a href='https://wandb.ai/cs24m021-iit-madras/DA6401_DL_Assignment1/runs/rx7clsde' target=\"_blank\">https://wandb.ai/cs24m021-iit-madras/DA6401_DL_Assignment1/runs/rx7clsde</a>"
      ],
      "text/plain": [
       "<IPython.core.display.HTML object>"
      ]
     },
     "metadata": {},
     "output_type": "display_data"
    },
    {
     "name": "stdout",
     "output_type": "stream",
     "text": [
      "Epoch 1: Train Loss=2.6911, Train Acc=21.59%, Val Loss=2.7549, Val Acc=21.62%\n",
      "Epoch 2: Train Loss=2.1592, Train Acc=19.15%, Val Loss=2.2025, Val Acc=19.48%\n",
      "Epoch 3: Train Loss=2.0064, Train Acc=19.81%, Val Loss=2.0051, Val Acc=20.43%\n",
      "Epoch 4: Train Loss=1.9213, Train Acc=20.73%, Val Loss=1.9298, Val Acc=21.08%\n",
      "Epoch 5: Train Loss=1.9512, Train Acc=22.22%, Val Loss=1.9952, Val Acc=22.53%\n",
      "Test Loss: 1.9776, Test Acc: 22.22%\n"
     ]
    },
    {
     "data": {
      "text/html": [],
      "text/plain": [
       "<IPython.core.display.HTML object>"
      ]
     },
     "metadata": {},
     "output_type": "display_data"
    },
    {
     "data": {
      "text/html": [
       "<br>    <style><br>        .wandb-row {<br>            display: flex;<br>            flex-direction: row;<br>            flex-wrap: wrap;<br>            justify-content: flex-start;<br>            width: 100%;<br>        }<br>        .wandb-col {<br>            display: flex;<br>            flex-direction: column;<br>            flex-basis: 100%;<br>            flex: 1;<br>            padding: 10px;<br>        }<br>    </style><br><div class=\"wandb-row\"><div class=\"wandb-col\"><h3>Run history:</h3><br/><table class=\"wandb\"><tr><td>epoch</td><td>▁▃▅▆█</td></tr><tr><td>test_accuracy</td><td>▁</td></tr><tr><td>train_acc</td><td>▇▁▃▅█</td></tr><tr><td>train_loss</td><td>█▃▂▁▁</td></tr><tr><td>val_acc</td><td>▆▁▃▅█</td></tr><tr><td>val_loss</td><td>█▃▂▁▂</td></tr></table><br/></div><div class=\"wandb-col\"><h3>Run summary:</h3><br/><table class=\"wandb\"><tr><td>epoch</td><td>5</td></tr><tr><td>test_accuracy</td><td>22.22</td></tr><tr><td>train_acc</td><td>22.22407</td></tr><tr><td>train_loss</td><td>1.95117</td></tr><tr><td>val_acc</td><td>22.53333</td></tr><tr><td>val_loss</td><td>1.99523</td></tr></table><br/></div></div>"
      ],
      "text/plain": [
       "<IPython.core.display.HTML object>"
      ]
     },
     "metadata": {},
     "output_type": "display_data"
    },
    {
     "data": {
      "text/html": [
       " View run <strong style=\"color:#cdcd00\">opt_nadam_hl_4_bs_32_e_5_act_ReLU_eta_0.001_init_random_hls_32_dataset_fashion_mnist_cross_entropy</strong> at: <a href='https://wandb.ai/cs24m021-iit-madras/DA6401_DL_Assignment1/runs/rx7clsde' target=\"_blank\">https://wandb.ai/cs24m021-iit-madras/DA6401_DL_Assignment1/runs/rx7clsde</a><br> View project at: <a href='https://wandb.ai/cs24m021-iit-madras/DA6401_DL_Assignment1' target=\"_blank\">https://wandb.ai/cs24m021-iit-madras/DA6401_DL_Assignment1</a><br>Synced 5 W&B file(s), 0 media file(s), 0 artifact file(s) and 0 other file(s)"
      ],
      "text/plain": [
       "<IPython.core.display.HTML object>"
      ]
     },
     "metadata": {},
     "output_type": "display_data"
    },
    {
     "data": {
      "text/html": [
       "Find logs at: <code>./wandb/run-20250310_201525-rx7clsde/logs</code>"
      ],
      "text/plain": [
       "<IPython.core.display.HTML object>"
      ]
     },
     "metadata": {},
     "output_type": "display_data"
    },
    {
     "name": "stderr",
     "output_type": "stream",
     "text": [
      "\u001b[34m\u001b[1mwandb\u001b[0m: Agent Starting Run: o020qo3n with config:\n",
      "\u001b[34m\u001b[1mwandb\u001b[0m: \tactivation: tanh\n",
      "\u001b[34m\u001b[1mwandb\u001b[0m: \tbatch_size: 64\n",
      "\u001b[34m\u001b[1mwandb\u001b[0m: \tdataset: fashion_mnist\n",
      "\u001b[34m\u001b[1mwandb\u001b[0m: \tepochs: 5\n",
      "\u001b[34m\u001b[1mwandb\u001b[0m: \thidden_layer_sizes: 128\n",
      "\u001b[34m\u001b[1mwandb\u001b[0m: \thidden_layers: 5\n",
      "\u001b[34m\u001b[1mwandb\u001b[0m: \tinitialization: random\n",
      "\u001b[34m\u001b[1mwandb\u001b[0m: \tlearning_rate: 0.001\n",
      "\u001b[34m\u001b[1mwandb\u001b[0m: \toptimizer: adam\n",
      "\u001b[34m\u001b[1mwandb\u001b[0m: \tweight_decay: 0.5\n"
     ]
    },
    {
     "data": {
      "text/html": [
       "Ignoring project 'DA6401_DL_Assignment1' when running a sweep."
      ],
      "text/plain": [
       "<IPython.core.display.HTML object>"
      ]
     },
     "metadata": {},
     "output_type": "display_data"
    },
    {
     "data": {
      "text/html": [
       "Tracking run with wandb version 0.19.8"
      ],
      "text/plain": [
       "<IPython.core.display.HTML object>"
      ]
     },
     "metadata": {},
     "output_type": "display_data"
    },
    {
     "data": {
      "text/html": [
       "Run data is saved locally in <code>/home/ubuntu/wandb/run-20250310_201542-o020qo3n</code>"
      ],
      "text/plain": [
       "<IPython.core.display.HTML object>"
      ]
     },
     "metadata": {},
     "output_type": "display_data"
    },
    {
     "data": {
      "text/html": [
       "Syncing run <strong><a href='https://wandb.ai/cs24m021-iit-madras/DA6401_DL_Assignment1/runs/o020qo3n' target=\"_blank\">misty-sweep-5</a></strong> to <a href='https://wandb.ai/cs24m021-iit-madras/DA6401_DL_Assignment1' target=\"_blank\">Weights & Biases</a> (<a href='https://wandb.me/developer-guide' target=\"_blank\">docs</a>)<br>Sweep page: <a href='https://wandb.ai/cs24m021-iit-madras/DA6401_DL_Assignment1/sweeps/6frmzevi' target=\"_blank\">https://wandb.ai/cs24m021-iit-madras/DA6401_DL_Assignment1/sweeps/6frmzevi</a>"
      ],
      "text/plain": [
       "<IPython.core.display.HTML object>"
      ]
     },
     "metadata": {},
     "output_type": "display_data"
    },
    {
     "data": {
      "text/html": [
       " View project at <a href='https://wandb.ai/cs24m021-iit-madras/DA6401_DL_Assignment1' target=\"_blank\">https://wandb.ai/cs24m021-iit-madras/DA6401_DL_Assignment1</a>"
      ],
      "text/plain": [
       "<IPython.core.display.HTML object>"
      ]
     },
     "metadata": {},
     "output_type": "display_data"
    },
    {
     "data": {
      "text/html": [
       " View sweep at <a href='https://wandb.ai/cs24m021-iit-madras/DA6401_DL_Assignment1/sweeps/6frmzevi' target=\"_blank\">https://wandb.ai/cs24m021-iit-madras/DA6401_DL_Assignment1/sweeps/6frmzevi</a>"
      ],
      "text/plain": [
       "<IPython.core.display.HTML object>"
      ]
     },
     "metadata": {},
     "output_type": "display_data"
    },
    {
     "data": {
      "text/html": [
       " View run at <a href='https://wandb.ai/cs24m021-iit-madras/DA6401_DL_Assignment1/runs/o020qo3n' target=\"_blank\">https://wandb.ai/cs24m021-iit-madras/DA6401_DL_Assignment1/runs/o020qo3n</a>"
      ],
      "text/plain": [
       "<IPython.core.display.HTML object>"
      ]
     },
     "metadata": {},
     "output_type": "display_data"
    },
    {
     "name": "stdout",
     "output_type": "stream",
     "text": [
      "Epoch 1: Train Loss=4.5788, Train Acc=26.91%, Val Loss=4.6382, Val Acc=26.70%\n",
      "Epoch 2: Train Loss=1.8711, Train Acc=44.43%, Val Loss=1.9060, Val Acc=44.18%\n",
      "Epoch 3: Train Loss=1.1241, Train Acc=62.92%, Val Loss=1.1266, Val Acc=62.37%\n",
      "Epoch 4: Train Loss=1.1378, Train Acc=68.74%, Val Loss=1.1447, Val Acc=68.20%\n",
      "Epoch 5: Train Loss=1.5696, Train Acc=60.56%, Val Loss=1.5728, Val Acc=60.28%\n",
      "Test Loss: 1.5732, Test Acc: 60.54%\n"
     ]
    },
    {
     "data": {
      "text/html": [],
      "text/plain": [
       "<IPython.core.display.HTML object>"
      ]
     },
     "metadata": {},
     "output_type": "display_data"
    },
    {
     "data": {
      "text/html": [
       "<br>    <style><br>        .wandb-row {<br>            display: flex;<br>            flex-direction: row;<br>            flex-wrap: wrap;<br>            justify-content: flex-start;<br>            width: 100%;<br>        }<br>        .wandb-col {<br>            display: flex;<br>            flex-direction: column;<br>            flex-basis: 100%;<br>            flex: 1;<br>            padding: 10px;<br>        }<br>    </style><br><div class=\"wandb-row\"><div class=\"wandb-col\"><h3>Run history:</h3><br/><table class=\"wandb\"><tr><td>epoch</td><td>▁▃▅▆█</td></tr><tr><td>test_accuracy</td><td>▁</td></tr><tr><td>train_acc</td><td>▁▄▇█▇</td></tr><tr><td>train_loss</td><td>█▃▁▁▂</td></tr><tr><td>val_acc</td><td>▁▄▇█▇</td></tr><tr><td>val_loss</td><td>█▃▁▁▂</td></tr></table><br/></div><div class=\"wandb-col\"><h3>Run summary:</h3><br/><table class=\"wandb\"><tr><td>epoch</td><td>5</td></tr><tr><td>test_accuracy</td><td>60.54</td></tr><tr><td>train_acc</td><td>60.56296</td></tr><tr><td>train_loss</td><td>1.56956</td></tr><tr><td>val_acc</td><td>60.28333</td></tr><tr><td>val_loss</td><td>1.57281</td></tr></table><br/></div></div>"
      ],
      "text/plain": [
       "<IPython.core.display.HTML object>"
      ]
     },
     "metadata": {},
     "output_type": "display_data"
    },
    {
     "data": {
      "text/html": [
       " View run <strong style=\"color:#cdcd00\">opt_adam_hl_5_bs_64_e_5_act_tanh_eta_0.001_init_random_hls_128_dataset_fashion_mnist_cross_entropy</strong> at: <a href='https://wandb.ai/cs24m021-iit-madras/DA6401_DL_Assignment1/runs/o020qo3n' target=\"_blank\">https://wandb.ai/cs24m021-iit-madras/DA6401_DL_Assignment1/runs/o020qo3n</a><br> View project at: <a href='https://wandb.ai/cs24m021-iit-madras/DA6401_DL_Assignment1' target=\"_blank\">https://wandb.ai/cs24m021-iit-madras/DA6401_DL_Assignment1</a><br>Synced 5 W&B file(s), 0 media file(s), 0 artifact file(s) and 0 other file(s)"
      ],
      "text/plain": [
       "<IPython.core.display.HTML object>"
      ]
     },
     "metadata": {},
     "output_type": "display_data"
    },
    {
     "data": {
      "text/html": [
       "Find logs at: <code>./wandb/run-20250310_201542-o020qo3n/logs</code>"
      ],
      "text/plain": [
       "<IPython.core.display.HTML object>"
      ]
     },
     "metadata": {},
     "output_type": "display_data"
    },
    {
     "name": "stderr",
     "output_type": "stream",
     "text": [
      "\u001b[34m\u001b[1mwandb\u001b[0m: Sweep Agent: Waiting for job.\n",
      "\u001b[34m\u001b[1mwandb\u001b[0m: Job received.\n",
      "\u001b[34m\u001b[1mwandb\u001b[0m: Agent Starting Run: 9lpoh8a9 with config:\n",
      "\u001b[34m\u001b[1mwandb\u001b[0m: \tactivation: ReLU\n",
      "\u001b[34m\u001b[1mwandb\u001b[0m: \tbatch_size: 64\n",
      "\u001b[34m\u001b[1mwandb\u001b[0m: \tdataset: fashion_mnist\n",
      "\u001b[34m\u001b[1mwandb\u001b[0m: \tepochs: 10\n",
      "\u001b[34m\u001b[1mwandb\u001b[0m: \thidden_layer_sizes: 128\n",
      "\u001b[34m\u001b[1mwandb\u001b[0m: \thidden_layers: 3\n",
      "\u001b[34m\u001b[1mwandb\u001b[0m: \tinitialization: random\n",
      "\u001b[34m\u001b[1mwandb\u001b[0m: \tlearning_rate: 0.0001\n",
      "\u001b[34m\u001b[1mwandb\u001b[0m: \toptimizer: adam\n",
      "\u001b[34m\u001b[1mwandb\u001b[0m: \tweight_decay: 0.0005\n"
     ]
    },
    {
     "data": {
      "text/html": [
       "Ignoring project 'DA6401_DL_Assignment1' when running a sweep."
      ],
      "text/plain": [
       "<IPython.core.display.HTML object>"
      ]
     },
     "metadata": {},
     "output_type": "display_data"
    },
    {
     "data": {
      "text/html": [
       "Tracking run with wandb version 0.19.8"
      ],
      "text/plain": [
       "<IPython.core.display.HTML object>"
      ]
     },
     "metadata": {},
     "output_type": "display_data"
    },
    {
     "data": {
      "text/html": [
       "Run data is saved locally in <code>/home/ubuntu/wandb/run-20250310_201630-9lpoh8a9</code>"
      ],
      "text/plain": [
       "<IPython.core.display.HTML object>"
      ]
     },
     "metadata": {},
     "output_type": "display_data"
    },
    {
     "data": {
      "text/html": [
       "Syncing run <strong><a href='https://wandb.ai/cs24m021-iit-madras/DA6401_DL_Assignment1/runs/9lpoh8a9' target=\"_blank\">summer-sweep-6</a></strong> to <a href='https://wandb.ai/cs24m021-iit-madras/DA6401_DL_Assignment1' target=\"_blank\">Weights & Biases</a> (<a href='https://wandb.me/developer-guide' target=\"_blank\">docs</a>)<br>Sweep page: <a href='https://wandb.ai/cs24m021-iit-madras/DA6401_DL_Assignment1/sweeps/6frmzevi' target=\"_blank\">https://wandb.ai/cs24m021-iit-madras/DA6401_DL_Assignment1/sweeps/6frmzevi</a>"
      ],
      "text/plain": [
       "<IPython.core.display.HTML object>"
      ]
     },
     "metadata": {},
     "output_type": "display_data"
    },
    {
     "data": {
      "text/html": [
       " View project at <a href='https://wandb.ai/cs24m021-iit-madras/DA6401_DL_Assignment1' target=\"_blank\">https://wandb.ai/cs24m021-iit-madras/DA6401_DL_Assignment1</a>"
      ],
      "text/plain": [
       "<IPython.core.display.HTML object>"
      ]
     },
     "metadata": {},
     "output_type": "display_data"
    },
    {
     "data": {
      "text/html": [
       " View sweep at <a href='https://wandb.ai/cs24m021-iit-madras/DA6401_DL_Assignment1/sweeps/6frmzevi' target=\"_blank\">https://wandb.ai/cs24m021-iit-madras/DA6401_DL_Assignment1/sweeps/6frmzevi</a>"
      ],
      "text/plain": [
       "<IPython.core.display.HTML object>"
      ]
     },
     "metadata": {},
     "output_type": "display_data"
    },
    {
     "data": {
      "text/html": [
       " View run at <a href='https://wandb.ai/cs24m021-iit-madras/DA6401_DL_Assignment1/runs/9lpoh8a9' target=\"_blank\">https://wandb.ai/cs24m021-iit-madras/DA6401_DL_Assignment1/runs/9lpoh8a9</a>"
      ],
      "text/plain": [
       "<IPython.core.display.HTML object>"
      ]
     },
     "metadata": {},
     "output_type": "display_data"
    },
    {
     "name": "stdout",
     "output_type": "stream",
     "text": [
      "Epoch 1: Train Loss=16.0969, Train Acc=53.09%, Val Loss=16.5060, Val Acc=51.83%\n",
      "Epoch 2: Train Loss=13.2062, Train Acc=61.45%, Val Loss=13.4456, Val Acc=60.73%\n",
      "Epoch 3: Train Loss=11.9258, Train Acc=65.14%, Val Loss=12.2332, Val Acc=64.30%\n",
      "Epoch 4: Train Loss=11.1267, Train Acc=67.47%, Val Loss=11.4576, Val Acc=66.52%\n",
      "Epoch 5: Train Loss=10.5705, Train Acc=69.05%, Val Loss=10.8809, Val Acc=68.10%\n",
      "Epoch 6: Train Loss=10.1982, Train Acc=70.14%, Val Loss=10.5405, Val Acc=69.08%\n",
      "Epoch 7: Train Loss=9.8415, Train Acc=71.16%, Val Loss=10.2171, Val Acc=69.98%\n",
      "Epoch 8: Train Loss=9.4941, Train Acc=72.12%, Val Loss=9.8954, Val Acc=70.97%\n",
      "Epoch 9: Train Loss=9.1904, Train Acc=72.98%, Val Loss=9.5626, Val Acc=71.95%\n",
      "Epoch 10: Train Loss=8.9663, Train Acc=73.59%, Val Loss=9.3928, Val Acc=72.48%\n",
      "Test Loss: 9.3259, Test Acc: 72.50%\n"
     ]
    },
    {
     "data": {
      "text/html": [],
      "text/plain": [
       "<IPython.core.display.HTML object>"
      ]
     },
     "metadata": {},
     "output_type": "display_data"
    },
    {
     "data": {
      "text/html": [
       "<br>    <style><br>        .wandb-row {<br>            display: flex;<br>            flex-direction: row;<br>            flex-wrap: wrap;<br>            justify-content: flex-start;<br>            width: 100%;<br>        }<br>        .wandb-col {<br>            display: flex;<br>            flex-direction: column;<br>            flex-basis: 100%;<br>            flex: 1;<br>            padding: 10px;<br>        }<br>    </style><br><div class=\"wandb-row\"><div class=\"wandb-col\"><h3>Run history:</h3><br/><table class=\"wandb\"><tr><td>epoch</td><td>▁▂▃▃▄▅▆▆▇█</td></tr><tr><td>test_accuracy</td><td>▁</td></tr><tr><td>train_acc</td><td>▁▄▅▆▆▇▇▇██</td></tr><tr><td>train_loss</td><td>█▅▄▃▃▂▂▂▁▁</td></tr><tr><td>val_acc</td><td>▁▄▅▆▇▇▇▇██</td></tr><tr><td>val_loss</td><td>█▅▄▃▂▂▂▁▁▁</td></tr></table><br/></div><div class=\"wandb-col\"><h3>Run summary:</h3><br/><table class=\"wandb\"><tr><td>epoch</td><td>10</td></tr><tr><td>test_accuracy</td><td>72.5</td></tr><tr><td>train_acc</td><td>73.58889</td></tr><tr><td>train_loss</td><td>8.9663</td></tr><tr><td>val_acc</td><td>72.48333</td></tr><tr><td>val_loss</td><td>9.39285</td></tr></table><br/></div></div>"
      ],
      "text/plain": [
       "<IPython.core.display.HTML object>"
      ]
     },
     "metadata": {},
     "output_type": "display_data"
    },
    {
     "data": {
      "text/html": [
       " View run <strong style=\"color:#cdcd00\">opt_adam_hl_3_bs_64_e_10_act_ReLU_eta_0.0001_init_random_hls_128_dataset_fashion_mnist_cross_entropy</strong> at: <a href='https://wandb.ai/cs24m021-iit-madras/DA6401_DL_Assignment1/runs/9lpoh8a9' target=\"_blank\">https://wandb.ai/cs24m021-iit-madras/DA6401_DL_Assignment1/runs/9lpoh8a9</a><br> View project at: <a href='https://wandb.ai/cs24m021-iit-madras/DA6401_DL_Assignment1' target=\"_blank\">https://wandb.ai/cs24m021-iit-madras/DA6401_DL_Assignment1</a><br>Synced 5 W&B file(s), 0 media file(s), 0 artifact file(s) and 0 other file(s)"
      ],
      "text/plain": [
       "<IPython.core.display.HTML object>"
      ]
     },
     "metadata": {},
     "output_type": "display_data"
    },
    {
     "data": {
      "text/html": [
       "Find logs at: <code>./wandb/run-20250310_201630-9lpoh8a9/logs</code>"
      ],
      "text/plain": [
       "<IPython.core.display.HTML object>"
      ]
     },
     "metadata": {},
     "output_type": "display_data"
    },
    {
     "name": "stderr",
     "output_type": "stream",
     "text": [
      "\u001b[34m\u001b[1mwandb\u001b[0m: Agent Starting Run: 68b7qcaw with config:\n",
      "\u001b[34m\u001b[1mwandb\u001b[0m: \tactivation: ReLU\n",
      "\u001b[34m\u001b[1mwandb\u001b[0m: \tbatch_size: 64\n",
      "\u001b[34m\u001b[1mwandb\u001b[0m: \tdataset: fashion_mnist\n",
      "\u001b[34m\u001b[1mwandb\u001b[0m: \tepochs: 10\n",
      "\u001b[34m\u001b[1mwandb\u001b[0m: \thidden_layer_sizes: 128\n",
      "\u001b[34m\u001b[1mwandb\u001b[0m: \thidden_layers: 5\n",
      "\u001b[34m\u001b[1mwandb\u001b[0m: \tinitialization: Xavier\n",
      "\u001b[34m\u001b[1mwandb\u001b[0m: \tlearning_rate: 0.001\n",
      "\u001b[34m\u001b[1mwandb\u001b[0m: \toptimizer: adam\n",
      "\u001b[34m\u001b[1mwandb\u001b[0m: \tweight_decay: 0.5\n"
     ]
    },
    {
     "data": {
      "text/html": [
       "Ignoring project 'DA6401_DL_Assignment1' when running a sweep."
      ],
      "text/plain": [
       "<IPython.core.display.HTML object>"
      ]
     },
     "metadata": {},
     "output_type": "display_data"
    },
    {
     "data": {
      "text/html": [
       "Tracking run with wandb version 0.19.8"
      ],
      "text/plain": [
       "<IPython.core.display.HTML object>"
      ]
     },
     "metadata": {},
     "output_type": "display_data"
    },
    {
     "data": {
      "text/html": [
       "Run data is saved locally in <code>/home/ubuntu/wandb/run-20250310_201728-68b7qcaw</code>"
      ],
      "text/plain": [
       "<IPython.core.display.HTML object>"
      ]
     },
     "metadata": {},
     "output_type": "display_data"
    },
    {
     "data": {
      "text/html": [
       "Syncing run <strong><a href='https://wandb.ai/cs24m021-iit-madras/DA6401_DL_Assignment1/runs/68b7qcaw' target=\"_blank\">helpful-sweep-7</a></strong> to <a href='https://wandb.ai/cs24m021-iit-madras/DA6401_DL_Assignment1' target=\"_blank\">Weights & Biases</a> (<a href='https://wandb.me/developer-guide' target=\"_blank\">docs</a>)<br>Sweep page: <a href='https://wandb.ai/cs24m021-iit-madras/DA6401_DL_Assignment1/sweeps/6frmzevi' target=\"_blank\">https://wandb.ai/cs24m021-iit-madras/DA6401_DL_Assignment1/sweeps/6frmzevi</a>"
      ],
      "text/plain": [
       "<IPython.core.display.HTML object>"
      ]
     },
     "metadata": {},
     "output_type": "display_data"
    },
    {
     "data": {
      "text/html": [
       " View project at <a href='https://wandb.ai/cs24m021-iit-madras/DA6401_DL_Assignment1' target=\"_blank\">https://wandb.ai/cs24m021-iit-madras/DA6401_DL_Assignment1</a>"
      ],
      "text/plain": [
       "<IPython.core.display.HTML object>"
      ]
     },
     "metadata": {},
     "output_type": "display_data"
    },
    {
     "data": {
      "text/html": [
       " View sweep at <a href='https://wandb.ai/cs24m021-iit-madras/DA6401_DL_Assignment1/sweeps/6frmzevi' target=\"_blank\">https://wandb.ai/cs24m021-iit-madras/DA6401_DL_Assignment1/sweeps/6frmzevi</a>"
      ],
      "text/plain": [
       "<IPython.core.display.HTML object>"
      ]
     },
     "metadata": {},
     "output_type": "display_data"
    },
    {
     "data": {
      "text/html": [
       " View run at <a href='https://wandb.ai/cs24m021-iit-madras/DA6401_DL_Assignment1/runs/68b7qcaw' target=\"_blank\">https://wandb.ai/cs24m021-iit-madras/DA6401_DL_Assignment1/runs/68b7qcaw</a>"
      ],
      "text/plain": [
       "<IPython.core.display.HTML object>"
      ]
     },
     "metadata": {},
     "output_type": "display_data"
    },
    {
     "name": "stdout",
     "output_type": "stream",
     "text": [
      "Epoch 1: Train Loss=2.3070, Train Acc=10.05%, Val Loss=2.3074, Val Acc=9.58%\n",
      "Epoch 2: Train Loss=2.3044, Train Acc=10.05%, Val Loss=2.3045, Val Acc=9.58%\n",
      "Epoch 3: Train Loss=2.3038, Train Acc=10.05%, Val Loss=2.3037, Val Acc=9.58%\n",
      "Epoch 4: Train Loss=2.3035, Train Acc=9.99%, Val Loss=2.3034, Val Acc=10.12%\n",
      "Epoch 5: Train Loss=2.3033, Train Acc=9.99%, Val Loss=2.3032, Val Acc=10.12%\n",
      "Epoch 6: Train Loss=2.3031, Train Acc=9.99%, Val Loss=2.3031, Val Acc=10.12%\n",
      "Epoch 7: Train Loss=2.3029, Train Acc=9.99%, Val Loss=2.3030, Val Acc=10.12%\n",
      "Epoch 8: Train Loss=2.3028, Train Acc=9.99%, Val Loss=2.3029, Val Acc=10.12%\n",
      "Epoch 9: Train Loss=2.3027, Train Acc=9.99%, Val Loss=2.3028, Val Acc=10.12%\n",
      "Epoch 10: Train Loss=2.3027, Train Acc=9.99%, Val Loss=2.3028, Val Acc=10.12%\n",
      "Test Loss: 2.3027, Test Acc: 10.00%\n"
     ]
    },
    {
     "data": {
      "text/html": [],
      "text/plain": [
       "<IPython.core.display.HTML object>"
      ]
     },
     "metadata": {},
     "output_type": "display_data"
    },
    {
     "data": {
      "text/html": [
       "<br>    <style><br>        .wandb-row {<br>            display: flex;<br>            flex-direction: row;<br>            flex-wrap: wrap;<br>            justify-content: flex-start;<br>            width: 100%;<br>        }<br>        .wandb-col {<br>            display: flex;<br>            flex-direction: column;<br>            flex-basis: 100%;<br>            flex: 1;<br>            padding: 10px;<br>        }<br>    </style><br><div class=\"wandb-row\"><div class=\"wandb-col\"><h3>Run history:</h3><br/><table class=\"wandb\"><tr><td>epoch</td><td>▁▂▃▃▄▅▆▆▇█</td></tr><tr><td>test_accuracy</td><td>▁</td></tr><tr><td>train_acc</td><td>███▁▁▁▁▁▁▁</td></tr><tr><td>train_loss</td><td>█▄▃▂▂▂▁▁▁▁</td></tr><tr><td>val_acc</td><td>▁▁▁███████</td></tr><tr><td>val_loss</td><td>█▄▂▂▂▁▁▁▁▁</td></tr></table><br/></div><div class=\"wandb-col\"><h3>Run summary:</h3><br/><table class=\"wandb\"><tr><td>epoch</td><td>10</td></tr><tr><td>test_accuracy</td><td>10</td></tr><tr><td>train_acc</td><td>9.98704</td></tr><tr><td>train_loss</td><td>2.30267</td></tr><tr><td>val_acc</td><td>10.11667</td></tr><tr><td>val_loss</td><td>2.3028</td></tr></table><br/></div></div>"
      ],
      "text/plain": [
       "<IPython.core.display.HTML object>"
      ]
     },
     "metadata": {},
     "output_type": "display_data"
    },
    {
     "data": {
      "text/html": [
       " View run <strong style=\"color:#cdcd00\">opt_adam_hl_5_bs_64_e_10_act_ReLU_eta_0.001_init_Xavier_hls_128_dataset_fashion_mnist_cross_entropy</strong> at: <a href='https://wandb.ai/cs24m021-iit-madras/DA6401_DL_Assignment1/runs/68b7qcaw' target=\"_blank\">https://wandb.ai/cs24m021-iit-madras/DA6401_DL_Assignment1/runs/68b7qcaw</a><br> View project at: <a href='https://wandb.ai/cs24m021-iit-madras/DA6401_DL_Assignment1' target=\"_blank\">https://wandb.ai/cs24m021-iit-madras/DA6401_DL_Assignment1</a><br>Synced 5 W&B file(s), 0 media file(s), 0 artifact file(s) and 0 other file(s)"
      ],
      "text/plain": [
       "<IPython.core.display.HTML object>"
      ]
     },
     "metadata": {},
     "output_type": "display_data"
    },
    {
     "data": {
      "text/html": [
       "Find logs at: <code>./wandb/run-20250310_201728-68b7qcaw/logs</code>"
      ],
      "text/plain": [
       "<IPython.core.display.HTML object>"
      ]
     },
     "metadata": {},
     "output_type": "display_data"
    },
    {
     "name": "stderr",
     "output_type": "stream",
     "text": [
      "\u001b[34m\u001b[1mwandb\u001b[0m: Agent Starting Run: o55f6n4n with config:\n",
      "\u001b[34m\u001b[1mwandb\u001b[0m: \tactivation: sigmoid\n",
      "\u001b[34m\u001b[1mwandb\u001b[0m: \tbatch_size: 16\n",
      "\u001b[34m\u001b[1mwandb\u001b[0m: \tdataset: fashion_mnist\n",
      "\u001b[34m\u001b[1mwandb\u001b[0m: \tepochs: 10\n",
      "\u001b[34m\u001b[1mwandb\u001b[0m: \thidden_layer_sizes: 128\n",
      "\u001b[34m\u001b[1mwandb\u001b[0m: \thidden_layers: 4\n",
      "\u001b[34m\u001b[1mwandb\u001b[0m: \tinitialization: random\n",
      "\u001b[34m\u001b[1mwandb\u001b[0m: \tlearning_rate: 0.0001\n",
      "\u001b[34m\u001b[1mwandb\u001b[0m: \toptimizer: momentum\n",
      "\u001b[34m\u001b[1mwandb\u001b[0m: \tweight_decay: 0.0005\n"
     ]
    },
    {
     "data": {
      "text/html": [
       "Ignoring project 'DA6401_DL_Assignment1' when running a sweep."
      ],
      "text/plain": [
       "<IPython.core.display.HTML object>"
      ]
     },
     "metadata": {},
     "output_type": "display_data"
    },
    {
     "data": {
      "text/html": [
       "Tracking run with wandb version 0.19.8"
      ],
      "text/plain": [
       "<IPython.core.display.HTML object>"
      ]
     },
     "metadata": {},
     "output_type": "display_data"
    },
    {
     "data": {
      "text/html": [
       "Run data is saved locally in <code>/home/ubuntu/wandb/run-20250310_201842-o55f6n4n</code>"
      ],
      "text/plain": [
       "<IPython.core.display.HTML object>"
      ]
     },
     "metadata": {},
     "output_type": "display_data"
    },
    {
     "data": {
      "text/html": [
       "Syncing run <strong><a href='https://wandb.ai/cs24m021-iit-madras/DA6401_DL_Assignment1/runs/o55f6n4n' target=\"_blank\">good-sweep-8</a></strong> to <a href='https://wandb.ai/cs24m021-iit-madras/DA6401_DL_Assignment1' target=\"_blank\">Weights & Biases</a> (<a href='https://wandb.me/developer-guide' target=\"_blank\">docs</a>)<br>Sweep page: <a href='https://wandb.ai/cs24m021-iit-madras/DA6401_DL_Assignment1/sweeps/6frmzevi' target=\"_blank\">https://wandb.ai/cs24m021-iit-madras/DA6401_DL_Assignment1/sweeps/6frmzevi</a>"
      ],
      "text/plain": [
       "<IPython.core.display.HTML object>"
      ]
     },
     "metadata": {},
     "output_type": "display_data"
    },
    {
     "data": {
      "text/html": [
       " View project at <a href='https://wandb.ai/cs24m021-iit-madras/DA6401_DL_Assignment1' target=\"_blank\">https://wandb.ai/cs24m021-iit-madras/DA6401_DL_Assignment1</a>"
      ],
      "text/plain": [
       "<IPython.core.display.HTML object>"
      ]
     },
     "metadata": {},
     "output_type": "display_data"
    },
    {
     "data": {
      "text/html": [
       " View sweep at <a href='https://wandb.ai/cs24m021-iit-madras/DA6401_DL_Assignment1/sweeps/6frmzevi' target=\"_blank\">https://wandb.ai/cs24m021-iit-madras/DA6401_DL_Assignment1/sweeps/6frmzevi</a>"
      ],
      "text/plain": [
       "<IPython.core.display.HTML object>"
      ]
     },
     "metadata": {},
     "output_type": "display_data"
    },
    {
     "data": {
      "text/html": [
       " View run at <a href='https://wandb.ai/cs24m021-iit-madras/DA6401_DL_Assignment1/runs/o55f6n4n' target=\"_blank\">https://wandb.ai/cs24m021-iit-madras/DA6401_DL_Assignment1/runs/o55f6n4n</a>"
      ],
      "text/plain": [
       "<IPython.core.display.HTML object>"
      ]
     },
     "metadata": {},
     "output_type": "display_data"
    },
    {
     "name": "stdout",
     "output_type": "stream",
     "text": [
      "Epoch 1: Train Loss=1.5766, Train Acc=45.84%, Val Loss=1.5834, Val Acc=45.87%\n",
      "Epoch 2: Train Loss=1.2837, Train Acc=55.09%, Val Loss=1.2869, Val Acc=54.23%\n",
      "Epoch 3: Train Loss=1.1483, Train Acc=59.47%, Val Loss=1.1506, Val Acc=58.85%\n",
      "Epoch 4: Train Loss=1.0650, Train Acc=62.15%, Val Loss=1.0681, Val Acc=61.73%\n",
      "Epoch 5: Train Loss=1.0058, Train Acc=64.17%, Val Loss=1.0102, Val Acc=63.37%\n",
      "Epoch 6: Train Loss=0.9604, Train Acc=65.79%, Val Loss=0.9659, Val Acc=65.37%\n",
      "Epoch 7: Train Loss=0.9238, Train Acc=67.06%, Val Loss=0.9307, Val Acc=66.67%\n",
      "Epoch 8: Train Loss=0.8934, Train Acc=68.21%, Val Loss=0.9019, Val Acc=67.40%\n",
      "Epoch 9: Train Loss=0.8678, Train Acc=69.04%, Val Loss=0.8780, Val Acc=68.20%\n",
      "Epoch 10: Train Loss=0.8458, Train Acc=69.78%, Val Loss=0.8576, Val Acc=69.13%\n",
      "Test Loss: 0.8660, Test Acc: 69.13%\n"
     ]
    },
    {
     "data": {
      "text/html": [],
      "text/plain": [
       "<IPython.core.display.HTML object>"
      ]
     },
     "metadata": {},
     "output_type": "display_data"
    },
    {
     "data": {
      "text/html": [
       "<br>    <style><br>        .wandb-row {<br>            display: flex;<br>            flex-direction: row;<br>            flex-wrap: wrap;<br>            justify-content: flex-start;<br>            width: 100%;<br>        }<br>        .wandb-col {<br>            display: flex;<br>            flex-direction: column;<br>            flex-basis: 100%;<br>            flex: 1;<br>            padding: 10px;<br>        }<br>    </style><br><div class=\"wandb-row\"><div class=\"wandb-col\"><h3>Run history:</h3><br/><table class=\"wandb\"><tr><td>epoch</td><td>▁▂▃▃▄▅▆▆▇█</td></tr><tr><td>test_accuracy</td><td>▁</td></tr><tr><td>train_acc</td><td>▁▄▅▆▆▇▇███</td></tr><tr><td>train_loss</td><td>█▅▄▃▃▂▂▁▁▁</td></tr><tr><td>val_acc</td><td>▁▄▅▆▆▇▇▇██</td></tr><tr><td>val_loss</td><td>█▅▄▃▂▂▂▁▁▁</td></tr></table><br/></div><div class=\"wandb-col\"><h3>Run summary:</h3><br/><table class=\"wandb\"><tr><td>epoch</td><td>10</td></tr><tr><td>test_accuracy</td><td>69.13</td></tr><tr><td>train_acc</td><td>69.77593</td></tr><tr><td>train_loss</td><td>0.84577</td></tr><tr><td>val_acc</td><td>69.13333</td></tr><tr><td>val_loss</td><td>0.85759</td></tr></table><br/></div></div>"
      ],
      "text/plain": [
       "<IPython.core.display.HTML object>"
      ]
     },
     "metadata": {},
     "output_type": "display_data"
    },
    {
     "data": {
      "text/html": [
       " View run <strong style=\"color:#cdcd00\">opt_momentum_hl_4_bs_16_e_10_act_sigmoid_eta_0.0001_init_random_hls_128_dataset_fashion_mnist_cross_entropy</strong> at: <a href='https://wandb.ai/cs24m021-iit-madras/DA6401_DL_Assignment1/runs/o55f6n4n' target=\"_blank\">https://wandb.ai/cs24m021-iit-madras/DA6401_DL_Assignment1/runs/o55f6n4n</a><br> View project at: <a href='https://wandb.ai/cs24m021-iit-madras/DA6401_DL_Assignment1' target=\"_blank\">https://wandb.ai/cs24m021-iit-madras/DA6401_DL_Assignment1</a><br>Synced 5 W&B file(s), 0 media file(s), 0 artifact file(s) and 0 other file(s)"
      ],
      "text/plain": [
       "<IPython.core.display.HTML object>"
      ]
     },
     "metadata": {},
     "output_type": "display_data"
    },
    {
     "data": {
      "text/html": [
       "Find logs at: <code>./wandb/run-20250310_201842-o55f6n4n/logs</code>"
      ],
      "text/plain": [
       "<IPython.core.display.HTML object>"
      ]
     },
     "metadata": {},
     "output_type": "display_data"
    },
    {
     "name": "stderr",
     "output_type": "stream",
     "text": [
      "\u001b[34m\u001b[1mwandb\u001b[0m: Agent Starting Run: 22f5or5c with config:\n",
      "\u001b[34m\u001b[1mwandb\u001b[0m: \tactivation: sigmoid\n",
      "\u001b[34m\u001b[1mwandb\u001b[0m: \tbatch_size: 64\n",
      "\u001b[34m\u001b[1mwandb\u001b[0m: \tdataset: fashion_mnist\n",
      "\u001b[34m\u001b[1mwandb\u001b[0m: \tepochs: 5\n",
      "\u001b[34m\u001b[1mwandb\u001b[0m: \thidden_layer_sizes: 32\n",
      "\u001b[34m\u001b[1mwandb\u001b[0m: \thidden_layers: 5\n",
      "\u001b[34m\u001b[1mwandb\u001b[0m: \tinitialization: random\n",
      "\u001b[34m\u001b[1mwandb\u001b[0m: \tlearning_rate: 0.001\n",
      "\u001b[34m\u001b[1mwandb\u001b[0m: \toptimizer: momentum\n",
      "\u001b[34m\u001b[1mwandb\u001b[0m: \tweight_decay: 0\n"
     ]
    },
    {
     "data": {
      "text/html": [
       "Ignoring project 'DA6401_DL_Assignment1' when running a sweep."
      ],
      "text/plain": [
       "<IPython.core.display.HTML object>"
      ]
     },
     "metadata": {},
     "output_type": "display_data"
    },
    {
     "data": {
      "text/html": [
       "Tracking run with wandb version 0.19.8"
      ],
      "text/plain": [
       "<IPython.core.display.HTML object>"
      ]
     },
     "metadata": {},
     "output_type": "display_data"
    },
    {
     "data": {
      "text/html": [
       "Run data is saved locally in <code>/home/ubuntu/wandb/run-20250310_202105-22f5or5c</code>"
      ],
      "text/plain": [
       "<IPython.core.display.HTML object>"
      ]
     },
     "metadata": {},
     "output_type": "display_data"
    },
    {
     "data": {
      "text/html": [
       "Syncing run <strong><a href='https://wandb.ai/cs24m021-iit-madras/DA6401_DL_Assignment1/runs/22f5or5c' target=\"_blank\">stellar-sweep-9</a></strong> to <a href='https://wandb.ai/cs24m021-iit-madras/DA6401_DL_Assignment1' target=\"_blank\">Weights & Biases</a> (<a href='https://wandb.me/developer-guide' target=\"_blank\">docs</a>)<br>Sweep page: <a href='https://wandb.ai/cs24m021-iit-madras/DA6401_DL_Assignment1/sweeps/6frmzevi' target=\"_blank\">https://wandb.ai/cs24m021-iit-madras/DA6401_DL_Assignment1/sweeps/6frmzevi</a>"
      ],
      "text/plain": [
       "<IPython.core.display.HTML object>"
      ]
     },
     "metadata": {},
     "output_type": "display_data"
    },
    {
     "data": {
      "text/html": [
       " View project at <a href='https://wandb.ai/cs24m021-iit-madras/DA6401_DL_Assignment1' target=\"_blank\">https://wandb.ai/cs24m021-iit-madras/DA6401_DL_Assignment1</a>"
      ],
      "text/plain": [
       "<IPython.core.display.HTML object>"
      ]
     },
     "metadata": {},
     "output_type": "display_data"
    },
    {
     "data": {
      "text/html": [
       " View sweep at <a href='https://wandb.ai/cs24m021-iit-madras/DA6401_DL_Assignment1/sweeps/6frmzevi' target=\"_blank\">https://wandb.ai/cs24m021-iit-madras/DA6401_DL_Assignment1/sweeps/6frmzevi</a>"
      ],
      "text/plain": [
       "<IPython.core.display.HTML object>"
      ]
     },
     "metadata": {},
     "output_type": "display_data"
    },
    {
     "data": {
      "text/html": [
       " View run at <a href='https://wandb.ai/cs24m021-iit-madras/DA6401_DL_Assignment1/runs/22f5or5c' target=\"_blank\">https://wandb.ai/cs24m021-iit-madras/DA6401_DL_Assignment1/runs/22f5or5c</a>"
      ],
      "text/plain": [
       "<IPython.core.display.HTML object>"
      ]
     },
     "metadata": {},
     "output_type": "display_data"
    },
    {
     "name": "stdout",
     "output_type": "stream",
     "text": [
      "Epoch 1: Train Loss=1.9888, Train Acc=29.98%, Val Loss=1.9924, Val Acc=29.73%\n",
      "Epoch 2: Train Loss=1.7540, Train Acc=36.26%, Val Loss=1.7600, Val Acc=35.60%\n",
      "Epoch 3: Train Loss=1.5792, Train Acc=42.33%, Val Loss=1.5885, Val Acc=41.73%\n",
      "Epoch 4: Train Loss=1.4295, Train Acc=48.76%, Val Loss=1.4411, Val Acc=48.52%\n",
      "Epoch 5: Train Loss=1.3081, Train Acc=54.06%, Val Loss=1.3221, Val Acc=53.17%\n",
      "Test Loss: 1.3219, Test Acc: 52.53%\n"
     ]
    },
    {
     "data": {
      "text/html": [],
      "text/plain": [
       "<IPython.core.display.HTML object>"
      ]
     },
     "metadata": {},
     "output_type": "display_data"
    },
    {
     "data": {
      "text/html": [
       "<br>    <style><br>        .wandb-row {<br>            display: flex;<br>            flex-direction: row;<br>            flex-wrap: wrap;<br>            justify-content: flex-start;<br>            width: 100%;<br>        }<br>        .wandb-col {<br>            display: flex;<br>            flex-direction: column;<br>            flex-basis: 100%;<br>            flex: 1;<br>            padding: 10px;<br>        }<br>    </style><br><div class=\"wandb-row\"><div class=\"wandb-col\"><h3>Run history:</h3><br/><table class=\"wandb\"><tr><td>epoch</td><td>▁▃▅▆█</td></tr><tr><td>test_accuracy</td><td>▁</td></tr><tr><td>train_acc</td><td>▁▃▅▆█</td></tr><tr><td>train_loss</td><td>█▆▄▂▁</td></tr><tr><td>val_acc</td><td>▁▃▅▇█</td></tr><tr><td>val_loss</td><td>█▆▄▂▁</td></tr></table><br/></div><div class=\"wandb-col\"><h3>Run summary:</h3><br/><table class=\"wandb\"><tr><td>epoch</td><td>5</td></tr><tr><td>test_accuracy</td><td>52.53</td></tr><tr><td>train_acc</td><td>54.05741</td></tr><tr><td>train_loss</td><td>1.30807</td></tr><tr><td>val_acc</td><td>53.16667</td></tr><tr><td>val_loss</td><td>1.32208</td></tr></table><br/></div></div>"
      ],
      "text/plain": [
       "<IPython.core.display.HTML object>"
      ]
     },
     "metadata": {},
     "output_type": "display_data"
    },
    {
     "data": {
      "text/html": [
       " View run <strong style=\"color:#cdcd00\">opt_momentum_hl_5_bs_64_e_5_act_sigmoid_eta_0.001_init_random_hls_32_dataset_fashion_mnist_cross_entropy</strong> at: <a href='https://wandb.ai/cs24m021-iit-madras/DA6401_DL_Assignment1/runs/22f5or5c' target=\"_blank\">https://wandb.ai/cs24m021-iit-madras/DA6401_DL_Assignment1/runs/22f5or5c</a><br> View project at: <a href='https://wandb.ai/cs24m021-iit-madras/DA6401_DL_Assignment1' target=\"_blank\">https://wandb.ai/cs24m021-iit-madras/DA6401_DL_Assignment1</a><br>Synced 5 W&B file(s), 0 media file(s), 0 artifact file(s) and 0 other file(s)"
      ],
      "text/plain": [
       "<IPython.core.display.HTML object>"
      ]
     },
     "metadata": {},
     "output_type": "display_data"
    },
    {
     "data": {
      "text/html": [
       "Find logs at: <code>./wandb/run-20250310_202105-22f5or5c/logs</code>"
      ],
      "text/plain": [
       "<IPython.core.display.HTML object>"
      ]
     },
     "metadata": {},
     "output_type": "display_data"
    },
    {
     "name": "stderr",
     "output_type": "stream",
     "text": [
      "\u001b[34m\u001b[1mwandb\u001b[0m: Agent Starting Run: 41js9b3i with config:\n",
      "\u001b[34m\u001b[1mwandb\u001b[0m: \tactivation: ReLU\n",
      "\u001b[34m\u001b[1mwandb\u001b[0m: \tbatch_size: 32\n",
      "\u001b[34m\u001b[1mwandb\u001b[0m: \tdataset: fashion_mnist\n",
      "\u001b[34m\u001b[1mwandb\u001b[0m: \tepochs: 10\n",
      "\u001b[34m\u001b[1mwandb\u001b[0m: \thidden_layer_sizes: 64\n",
      "\u001b[34m\u001b[1mwandb\u001b[0m: \thidden_layers: 5\n",
      "\u001b[34m\u001b[1mwandb\u001b[0m: \tinitialization: random\n",
      "\u001b[34m\u001b[1mwandb\u001b[0m: \tlearning_rate: 0.0001\n",
      "\u001b[34m\u001b[1mwandb\u001b[0m: \toptimizer: nadam\n",
      "\u001b[34m\u001b[1mwandb\u001b[0m: \tweight_decay: 0\n"
     ]
    },
    {
     "data": {
      "text/html": [
       "Ignoring project 'DA6401_DL_Assignment1' when running a sweep."
      ],
      "text/plain": [
       "<IPython.core.display.HTML object>"
      ]
     },
     "metadata": {},
     "output_type": "display_data"
    },
    {
     "data": {
      "text/html": [
       "Tracking run with wandb version 0.19.8"
      ],
      "text/plain": [
       "<IPython.core.display.HTML object>"
      ]
     },
     "metadata": {},
     "output_type": "display_data"
    },
    {
     "data": {
      "text/html": [
       "Run data is saved locally in <code>/home/ubuntu/wandb/run-20250310_202121-41js9b3i</code>"
      ],
      "text/plain": [
       "<IPython.core.display.HTML object>"
      ]
     },
     "metadata": {},
     "output_type": "display_data"
    },
    {
     "data": {
      "text/html": [
       "Syncing run <strong><a href='https://wandb.ai/cs24m021-iit-madras/DA6401_DL_Assignment1/runs/41js9b3i' target=\"_blank\">wild-sweep-10</a></strong> to <a href='https://wandb.ai/cs24m021-iit-madras/DA6401_DL_Assignment1' target=\"_blank\">Weights & Biases</a> (<a href='https://wandb.me/developer-guide' target=\"_blank\">docs</a>)<br>Sweep page: <a href='https://wandb.ai/cs24m021-iit-madras/DA6401_DL_Assignment1/sweeps/6frmzevi' target=\"_blank\">https://wandb.ai/cs24m021-iit-madras/DA6401_DL_Assignment1/sweeps/6frmzevi</a>"
      ],
      "text/plain": [
       "<IPython.core.display.HTML object>"
      ]
     },
     "metadata": {},
     "output_type": "display_data"
    },
    {
     "data": {
      "text/html": [
       " View project at <a href='https://wandb.ai/cs24m021-iit-madras/DA6401_DL_Assignment1' target=\"_blank\">https://wandb.ai/cs24m021-iit-madras/DA6401_DL_Assignment1</a>"
      ],
      "text/plain": [
       "<IPython.core.display.HTML object>"
      ]
     },
     "metadata": {},
     "output_type": "display_data"
    },
    {
     "data": {
      "text/html": [
       " View sweep at <a href='https://wandb.ai/cs24m021-iit-madras/DA6401_DL_Assignment1/sweeps/6frmzevi' target=\"_blank\">https://wandb.ai/cs24m021-iit-madras/DA6401_DL_Assignment1/sweeps/6frmzevi</a>"
      ],
      "text/plain": [
       "<IPython.core.display.HTML object>"
      ]
     },
     "metadata": {},
     "output_type": "display_data"
    },
    {
     "data": {
      "text/html": [
       " View run at <a href='https://wandb.ai/cs24m021-iit-madras/DA6401_DL_Assignment1/runs/41js9b3i' target=\"_blank\">https://wandb.ai/cs24m021-iit-madras/DA6401_DL_Assignment1/runs/41js9b3i</a>"
      ],
      "text/plain": [
       "<IPython.core.display.HTML object>"
      ]
     },
     "metadata": {},
     "output_type": "display_data"
    },
    {
     "name": "stdout",
     "output_type": "stream",
     "text": [
      "Epoch 1: Train Loss=15.8779, Train Acc=53.97%, Val Loss=16.0064, Val Acc=53.60%\n",
      "Epoch 2: Train Loss=13.6517, Train Acc=60.40%, Val Loss=13.9979, Val Acc=59.42%\n",
      "Epoch 3: Train Loss=12.5074, Train Acc=63.70%, Val Loss=12.7600, Val Acc=62.98%\n",
      "Epoch 4: Train Loss=11.8069, Train Acc=65.71%, Val Loss=12.0687, Val Acc=65.03%\n",
      "Epoch 5: Train Loss=11.2027, Train Acc=67.43%, Val Loss=11.4707, Val Acc=66.68%\n",
      "Epoch 6: Train Loss=10.8402, Train Acc=68.46%, Val Loss=11.1758, Val Acc=67.58%\n",
      "Epoch 7: Train Loss=10.5230, Train Acc=69.40%, Val Loss=10.9043, Val Acc=68.25%\n",
      "Epoch 8: Train Loss=10.2670, Train Acc=70.09%, Val Loss=10.5503, Val Acc=69.32%\n",
      "Epoch 9: Train Loss=10.0780, Train Acc=70.63%, Val Loss=10.3298, Val Acc=69.93%\n",
      "Epoch 10: Train Loss=9.8706, Train Acc=71.23%, Val Loss=10.0769, Val Acc=70.62%\n",
      "Test Loss: 10.5176, Test Acc: 69.39%\n"
     ]
    },
    {
     "data": {
      "text/html": [],
      "text/plain": [
       "<IPython.core.display.HTML object>"
      ]
     },
     "metadata": {},
     "output_type": "display_data"
    },
    {
     "data": {
      "text/html": [
       "<br>    <style><br>        .wandb-row {<br>            display: flex;<br>            flex-direction: row;<br>            flex-wrap: wrap;<br>            justify-content: flex-start;<br>            width: 100%;<br>        }<br>        .wandb-col {<br>            display: flex;<br>            flex-direction: column;<br>            flex-basis: 100%;<br>            flex: 1;<br>            padding: 10px;<br>        }<br>    </style><br><div class=\"wandb-row\"><div class=\"wandb-col\"><h3>Run history:</h3><br/><table class=\"wandb\"><tr><td>epoch</td><td>▁▂▃▃▄▅▆▆▇█</td></tr><tr><td>test_accuracy</td><td>▁</td></tr><tr><td>train_acc</td><td>▁▄▅▆▆▇▇███</td></tr><tr><td>train_loss</td><td>█▅▄▃▃▂▂▁▁▁</td></tr><tr><td>val_acc</td><td>▁▃▅▆▆▇▇▇██</td></tr><tr><td>val_loss</td><td>█▆▄▃▃▂▂▂▁▁</td></tr></table><br/></div><div class=\"wandb-col\"><h3>Run summary:</h3><br/><table class=\"wandb\"><tr><td>epoch</td><td>10</td></tr><tr><td>test_accuracy</td><td>69.39</td></tr><tr><td>train_acc</td><td>71.23333</td></tr><tr><td>train_loss</td><td>9.87059</td></tr><tr><td>val_acc</td><td>70.61667</td></tr><tr><td>val_loss</td><td>10.0769</td></tr></table><br/></div></div>"
      ],
      "text/plain": [
       "<IPython.core.display.HTML object>"
      ]
     },
     "metadata": {},
     "output_type": "display_data"
    },
    {
     "data": {
      "text/html": [
       " View run <strong style=\"color:#cdcd00\">opt_nadam_hl_5_bs_32_e_10_act_ReLU_eta_0.0001_init_random_hls_64_dataset_fashion_mnist_cross_entropy</strong> at: <a href='https://wandb.ai/cs24m021-iit-madras/DA6401_DL_Assignment1/runs/41js9b3i' target=\"_blank\">https://wandb.ai/cs24m021-iit-madras/DA6401_DL_Assignment1/runs/41js9b3i</a><br> View project at: <a href='https://wandb.ai/cs24m021-iit-madras/DA6401_DL_Assignment1' target=\"_blank\">https://wandb.ai/cs24m021-iit-madras/DA6401_DL_Assignment1</a><br>Synced 5 W&B file(s), 0 media file(s), 0 artifact file(s) and 0 other file(s)"
      ],
      "text/plain": [
       "<IPython.core.display.HTML object>"
      ]
     },
     "metadata": {},
     "output_type": "display_data"
    },
    {
     "data": {
      "text/html": [
       "Find logs at: <code>./wandb/run-20250310_202121-41js9b3i/logs</code>"
      ],
      "text/plain": [
       "<IPython.core.display.HTML object>"
      ]
     },
     "metadata": {},
     "output_type": "display_data"
    },
    {
     "name": "stderr",
     "output_type": "stream",
     "text": [
      "\u001b[34m\u001b[1mwandb\u001b[0m: Sweep Agent: Waiting for job.\n",
      "\u001b[34m\u001b[1mwandb\u001b[0m: Job received.\n",
      "\u001b[34m\u001b[1mwandb\u001b[0m: Agent Starting Run: qz1v9e0c with config:\n",
      "\u001b[34m\u001b[1mwandb\u001b[0m: \tactivation: ReLU\n",
      "\u001b[34m\u001b[1mwandb\u001b[0m: \tbatch_size: 32\n",
      "\u001b[34m\u001b[1mwandb\u001b[0m: \tdataset: fashion_mnist\n",
      "\u001b[34m\u001b[1mwandb\u001b[0m: \tepochs: 5\n",
      "\u001b[34m\u001b[1mwandb\u001b[0m: \thidden_layer_sizes: 32\n",
      "\u001b[34m\u001b[1mwandb\u001b[0m: \thidden_layers: 5\n",
      "\u001b[34m\u001b[1mwandb\u001b[0m: \tinitialization: Xavier\n",
      "\u001b[34m\u001b[1mwandb\u001b[0m: \tlearning_rate: 0.0001\n",
      "\u001b[34m\u001b[1mwandb\u001b[0m: \toptimizer: sgd\n",
      "\u001b[34m\u001b[1mwandb\u001b[0m: \tweight_decay: 0\n"
     ]
    },
    {
     "data": {
      "text/html": [
       "Ignoring project 'DA6401_DL_Assignment1' when running a sweep."
      ],
      "text/plain": [
       "<IPython.core.display.HTML object>"
      ]
     },
     "metadata": {},
     "output_type": "display_data"
    },
    {
     "data": {
      "text/html": [
       "Tracking run with wandb version 0.19.8"
      ],
      "text/plain": [
       "<IPython.core.display.HTML object>"
      ]
     },
     "metadata": {},
     "output_type": "display_data"
    },
    {
     "data": {
      "text/html": [
       "Run data is saved locally in <code>/home/ubuntu/wandb/run-20250310_202230-qz1v9e0c</code>"
      ],
      "text/plain": [
       "<IPython.core.display.HTML object>"
      ]
     },
     "metadata": {},
     "output_type": "display_data"
    },
    {
     "data": {
      "text/html": [
       "Syncing run <strong><a href='https://wandb.ai/cs24m021-iit-madras/DA6401_DL_Assignment1/runs/qz1v9e0c' target=\"_blank\">noble-sweep-11</a></strong> to <a href='https://wandb.ai/cs24m021-iit-madras/DA6401_DL_Assignment1' target=\"_blank\">Weights & Biases</a> (<a href='https://wandb.me/developer-guide' target=\"_blank\">docs</a>)<br>Sweep page: <a href='https://wandb.ai/cs24m021-iit-madras/DA6401_DL_Assignment1/sweeps/6frmzevi' target=\"_blank\">https://wandb.ai/cs24m021-iit-madras/DA6401_DL_Assignment1/sweeps/6frmzevi</a>"
      ],
      "text/plain": [
       "<IPython.core.display.HTML object>"
      ]
     },
     "metadata": {},
     "output_type": "display_data"
    },
    {
     "data": {
      "text/html": [
       " View project at <a href='https://wandb.ai/cs24m021-iit-madras/DA6401_DL_Assignment1' target=\"_blank\">https://wandb.ai/cs24m021-iit-madras/DA6401_DL_Assignment1</a>"
      ],
      "text/plain": [
       "<IPython.core.display.HTML object>"
      ]
     },
     "metadata": {},
     "output_type": "display_data"
    },
    {
     "data": {
      "text/html": [
       " View sweep at <a href='https://wandb.ai/cs24m021-iit-madras/DA6401_DL_Assignment1/sweeps/6frmzevi' target=\"_blank\">https://wandb.ai/cs24m021-iit-madras/DA6401_DL_Assignment1/sweeps/6frmzevi</a>"
      ],
      "text/plain": [
       "<IPython.core.display.HTML object>"
      ]
     },
     "metadata": {},
     "output_type": "display_data"
    },
    {
     "data": {
      "text/html": [
       " View run at <a href='https://wandb.ai/cs24m021-iit-madras/DA6401_DL_Assignment1/runs/qz1v9e0c' target=\"_blank\">https://wandb.ai/cs24m021-iit-madras/DA6401_DL_Assignment1/runs/qz1v9e0c</a>"
      ],
      "text/plain": [
       "<IPython.core.display.HTML object>"
      ]
     },
     "metadata": {},
     "output_type": "display_data"
    },
    {
     "name": "stdout",
     "output_type": "stream",
     "text": [
      "Epoch 1: Train Loss=2.3808, Train Acc=9.91%, Val Loss=2.3695, Val Acc=10.80%\n",
      "Epoch 2: Train Loss=2.3288, Train Acc=12.35%, Val Loss=2.3197, Val Acc=13.43%\n",
      "Epoch 3: Train Loss=2.2872, Train Acc=15.96%, Val Loss=2.2789, Val Acc=17.07%\n",
      "Epoch 4: Train Loss=2.2477, Train Acc=20.47%, Val Loss=2.2397, Val Acc=21.82%\n",
      "Epoch 5: Train Loss=2.2095, Train Acc=26.31%, Val Loss=2.2015, Val Acc=26.98%\n",
      "Test Loss: 2.2095, Test Acc: 26.53%\n"
     ]
    },
    {
     "data": {
      "text/html": [],
      "text/plain": [
       "<IPython.core.display.HTML object>"
      ]
     },
     "metadata": {},
     "output_type": "display_data"
    },
    {
     "data": {
      "text/html": [
       "<br>    <style><br>        .wandb-row {<br>            display: flex;<br>            flex-direction: row;<br>            flex-wrap: wrap;<br>            justify-content: flex-start;<br>            width: 100%;<br>        }<br>        .wandb-col {<br>            display: flex;<br>            flex-direction: column;<br>            flex-basis: 100%;<br>            flex: 1;<br>            padding: 10px;<br>        }<br>    </style><br><div class=\"wandb-row\"><div class=\"wandb-col\"><h3>Run history:</h3><br/><table class=\"wandb\"><tr><td>epoch</td><td>▁▃▅▆█</td></tr><tr><td>test_accuracy</td><td>▁</td></tr><tr><td>train_acc</td><td>▁▂▄▆█</td></tr><tr><td>train_loss</td><td>█▆▄▃▁</td></tr><tr><td>val_acc</td><td>▁▂▄▆█</td></tr><tr><td>val_loss</td><td>█▆▄▃▁</td></tr></table><br/></div><div class=\"wandb-col\"><h3>Run summary:</h3><br/><table class=\"wandb\"><tr><td>epoch</td><td>5</td></tr><tr><td>test_accuracy</td><td>26.53</td></tr><tr><td>train_acc</td><td>26.30926</td></tr><tr><td>train_loss</td><td>2.20945</td></tr><tr><td>val_acc</td><td>26.98333</td></tr><tr><td>val_loss</td><td>2.20146</td></tr></table><br/></div></div>"
      ],
      "text/plain": [
       "<IPython.core.display.HTML object>"
      ]
     },
     "metadata": {},
     "output_type": "display_data"
    },
    {
     "data": {
      "text/html": [
       " View run <strong style=\"color:#cdcd00\">opt_sgd_hl_5_bs_32_e_5_act_ReLU_eta_0.0001_init_Xavier_hls_32_dataset_fashion_mnist_cross_entropy</strong> at: <a href='https://wandb.ai/cs24m021-iit-madras/DA6401_DL_Assignment1/runs/qz1v9e0c' target=\"_blank\">https://wandb.ai/cs24m021-iit-madras/DA6401_DL_Assignment1/runs/qz1v9e0c</a><br> View project at: <a href='https://wandb.ai/cs24m021-iit-madras/DA6401_DL_Assignment1' target=\"_blank\">https://wandb.ai/cs24m021-iit-madras/DA6401_DL_Assignment1</a><br>Synced 5 W&B file(s), 0 media file(s), 0 artifact file(s) and 0 other file(s)"
      ],
      "text/plain": [
       "<IPython.core.display.HTML object>"
      ]
     },
     "metadata": {},
     "output_type": "display_data"
    },
    {
     "data": {
      "text/html": [
       "Find logs at: <code>./wandb/run-20250310_202230-qz1v9e0c/logs</code>"
      ],
      "text/plain": [
       "<IPython.core.display.HTML object>"
      ]
     },
     "metadata": {},
     "output_type": "display_data"
    },
    {
     "name": "stderr",
     "output_type": "stream",
     "text": [
      "\u001b[34m\u001b[1mwandb\u001b[0m: Agent Starting Run: qmi1hny9 with config:\n",
      "\u001b[34m\u001b[1mwandb\u001b[0m: \tactivation: tanh\n",
      "\u001b[34m\u001b[1mwandb\u001b[0m: \tbatch_size: 32\n",
      "\u001b[34m\u001b[1mwandb\u001b[0m: \tdataset: fashion_mnist\n",
      "\u001b[34m\u001b[1mwandb\u001b[0m: \tepochs: 5\n",
      "\u001b[34m\u001b[1mwandb\u001b[0m: \thidden_layer_sizes: 32\n",
      "\u001b[34m\u001b[1mwandb\u001b[0m: \thidden_layers: 5\n",
      "\u001b[34m\u001b[1mwandb\u001b[0m: \tinitialization: Xavier\n",
      "\u001b[34m\u001b[1mwandb\u001b[0m: \tlearning_rate: 0.001\n",
      "\u001b[34m\u001b[1mwandb\u001b[0m: \toptimizer: sgd\n",
      "\u001b[34m\u001b[1mwandb\u001b[0m: \tweight_decay: 0.5\n"
     ]
    },
    {
     "data": {
      "text/html": [
       "Ignoring project 'DA6401_DL_Assignment1' when running a sweep."
      ],
      "text/plain": [
       "<IPython.core.display.HTML object>"
      ]
     },
     "metadata": {},
     "output_type": "display_data"
    },
    {
     "data": {
      "text/html": [
       "Tracking run with wandb version 0.19.8"
      ],
      "text/plain": [
       "<IPython.core.display.HTML object>"
      ]
     },
     "metadata": {},
     "output_type": "display_data"
    },
    {
     "data": {
      "text/html": [
       "Run data is saved locally in <code>/home/ubuntu/wandb/run-20250310_202241-qmi1hny9</code>"
      ],
      "text/plain": [
       "<IPython.core.display.HTML object>"
      ]
     },
     "metadata": {},
     "output_type": "display_data"
    },
    {
     "data": {
      "text/html": [
       "Syncing run <strong><a href='https://wandb.ai/cs24m021-iit-madras/DA6401_DL_Assignment1/runs/qmi1hny9' target=\"_blank\">bumbling-sweep-12</a></strong> to <a href='https://wandb.ai/cs24m021-iit-madras/DA6401_DL_Assignment1' target=\"_blank\">Weights & Biases</a> (<a href='https://wandb.me/developer-guide' target=\"_blank\">docs</a>)<br>Sweep page: <a href='https://wandb.ai/cs24m021-iit-madras/DA6401_DL_Assignment1/sweeps/6frmzevi' target=\"_blank\">https://wandb.ai/cs24m021-iit-madras/DA6401_DL_Assignment1/sweeps/6frmzevi</a>"
      ],
      "text/plain": [
       "<IPython.core.display.HTML object>"
      ]
     },
     "metadata": {},
     "output_type": "display_data"
    },
    {
     "data": {
      "text/html": [
       " View project at <a href='https://wandb.ai/cs24m021-iit-madras/DA6401_DL_Assignment1' target=\"_blank\">https://wandb.ai/cs24m021-iit-madras/DA6401_DL_Assignment1</a>"
      ],
      "text/plain": [
       "<IPython.core.display.HTML object>"
      ]
     },
     "metadata": {},
     "output_type": "display_data"
    },
    {
     "data": {
      "text/html": [
       " View sweep at <a href='https://wandb.ai/cs24m021-iit-madras/DA6401_DL_Assignment1/sweeps/6frmzevi' target=\"_blank\">https://wandb.ai/cs24m021-iit-madras/DA6401_DL_Assignment1/sweeps/6frmzevi</a>"
      ],
      "text/plain": [
       "<IPython.core.display.HTML object>"
      ]
     },
     "metadata": {},
     "output_type": "display_data"
    },
    {
     "data": {
      "text/html": [
       " View run at <a href='https://wandb.ai/cs24m021-iit-madras/DA6401_DL_Assignment1/runs/qmi1hny9' target=\"_blank\">https://wandb.ai/cs24m021-iit-madras/DA6401_DL_Assignment1/runs/qmi1hny9</a>"
      ],
      "text/plain": [
       "<IPython.core.display.HTML object>"
      ]
     },
     "metadata": {},
     "output_type": "display_data"
    },
    {
     "name": "stdout",
     "output_type": "stream",
     "text": [
      "Epoch 1: Train Loss=2.3195, Train Acc=10.01%, Val Loss=2.3207, Val Acc=9.88%\n",
      "Epoch 2: Train Loss=2.3206, Train Acc=10.01%, Val Loss=2.3230, Val Acc=9.88%\n",
      "Epoch 3: Train Loss=2.3166, Train Acc=10.01%, Val Loss=2.3192, Val Acc=9.88%\n",
      "Epoch 4: Train Loss=2.3135, Train Acc=10.01%, Val Loss=2.3160, Val Acc=9.88%\n",
      "Epoch 5: Train Loss=2.3111, Train Acc=10.01%, Val Loss=2.3134, Val Acc=9.88%\n",
      "Test Loss: 2.3113, Test Acc: 10.00%\n"
     ]
    },
    {
     "data": {
      "text/html": [],
      "text/plain": [
       "<IPython.core.display.HTML object>"
      ]
     },
     "metadata": {},
     "output_type": "display_data"
    },
    {
     "data": {
      "text/html": [
       "<br>    <style><br>        .wandb-row {<br>            display: flex;<br>            flex-direction: row;<br>            flex-wrap: wrap;<br>            justify-content: flex-start;<br>            width: 100%;<br>        }<br>        .wandb-col {<br>            display: flex;<br>            flex-direction: column;<br>            flex-basis: 100%;<br>            flex: 1;<br>            padding: 10px;<br>        }<br>    </style><br><div class=\"wandb-row\"><div class=\"wandb-col\"><h3>Run history:</h3><br/><table class=\"wandb\"><tr><td>epoch</td><td>▁▃▅▆█</td></tr><tr><td>test_accuracy</td><td>▁</td></tr><tr><td>train_acc</td><td>▁▁▁▁▁</td></tr><tr><td>train_loss</td><td>▇█▅▃▁</td></tr><tr><td>val_acc</td><td>▁▁▁▁▁</td></tr><tr><td>val_loss</td><td>▆█▅▃▁</td></tr></table><br/></div><div class=\"wandb-col\"><h3>Run summary:</h3><br/><table class=\"wandb\"><tr><td>epoch</td><td>5</td></tr><tr><td>test_accuracy</td><td>10</td></tr><tr><td>train_acc</td><td>10.01296</td></tr><tr><td>train_loss</td><td>2.31109</td></tr><tr><td>val_acc</td><td>9.88333</td></tr><tr><td>val_loss</td><td>2.31342</td></tr></table><br/></div></div>"
      ],
      "text/plain": [
       "<IPython.core.display.HTML object>"
      ]
     },
     "metadata": {},
     "output_type": "display_data"
    },
    {
     "data": {
      "text/html": [
       " View run <strong style=\"color:#cdcd00\">opt_sgd_hl_5_bs_32_e_5_act_tanh_eta_0.001_init_Xavier_hls_32_dataset_fashion_mnist_cross_entropy</strong> at: <a href='https://wandb.ai/cs24m021-iit-madras/DA6401_DL_Assignment1/runs/qmi1hny9' target=\"_blank\">https://wandb.ai/cs24m021-iit-madras/DA6401_DL_Assignment1/runs/qmi1hny9</a><br> View project at: <a href='https://wandb.ai/cs24m021-iit-madras/DA6401_DL_Assignment1' target=\"_blank\">https://wandb.ai/cs24m021-iit-madras/DA6401_DL_Assignment1</a><br>Synced 5 W&B file(s), 0 media file(s), 0 artifact file(s) and 0 other file(s)"
      ],
      "text/plain": [
       "<IPython.core.display.HTML object>"
      ]
     },
     "metadata": {},
     "output_type": "display_data"
    },
    {
     "data": {
      "text/html": [
       "Find logs at: <code>./wandb/run-20250310_202241-qmi1hny9/logs</code>"
      ],
      "text/plain": [
       "<IPython.core.display.HTML object>"
      ]
     },
     "metadata": {},
     "output_type": "display_data"
    },
    {
     "name": "stderr",
     "output_type": "stream",
     "text": [
      "\u001b[34m\u001b[1mwandb\u001b[0m: Agent Starting Run: sn087g96 with config:\n",
      "\u001b[34m\u001b[1mwandb\u001b[0m: \tactivation: tanh\n",
      "\u001b[34m\u001b[1mwandb\u001b[0m: \tbatch_size: 64\n",
      "\u001b[34m\u001b[1mwandb\u001b[0m: \tdataset: fashion_mnist\n",
      "\u001b[34m\u001b[1mwandb\u001b[0m: \tepochs: 5\n",
      "\u001b[34m\u001b[1mwandb\u001b[0m: \thidden_layer_sizes: 64\n",
      "\u001b[34m\u001b[1mwandb\u001b[0m: \thidden_layers: 4\n",
      "\u001b[34m\u001b[1mwandb\u001b[0m: \tinitialization: random\n",
      "\u001b[34m\u001b[1mwandb\u001b[0m: \tlearning_rate: 0.0001\n",
      "\u001b[34m\u001b[1mwandb\u001b[0m: \toptimizer: rmsprop\n",
      "\u001b[34m\u001b[1mwandb\u001b[0m: \tweight_decay: 0.0005\n"
     ]
    },
    {
     "data": {
      "text/html": [
       "Ignoring project 'DA6401_DL_Assignment1' when running a sweep."
      ],
      "text/plain": [
       "<IPython.core.display.HTML object>"
      ]
     },
     "metadata": {},
     "output_type": "display_data"
    },
    {
     "data": {
      "text/html": [
       "Tracking run with wandb version 0.19.8"
      ],
      "text/plain": [
       "<IPython.core.display.HTML object>"
      ]
     },
     "metadata": {},
     "output_type": "display_data"
    },
    {
     "data": {
      "text/html": [
       "Run data is saved locally in <code>/home/ubuntu/wandb/run-20250310_202252-sn087g96</code>"
      ],
      "text/plain": [
       "<IPython.core.display.HTML object>"
      ]
     },
     "metadata": {},
     "output_type": "display_data"
    },
    {
     "data": {
      "text/html": [
       "Syncing run <strong><a href='https://wandb.ai/cs24m021-iit-madras/DA6401_DL_Assignment1/runs/sn087g96' target=\"_blank\">worldly-sweep-13</a></strong> to <a href='https://wandb.ai/cs24m021-iit-madras/DA6401_DL_Assignment1' target=\"_blank\">Weights & Biases</a> (<a href='https://wandb.me/developer-guide' target=\"_blank\">docs</a>)<br>Sweep page: <a href='https://wandb.ai/cs24m021-iit-madras/DA6401_DL_Assignment1/sweeps/6frmzevi' target=\"_blank\">https://wandb.ai/cs24m021-iit-madras/DA6401_DL_Assignment1/sweeps/6frmzevi</a>"
      ],
      "text/plain": [
       "<IPython.core.display.HTML object>"
      ]
     },
     "metadata": {},
     "output_type": "display_data"
    },
    {
     "data": {
      "text/html": [
       " View project at <a href='https://wandb.ai/cs24m021-iit-madras/DA6401_DL_Assignment1' target=\"_blank\">https://wandb.ai/cs24m021-iit-madras/DA6401_DL_Assignment1</a>"
      ],
      "text/plain": [
       "<IPython.core.display.HTML object>"
      ]
     },
     "metadata": {},
     "output_type": "display_data"
    },
    {
     "data": {
      "text/html": [
       " View sweep at <a href='https://wandb.ai/cs24m021-iit-madras/DA6401_DL_Assignment1/sweeps/6frmzevi' target=\"_blank\">https://wandb.ai/cs24m021-iit-madras/DA6401_DL_Assignment1/sweeps/6frmzevi</a>"
      ],
      "text/plain": [
       "<IPython.core.display.HTML object>"
      ]
     },
     "metadata": {},
     "output_type": "display_data"
    },
    {
     "data": {
      "text/html": [
       " View run at <a href='https://wandb.ai/cs24m021-iit-madras/DA6401_DL_Assignment1/runs/sn087g96' target=\"_blank\">https://wandb.ai/cs24m021-iit-madras/DA6401_DL_Assignment1/runs/sn087g96</a>"
      ],
      "text/plain": [
       "<IPython.core.display.HTML object>"
      ]
     },
     "metadata": {},
     "output_type": "display_data"
    },
    {
     "name": "stdout",
     "output_type": "stream",
     "text": [
      "Epoch 1: Train Loss=5.4298, Train Acc=27.20%, Val Loss=5.5816, Val Acc=26.27%\n",
      "Epoch 2: Train Loss=4.2138, Train Acc=34.20%, Val Loss=4.3515, Val Acc=33.60%\n",
      "Epoch 3: Train Loss=3.5132, Train Acc=39.21%, Val Loss=3.7572, Val Acc=37.55%\n",
      "Epoch 4: Train Loss=3.0424, Train Acc=42.27%, Val Loss=3.2583, Val Acc=40.72%\n",
      "Epoch 5: Train Loss=2.7004, Train Acc=44.84%, Val Loss=2.8994, Val Acc=43.02%\n",
      "Test Loss: 2.9005, Test Acc: 43.00%\n"
     ]
    },
    {
     "data": {
      "text/html": [],
      "text/plain": [
       "<IPython.core.display.HTML object>"
      ]
     },
     "metadata": {},
     "output_type": "display_data"
    },
    {
     "data": {
      "text/html": [
       "<br>    <style><br>        .wandb-row {<br>            display: flex;<br>            flex-direction: row;<br>            flex-wrap: wrap;<br>            justify-content: flex-start;<br>            width: 100%;<br>        }<br>        .wandb-col {<br>            display: flex;<br>            flex-direction: column;<br>            flex-basis: 100%;<br>            flex: 1;<br>            padding: 10px;<br>        }<br>    </style><br><div class=\"wandb-row\"><div class=\"wandb-col\"><h3>Run history:</h3><br/><table class=\"wandb\"><tr><td>epoch</td><td>▁▃▅▆█</td></tr><tr><td>test_accuracy</td><td>▁</td></tr><tr><td>train_acc</td><td>▁▄▆▇█</td></tr><tr><td>train_loss</td><td>█▅▃▂▁</td></tr><tr><td>val_acc</td><td>▁▄▆▇█</td></tr><tr><td>val_loss</td><td>█▅▃▂▁</td></tr></table><br/></div><div class=\"wandb-col\"><h3>Run summary:</h3><br/><table class=\"wandb\"><tr><td>epoch</td><td>5</td></tr><tr><td>test_accuracy</td><td>43</td></tr><tr><td>train_acc</td><td>44.84259</td></tr><tr><td>train_loss</td><td>2.70038</td></tr><tr><td>val_acc</td><td>43.01667</td></tr><tr><td>val_loss</td><td>2.89939</td></tr></table><br/></div></div>"
      ],
      "text/plain": [
       "<IPython.core.display.HTML object>"
      ]
     },
     "metadata": {},
     "output_type": "display_data"
    },
    {
     "data": {
      "text/html": [
       " View run <strong style=\"color:#cdcd00\">opt_rmsprop_hl_4_bs_64_e_5_act_tanh_eta_0.0001_init_random_hls_64_dataset_fashion_mnist_cross_entropy</strong> at: <a href='https://wandb.ai/cs24m021-iit-madras/DA6401_DL_Assignment1/runs/sn087g96' target=\"_blank\">https://wandb.ai/cs24m021-iit-madras/DA6401_DL_Assignment1/runs/sn087g96</a><br> View project at: <a href='https://wandb.ai/cs24m021-iit-madras/DA6401_DL_Assignment1' target=\"_blank\">https://wandb.ai/cs24m021-iit-madras/DA6401_DL_Assignment1</a><br>Synced 5 W&B file(s), 0 media file(s), 0 artifact file(s) and 0 other file(s)"
      ],
      "text/plain": [
       "<IPython.core.display.HTML object>"
      ]
     },
     "metadata": {},
     "output_type": "display_data"
    },
    {
     "data": {
      "text/html": [
       "Find logs at: <code>./wandb/run-20250310_202252-sn087g96/logs</code>"
      ],
      "text/plain": [
       "<IPython.core.display.HTML object>"
      ]
     },
     "metadata": {},
     "output_type": "display_data"
    },
    {
     "name": "stderr",
     "output_type": "stream",
     "text": [
      "\u001b[34m\u001b[1mwandb\u001b[0m: Agent Starting Run: pxfe77t6 with config:\n",
      "\u001b[34m\u001b[1mwandb\u001b[0m: \tactivation: sigmoid\n",
      "\u001b[34m\u001b[1mwandb\u001b[0m: \tbatch_size: 64\n",
      "\u001b[34m\u001b[1mwandb\u001b[0m: \tdataset: fashion_mnist\n",
      "\u001b[34m\u001b[1mwandb\u001b[0m: \tepochs: 10\n",
      "\u001b[34m\u001b[1mwandb\u001b[0m: \thidden_layer_sizes: 128\n",
      "\u001b[34m\u001b[1mwandb\u001b[0m: \thidden_layers: 4\n",
      "\u001b[34m\u001b[1mwandb\u001b[0m: \tinitialization: random\n",
      "\u001b[34m\u001b[1mwandb\u001b[0m: \tlearning_rate: 0.0001\n",
      "\u001b[34m\u001b[1mwandb\u001b[0m: \toptimizer: rmsprop\n",
      "\u001b[34m\u001b[1mwandb\u001b[0m: \tweight_decay: 0.0005\n"
     ]
    },
    {
     "data": {
      "text/html": [
       "Ignoring project 'DA6401_DL_Assignment1' when running a sweep."
      ],
      "text/plain": [
       "<IPython.core.display.HTML object>"
      ]
     },
     "metadata": {},
     "output_type": "display_data"
    },
    {
     "data": {
      "text/html": [
       "Tracking run with wandb version 0.19.8"
      ],
      "text/plain": [
       "<IPython.core.display.HTML object>"
      ]
     },
     "metadata": {},
     "output_type": "display_data"
    },
    {
     "data": {
      "text/html": [
       "Run data is saved locally in <code>/home/ubuntu/wandb/run-20250310_202314-pxfe77t6</code>"
      ],
      "text/plain": [
       "<IPython.core.display.HTML object>"
      ]
     },
     "metadata": {},
     "output_type": "display_data"
    },
    {
     "data": {
      "text/html": [
       "Syncing run <strong><a href='https://wandb.ai/cs24m021-iit-madras/DA6401_DL_Assignment1/runs/pxfe77t6' target=\"_blank\">sweet-sweep-14</a></strong> to <a href='https://wandb.ai/cs24m021-iit-madras/DA6401_DL_Assignment1' target=\"_blank\">Weights & Biases</a> (<a href='https://wandb.me/developer-guide' target=\"_blank\">docs</a>)<br>Sweep page: <a href='https://wandb.ai/cs24m021-iit-madras/DA6401_DL_Assignment1/sweeps/6frmzevi' target=\"_blank\">https://wandb.ai/cs24m021-iit-madras/DA6401_DL_Assignment1/sweeps/6frmzevi</a>"
      ],
      "text/plain": [
       "<IPython.core.display.HTML object>"
      ]
     },
     "metadata": {},
     "output_type": "display_data"
    },
    {
     "data": {
      "text/html": [
       " View project at <a href='https://wandb.ai/cs24m021-iit-madras/DA6401_DL_Assignment1' target=\"_blank\">https://wandb.ai/cs24m021-iit-madras/DA6401_DL_Assignment1</a>"
      ],
      "text/plain": [
       "<IPython.core.display.HTML object>"
      ]
     },
     "metadata": {},
     "output_type": "display_data"
    },
    {
     "data": {
      "text/html": [
       " View sweep at <a href='https://wandb.ai/cs24m021-iit-madras/DA6401_DL_Assignment1/sweeps/6frmzevi' target=\"_blank\">https://wandb.ai/cs24m021-iit-madras/DA6401_DL_Assignment1/sweeps/6frmzevi</a>"
      ],
      "text/plain": [
       "<IPython.core.display.HTML object>"
      ]
     },
     "metadata": {},
     "output_type": "display_data"
    },
    {
     "data": {
      "text/html": [
       " View run at <a href='https://wandb.ai/cs24m021-iit-madras/DA6401_DL_Assignment1/runs/pxfe77t6' target=\"_blank\">https://wandb.ai/cs24m021-iit-madras/DA6401_DL_Assignment1/runs/pxfe77t6</a>"
      ],
      "text/plain": [
       "<IPython.core.display.HTML object>"
      ]
     },
     "metadata": {},
     "output_type": "display_data"
    },
    {
     "name": "stdout",
     "output_type": "stream",
     "text": [
      "Epoch 1: Train Loss=0.8954, Train Acc=69.09%, Val Loss=0.9198, Val Acc=68.28%\n",
      "Epoch 2: Train Loss=0.7564, Train Acc=73.41%, Val Loss=0.7801, Val Acc=72.33%\n",
      "Epoch 3: Train Loss=0.6851, Train Acc=75.61%, Val Loss=0.7060, Val Acc=74.73%\n",
      "Epoch 4: Train Loss=0.6369, Train Acc=77.13%, Val Loss=0.6560, Val Acc=76.47%\n",
      "Epoch 5: Train Loss=0.6003, Train Acc=78.41%, Val Loss=0.6192, Val Acc=77.55%\n",
      "Epoch 6: Train Loss=0.5713, Train Acc=79.40%, Val Loss=0.5913, Val Acc=78.77%\n",
      "Epoch 7: Train Loss=0.5479, Train Acc=80.24%, Val Loss=0.5692, Val Acc=79.48%\n",
      "Epoch 8: Train Loss=0.5285, Train Acc=80.94%, Val Loss=0.5508, Val Acc=80.22%\n",
      "Epoch 9: Train Loss=0.5120, Train Acc=81.51%, Val Loss=0.5349, Val Acc=80.87%\n",
      "Epoch 10: Train Loss=0.4975, Train Acc=81.97%, Val Loss=0.5211, Val Acc=81.50%\n",
      "Test Loss: 0.5552, Test Acc: 79.99%\n"
     ]
    },
    {
     "data": {
      "text/html": [],
      "text/plain": [
       "<IPython.core.display.HTML object>"
      ]
     },
     "metadata": {},
     "output_type": "display_data"
    },
    {
     "data": {
      "text/html": [
       "<br>    <style><br>        .wandb-row {<br>            display: flex;<br>            flex-direction: row;<br>            flex-wrap: wrap;<br>            justify-content: flex-start;<br>            width: 100%;<br>        }<br>        .wandb-col {<br>            display: flex;<br>            flex-direction: column;<br>            flex-basis: 100%;<br>            flex: 1;<br>            padding: 10px;<br>        }<br>    </style><br><div class=\"wandb-row\"><div class=\"wandb-col\"><h3>Run history:</h3><br/><table class=\"wandb\"><tr><td>epoch</td><td>▁▂▃▃▄▅▆▆▇█</td></tr><tr><td>test_accuracy</td><td>▁</td></tr><tr><td>train_acc</td><td>▁▃▅▅▆▇▇▇██</td></tr><tr><td>train_loss</td><td>█▆▄▃▃▂▂▂▁▁</td></tr><tr><td>val_acc</td><td>▁▃▄▅▆▇▇▇██</td></tr><tr><td>val_loss</td><td>█▆▄▃▃▂▂▂▁▁</td></tr></table><br/></div><div class=\"wandb-col\"><h3>Run summary:</h3><br/><table class=\"wandb\"><tr><td>epoch</td><td>10</td></tr><tr><td>test_accuracy</td><td>79.99</td></tr><tr><td>train_acc</td><td>81.97222</td></tr><tr><td>train_loss</td><td>0.49745</td></tr><tr><td>val_acc</td><td>81.5</td></tr><tr><td>val_loss</td><td>0.52112</td></tr></table><br/></div></div>"
      ],
      "text/plain": [
       "<IPython.core.display.HTML object>"
      ]
     },
     "metadata": {},
     "output_type": "display_data"
    },
    {
     "data": {
      "text/html": [
       " View run <strong style=\"color:#cdcd00\">opt_rmsprop_hl_4_bs_64_e_10_act_sigmoid_eta_0.0001_init_random_hls_128_dataset_fashion_mnist_cross_entropy</strong> at: <a href='https://wandb.ai/cs24m021-iit-madras/DA6401_DL_Assignment1/runs/pxfe77t6' target=\"_blank\">https://wandb.ai/cs24m021-iit-madras/DA6401_DL_Assignment1/runs/pxfe77t6</a><br> View project at: <a href='https://wandb.ai/cs24m021-iit-madras/DA6401_DL_Assignment1' target=\"_blank\">https://wandb.ai/cs24m021-iit-madras/DA6401_DL_Assignment1</a><br>Synced 5 W&B file(s), 0 media file(s), 0 artifact file(s) and 0 other file(s)"
      ],
      "text/plain": [
       "<IPython.core.display.HTML object>"
      ]
     },
     "metadata": {},
     "output_type": "display_data"
    },
    {
     "data": {
      "text/html": [
       "Find logs at: <code>./wandb/run-20250310_202314-pxfe77t6/logs</code>"
      ],
      "text/plain": [
       "<IPython.core.display.HTML object>"
      ]
     },
     "metadata": {},
     "output_type": "display_data"
    },
    {
     "name": "stderr",
     "output_type": "stream",
     "text": [
      "\u001b[34m\u001b[1mwandb\u001b[0m: Agent Starting Run: nvha2gpa with config:\n",
      "\u001b[34m\u001b[1mwandb\u001b[0m: \tactivation: sigmoid\n",
      "\u001b[34m\u001b[1mwandb\u001b[0m: \tbatch_size: 16\n",
      "\u001b[34m\u001b[1mwandb\u001b[0m: \tdataset: fashion_mnist\n",
      "\u001b[34m\u001b[1mwandb\u001b[0m: \tepochs: 5\n",
      "\u001b[34m\u001b[1mwandb\u001b[0m: \thidden_layer_sizes: 64\n",
      "\u001b[34m\u001b[1mwandb\u001b[0m: \thidden_layers: 4\n",
      "\u001b[34m\u001b[1mwandb\u001b[0m: \tinitialization: Xavier\n",
      "\u001b[34m\u001b[1mwandb\u001b[0m: \tlearning_rate: 0.0001\n",
      "\u001b[34m\u001b[1mwandb\u001b[0m: \toptimizer: rmsprop\n",
      "\u001b[34m\u001b[1mwandb\u001b[0m: \tweight_decay: 0.0005\n"
     ]
    },
    {
     "data": {
      "text/html": [
       "Ignoring project 'DA6401_DL_Assignment1' when running a sweep."
      ],
      "text/plain": [
       "<IPython.core.display.HTML object>"
      ]
     },
     "metadata": {},
     "output_type": "display_data"
    },
    {
     "data": {
      "text/html": [
       "Tracking run with wandb version 0.19.8"
      ],
      "text/plain": [
       "<IPython.core.display.HTML object>"
      ]
     },
     "metadata": {},
     "output_type": "display_data"
    },
    {
     "data": {
      "text/html": [
       "Run data is saved locally in <code>/home/ubuntu/wandb/run-20250310_202443-nvha2gpa</code>"
      ],
      "text/plain": [
       "<IPython.core.display.HTML object>"
      ]
     },
     "metadata": {},
     "output_type": "display_data"
    },
    {
     "data": {
      "text/html": [
       "Syncing run <strong><a href='https://wandb.ai/cs24m021-iit-madras/DA6401_DL_Assignment1/runs/nvha2gpa' target=\"_blank\">upbeat-sweep-15</a></strong> to <a href='https://wandb.ai/cs24m021-iit-madras/DA6401_DL_Assignment1' target=\"_blank\">Weights & Biases</a> (<a href='https://wandb.me/developer-guide' target=\"_blank\">docs</a>)<br>Sweep page: <a href='https://wandb.ai/cs24m021-iit-madras/DA6401_DL_Assignment1/sweeps/6frmzevi' target=\"_blank\">https://wandb.ai/cs24m021-iit-madras/DA6401_DL_Assignment1/sweeps/6frmzevi</a>"
      ],
      "text/plain": [
       "<IPython.core.display.HTML object>"
      ]
     },
     "metadata": {},
     "output_type": "display_data"
    },
    {
     "data": {
      "text/html": [
       " View project at <a href='https://wandb.ai/cs24m021-iit-madras/DA6401_DL_Assignment1' target=\"_blank\">https://wandb.ai/cs24m021-iit-madras/DA6401_DL_Assignment1</a>"
      ],
      "text/plain": [
       "<IPython.core.display.HTML object>"
      ]
     },
     "metadata": {},
     "output_type": "display_data"
    },
    {
     "data": {
      "text/html": [
       " View sweep at <a href='https://wandb.ai/cs24m021-iit-madras/DA6401_DL_Assignment1/sweeps/6frmzevi' target=\"_blank\">https://wandb.ai/cs24m021-iit-madras/DA6401_DL_Assignment1/sweeps/6frmzevi</a>"
      ],
      "text/plain": [
       "<IPython.core.display.HTML object>"
      ]
     },
     "metadata": {},
     "output_type": "display_data"
    },
    {
     "data": {
      "text/html": [
       " View run at <a href='https://wandb.ai/cs24m021-iit-madras/DA6401_DL_Assignment1/runs/nvha2gpa' target=\"_blank\">https://wandb.ai/cs24m021-iit-madras/DA6401_DL_Assignment1/runs/nvha2gpa</a>"
      ],
      "text/plain": [
       "<IPython.core.display.HTML object>"
      ]
     },
     "metadata": {},
     "output_type": "display_data"
    },
    {
     "name": "stdout",
     "output_type": "stream",
     "text": [
      "Epoch 1: Train Loss=1.1951, Train Acc=59.16%, Val Loss=1.2026, Val Acc=58.57%\n",
      "Epoch 2: Train Loss=0.9224, Train Acc=67.21%, Val Loss=0.9255, Val Acc=67.43%\n",
      "Epoch 3: Train Loss=0.7776, Train Acc=71.42%, Val Loss=0.7840, Val Acc=70.52%\n",
      "Epoch 4: Train Loss=0.7009, Train Acc=74.46%, Val Loss=0.7106, Val Acc=73.70%\n",
      "Epoch 5: Train Loss=0.6541, Train Acc=76.99%, Val Loss=0.6661, Val Acc=76.15%\n",
      "Test Loss: 0.6785, Test Acc: 75.84%\n"
     ]
    },
    {
     "data": {
      "text/html": [],
      "text/plain": [
       "<IPython.core.display.HTML object>"
      ]
     },
     "metadata": {},
     "output_type": "display_data"
    },
    {
     "data": {
      "text/html": [
       "<br>    <style><br>        .wandb-row {<br>            display: flex;<br>            flex-direction: row;<br>            flex-wrap: wrap;<br>            justify-content: flex-start;<br>            width: 100%;<br>        }<br>        .wandb-col {<br>            display: flex;<br>            flex-direction: column;<br>            flex-basis: 100%;<br>            flex: 1;<br>            padding: 10px;<br>        }<br>    </style><br><div class=\"wandb-row\"><div class=\"wandb-col\"><h3>Run history:</h3><br/><table class=\"wandb\"><tr><td>epoch</td><td>▁▃▅▆█</td></tr><tr><td>test_accuracy</td><td>▁</td></tr><tr><td>train_acc</td><td>▁▄▆▇█</td></tr><tr><td>train_loss</td><td>█▄▃▂▁</td></tr><tr><td>val_acc</td><td>▁▅▆▇█</td></tr><tr><td>val_loss</td><td>█▄▃▂▁</td></tr></table><br/></div><div class=\"wandb-col\"><h3>Run summary:</h3><br/><table class=\"wandb\"><tr><td>epoch</td><td>5</td></tr><tr><td>test_accuracy</td><td>75.84</td></tr><tr><td>train_acc</td><td>76.98704</td></tr><tr><td>train_loss</td><td>0.65411</td></tr><tr><td>val_acc</td><td>76.15</td></tr><tr><td>val_loss</td><td>0.66614</td></tr></table><br/></div></div>"
      ],
      "text/plain": [
       "<IPython.core.display.HTML object>"
      ]
     },
     "metadata": {},
     "output_type": "display_data"
    },
    {
     "data": {
      "text/html": [
       " View run <strong style=\"color:#cdcd00\">opt_rmsprop_hl_4_bs_16_e_5_act_sigmoid_eta_0.0001_init_Xavier_hls_64_dataset_fashion_mnist_cross_entropy</strong> at: <a href='https://wandb.ai/cs24m021-iit-madras/DA6401_DL_Assignment1/runs/nvha2gpa' target=\"_blank\">https://wandb.ai/cs24m021-iit-madras/DA6401_DL_Assignment1/runs/nvha2gpa</a><br> View project at: <a href='https://wandb.ai/cs24m021-iit-madras/DA6401_DL_Assignment1' target=\"_blank\">https://wandb.ai/cs24m021-iit-madras/DA6401_DL_Assignment1</a><br>Synced 5 W&B file(s), 0 media file(s), 0 artifact file(s) and 0 other file(s)"
      ],
      "text/plain": [
       "<IPython.core.display.HTML object>"
      ]
     },
     "metadata": {},
     "output_type": "display_data"
    },
    {
     "data": {
      "text/html": [
       "Find logs at: <code>./wandb/run-20250310_202443-nvha2gpa/logs</code>"
      ],
      "text/plain": [
       "<IPython.core.display.HTML object>"
      ]
     },
     "metadata": {},
     "output_type": "display_data"
    },
    {
     "name": "stderr",
     "output_type": "stream",
     "text": [
      "\u001b[34m\u001b[1mwandb\u001b[0m: Agent Starting Run: k2zl7l5y with config:\n",
      "\u001b[34m\u001b[1mwandb\u001b[0m: \tactivation: tanh\n",
      "\u001b[34m\u001b[1mwandb\u001b[0m: \tbatch_size: 16\n",
      "\u001b[34m\u001b[1mwandb\u001b[0m: \tdataset: fashion_mnist\n",
      "\u001b[34m\u001b[1mwandb\u001b[0m: \tepochs: 5\n",
      "\u001b[34m\u001b[1mwandb\u001b[0m: \thidden_layer_sizes: 32\n",
      "\u001b[34m\u001b[1mwandb\u001b[0m: \thidden_layers: 5\n",
      "\u001b[34m\u001b[1mwandb\u001b[0m: \tinitialization: random\n",
      "\u001b[34m\u001b[1mwandb\u001b[0m: \tlearning_rate: 0.001\n",
      "\u001b[34m\u001b[1mwandb\u001b[0m: \toptimizer: rmsprop\n",
      "\u001b[34m\u001b[1mwandb\u001b[0m: \tweight_decay: 0.0005\n"
     ]
    },
    {
     "data": {
      "text/html": [
       "Ignoring project 'DA6401_DL_Assignment1' when running a sweep."
      ],
      "text/plain": [
       "<IPython.core.display.HTML object>"
      ]
     },
     "metadata": {},
     "output_type": "display_data"
    },
    {
     "data": {
      "text/html": [
       "Tracking run with wandb version 0.19.8"
      ],
      "text/plain": [
       "<IPython.core.display.HTML object>"
      ]
     },
     "metadata": {},
     "output_type": "display_data"
    },
    {
     "data": {
      "text/html": [
       "Run data is saved locally in <code>/home/ubuntu/wandb/run-20250310_202511-k2zl7l5y</code>"
      ],
      "text/plain": [
       "<IPython.core.display.HTML object>"
      ]
     },
     "metadata": {},
     "output_type": "display_data"
    },
    {
     "data": {
      "text/html": [
       "Syncing run <strong><a href='https://wandb.ai/cs24m021-iit-madras/DA6401_DL_Assignment1/runs/k2zl7l5y' target=\"_blank\">pious-sweep-16</a></strong> to <a href='https://wandb.ai/cs24m021-iit-madras/DA6401_DL_Assignment1' target=\"_blank\">Weights & Biases</a> (<a href='https://wandb.me/developer-guide' target=\"_blank\">docs</a>)<br>Sweep page: <a href='https://wandb.ai/cs24m021-iit-madras/DA6401_DL_Assignment1/sweeps/6frmzevi' target=\"_blank\">https://wandb.ai/cs24m021-iit-madras/DA6401_DL_Assignment1/sweeps/6frmzevi</a>"
      ],
      "text/plain": [
       "<IPython.core.display.HTML object>"
      ]
     },
     "metadata": {},
     "output_type": "display_data"
    },
    {
     "data": {
      "text/html": [
       " View project at <a href='https://wandb.ai/cs24m021-iit-madras/DA6401_DL_Assignment1' target=\"_blank\">https://wandb.ai/cs24m021-iit-madras/DA6401_DL_Assignment1</a>"
      ],
      "text/plain": [
       "<IPython.core.display.HTML object>"
      ]
     },
     "metadata": {},
     "output_type": "display_data"
    },
    {
     "data": {
      "text/html": [
       " View sweep at <a href='https://wandb.ai/cs24m021-iit-madras/DA6401_DL_Assignment1/sweeps/6frmzevi' target=\"_blank\">https://wandb.ai/cs24m021-iit-madras/DA6401_DL_Assignment1/sweeps/6frmzevi</a>"
      ],
      "text/plain": [
       "<IPython.core.display.HTML object>"
      ]
     },
     "metadata": {},
     "output_type": "display_data"
    },
    {
     "data": {
      "text/html": [
       " View run at <a href='https://wandb.ai/cs24m021-iit-madras/DA6401_DL_Assignment1/runs/k2zl7l5y' target=\"_blank\">https://wandb.ai/cs24m021-iit-madras/DA6401_DL_Assignment1/runs/k2zl7l5y</a>"
      ],
      "text/plain": [
       "<IPython.core.display.HTML object>"
      ]
     },
     "metadata": {},
     "output_type": "display_data"
    },
    {
     "name": "stdout",
     "output_type": "stream",
     "text": [
      "Epoch 1: Train Loss=1.0892, Train Acc=58.94%, Val Loss=1.1078, Val Acc=58.63%\n",
      "Epoch 2: Train Loss=0.8729, Train Acc=66.80%, Val Loss=0.8858, Val Acc=66.32%\n",
      "Epoch 3: Train Loss=0.7781, Train Acc=69.00%, Val Loss=0.7939, Val Acc=68.33%\n",
      "Epoch 4: Train Loss=0.6887, Train Acc=73.10%, Val Loss=0.7177, Val Acc=72.22%\n",
      "Epoch 5: Train Loss=0.6292, Train Acc=76.42%, Val Loss=0.6578, Val Acc=75.28%\n",
      "Test Loss: 0.6565, Test Acc: 75.34%\n"
     ]
    },
    {
     "data": {
      "text/html": [],
      "text/plain": [
       "<IPython.core.display.HTML object>"
      ]
     },
     "metadata": {},
     "output_type": "display_data"
    },
    {
     "data": {
      "text/html": [
       "<br>    <style><br>        .wandb-row {<br>            display: flex;<br>            flex-direction: row;<br>            flex-wrap: wrap;<br>            justify-content: flex-start;<br>            width: 100%;<br>        }<br>        .wandb-col {<br>            display: flex;<br>            flex-direction: column;<br>            flex-basis: 100%;<br>            flex: 1;<br>            padding: 10px;<br>        }<br>    </style><br><div class=\"wandb-row\"><div class=\"wandb-col\"><h3>Run history:</h3><br/><table class=\"wandb\"><tr><td>epoch</td><td>▁▃▅▆█</td></tr><tr><td>test_accuracy</td><td>▁</td></tr><tr><td>train_acc</td><td>▁▄▅▇█</td></tr><tr><td>train_loss</td><td>█▅▃▂▁</td></tr><tr><td>val_acc</td><td>▁▄▅▇█</td></tr><tr><td>val_loss</td><td>█▅▃▂▁</td></tr></table><br/></div><div class=\"wandb-col\"><h3>Run summary:</h3><br/><table class=\"wandb\"><tr><td>epoch</td><td>5</td></tr><tr><td>test_accuracy</td><td>75.34</td></tr><tr><td>train_acc</td><td>76.41852</td></tr><tr><td>train_loss</td><td>0.6292</td></tr><tr><td>val_acc</td><td>75.28333</td></tr><tr><td>val_loss</td><td>0.65777</td></tr></table><br/></div></div>"
      ],
      "text/plain": [
       "<IPython.core.display.HTML object>"
      ]
     },
     "metadata": {},
     "output_type": "display_data"
    },
    {
     "data": {
      "text/html": [
       " View run <strong style=\"color:#cdcd00\">opt_rmsprop_hl_5_bs_16_e_5_act_tanh_eta_0.001_init_random_hls_32_dataset_fashion_mnist_cross_entropy</strong> at: <a href='https://wandb.ai/cs24m021-iit-madras/DA6401_DL_Assignment1/runs/k2zl7l5y' target=\"_blank\">https://wandb.ai/cs24m021-iit-madras/DA6401_DL_Assignment1/runs/k2zl7l5y</a><br> View project at: <a href='https://wandb.ai/cs24m021-iit-madras/DA6401_DL_Assignment1' target=\"_blank\">https://wandb.ai/cs24m021-iit-madras/DA6401_DL_Assignment1</a><br>Synced 5 W&B file(s), 0 media file(s), 0 artifact file(s) and 0 other file(s)"
      ],
      "text/plain": [
       "<IPython.core.display.HTML object>"
      ]
     },
     "metadata": {},
     "output_type": "display_data"
    },
    {
     "data": {
      "text/html": [
       "Find logs at: <code>./wandb/run-20250310_202511-k2zl7l5y/logs</code>"
      ],
      "text/plain": [
       "<IPython.core.display.HTML object>"
      ]
     },
     "metadata": {},
     "output_type": "display_data"
    },
    {
     "name": "stderr",
     "output_type": "stream",
     "text": [
      "\u001b[34m\u001b[1mwandb\u001b[0m: Agent Starting Run: do0kv84f with config:\n",
      "\u001b[34m\u001b[1mwandb\u001b[0m: \tactivation: tanh\n",
      "\u001b[34m\u001b[1mwandb\u001b[0m: \tbatch_size: 64\n",
      "\u001b[34m\u001b[1mwandb\u001b[0m: \tdataset: fashion_mnist\n",
      "\u001b[34m\u001b[1mwandb\u001b[0m: \tepochs: 5\n",
      "\u001b[34m\u001b[1mwandb\u001b[0m: \thidden_layer_sizes: 32\n",
      "\u001b[34m\u001b[1mwandb\u001b[0m: \thidden_layers: 3\n",
      "\u001b[34m\u001b[1mwandb\u001b[0m: \tinitialization: Xavier\n",
      "\u001b[34m\u001b[1mwandb\u001b[0m: \tlearning_rate: 0.0001\n",
      "\u001b[34m\u001b[1mwandb\u001b[0m: \toptimizer: nadam\n",
      "\u001b[34m\u001b[1mwandb\u001b[0m: \tweight_decay: 0.0005\n"
     ]
    },
    {
     "data": {
      "text/html": [
       "Ignoring project 'DA6401_DL_Assignment1' when running a sweep."
      ],
      "text/plain": [
       "<IPython.core.display.HTML object>"
      ]
     },
     "metadata": {},
     "output_type": "display_data"
    },
    {
     "data": {
      "text/html": [
       "Tracking run with wandb version 0.19.8"
      ],
      "text/plain": [
       "<IPython.core.display.HTML object>"
      ]
     },
     "metadata": {},
     "output_type": "display_data"
    },
    {
     "data": {
      "text/html": [
       "Run data is saved locally in <code>/home/ubuntu/wandb/run-20250310_202527-do0kv84f</code>"
      ],
      "text/plain": [
       "<IPython.core.display.HTML object>"
      ]
     },
     "metadata": {},
     "output_type": "display_data"
    },
    {
     "data": {
      "text/html": [
       "Syncing run <strong><a href='https://wandb.ai/cs24m021-iit-madras/DA6401_DL_Assignment1/runs/do0kv84f' target=\"_blank\">icy-sweep-17</a></strong> to <a href='https://wandb.ai/cs24m021-iit-madras/DA6401_DL_Assignment1' target=\"_blank\">Weights & Biases</a> (<a href='https://wandb.me/developer-guide' target=\"_blank\">docs</a>)<br>Sweep page: <a href='https://wandb.ai/cs24m021-iit-madras/DA6401_DL_Assignment1/sweeps/6frmzevi' target=\"_blank\">https://wandb.ai/cs24m021-iit-madras/DA6401_DL_Assignment1/sweeps/6frmzevi</a>"
      ],
      "text/plain": [
       "<IPython.core.display.HTML object>"
      ]
     },
     "metadata": {},
     "output_type": "display_data"
    },
    {
     "data": {
      "text/html": [
       " View project at <a href='https://wandb.ai/cs24m021-iit-madras/DA6401_DL_Assignment1' target=\"_blank\">https://wandb.ai/cs24m021-iit-madras/DA6401_DL_Assignment1</a>"
      ],
      "text/plain": [
       "<IPython.core.display.HTML object>"
      ]
     },
     "metadata": {},
     "output_type": "display_data"
    },
    {
     "data": {
      "text/html": [
       " View sweep at <a href='https://wandb.ai/cs24m021-iit-madras/DA6401_DL_Assignment1/sweeps/6frmzevi' target=\"_blank\">https://wandb.ai/cs24m021-iit-madras/DA6401_DL_Assignment1/sweeps/6frmzevi</a>"
      ],
      "text/plain": [
       "<IPython.core.display.HTML object>"
      ]
     },
     "metadata": {},
     "output_type": "display_data"
    },
    {
     "data": {
      "text/html": [
       " View run at <a href='https://wandb.ai/cs24m021-iit-madras/DA6401_DL_Assignment1/runs/do0kv84f' target=\"_blank\">https://wandb.ai/cs24m021-iit-madras/DA6401_DL_Assignment1/runs/do0kv84f</a>"
      ],
      "text/plain": [
       "<IPython.core.display.HTML object>"
      ]
     },
     "metadata": {},
     "output_type": "display_data"
    },
    {
     "name": "stdout",
     "output_type": "stream",
     "text": [
      "Epoch 1: Train Loss=0.7550, Train Acc=76.54%, Val Loss=0.7680, Val Acc=75.30%\n",
      "Epoch 2: Train Loss=0.6121, Train Acc=80.10%, Val Loss=0.6264, Val Acc=78.73%\n",
      "Epoch 3: Train Loss=0.5424, Train Acc=82.24%, Val Loss=0.5553, Val Acc=81.30%\n",
      "Epoch 4: Train Loss=0.4999, Train Acc=83.30%, Val Loss=0.5114, Val Acc=82.37%\n",
      "Epoch 5: Train Loss=0.4718, Train Acc=83.94%, Val Loss=0.4824, Val Acc=83.18%\n",
      "Test Loss: 0.5023, Test Acc: 82.67%\n"
     ]
    },
    {
     "data": {
      "text/html": [],
      "text/plain": [
       "<IPython.core.display.HTML object>"
      ]
     },
     "metadata": {},
     "output_type": "display_data"
    },
    {
     "data": {
      "text/html": [
       "<br>    <style><br>        .wandb-row {<br>            display: flex;<br>            flex-direction: row;<br>            flex-wrap: wrap;<br>            justify-content: flex-start;<br>            width: 100%;<br>        }<br>        .wandb-col {<br>            display: flex;<br>            flex-direction: column;<br>            flex-basis: 100%;<br>            flex: 1;<br>            padding: 10px;<br>        }<br>    </style><br><div class=\"wandb-row\"><div class=\"wandb-col\"><h3>Run history:</h3><br/><table class=\"wandb\"><tr><td>epoch</td><td>▁▃▅▆█</td></tr><tr><td>test_accuracy</td><td>▁</td></tr><tr><td>train_acc</td><td>▁▄▆▇█</td></tr><tr><td>train_loss</td><td>█▄▃▂▁</td></tr><tr><td>val_acc</td><td>▁▄▆▇█</td></tr><tr><td>val_loss</td><td>█▅▃▂▁</td></tr></table><br/></div><div class=\"wandb-col\"><h3>Run summary:</h3><br/><table class=\"wandb\"><tr><td>epoch</td><td>5</td></tr><tr><td>test_accuracy</td><td>82.67</td></tr><tr><td>train_acc</td><td>83.94074</td></tr><tr><td>train_loss</td><td>0.47178</td></tr><tr><td>val_acc</td><td>83.18333</td></tr><tr><td>val_loss</td><td>0.48236</td></tr></table><br/></div></div>"
      ],
      "text/plain": [
       "<IPython.core.display.HTML object>"
      ]
     },
     "metadata": {},
     "output_type": "display_data"
    },
    {
     "data": {
      "text/html": [
       " View run <strong style=\"color:#cdcd00\">opt_nadam_hl_3_bs_64_e_5_act_tanh_eta_0.0001_init_Xavier_hls_32_dataset_fashion_mnist_cross_entropy</strong> at: <a href='https://wandb.ai/cs24m021-iit-madras/DA6401_DL_Assignment1/runs/do0kv84f' target=\"_blank\">https://wandb.ai/cs24m021-iit-madras/DA6401_DL_Assignment1/runs/do0kv84f</a><br> View project at: <a href='https://wandb.ai/cs24m021-iit-madras/DA6401_DL_Assignment1' target=\"_blank\">https://wandb.ai/cs24m021-iit-madras/DA6401_DL_Assignment1</a><br>Synced 5 W&B file(s), 0 media file(s), 0 artifact file(s) and 0 other file(s)"
      ],
      "text/plain": [
       "<IPython.core.display.HTML object>"
      ]
     },
     "metadata": {},
     "output_type": "display_data"
    },
    {
     "data": {
      "text/html": [
       "Find logs at: <code>./wandb/run-20250310_202527-do0kv84f/logs</code>"
      ],
      "text/plain": [
       "<IPython.core.display.HTML object>"
      ]
     },
     "metadata": {},
     "output_type": "display_data"
    },
    {
     "name": "stderr",
     "output_type": "stream",
     "text": [
      "\u001b[34m\u001b[1mwandb\u001b[0m: Sweep Agent: Waiting for job.\n",
      "\u001b[34m\u001b[1mwandb\u001b[0m: Job received.\n",
      "\u001b[34m\u001b[1mwandb\u001b[0m: Agent Starting Run: 4iqiqcnt with config:\n",
      "\u001b[34m\u001b[1mwandb\u001b[0m: \tactivation: tanh\n",
      "\u001b[34m\u001b[1mwandb\u001b[0m: \tbatch_size: 32\n",
      "\u001b[34m\u001b[1mwandb\u001b[0m: \tdataset: fashion_mnist\n",
      "\u001b[34m\u001b[1mwandb\u001b[0m: \tepochs: 10\n",
      "\u001b[34m\u001b[1mwandb\u001b[0m: \thidden_layer_sizes: 64\n",
      "\u001b[34m\u001b[1mwandb\u001b[0m: \thidden_layers: 5\n",
      "\u001b[34m\u001b[1mwandb\u001b[0m: \tinitialization: random\n",
      "\u001b[34m\u001b[1mwandb\u001b[0m: \tlearning_rate: 0.0001\n",
      "\u001b[34m\u001b[1mwandb\u001b[0m: \toptimizer: adam\n",
      "\u001b[34m\u001b[1mwandb\u001b[0m: \tweight_decay: 0.0005\n"
     ]
    },
    {
     "data": {
      "text/html": [
       "Ignoring project 'DA6401_DL_Assignment1' when running a sweep."
      ],
      "text/plain": [
       "<IPython.core.display.HTML object>"
      ]
     },
     "metadata": {},
     "output_type": "display_data"
    },
    {
     "data": {
      "text/html": [
       "Tracking run with wandb version 0.19.8"
      ],
      "text/plain": [
       "<IPython.core.display.HTML object>"
      ]
     },
     "metadata": {},
     "output_type": "display_data"
    },
    {
     "data": {
      "text/html": [
       "Run data is saved locally in <code>/home/ubuntu/wandb/run-20250310_202548-4iqiqcnt</code>"
      ],
      "text/plain": [
       "<IPython.core.display.HTML object>"
      ]
     },
     "metadata": {},
     "output_type": "display_data"
    },
    {
     "data": {
      "text/html": [
       "Syncing run <strong><a href='https://wandb.ai/cs24m021-iit-madras/DA6401_DL_Assignment1/runs/4iqiqcnt' target=\"_blank\">youthful-sweep-18</a></strong> to <a href='https://wandb.ai/cs24m021-iit-madras/DA6401_DL_Assignment1' target=\"_blank\">Weights & Biases</a> (<a href='https://wandb.me/developer-guide' target=\"_blank\">docs</a>)<br>Sweep page: <a href='https://wandb.ai/cs24m021-iit-madras/DA6401_DL_Assignment1/sweeps/6frmzevi' target=\"_blank\">https://wandb.ai/cs24m021-iit-madras/DA6401_DL_Assignment1/sweeps/6frmzevi</a>"
      ],
      "text/plain": [
       "<IPython.core.display.HTML object>"
      ]
     },
     "metadata": {},
     "output_type": "display_data"
    },
    {
     "data": {
      "text/html": [
       " View project at <a href='https://wandb.ai/cs24m021-iit-madras/DA6401_DL_Assignment1' target=\"_blank\">https://wandb.ai/cs24m021-iit-madras/DA6401_DL_Assignment1</a>"
      ],
      "text/plain": [
       "<IPython.core.display.HTML object>"
      ]
     },
     "metadata": {},
     "output_type": "display_data"
    },
    {
     "data": {
      "text/html": [
       " View sweep at <a href='https://wandb.ai/cs24m021-iit-madras/DA6401_DL_Assignment1/sweeps/6frmzevi' target=\"_blank\">https://wandb.ai/cs24m021-iit-madras/DA6401_DL_Assignment1/sweeps/6frmzevi</a>"
      ],
      "text/plain": [
       "<IPython.core.display.HTML object>"
      ]
     },
     "metadata": {},
     "output_type": "display_data"
    },
    {
     "data": {
      "text/html": [
       " View run at <a href='https://wandb.ai/cs24m021-iit-madras/DA6401_DL_Assignment1/runs/4iqiqcnt' target=\"_blank\">https://wandb.ai/cs24m021-iit-madras/DA6401_DL_Assignment1/runs/4iqiqcnt</a>"
      ],
      "text/plain": [
       "<IPython.core.display.HTML object>"
      ]
     },
     "metadata": {},
     "output_type": "display_data"
    },
    {
     "name": "stdout",
     "output_type": "stream",
     "text": [
      "Epoch 1: Train Loss=6.9931, Train Acc=17.73%, Val Loss=7.2381, Val Acc=17.20%\n",
      "Epoch 2: Train Loss=5.7097, Train Acc=22.74%, Val Loss=5.9138, Val Acc=22.48%\n",
      "Epoch 3: Train Loss=4.8567, Train Acc=26.93%, Val Loss=5.1011, Val Acc=25.42%\n",
      "Epoch 4: Train Loss=4.2666, Train Acc=29.96%, Val Loss=4.4504, Val Acc=29.20%\n",
      "Epoch 5: Train Loss=3.7873, Train Acc=32.48%, Val Loss=3.9878, Val Acc=31.58%\n",
      "Epoch 6: Train Loss=3.3992, Train Acc=34.70%, Val Loss=3.5653, Val Acc=34.30%\n",
      "Epoch 7: Train Loss=3.0503, Train Acc=37.02%, Val Loss=3.1746, Val Acc=36.27%\n",
      "Epoch 8: Train Loss=2.8040, Train Acc=38.76%, Val Loss=2.9475, Val Acc=38.52%\n",
      "Epoch 9: Train Loss=2.6091, Train Acc=40.25%, Val Loss=2.7284, Val Acc=39.35%\n",
      "Epoch 10: Train Loss=2.4162, Train Acc=41.91%, Val Loss=2.5663, Val Acc=40.90%\n",
      "Test Loss: 2.5917, Test Acc: 39.84%\n"
     ]
    },
    {
     "data": {
      "text/html": [],
      "text/plain": [
       "<IPython.core.display.HTML object>"
      ]
     },
     "metadata": {},
     "output_type": "display_data"
    },
    {
     "data": {
      "text/html": [
       "<br>    <style><br>        .wandb-row {<br>            display: flex;<br>            flex-direction: row;<br>            flex-wrap: wrap;<br>            justify-content: flex-start;<br>            width: 100%;<br>        }<br>        .wandb-col {<br>            display: flex;<br>            flex-direction: column;<br>            flex-basis: 100%;<br>            flex: 1;<br>            padding: 10px;<br>        }<br>    </style><br><div class=\"wandb-row\"><div class=\"wandb-col\"><h3>Run history:</h3><br/><table class=\"wandb\"><tr><td>epoch</td><td>▁▂▃▃▄▅▆▆▇█</td></tr><tr><td>test_accuracy</td><td>▁</td></tr><tr><td>train_acc</td><td>▁▂▄▅▅▆▇▇██</td></tr><tr><td>train_loss</td><td>█▆▅▄▃▃▂▂▁▁</td></tr><tr><td>val_acc</td><td>▁▃▃▅▅▆▇▇██</td></tr><tr><td>val_loss</td><td>█▆▅▄▃▂▂▂▁▁</td></tr></table><br/></div><div class=\"wandb-col\"><h3>Run summary:</h3><br/><table class=\"wandb\"><tr><td>epoch</td><td>10</td></tr><tr><td>test_accuracy</td><td>39.84</td></tr><tr><td>train_acc</td><td>41.91296</td></tr><tr><td>train_loss</td><td>2.41618</td></tr><tr><td>val_acc</td><td>40.9</td></tr><tr><td>val_loss</td><td>2.56628</td></tr></table><br/></div></div>"
      ],
      "text/plain": [
       "<IPython.core.display.HTML object>"
      ]
     },
     "metadata": {},
     "output_type": "display_data"
    },
    {
     "data": {
      "text/html": [
       " View run <strong style=\"color:#cdcd00\">opt_adam_hl_5_bs_32_e_10_act_tanh_eta_0.0001_init_random_hls_64_dataset_fashion_mnist_cross_entropy</strong> at: <a href='https://wandb.ai/cs24m021-iit-madras/DA6401_DL_Assignment1/runs/4iqiqcnt' target=\"_blank\">https://wandb.ai/cs24m021-iit-madras/DA6401_DL_Assignment1/runs/4iqiqcnt</a><br> View project at: <a href='https://wandb.ai/cs24m021-iit-madras/DA6401_DL_Assignment1' target=\"_blank\">https://wandb.ai/cs24m021-iit-madras/DA6401_DL_Assignment1</a><br>Synced 5 W&B file(s), 0 media file(s), 0 artifact file(s) and 0 other file(s)"
      ],
      "text/plain": [
       "<IPython.core.display.HTML object>"
      ]
     },
     "metadata": {},
     "output_type": "display_data"
    },
    {
     "data": {
      "text/html": [
       "Find logs at: <code>./wandb/run-20250310_202548-4iqiqcnt/logs</code>"
      ],
      "text/plain": [
       "<IPython.core.display.HTML object>"
      ]
     },
     "metadata": {},
     "output_type": "display_data"
    },
    {
     "name": "stderr",
     "output_type": "stream",
     "text": [
      "\u001b[34m\u001b[1mwandb\u001b[0m: Agent Starting Run: j5prbwgs with config:\n",
      "\u001b[34m\u001b[1mwandb\u001b[0m: \tactivation: sigmoid\n",
      "\u001b[34m\u001b[1mwandb\u001b[0m: \tbatch_size: 64\n",
      "\u001b[34m\u001b[1mwandb\u001b[0m: \tdataset: fashion_mnist\n",
      "\u001b[34m\u001b[1mwandb\u001b[0m: \tepochs: 5\n",
      "\u001b[34m\u001b[1mwandb\u001b[0m: \thidden_layer_sizes: 32\n",
      "\u001b[34m\u001b[1mwandb\u001b[0m: \thidden_layers: 4\n",
      "\u001b[34m\u001b[1mwandb\u001b[0m: \tinitialization: Xavier\n",
      "\u001b[34m\u001b[1mwandb\u001b[0m: \tlearning_rate: 0.0001\n",
      "\u001b[34m\u001b[1mwandb\u001b[0m: \toptimizer: momentum\n",
      "\u001b[34m\u001b[1mwandb\u001b[0m: \tweight_decay: 0\n"
     ]
    },
    {
     "data": {
      "text/html": [
       "Ignoring project 'DA6401_DL_Assignment1' when running a sweep."
      ],
      "text/plain": [
       "<IPython.core.display.HTML object>"
      ]
     },
     "metadata": {},
     "output_type": "display_data"
    },
    {
     "data": {
      "text/html": [
       "Tracking run with wandb version 0.19.8"
      ],
      "text/plain": [
       "<IPython.core.display.HTML object>"
      ]
     },
     "metadata": {},
     "output_type": "display_data"
    },
    {
     "data": {
      "text/html": [
       "Run data is saved locally in <code>/home/ubuntu/wandb/run-20250310_202647-j5prbwgs</code>"
      ],
      "text/plain": [
       "<IPython.core.display.HTML object>"
      ]
     },
     "metadata": {},
     "output_type": "display_data"
    },
    {
     "data": {
      "text/html": [
       "Syncing run <strong><a href='https://wandb.ai/cs24m021-iit-madras/DA6401_DL_Assignment1/runs/j5prbwgs' target=\"_blank\">hearty-sweep-19</a></strong> to <a href='https://wandb.ai/cs24m021-iit-madras/DA6401_DL_Assignment1' target=\"_blank\">Weights & Biases</a> (<a href='https://wandb.me/developer-guide' target=\"_blank\">docs</a>)<br>Sweep page: <a href='https://wandb.ai/cs24m021-iit-madras/DA6401_DL_Assignment1/sweeps/6frmzevi' target=\"_blank\">https://wandb.ai/cs24m021-iit-madras/DA6401_DL_Assignment1/sweeps/6frmzevi</a>"
      ],
      "text/plain": [
       "<IPython.core.display.HTML object>"
      ]
     },
     "metadata": {},
     "output_type": "display_data"
    },
    {
     "data": {
      "text/html": [
       " View project at <a href='https://wandb.ai/cs24m021-iit-madras/DA6401_DL_Assignment1' target=\"_blank\">https://wandb.ai/cs24m021-iit-madras/DA6401_DL_Assignment1</a>"
      ],
      "text/plain": [
       "<IPython.core.display.HTML object>"
      ]
     },
     "metadata": {},
     "output_type": "display_data"
    },
    {
     "data": {
      "text/html": [
       " View sweep at <a href='https://wandb.ai/cs24m021-iit-madras/DA6401_DL_Assignment1/sweeps/6frmzevi' target=\"_blank\">https://wandb.ai/cs24m021-iit-madras/DA6401_DL_Assignment1/sweeps/6frmzevi</a>"
      ],
      "text/plain": [
       "<IPython.core.display.HTML object>"
      ]
     },
     "metadata": {},
     "output_type": "display_data"
    },
    {
     "data": {
      "text/html": [
       " View run at <a href='https://wandb.ai/cs24m021-iit-madras/DA6401_DL_Assignment1/runs/j5prbwgs' target=\"_blank\">https://wandb.ai/cs24m021-iit-madras/DA6401_DL_Assignment1/runs/j5prbwgs</a>"
      ],
      "text/plain": [
       "<IPython.core.display.HTML object>"
      ]
     },
     "metadata": {},
     "output_type": "display_data"
    },
    {
     "name": "stdout",
     "output_type": "stream",
     "text": [
      "Epoch 1: Train Loss=2.4789, Train Acc=10.02%, Val Loss=2.4757, Val Acc=9.83%\n",
      "Epoch 2: Train Loss=2.3600, Train Acc=10.02%, Val Loss=2.3566, Val Acc=9.83%\n",
      "Epoch 3: Train Loss=2.3224, Train Acc=10.02%, Val Loss=2.3198, Val Acc=9.83%\n",
      "Epoch 4: Train Loss=2.3092, Train Acc=10.02%, Val Loss=2.3076, Val Acc=9.83%\n",
      "Epoch 5: Train Loss=2.3047, Train Acc=10.02%, Val Loss=2.3039, Val Acc=9.83%\n",
      "Test Loss: 2.3046, Test Acc: 10.00%\n"
     ]
    },
    {
     "data": {
      "text/html": [],
      "text/plain": [
       "<IPython.core.display.HTML object>"
      ]
     },
     "metadata": {},
     "output_type": "display_data"
    },
    {
     "data": {
      "text/html": [
       "<br>    <style><br>        .wandb-row {<br>            display: flex;<br>            flex-direction: row;<br>            flex-wrap: wrap;<br>            justify-content: flex-start;<br>            width: 100%;<br>        }<br>        .wandb-col {<br>            display: flex;<br>            flex-direction: column;<br>            flex-basis: 100%;<br>            flex: 1;<br>            padding: 10px;<br>        }<br>    </style><br><div class=\"wandb-row\"><div class=\"wandb-col\"><h3>Run history:</h3><br/><table class=\"wandb\"><tr><td>epoch</td><td>▁▃▅▆█</td></tr><tr><td>test_accuracy</td><td>▁</td></tr><tr><td>train_acc</td><td>▁▁▁▁▁</td></tr><tr><td>train_loss</td><td>█▃▂▁▁</td></tr><tr><td>val_acc</td><td>▁▁▁▁▁</td></tr><tr><td>val_loss</td><td>█▃▂▁▁</td></tr></table><br/></div><div class=\"wandb-col\"><h3>Run summary:</h3><br/><table class=\"wandb\"><tr><td>epoch</td><td>5</td></tr><tr><td>test_accuracy</td><td>10</td></tr><tr><td>train_acc</td><td>10.01852</td></tr><tr><td>train_loss</td><td>2.30474</td></tr><tr><td>val_acc</td><td>9.83333</td></tr><tr><td>val_loss</td><td>2.30387</td></tr></table><br/></div></div>"
      ],
      "text/plain": [
       "<IPython.core.display.HTML object>"
      ]
     },
     "metadata": {},
     "output_type": "display_data"
    },
    {
     "data": {
      "text/html": [
       " View run <strong style=\"color:#cdcd00\">opt_momentum_hl_4_bs_64_e_5_act_sigmoid_eta_0.0001_init_Xavier_hls_32_dataset_fashion_mnist_cross_entropy</strong> at: <a href='https://wandb.ai/cs24m021-iit-madras/DA6401_DL_Assignment1/runs/j5prbwgs' target=\"_blank\">https://wandb.ai/cs24m021-iit-madras/DA6401_DL_Assignment1/runs/j5prbwgs</a><br> View project at: <a href='https://wandb.ai/cs24m021-iit-madras/DA6401_DL_Assignment1' target=\"_blank\">https://wandb.ai/cs24m021-iit-madras/DA6401_DL_Assignment1</a><br>Synced 5 W&B file(s), 0 media file(s), 0 artifact file(s) and 0 other file(s)"
      ],
      "text/plain": [
       "<IPython.core.display.HTML object>"
      ]
     },
     "metadata": {},
     "output_type": "display_data"
    },
    {
     "data": {
      "text/html": [
       "Find logs at: <code>./wandb/run-20250310_202647-j5prbwgs/logs</code>"
      ],
      "text/plain": [
       "<IPython.core.display.HTML object>"
      ]
     },
     "metadata": {},
     "output_type": "display_data"
    },
    {
     "name": "stderr",
     "output_type": "stream",
     "text": [
      "\u001b[34m\u001b[1mwandb\u001b[0m: Agent Starting Run: txlkg3ip with config:\n",
      "\u001b[34m\u001b[1mwandb\u001b[0m: \tactivation: ReLU\n",
      "\u001b[34m\u001b[1mwandb\u001b[0m: \tbatch_size: 16\n",
      "\u001b[34m\u001b[1mwandb\u001b[0m: \tdataset: fashion_mnist\n",
      "\u001b[34m\u001b[1mwandb\u001b[0m: \tepochs: 5\n",
      "\u001b[34m\u001b[1mwandb\u001b[0m: \thidden_layer_sizes: 32\n",
      "\u001b[34m\u001b[1mwandb\u001b[0m: \thidden_layers: 3\n",
      "\u001b[34m\u001b[1mwandb\u001b[0m: \tinitialization: random\n",
      "\u001b[34m\u001b[1mwandb\u001b[0m: \tlearning_rate: 0.0001\n",
      "\u001b[34m\u001b[1mwandb\u001b[0m: \toptimizer: adam\n",
      "\u001b[34m\u001b[1mwandb\u001b[0m: \tweight_decay: 0.5\n"
     ]
    },
    {
     "data": {
      "text/html": [
       "Ignoring project 'DA6401_DL_Assignment1' when running a sweep."
      ],
      "text/plain": [
       "<IPython.core.display.HTML object>"
      ]
     },
     "metadata": {},
     "output_type": "display_data"
    },
    {
     "data": {
      "text/html": [
       "Tracking run with wandb version 0.19.8"
      ],
      "text/plain": [
       "<IPython.core.display.HTML object>"
      ]
     },
     "metadata": {},
     "output_type": "display_data"
    },
    {
     "data": {
      "text/html": [
       "Run data is saved locally in <code>/home/ubuntu/wandb/run-20250310_202703-txlkg3ip</code>"
      ],
      "text/plain": [
       "<IPython.core.display.HTML object>"
      ]
     },
     "metadata": {},
     "output_type": "display_data"
    },
    {
     "data": {
      "text/html": [
       "Syncing run <strong><a href='https://wandb.ai/cs24m021-iit-madras/DA6401_DL_Assignment1/runs/txlkg3ip' target=\"_blank\">sandy-sweep-20</a></strong> to <a href='https://wandb.ai/cs24m021-iit-madras/DA6401_DL_Assignment1' target=\"_blank\">Weights & Biases</a> (<a href='https://wandb.me/developer-guide' target=\"_blank\">docs</a>)<br>Sweep page: <a href='https://wandb.ai/cs24m021-iit-madras/DA6401_DL_Assignment1/sweeps/6frmzevi' target=\"_blank\">https://wandb.ai/cs24m021-iit-madras/DA6401_DL_Assignment1/sweeps/6frmzevi</a>"
      ],
      "text/plain": [
       "<IPython.core.display.HTML object>"
      ]
     },
     "metadata": {},
     "output_type": "display_data"
    },
    {
     "data": {
      "text/html": [
       " View project at <a href='https://wandb.ai/cs24m021-iit-madras/DA6401_DL_Assignment1' target=\"_blank\">https://wandb.ai/cs24m021-iit-madras/DA6401_DL_Assignment1</a>"
      ],
      "text/plain": [
       "<IPython.core.display.HTML object>"
      ]
     },
     "metadata": {},
     "output_type": "display_data"
    },
    {
     "data": {
      "text/html": [
       " View sweep at <a href='https://wandb.ai/cs24m021-iit-madras/DA6401_DL_Assignment1/sweeps/6frmzevi' target=\"_blank\">https://wandb.ai/cs24m021-iit-madras/DA6401_DL_Assignment1/sweeps/6frmzevi</a>"
      ],
      "text/plain": [
       "<IPython.core.display.HTML object>"
      ]
     },
     "metadata": {},
     "output_type": "display_data"
    },
    {
     "data": {
      "text/html": [
       " View run at <a href='https://wandb.ai/cs24m021-iit-madras/DA6401_DL_Assignment1/runs/txlkg3ip' target=\"_blank\">https://wandb.ai/cs24m021-iit-madras/DA6401_DL_Assignment1/runs/txlkg3ip</a>"
      ],
      "text/plain": [
       "<IPython.core.display.HTML object>"
      ]
     },
     "metadata": {},
     "output_type": "display_data"
    },
    {
     "name": "stdout",
     "output_type": "stream",
     "text": [
      "Epoch 1: Train Loss=15.8214, Train Acc=46.91%, Val Loss=16.0197, Val Acc=46.15%\n",
      "Epoch 2: Train Loss=11.8282, Train Acc=54.63%, Val Loss=12.0245, Val Acc=53.62%\n",
      "Epoch 3: Train Loss=8.8733, Train Acc=58.11%, Val Loss=9.0405, Val Acc=57.35%\n",
      "Epoch 4: Train Loss=5.9645, Train Acc=60.31%, Val Loss=6.0631, Val Acc=59.42%\n",
      "Epoch 5: Train Loss=3.5618, Train Acc=61.96%, Val Loss=3.5609, Val Acc=60.97%\n",
      "Test Loss: 3.7502, Test Acc: 60.45%\n"
     ]
    },
    {
     "data": {
      "text/html": [],
      "text/plain": [
       "<IPython.core.display.HTML object>"
      ]
     },
     "metadata": {},
     "output_type": "display_data"
    },
    {
     "data": {
      "text/html": [
       "<br>    <style><br>        .wandb-row {<br>            display: flex;<br>            flex-direction: row;<br>            flex-wrap: wrap;<br>            justify-content: flex-start;<br>            width: 100%;<br>        }<br>        .wandb-col {<br>            display: flex;<br>            flex-direction: column;<br>            flex-basis: 100%;<br>            flex: 1;<br>            padding: 10px;<br>        }<br>    </style><br><div class=\"wandb-row\"><div class=\"wandb-col\"><h3>Run history:</h3><br/><table class=\"wandb\"><tr><td>epoch</td><td>▁▃▅▆█</td></tr><tr><td>test_accuracy</td><td>▁</td></tr><tr><td>train_acc</td><td>▁▅▆▇█</td></tr><tr><td>train_loss</td><td>█▆▄▂▁</td></tr><tr><td>val_acc</td><td>▁▅▆▇█</td></tr><tr><td>val_loss</td><td>█▆▄▂▁</td></tr></table><br/></div><div class=\"wandb-col\"><h3>Run summary:</h3><br/><table class=\"wandb\"><tr><td>epoch</td><td>5</td></tr><tr><td>test_accuracy</td><td>60.45</td></tr><tr><td>train_acc</td><td>61.96111</td></tr><tr><td>train_loss</td><td>3.5618</td></tr><tr><td>val_acc</td><td>60.96667</td></tr><tr><td>val_loss</td><td>3.56088</td></tr></table><br/></div></div>"
      ],
      "text/plain": [
       "<IPython.core.display.HTML object>"
      ]
     },
     "metadata": {},
     "output_type": "display_data"
    },
    {
     "data": {
      "text/html": [
       " View run <strong style=\"color:#cdcd00\">opt_adam_hl_3_bs_16_e_5_act_ReLU_eta_0.0001_init_random_hls_32_dataset_fashion_mnist_cross_entropy</strong> at: <a href='https://wandb.ai/cs24m021-iit-madras/DA6401_DL_Assignment1/runs/txlkg3ip' target=\"_blank\">https://wandb.ai/cs24m021-iit-madras/DA6401_DL_Assignment1/runs/txlkg3ip</a><br> View project at: <a href='https://wandb.ai/cs24m021-iit-madras/DA6401_DL_Assignment1' target=\"_blank\">https://wandb.ai/cs24m021-iit-madras/DA6401_DL_Assignment1</a><br>Synced 5 W&B file(s), 0 media file(s), 0 artifact file(s) and 0 other file(s)"
      ],
      "text/plain": [
       "<IPython.core.display.HTML object>"
      ]
     },
     "metadata": {},
     "output_type": "display_data"
    },
    {
     "data": {
      "text/html": [
       "Find logs at: <code>./wandb/run-20250310_202703-txlkg3ip/logs</code>"
      ],
      "text/plain": [
       "<IPython.core.display.HTML object>"
      ]
     },
     "metadata": {},
     "output_type": "display_data"
    },
    {
     "name": "stderr",
     "output_type": "stream",
     "text": [
      "\u001b[34m\u001b[1mwandb\u001b[0m: Agent Starting Run: yu8vifki with config:\n",
      "\u001b[34m\u001b[1mwandb\u001b[0m: \tactivation: ReLU\n",
      "\u001b[34m\u001b[1mwandb\u001b[0m: \tbatch_size: 32\n",
      "\u001b[34m\u001b[1mwandb\u001b[0m: \tdataset: fashion_mnist\n",
      "\u001b[34m\u001b[1mwandb\u001b[0m: \tepochs: 5\n",
      "\u001b[34m\u001b[1mwandb\u001b[0m: \thidden_layer_sizes: 32\n",
      "\u001b[34m\u001b[1mwandb\u001b[0m: \thidden_layers: 4\n",
      "\u001b[34m\u001b[1mwandb\u001b[0m: \tinitialization: Xavier\n",
      "\u001b[34m\u001b[1mwandb\u001b[0m: \tlearning_rate: 0.001\n",
      "\u001b[34m\u001b[1mwandb\u001b[0m: \toptimizer: rmsprop\n",
      "\u001b[34m\u001b[1mwandb\u001b[0m: \tweight_decay: 0.5\n"
     ]
    },
    {
     "data": {
      "text/html": [
       "Ignoring project 'DA6401_DL_Assignment1' when running a sweep."
      ],
      "text/plain": [
       "<IPython.core.display.HTML object>"
      ]
     },
     "metadata": {},
     "output_type": "display_data"
    },
    {
     "data": {
      "text/html": [
       "Tracking run with wandb version 0.19.8"
      ],
      "text/plain": [
       "<IPython.core.display.HTML object>"
      ]
     },
     "metadata": {},
     "output_type": "display_data"
    },
    {
     "data": {
      "text/html": [
       "Run data is saved locally in <code>/home/ubuntu/wandb/run-20250310_202724-yu8vifki</code>"
      ],
      "text/plain": [
       "<IPython.core.display.HTML object>"
      ]
     },
     "metadata": {},
     "output_type": "display_data"
    },
    {
     "data": {
      "text/html": [
       "Syncing run <strong><a href='https://wandb.ai/cs24m021-iit-madras/DA6401_DL_Assignment1/runs/yu8vifki' target=\"_blank\">peach-sweep-21</a></strong> to <a href='https://wandb.ai/cs24m021-iit-madras/DA6401_DL_Assignment1' target=\"_blank\">Weights & Biases</a> (<a href='https://wandb.me/developer-guide' target=\"_blank\">docs</a>)<br>Sweep page: <a href='https://wandb.ai/cs24m021-iit-madras/DA6401_DL_Assignment1/sweeps/6frmzevi' target=\"_blank\">https://wandb.ai/cs24m021-iit-madras/DA6401_DL_Assignment1/sweeps/6frmzevi</a>"
      ],
      "text/plain": [
       "<IPython.core.display.HTML object>"
      ]
     },
     "metadata": {},
     "output_type": "display_data"
    },
    {
     "data": {
      "text/html": [
       " View project at <a href='https://wandb.ai/cs24m021-iit-madras/DA6401_DL_Assignment1' target=\"_blank\">https://wandb.ai/cs24m021-iit-madras/DA6401_DL_Assignment1</a>"
      ],
      "text/plain": [
       "<IPython.core.display.HTML object>"
      ]
     },
     "metadata": {},
     "output_type": "display_data"
    },
    {
     "data": {
      "text/html": [
       " View sweep at <a href='https://wandb.ai/cs24m021-iit-madras/DA6401_DL_Assignment1/sweeps/6frmzevi' target=\"_blank\">https://wandb.ai/cs24m021-iit-madras/DA6401_DL_Assignment1/sweeps/6frmzevi</a>"
      ],
      "text/plain": [
       "<IPython.core.display.HTML object>"
      ]
     },
     "metadata": {},
     "output_type": "display_data"
    },
    {
     "data": {
      "text/html": [
       " View run at <a href='https://wandb.ai/cs24m021-iit-madras/DA6401_DL_Assignment1/runs/yu8vifki' target=\"_blank\">https://wandb.ai/cs24m021-iit-madras/DA6401_DL_Assignment1/runs/yu8vifki</a>"
      ],
      "text/plain": [
       "<IPython.core.display.HTML object>"
      ]
     },
     "metadata": {},
     "output_type": "display_data"
    },
    {
     "name": "stdout",
     "output_type": "stream",
     "text": [
      "Epoch 1: Train Loss=2.3029, Train Acc=9.99%, Val Loss=2.3026, Val Acc=10.12%\n",
      "Epoch 2: Train Loss=2.3027, Train Acc=9.99%, Val Loss=2.3026, Val Acc=10.12%\n",
      "Epoch 3: Train Loss=2.3027, Train Acc=9.99%, Val Loss=2.3026, Val Acc=10.12%\n",
      "Epoch 4: Train Loss=2.3026, Train Acc=9.99%, Val Loss=2.3027, Val Acc=10.12%\n",
      "Epoch 5: Train Loss=2.3026, Train Acc=9.99%, Val Loss=2.3027, Val Acc=10.12%\n",
      "Test Loss: 2.3026, Test Acc: 10.00%\n"
     ]
    },
    {
     "data": {
      "text/html": [],
      "text/plain": [
       "<IPython.core.display.HTML object>"
      ]
     },
     "metadata": {},
     "output_type": "display_data"
    },
    {
     "data": {
      "text/html": [
       "<br>    <style><br>        .wandb-row {<br>            display: flex;<br>            flex-direction: row;<br>            flex-wrap: wrap;<br>            justify-content: flex-start;<br>            width: 100%;<br>        }<br>        .wandb-col {<br>            display: flex;<br>            flex-direction: column;<br>            flex-basis: 100%;<br>            flex: 1;<br>            padding: 10px;<br>        }<br>    </style><br><div class=\"wandb-row\"><div class=\"wandb-col\"><h3>Run history:</h3><br/><table class=\"wandb\"><tr><td>epoch</td><td>▁▃▅▆█</td></tr><tr><td>test_accuracy</td><td>▁</td></tr><tr><td>train_acc</td><td>▁▁▁▁▁</td></tr><tr><td>train_loss</td><td>█▃▂▁▁</td></tr><tr><td>val_acc</td><td>▁▁▁▁▁</td></tr><tr><td>val_loss</td><td>▁▁▄▆█</td></tr></table><br/></div><div class=\"wandb-col\"><h3>Run summary:</h3><br/><table class=\"wandb\"><tr><td>epoch</td><td>5</td></tr><tr><td>test_accuracy</td><td>10</td></tr><tr><td>train_acc</td><td>9.98704</td></tr><tr><td>train_loss</td><td>2.30263</td></tr><tr><td>val_acc</td><td>10.11667</td></tr><tr><td>val_loss</td><td>2.30268</td></tr></table><br/></div></div>"
      ],
      "text/plain": [
       "<IPython.core.display.HTML object>"
      ]
     },
     "metadata": {},
     "output_type": "display_data"
    },
    {
     "data": {
      "text/html": [
       " View run <strong style=\"color:#cdcd00\">opt_rmsprop_hl_4_bs_32_e_5_act_ReLU_eta_0.001_init_Xavier_hls_32_dataset_fashion_mnist_cross_entropy</strong> at: <a href='https://wandb.ai/cs24m021-iit-madras/DA6401_DL_Assignment1/runs/yu8vifki' target=\"_blank\">https://wandb.ai/cs24m021-iit-madras/DA6401_DL_Assignment1/runs/yu8vifki</a><br> View project at: <a href='https://wandb.ai/cs24m021-iit-madras/DA6401_DL_Assignment1' target=\"_blank\">https://wandb.ai/cs24m021-iit-madras/DA6401_DL_Assignment1</a><br>Synced 5 W&B file(s), 0 media file(s), 0 artifact file(s) and 0 other file(s)"
      ],
      "text/plain": [
       "<IPython.core.display.HTML object>"
      ]
     },
     "metadata": {},
     "output_type": "display_data"
    },
    {
     "data": {
      "text/html": [
       "Find logs at: <code>./wandb/run-20250310_202724-yu8vifki/logs</code>"
      ],
      "text/plain": [
       "<IPython.core.display.HTML object>"
      ]
     },
     "metadata": {},
     "output_type": "display_data"
    },
    {
     "name": "stderr",
     "output_type": "stream",
     "text": [
      "\u001b[34m\u001b[1mwandb\u001b[0m: Agent Starting Run: 1m4mdsw9 with config:\n",
      "\u001b[34m\u001b[1mwandb\u001b[0m: \tactivation: sigmoid\n",
      "\u001b[34m\u001b[1mwandb\u001b[0m: \tbatch_size: 32\n",
      "\u001b[34m\u001b[1mwandb\u001b[0m: \tdataset: fashion_mnist\n",
      "\u001b[34m\u001b[1mwandb\u001b[0m: \tepochs: 5\n",
      "\u001b[34m\u001b[1mwandb\u001b[0m: \thidden_layer_sizes: 128\n",
      "\u001b[34m\u001b[1mwandb\u001b[0m: \thidden_layers: 3\n",
      "\u001b[34m\u001b[1mwandb\u001b[0m: \tinitialization: Xavier\n",
      "\u001b[34m\u001b[1mwandb\u001b[0m: \tlearning_rate: 0.001\n",
      "\u001b[34m\u001b[1mwandb\u001b[0m: \toptimizer: nesterov\n",
      "\u001b[34m\u001b[1mwandb\u001b[0m: \tweight_decay: 0\n"
     ]
    },
    {
     "data": {
      "text/html": [
       "Ignoring project 'DA6401_DL_Assignment1' when running a sweep."
      ],
      "text/plain": [
       "<IPython.core.display.HTML object>"
      ]
     },
     "metadata": {},
     "output_type": "display_data"
    },
    {
     "data": {
      "text/html": [
       "Tracking run with wandb version 0.19.8"
      ],
      "text/plain": [
       "<IPython.core.display.HTML object>"
      ]
     },
     "metadata": {},
     "output_type": "display_data"
    },
    {
     "data": {
      "text/html": [
       "Run data is saved locally in <code>/home/ubuntu/wandb/run-20250310_202735-1m4mdsw9</code>"
      ],
      "text/plain": [
       "<IPython.core.display.HTML object>"
      ]
     },
     "metadata": {},
     "output_type": "display_data"
    },
    {
     "data": {
      "text/html": [
       "Syncing run <strong><a href='https://wandb.ai/cs24m021-iit-madras/DA6401_DL_Assignment1/runs/1m4mdsw9' target=\"_blank\">playful-sweep-22</a></strong> to <a href='https://wandb.ai/cs24m021-iit-madras/DA6401_DL_Assignment1' target=\"_blank\">Weights & Biases</a> (<a href='https://wandb.me/developer-guide' target=\"_blank\">docs</a>)<br>Sweep page: <a href='https://wandb.ai/cs24m021-iit-madras/DA6401_DL_Assignment1/sweeps/6frmzevi' target=\"_blank\">https://wandb.ai/cs24m021-iit-madras/DA6401_DL_Assignment1/sweeps/6frmzevi</a>"
      ],
      "text/plain": [
       "<IPython.core.display.HTML object>"
      ]
     },
     "metadata": {},
     "output_type": "display_data"
    },
    {
     "data": {
      "text/html": [
       " View project at <a href='https://wandb.ai/cs24m021-iit-madras/DA6401_DL_Assignment1' target=\"_blank\">https://wandb.ai/cs24m021-iit-madras/DA6401_DL_Assignment1</a>"
      ],
      "text/plain": [
       "<IPython.core.display.HTML object>"
      ]
     },
     "metadata": {},
     "output_type": "display_data"
    },
    {
     "data": {
      "text/html": [
       " View sweep at <a href='https://wandb.ai/cs24m021-iit-madras/DA6401_DL_Assignment1/sweeps/6frmzevi' target=\"_blank\">https://wandb.ai/cs24m021-iit-madras/DA6401_DL_Assignment1/sweeps/6frmzevi</a>"
      ],
      "text/plain": [
       "<IPython.core.display.HTML object>"
      ]
     },
     "metadata": {},
     "output_type": "display_data"
    },
    {
     "data": {
      "text/html": [
       " View run at <a href='https://wandb.ai/cs24m021-iit-madras/DA6401_DL_Assignment1/runs/1m4mdsw9' target=\"_blank\">https://wandb.ai/cs24m021-iit-madras/DA6401_DL_Assignment1/runs/1m4mdsw9</a>"
      ],
      "text/plain": [
       "<IPython.core.display.HTML object>"
      ]
     },
     "metadata": {},
     "output_type": "display_data"
    },
    {
     "name": "stdout",
     "output_type": "stream",
     "text": [
      "Epoch 1: Train Loss=2.2790, Train Acc=9.99%, Val Loss=2.2780, Val Acc=10.12%\n",
      "Epoch 2: Train Loss=2.1830, Train Acc=28.51%, Val Loss=2.1819, Val Acc=29.30%\n",
      "Epoch 3: Train Loss=1.7231, Train Acc=42.28%, Val Loss=1.7220, Val Acc=41.72%\n",
      "Epoch 4: Train Loss=1.4243, Train Acc=49.77%, Val Loss=1.4270, Val Acc=50.35%\n",
      "Epoch 5: Train Loss=1.2300, Train Acc=57.97%, Val Loss=1.2356, Val Acc=58.68%\n",
      "Test Loss: 1.2377, Test Acc: 57.88%\n"
     ]
    },
    {
     "data": {
      "text/html": [],
      "text/plain": [
       "<IPython.core.display.HTML object>"
      ]
     },
     "metadata": {},
     "output_type": "display_data"
    },
    {
     "data": {
      "text/html": [
       "<br>    <style><br>        .wandb-row {<br>            display: flex;<br>            flex-direction: row;<br>            flex-wrap: wrap;<br>            justify-content: flex-start;<br>            width: 100%;<br>        }<br>        .wandb-col {<br>            display: flex;<br>            flex-direction: column;<br>            flex-basis: 100%;<br>            flex: 1;<br>            padding: 10px;<br>        }<br>    </style><br><div class=\"wandb-row\"><div class=\"wandb-col\"><h3>Run history:</h3><br/><table class=\"wandb\"><tr><td>epoch</td><td>▁▃▅▆█</td></tr><tr><td>test_accuracy</td><td>▁</td></tr><tr><td>train_acc</td><td>▁▄▆▇█</td></tr><tr><td>train_loss</td><td>█▇▄▂▁</td></tr><tr><td>val_acc</td><td>▁▄▆▇█</td></tr><tr><td>val_loss</td><td>█▇▄▂▁</td></tr></table><br/></div><div class=\"wandb-col\"><h3>Run summary:</h3><br/><table class=\"wandb\"><tr><td>epoch</td><td>5</td></tr><tr><td>test_accuracy</td><td>57.88</td></tr><tr><td>train_acc</td><td>57.96667</td></tr><tr><td>train_loss</td><td>1.22996</td></tr><tr><td>val_acc</td><td>58.68333</td></tr><tr><td>val_loss</td><td>1.23558</td></tr></table><br/></div></div>"
      ],
      "text/plain": [
       "<IPython.core.display.HTML object>"
      ]
     },
     "metadata": {},
     "output_type": "display_data"
    },
    {
     "data": {
      "text/html": [
       " View run <strong style=\"color:#cdcd00\">opt_nesterov_hl_3_bs_32_e_5_act_sigmoid_eta_0.001_init_Xavier_hls_128_dataset_fashion_mnist_cross_entropy</strong> at: <a href='https://wandb.ai/cs24m021-iit-madras/DA6401_DL_Assignment1/runs/1m4mdsw9' target=\"_blank\">https://wandb.ai/cs24m021-iit-madras/DA6401_DL_Assignment1/runs/1m4mdsw9</a><br> View project at: <a href='https://wandb.ai/cs24m021-iit-madras/DA6401_DL_Assignment1' target=\"_blank\">https://wandb.ai/cs24m021-iit-madras/DA6401_DL_Assignment1</a><br>Synced 5 W&B file(s), 0 media file(s), 0 artifact file(s) and 0 other file(s)"
      ],
      "text/plain": [
       "<IPython.core.display.HTML object>"
      ]
     },
     "metadata": {},
     "output_type": "display_data"
    },
    {
     "data": {
      "text/html": [
       "Find logs at: <code>./wandb/run-20250310_202735-1m4mdsw9/logs</code>"
      ],
      "text/plain": [
       "<IPython.core.display.HTML object>"
      ]
     },
     "metadata": {},
     "output_type": "display_data"
    },
    {
     "name": "stderr",
     "output_type": "stream",
     "text": [
      "\u001b[34m\u001b[1mwandb\u001b[0m: Agent Starting Run: hjacioum with config:\n",
      "\u001b[34m\u001b[1mwandb\u001b[0m: \tactivation: ReLU\n",
      "\u001b[34m\u001b[1mwandb\u001b[0m: \tbatch_size: 16\n",
      "\u001b[34m\u001b[1mwandb\u001b[0m: \tdataset: fashion_mnist\n",
      "\u001b[34m\u001b[1mwandb\u001b[0m: \tepochs: 10\n",
      "\u001b[34m\u001b[1mwandb\u001b[0m: \thidden_layer_sizes: 32\n",
      "\u001b[34m\u001b[1mwandb\u001b[0m: \thidden_layers: 4\n",
      "\u001b[34m\u001b[1mwandb\u001b[0m: \tinitialization: random\n",
      "\u001b[34m\u001b[1mwandb\u001b[0m: \tlearning_rate: 0.001\n",
      "\u001b[34m\u001b[1mwandb\u001b[0m: \toptimizer: adam\n",
      "\u001b[34m\u001b[1mwandb\u001b[0m: \tweight_decay: 0\n"
     ]
    },
    {
     "data": {
      "text/html": [
       "Ignoring project 'DA6401_DL_Assignment1' when running a sweep."
      ],
      "text/plain": [
       "<IPython.core.display.HTML object>"
      ]
     },
     "metadata": {},
     "output_type": "display_data"
    },
    {
     "data": {
      "text/html": [
       "Tracking run with wandb version 0.19.8"
      ],
      "text/plain": [
       "<IPython.core.display.HTML object>"
      ]
     },
     "metadata": {},
     "output_type": "display_data"
    },
    {
     "data": {
      "text/html": [
       "Run data is saved locally in <code>/home/ubuntu/wandb/run-20250310_202828-hjacioum</code>"
      ],
      "text/plain": [
       "<IPython.core.display.HTML object>"
      ]
     },
     "metadata": {},
     "output_type": "display_data"
    },
    {
     "data": {
      "text/html": [
       "Syncing run <strong><a href='https://wandb.ai/cs24m021-iit-madras/DA6401_DL_Assignment1/runs/hjacioum' target=\"_blank\">usual-sweep-23</a></strong> to <a href='https://wandb.ai/cs24m021-iit-madras/DA6401_DL_Assignment1' target=\"_blank\">Weights & Biases</a> (<a href='https://wandb.me/developer-guide' target=\"_blank\">docs</a>)<br>Sweep page: <a href='https://wandb.ai/cs24m021-iit-madras/DA6401_DL_Assignment1/sweeps/6frmzevi' target=\"_blank\">https://wandb.ai/cs24m021-iit-madras/DA6401_DL_Assignment1/sweeps/6frmzevi</a>"
      ],
      "text/plain": [
       "<IPython.core.display.HTML object>"
      ]
     },
     "metadata": {},
     "output_type": "display_data"
    },
    {
     "data": {
      "text/html": [
       " View project at <a href='https://wandb.ai/cs24m021-iit-madras/DA6401_DL_Assignment1' target=\"_blank\">https://wandb.ai/cs24m021-iit-madras/DA6401_DL_Assignment1</a>"
      ],
      "text/plain": [
       "<IPython.core.display.HTML object>"
      ]
     },
     "metadata": {},
     "output_type": "display_data"
    },
    {
     "data": {
      "text/html": [
       " View sweep at <a href='https://wandb.ai/cs24m021-iit-madras/DA6401_DL_Assignment1/sweeps/6frmzevi' target=\"_blank\">https://wandb.ai/cs24m021-iit-madras/DA6401_DL_Assignment1/sweeps/6frmzevi</a>"
      ],
      "text/plain": [
       "<IPython.core.display.HTML object>"
      ]
     },
     "metadata": {},
     "output_type": "display_data"
    },
    {
     "data": {
      "text/html": [
       " View run at <a href='https://wandb.ai/cs24m021-iit-madras/DA6401_DL_Assignment1/runs/hjacioum' target=\"_blank\">https://wandb.ai/cs24m021-iit-madras/DA6401_DL_Assignment1/runs/hjacioum</a>"
      ],
      "text/plain": [
       "<IPython.core.display.HTML object>"
      ]
     },
     "metadata": {},
     "output_type": "display_data"
    }
   ],
   "source": [
    "sweep_id = wandb.sweep(sweep_config)\n",
    "wandb.agent(sweep_id,  lambda : train(loss_function = \"cross_entropy\"), count = SWEEPCOUNT)\n",
    "wandb.finish()"
   ]
  },
  {
   "cell_type": "markdown",
   "id": "4f7a06e4-9df6-42fa-9d83-d6798680fa06",
   "metadata": {},
   "source": [
    "## Question 7"
   ]
  },
  {
   "cell_type": "code",
   "execution_count": 15,
   "id": "4f638aa2-1fc9-4900-95df-98f45183f2e1",
   "metadata": {},
   "outputs": [],
   "source": [
    "def generate_and_plot_confusion_matrix(y_pred, y_true):  \n",
    "    \n",
    "    wandb.init(project=PROJECT, name=\"Question:7\")  \n",
    "    \n",
    "    predicted_classes = np.argmax(y_pred, axis=1)   # predicted classes \n",
    "    num_labels = len(target_classes)  \n",
    "    conf_matrix = np.zeros((num_labels, num_labels), dtype=int)  \n",
    "      \n",
    "    for idx, actual_label in enumerate(y_true):  \n",
    "        true_idx = int(actual_label)  \n",
    "        pred_idx = int(predicted_classes[idx])  \n",
    "        \n",
    "        if (true_idx >= 0 and true_idx < num_labels) and (pred_idx >= 0 and pred_idx < num_labels):  \n",
    "            conf_matrix[true_idx, pred_idx] += 1  \n",
    "        else:  \n",
    "            print(f\"Skipping invalid index: y_true={true_idx}, y_pred={pred_idx}\")  \n",
    "    \n",
    "    df_confusion = pd.DataFrame(conf_matrix, index=target_classes, columns=target_classes)  \n",
    "\n",
    "    \n",
    "    fig = plt.figure(figsize=(15, 15))  # plot heatmap  \n",
    "    ax = sns.heatmap(  \n",
    "        df_confusion,  \n",
    "        annot=True,  \n",
    "        fmt='d',  \n",
    "        cmap=\"Reds\",  \n",
    "        linewidths=4,  \n",
    "        linecolor='white'  \n",
    "    )  \n",
    "    ax.set_xlabel(\"Predicted Class\")  \n",
    "    ax.set_ylabel(\"True Class\")  \n",
    "    ax.set_xticklabels(target_classes, rotation=90)  \n",
    "    ax.set_yticklabels(target_classes, rotation=0)  \n",
    "    plt.title('Confusion Matrix', fontsize=12)  \n",
    "    \n",
    "    plt.show()  \n",
    "    wandb.log({\"conf_mat\": wandb.plot.confusion_matrix(probs=None,\n",
    "                                                       y_true=y_true, \n",
    "                                                       preds=predicted_classes,\n",
    "                                                       class_names=target_classes)})  \n",
    "    wandb.finish()  "
   ]
  },
  {
   "cell_type": "code",
   "execution_count": 16,
   "id": "f6c792e6-cdfb-48c0-ab9c-d28e90aee3c2",
   "metadata": {},
   "outputs": [
    {
     "ename": "KeyboardInterrupt",
     "evalue": "",
     "output_type": "error",
     "traceback": [
      "\u001b[0;31m---------------------------------------------------------------------------\u001b[0m",
      "\u001b[0;31mKeyboardInterrupt\u001b[0m                         Traceback (most recent call last)",
      "Cell \u001b[0;32mIn[16], line 26\u001b[0m\n\u001b[1;32m     23\u001b[0m nn \u001b[38;5;241m=\u001b[39m Neural_Network(config_nn, log\u001b[38;5;241m=\u001b[39m\u001b[38;5;241m0\u001b[39m, console\u001b[38;5;241m=\u001b[39m\u001b[38;5;241m1\u001b[39m)\n\u001b[1;32m     24\u001b[0m optimizer \u001b[38;5;241m=\u001b[39m Optimizer(nn, config_opt)\n\u001b[0;32m---> 26\u001b[0m t_loss, t_acc, v_loss, v_acc \u001b[38;5;241m=\u001b[39m nn\u001b[38;5;241m.\u001b[39mfit(batch_size\u001b[38;5;241m=\u001b[39m\u001b[38;5;241m16\u001b[39m, epochs\u001b[38;5;241m=\u001b[39m\u001b[38;5;241m10\u001b[39m, optimizer\u001b[38;5;241m=\u001b[39moptimizer)\n\u001b[1;32m     27\u001b[0m loss, accuracy \u001b[38;5;241m=\u001b[39m nn\u001b[38;5;241m.\u001b[39mcompute_performance(nn\u001b[38;5;241m.\u001b[39mtest_img, nn\u001b[38;5;241m.\u001b[39mtest_true)  \u001b[38;5;66;03m# evaluate on test data\u001b[39;00m\n\u001b[1;32m     28\u001b[0m \u001b[38;5;28mprint\u001b[39m(\u001b[38;5;124mf\u001b[39m\u001b[38;5;124m\"\u001b[39m\u001b[38;5;124mTest Loss: \u001b[39m\u001b[38;5;132;01m{\u001b[39;00mloss\u001b[38;5;132;01m:\u001b[39;00m\u001b[38;5;124m.4f\u001b[39m\u001b[38;5;132;01m}\u001b[39;00m\u001b[38;5;124m, Test Acc: \u001b[39m\u001b[38;5;132;01m{\u001b[39;00maccuracy\u001b[38;5;132;01m:\u001b[39;00m\u001b[38;5;124m.2f\u001b[39m\u001b[38;5;132;01m}\u001b[39;00m\u001b[38;5;124m%\u001b[39m\u001b[38;5;124m\"\u001b[39m)  \u001b[38;5;66;03m# print test loss and accuracy\u001b[39;00m\n",
      "Cell \u001b[0;32mIn[10], line 124\u001b[0m, in \u001b[0;36mNeural_Network.fit\u001b[0;34m(self, batch_size, epochs, optimizer)\u001b[0m\n\u001b[1;32m    121\u001b[0m batch_images \u001b[38;5;241m=\u001b[39m \u001b[38;5;28mself\u001b[39m\u001b[38;5;241m.\u001b[39minput[start_idx:end_idx]  \n\u001b[1;32m    122\u001b[0m batch_labels \u001b[38;5;241m=\u001b[39m \u001b[38;5;28mself\u001b[39m\u001b[38;5;241m.\u001b[39my_true[start_idx:end_idx]  \n\u001b[0;32m--> 124\u001b[0m predictions \u001b[38;5;241m=\u001b[39m \u001b[38;5;28mself\u001b[39m\u001b[38;5;241m.\u001b[39mforward_propagation(batch_images)  \u001b[38;5;66;03m# forward and backward pass  \u001b[39;00m\n\u001b[1;32m    125\u001b[0m true_labels_one_hot \u001b[38;5;241m=\u001b[39m \u001b[38;5;28mself\u001b[39m\u001b[38;5;241m.\u001b[39mone_hot_matrix(batch_labels)  \n\u001b[1;32m    126\u001b[0m \u001b[38;5;28mself\u001b[39m\u001b[38;5;241m.\u001b[39mbackward_propagation(batch_images, true_labels_one_hot, predictions)  \n",
      "Cell \u001b[0;32mIn[10], line 63\u001b[0m, in \u001b[0;36mNeural_Network.forward_propagation\u001b[0;34m(self, x)\u001b[0m\n\u001b[1;32m     61\u001b[0m     linear_output \u001b[38;5;241m=\u001b[39m \u001b[38;5;28mself\u001b[39m\u001b[38;5;241m.\u001b[39mh[layer\u001b[38;5;241m-\u001b[39m\u001b[38;5;241m1\u001b[39m] \u001b[38;5;241m@\u001b[39m \u001b[38;5;28mself\u001b[39m\u001b[38;5;241m.\u001b[39mweights[layer]\n\u001b[1;32m     62\u001b[0m     \u001b[38;5;28mself\u001b[39m\u001b[38;5;241m.\u001b[39ma[layer] \u001b[38;5;241m=\u001b[39m linear_output \u001b[38;5;241m+\u001b[39m \u001b[38;5;28mself\u001b[39m\u001b[38;5;241m.\u001b[39mbiases[layer]   \u001b[38;5;66;03m# linear transformation\u001b[39;00m\n\u001b[0;32m---> 63\u001b[0m     \u001b[38;5;28mself\u001b[39m\u001b[38;5;241m.\u001b[39mh[layer] \u001b[38;5;241m=\u001b[39m \u001b[38;5;28mself\u001b[39m\u001b[38;5;241m.\u001b[39mact\u001b[38;5;241m.\u001b[39mactivation(\u001b[38;5;28mself\u001b[39m\u001b[38;5;241m.\u001b[39ma[layer], \u001b[38;5;28mself\u001b[39m\u001b[38;5;241m.\u001b[39mactivation_function)\n\u001b[1;32m     65\u001b[0m final_linear_output \u001b[38;5;241m=\u001b[39m \u001b[38;5;28mself\u001b[39m\u001b[38;5;241m.\u001b[39mh[num_layers\u001b[38;5;241m-\u001b[39m\u001b[38;5;241m1\u001b[39m] \u001b[38;5;241m@\u001b[39m \u001b[38;5;28mself\u001b[39m\u001b[38;5;241m.\u001b[39mweights[num_layers]\n\u001b[1;32m     66\u001b[0m \u001b[38;5;28mself\u001b[39m\u001b[38;5;241m.\u001b[39ma[num_layers] \u001b[38;5;241m=\u001b[39m final_linear_output \u001b[38;5;241m+\u001b[39m \u001b[38;5;28mself\u001b[39m\u001b[38;5;241m.\u001b[39mbiases[num_layers]\n",
      "Cell \u001b[0;32mIn[5], line 30\u001b[0m, in \u001b[0;36mActivation_Functions.activation\u001b[0;34m(self, x, fun)\u001b[0m\n\u001b[1;32m     27\u001b[0m \u001b[38;5;28;01mdef\u001b[39;00m \u001b[38;5;21midentity\u001b[39m(\u001b[38;5;28mself\u001b[39m, x):\n\u001b[1;32m     28\u001b[0m     \u001b[38;5;28;01mreturn\u001b[39;00m x  \u001b[38;5;66;03m# identity function\u001b[39;00m\n\u001b[0;32m---> 30\u001b[0m \u001b[38;5;28;01mdef\u001b[39;00m \u001b[38;5;21mactivation\u001b[39m(\u001b[38;5;28mself\u001b[39m, x, fun):\n\u001b[1;32m     31\u001b[0m     activation_function \u001b[38;5;241m=\u001b[39m \u001b[38;5;28mself\u001b[39m\u001b[38;5;241m.\u001b[39mactivation_functions\u001b[38;5;241m.\u001b[39mget(fun)\n\u001b[1;32m     32\u001b[0m     \u001b[38;5;28;01mif\u001b[39;00m activation_function:\n",
      "\u001b[0;31mKeyboardInterrupt\u001b[0m: "
     ]
    }
   ],
   "source": [
    "# best config was opt_rmsprop_hl_4_bs_16_e_10_act_ReLU_eta_0.0001_init_Xavier_hls_128_dataset_fashion_mnist_cross_entropy\n",
    "config_nn = {\n",
    "        \"activation_function\": \"ReLU\",  \n",
    "        \"init\": \"Xavier\",\n",
    "        \"dataset\": \"fashion_mnist\",\n",
    "        \"loss_function\": \"cross_entropy\", \n",
    "        \"hidden_layers\": 4,\n",
    "        \"hidden_layer_sizes\": 128\n",
    "        \n",
    "}\n",
    "\n",
    "config_opt = {\n",
    "    \"optimizer\": \"rmsprop\",\n",
    "    \"eta\": 0.0001,  \n",
    "    \"beta\": 0.9,\n",
    "    \"beta2\": 0.999,\n",
    "    \"beta1\": 0.9,\n",
    "    \"weight_decay\": 0.0005,\n",
    "    \"epsilon\": 1e-8,\n",
    "    \"momentum\": 0.9\n",
    "}\n",
    "\n",
    "nn = Neural_Network(config_nn, log=0, console=1)\n",
    "optimizer = Optimizer(nn, config_opt)\n",
    "\n",
    "t_loss, t_acc, v_loss, v_acc = nn.fit(batch_size=16, epochs=10, optimizer=optimizer)\n",
    "loss, accuracy = nn.compute_performance(nn.test_img, nn.test_true)  # evaluate on test data\n",
    "print(f\"Test Loss: {loss:.4f}, Test Acc: {accuracy:.2f}%\")  # print test loss and accuracy\n",
    "y_pred = nn.probability(nn.test_img)\n",
    "generate_and_plot_confusion_matrix(y_pred, nn.test_true) # plot confusion matrox"
   ]
  },
  {
   "cell_type": "markdown",
   "id": "d83730bb-ddb5-4242-9b88-e34e7a3460a2",
   "metadata": {},
   "source": [
    "## Question 8"
   ]
  },
  {
   "cell_type": "code",
   "execution_count": null,
   "id": "7d146cd0-03a5-41ba-b2ac-7438b3ea56a5",
   "metadata": {},
   "outputs": [],
   "source": [
    "sweep_id = wandb.sweep(sweep_config)\n",
    "wandb.agent(sweep_id,  lambda : train(loss_function = \"mean_squared_error\"), count = 150)\n",
    "wandb.finish()"
   ]
  },
  {
   "cell_type": "markdown",
   "id": "03967f39-c42b-4996-8773-7fbaa24a466a",
   "metadata": {},
   "source": [
    "## Question 10 (Update based on Report Answer)"
   ]
  },
  {
   "cell_type": "code",
   "execution_count": null,
   "id": "799dd799-4ab5-4fa7-870f-8cebc2e14ed6",
   "metadata": {},
   "outputs": [
    {
     "name": "stdout",
     "output_type": "stream",
     "text": [
      "Running configuration 1...\n",
      "Epoch 1: Train Loss=0.1692, Train Acc=95.01%, Val Loss=0.1887, Val Acc=94.35%\n",
      "Epoch 2: Train Loss=0.1212, Train Acc=96.45%, Val Loss=0.1477, Val Acc=95.57%\n",
      "Epoch 3: Train Loss=0.0942, Train Acc=97.21%, Val Loss=0.1258, Val Acc=96.12%\n",
      "Epoch 4: Train Loss=0.0757, Train Acc=97.81%, Val Loss=0.1124, Val Acc=96.53%\n",
      "Epoch 5: Train Loss=0.0634, Train Acc=98.12%, Val Loss=0.1057, Val Acc=96.85%\n",
      "Epoch 6: Train Loss=0.0544, Train Acc=98.38%, Val Loss=0.1023, Val Acc=96.95%\n",
      "Epoch 7: Train Loss=0.0487, Train Acc=98.56%, Val Loss=0.1017, Val Acc=97.10%\n",
      "Epoch 8: Train Loss=0.0440, Train Acc=98.69%, Val Loss=0.1015, Val Acc=97.05%\n",
      "Epoch 9: Train Loss=0.0402, Train Acc=98.78%, Val Loss=0.1017, Val Acc=97.17%\n",
      "Epoch 10: Train Loss=0.0362, Train Acc=98.92%, Val Loss=0.1020, Val Acc=97.17%\n",
      "Config 1 - Test Loss: 0.0882, Test Acc: 97.54%\n",
      "\n",
      "Running configuration 2...\n",
      "Epoch 1: Train Loss=0.1109, Train Acc=96.67%, Val Loss=0.1425, Val Acc=95.75%\n",
      "Epoch 2: Train Loss=0.0781, Train Acc=97.61%, Val Loss=0.1182, Val Acc=96.68%\n",
      "Epoch 3: Train Loss=0.0652, Train Acc=97.88%, Val Loss=0.1180, Val Acc=96.48%\n",
      "Epoch 4: Train Loss=0.0599, Train Acc=98.06%, Val Loss=0.1157, Val Acc=96.67%\n",
      "Epoch 5: Train Loss=0.0477, Train Acc=98.53%, Val Loss=0.1021, Val Acc=97.03%\n",
      "Epoch 6: Train Loss=0.0469, Train Acc=98.56%, Val Loss=0.1076, Val Acc=97.08%\n",
      "Epoch 7: Train Loss=0.0534, Train Acc=98.33%, Val Loss=0.1101, Val Acc=96.85%\n",
      "Epoch 8: Train Loss=0.0543, Train Acc=98.21%, Val Loss=0.1249, Val Acc=96.47%\n",
      "Epoch 9: Train Loss=0.0570, Train Acc=98.09%, Val Loss=0.1182, Val Acc=96.75%\n",
      "Epoch 10: Train Loss=0.0421, Train Acc=98.64%, Val Loss=0.1110, Val Acc=96.67%\n",
      "Config 2 - Test Loss: 0.0878, Test Acc: 97.28%\n",
      "\n",
      "Running configuration 3...\n",
      "Epoch 1: Train Loss=0.1581, Train Acc=95.39%, Val Loss=0.1812, Val Acc=94.62%\n",
      "Epoch 2: Train Loss=0.1082, Train Acc=96.71%, Val Loss=0.1404, Val Acc=96.00%\n",
      "Epoch 3: Train Loss=0.0831, Train Acc=97.49%, Val Loss=0.1246, Val Acc=96.40%\n",
      "Epoch 4: Train Loss=0.0699, Train Acc=97.86%, Val Loss=0.1182, Val Acc=96.53%\n",
      "Epoch 5: Train Loss=0.0614, Train Acc=98.13%, Val Loss=0.1148, Val Acc=96.60%\n",
      "Epoch 6: Train Loss=0.0549, Train Acc=98.30%, Val Loss=0.1121, Val Acc=96.73%\n",
      "Epoch 7: Train Loss=0.0491, Train Acc=98.47%, Val Loss=0.1088, Val Acc=96.75%\n",
      "Epoch 8: Train Loss=0.0446, Train Acc=98.62%, Val Loss=0.1062, Val Acc=96.80%\n",
      "Epoch 9: Train Loss=0.0410, Train Acc=98.77%, Val Loss=0.1045, Val Acc=96.78%\n"
     ]
    }
   ],
   "source": [
    "# best three configurations are:\n",
    "config_nn = [{\n",
    "        \"activation_function\": \"ReLU\",  \n",
    "        \"init\": \"Xavier\",\n",
    "        \"dataset\": \"mnist\",\n",
    "        \"loss_function\": \"cross_entropy\", \n",
    "        \"hidden_layers\": 4,\n",
    "        \"hidden_layer_sizes\": 128\n",
    "        \n",
    "},\n",
    "            {\n",
    "        \"activation_function\": \"ReLU\",  \n",
    "        \"init\": \"Xavier\",\n",
    "        \"dataset\": \"mnist\",\n",
    "        \"loss_function\": \"cross_entropy\", \n",
    "        \"hidden_layers\": 3,\n",
    "        \"hidden_layer_sizes\": 128\n",
    "        \n",
    "},\n",
    "            {\n",
    "        \"activation_function\": \"tanh\",  \n",
    "        \"init\": \"Xavier\",\n",
    "        \"dataset\": \"mnist\",\n",
    "        \"loss_function\": \"cross_entropy\", \n",
    "        \"hidden_layers\": 3,\n",
    "        \"hidden_layer_sizes\": 64\n",
    "        \n",
    "}]\n",
    "\n",
    "config_opt = [{\n",
    "    \"optimizer\": \"rmsprop\",\n",
    "    \"eta\": 0.0001,  \n",
    "    \"beta\": 0.9,\n",
    "    \"beta2\": 0.999,\n",
    "    \"beta1\": 0.9,\n",
    "    \"weight_decay\": 0.0005,\n",
    "    \"epsilon\": 1e-8,\n",
    "    \"momentum\": 0.9\n",
    "},\n",
    "              {\n",
    "    \"optimizer\": \"adam\",\n",
    "    \"eta\": 0.001,  \n",
    "    \"beta\": 0.9,\n",
    "    \"beta2\": 0.999,\n",
    "    \"beta1\": 0.9,\n",
    "    \"weight_decay\": 0.0005,\n",
    "    \"epsilon\": 1e-8,\n",
    "    \"momentum\": 0.9\n",
    "},\n",
    "              {\n",
    "    \"optimizer\": \"momentum\",\n",
    "    \"eta\": 0.01,  \n",
    "    \"beta\": 0.9,\n",
    "    \"beta2\": 0.999,\n",
    "    \"beta1\": 0.9,\n",
    "    \"weight_decay\": 0.0005,\n",
    "    \"epsilon\": 1e-8,\n",
    "    \"momentum\": 0.9\n",
    "}]\n",
    "\n",
    "batch_size=[16, 32, 32]\n",
    "\n",
    "for i in range(3):  # Loop through all three configurations\n",
    "    print(f\"Running configuration {i+1}...\")\n",
    "    \n",
    "    nn = Neural_Network(config_nn[i], log=0, console=1)\n",
    "    optimizer = Optimizer(nn, config_opt[i])\n",
    "    \n",
    "    t_loss, t_acc, v_loss, v_acc = nn.fit(batch_size=batch_size[i], epochs=10, optimizer=optimizer)\n",
    "    loss, accuracy = nn.compute_performance(nn.test_img, nn.test_true)  # Evaluate on test data\n",
    "    \n",
    "    print(f\"Config {i+1} - Test Loss: {loss:.4f}, Test Acc: {accuracy:.2f}%\\n\")"
   ]
  },
  {
   "cell_type": "code",
   "execution_count": 47,
   "id": "70a2313f-c7b4-405a-8256-4375654c38ee",
   "metadata": {},
   "outputs": [],
   "source": [
    "\n",
    "    "
   ]
  },
  {
   "cell_type": "code",
   "execution_count": 48,
   "id": "5860f912-7f8a-4e0d-a027-ecfe0cf7e37e",
   "metadata": {},
   "outputs": [
    {
     "name": "stdout",
     "output_type": "stream",
     "text": [
      "Create sweep with ID: jtj28a74\n",
      "Sweep URL: https://wandb.ai/cs24m021-iit-madras/DA6401_DL_Assignment1/sweeps/jtj28a74\n"
     ]
    },
    {
     "name": "stderr",
     "output_type": "stream",
     "text": [
      "\u001b[34m\u001b[1mwandb\u001b[0m: Agent Starting Run: gos6i0n3 with config:\n",
      "\u001b[34m\u001b[1mwandb\u001b[0m: \tactivation: sigmoid\n",
      "\u001b[34m\u001b[1mwandb\u001b[0m: \thidden_layer_sizes: 64\n",
      "\u001b[34m\u001b[1mwandb\u001b[0m: \toptimizer: nesterov\n"
     ]
    },
    {
     "data": {
      "text/html": [
       "Ignoring project 'DA6401_DL_Assignment1' when running a sweep."
      ],
      "text/plain": [
       "<IPython.core.display.HTML object>"
      ]
     },
     "metadata": {},
     "output_type": "display_data"
    },
    {
     "data": {
      "text/html": [
       "Tracking run with wandb version 0.19.8"
      ],
      "text/plain": [
       "<IPython.core.display.HTML object>"
      ]
     },
     "metadata": {},
     "output_type": "display_data"
    },
    {
     "data": {
      "text/html": [
       "Run data is saved locally in <code>/home/ubuntu/wandb/run-20250311_134838-gos6i0n3</code>"
      ],
      "text/plain": [
       "<IPython.core.display.HTML object>"
      ]
     },
     "metadata": {},
     "output_type": "display_data"
    },
    {
     "data": {
      "text/html": [
       "Syncing run <strong><a href='https://wandb.ai/cs24m021-iit-madras/DA6401_DL_Assignment1/runs/gos6i0n3' target=\"_blank\">helpful-sweep-1</a></strong> to <a href='https://wandb.ai/cs24m021-iit-madras/DA6401_DL_Assignment1' target=\"_blank\">Weights & Biases</a> (<a href='https://wandb.me/developer-guide' target=\"_blank\">docs</a>)<br>Sweep page: <a href='https://wandb.ai/cs24m021-iit-madras/DA6401_DL_Assignment1/sweeps/jtj28a74' target=\"_blank\">https://wandb.ai/cs24m021-iit-madras/DA6401_DL_Assignment1/sweeps/jtj28a74</a>"
      ],
      "text/plain": [
       "<IPython.core.display.HTML object>"
      ]
     },
     "metadata": {},
     "output_type": "display_data"
    },
    {
     "data": {
      "text/html": [
       " View project at <a href='https://wandb.ai/cs24m021-iit-madras/DA6401_DL_Assignment1' target=\"_blank\">https://wandb.ai/cs24m021-iit-madras/DA6401_DL_Assignment1</a>"
      ],
      "text/plain": [
       "<IPython.core.display.HTML object>"
      ]
     },
     "metadata": {},
     "output_type": "display_data"
    },
    {
     "data": {
      "text/html": [
       " View sweep at <a href='https://wandb.ai/cs24m021-iit-madras/DA6401_DL_Assignment1/sweeps/jtj28a74' target=\"_blank\">https://wandb.ai/cs24m021-iit-madras/DA6401_DL_Assignment1/sweeps/jtj28a74</a>"
      ],
      "text/plain": [
       "<IPython.core.display.HTML object>"
      ]
     },
     "metadata": {},
     "output_type": "display_data"
    },
    {
     "data": {
      "text/html": [
       " View run at <a href='https://wandb.ai/cs24m021-iit-madras/DA6401_DL_Assignment1/runs/gos6i0n3' target=\"_blank\">https://wandb.ai/cs24m021-iit-madras/DA6401_DL_Assignment1/runs/gos6i0n3</a>"
      ],
      "text/plain": [
       "<IPython.core.display.HTML object>"
      ]
     },
     "metadata": {},
     "output_type": "display_data"
    },
    {
     "name": "stdout",
     "output_type": "stream",
     "text": [
      "Epoch 1: Train Loss=1.4680, Train Acc=50.44%, Val Loss=1.4611, Val Acc=50.13%\n",
      "Epoch 2: Train Loss=1.0693, Train Acc=64.76%, Val Loss=1.0658, Val Acc=64.70%\n",
      "Epoch 3: Train Loss=0.8517, Train Acc=72.49%, Val Loss=0.8571, Val Acc=72.38%\n",
      "Epoch 4: Train Loss=0.7157, Train Acc=77.15%, Val Loss=0.7300, Val Acc=76.63%\n",
      "Epoch 5: Train Loss=0.6246, Train Acc=80.14%, Val Loss=0.6446, Val Acc=79.17%\n",
      "Epoch 6: Train Loss=0.5602, Train Acc=82.34%, Val Loss=0.5835, Val Acc=81.43%\n",
      "Epoch 7: Train Loss=0.5115, Train Acc=84.02%, Val Loss=0.5369, Val Acc=83.45%\n",
      "Epoch 8: Train Loss=0.4729, Train Acc=85.33%, Val Loss=0.4996, Val Acc=84.68%\n",
      "Epoch 9: Train Loss=0.4413, Train Acc=86.39%, Val Loss=0.4686, Val Acc=85.77%\n",
      "Epoch 10: Train Loss=0.4149, Train Acc=87.34%, Val Loss=0.4426, Val Acc=86.57%\n",
      "Test Loss: 0.4179, Test Acc: 87.11%\n"
     ]
    },
    {
     "data": {
      "text/html": [],
      "text/plain": [
       "<IPython.core.display.HTML object>"
      ]
     },
     "metadata": {},
     "output_type": "display_data"
    },
    {
     "data": {
      "text/html": [
       "<br>    <style><br>        .wandb-row {<br>            display: flex;<br>            flex-direction: row;<br>            flex-wrap: wrap;<br>            justify-content: flex-start;<br>            width: 100%;<br>        }<br>        .wandb-col {<br>            display: flex;<br>            flex-direction: column;<br>            flex-basis: 100%;<br>            flex: 1;<br>            padding: 10px;<br>        }<br>    </style><br><div class=\"wandb-row\"><div class=\"wandb-col\"><h3>Run history:</h3><br/><table class=\"wandb\"><tr><td>epoch</td><td>▁▂▃▃▄▅▆▆▇█</td></tr><tr><td>test_accuracy</td><td>▁</td></tr><tr><td>train_acc</td><td>▁▄▅▆▇▇▇███</td></tr><tr><td>train_loss</td><td>█▅▄▃▂▂▂▁▁▁</td></tr><tr><td>val_acc</td><td>▁▄▅▆▇▇▇███</td></tr><tr><td>val_loss</td><td>█▅▄▃▂▂▂▁▁▁</td></tr></table><br/></div><div class=\"wandb-col\"><h3>Run summary:</h3><br/><table class=\"wandb\"><tr><td>epoch</td><td>10</td></tr><tr><td>test_accuracy</td><td>87.11</td></tr><tr><td>train_acc</td><td>87.34259</td></tr><tr><td>train_loss</td><td>0.41489</td></tr><tr><td>val_acc</td><td>86.56667</td></tr><tr><td>val_loss</td><td>0.44257</td></tr></table><br/></div></div>"
      ],
      "text/plain": [
       "<IPython.core.display.HTML object>"
      ]
     },
     "metadata": {},
     "output_type": "display_data"
    },
    {
     "data": {
      "text/html": [
       " View run <strong style=\"color:#cdcd00\">opt_nesterov_hl_5_bs_64_e_10_act_sigmoid_eta_0.005_init_random_hls_64_dataset_mnist_cross_entropy</strong> at: <a href='https://wandb.ai/cs24m021-iit-madras/DA6401_DL_Assignment1/runs/gos6i0n3' target=\"_blank\">https://wandb.ai/cs24m021-iit-madras/DA6401_DL_Assignment1/runs/gos6i0n3</a><br> View project at: <a href='https://wandb.ai/cs24m021-iit-madras/DA6401_DL_Assignment1' target=\"_blank\">https://wandb.ai/cs24m021-iit-madras/DA6401_DL_Assignment1</a><br>Synced 5 W&B file(s), 0 media file(s), 0 artifact file(s) and 0 other file(s)"
      ],
      "text/plain": [
       "<IPython.core.display.HTML object>"
      ]
     },
     "metadata": {},
     "output_type": "display_data"
    },
    {
     "data": {
      "text/html": [
       "Find logs at: <code>./wandb/run-20250311_134838-gos6i0n3/logs</code>"
      ],
      "text/plain": [
       "<IPython.core.display.HTML object>"
      ]
     },
     "metadata": {},
     "output_type": "display_data"
    },
    {
     "name": "stderr",
     "output_type": "stream",
     "text": [
      "\u001b[34m\u001b[1mwandb\u001b[0m: Agent Starting Run: 6fw5e6x5 with config:\n",
      "\u001b[34m\u001b[1mwandb\u001b[0m: \tactivation: sigmoid\n",
      "\u001b[34m\u001b[1mwandb\u001b[0m: \thidden_layer_sizes: 32\n",
      "\u001b[34m\u001b[1mwandb\u001b[0m: \toptimizer: nadam\n"
     ]
    },
    {
     "data": {
      "text/html": [
       "Ignoring project 'DA6401_DL_Assignment1' when running a sweep."
      ],
      "text/plain": [
       "<IPython.core.display.HTML object>"
      ]
     },
     "metadata": {},
     "output_type": "display_data"
    },
    {
     "data": {
      "text/html": [
       "Tracking run with wandb version 0.19.8"
      ],
      "text/plain": [
       "<IPython.core.display.HTML object>"
      ]
     },
     "metadata": {},
     "output_type": "display_data"
    },
    {
     "data": {
      "text/html": [
       "Run data is saved locally in <code>/home/ubuntu/wandb/run-20250311_134925-6fw5e6x5</code>"
      ],
      "text/plain": [
       "<IPython.core.display.HTML object>"
      ]
     },
     "metadata": {},
     "output_type": "display_data"
    },
    {
     "data": {
      "text/html": [
       "Syncing run <strong><a href='https://wandb.ai/cs24m021-iit-madras/DA6401_DL_Assignment1/runs/6fw5e6x5' target=\"_blank\">northern-sweep-2</a></strong> to <a href='https://wandb.ai/cs24m021-iit-madras/DA6401_DL_Assignment1' target=\"_blank\">Weights & Biases</a> (<a href='https://wandb.me/developer-guide' target=\"_blank\">docs</a>)<br>Sweep page: <a href='https://wandb.ai/cs24m021-iit-madras/DA6401_DL_Assignment1/sweeps/jtj28a74' target=\"_blank\">https://wandb.ai/cs24m021-iit-madras/DA6401_DL_Assignment1/sweeps/jtj28a74</a>"
      ],
      "text/plain": [
       "<IPython.core.display.HTML object>"
      ]
     },
     "metadata": {},
     "output_type": "display_data"
    },
    {
     "data": {
      "text/html": [
       " View project at <a href='https://wandb.ai/cs24m021-iit-madras/DA6401_DL_Assignment1' target=\"_blank\">https://wandb.ai/cs24m021-iit-madras/DA6401_DL_Assignment1</a>"
      ],
      "text/plain": [
       "<IPython.core.display.HTML object>"
      ]
     },
     "metadata": {},
     "output_type": "display_data"
    },
    {
     "data": {
      "text/html": [
       " View sweep at <a href='https://wandb.ai/cs24m021-iit-madras/DA6401_DL_Assignment1/sweeps/jtj28a74' target=\"_blank\">https://wandb.ai/cs24m021-iit-madras/DA6401_DL_Assignment1/sweeps/jtj28a74</a>"
      ],
      "text/plain": [
       "<IPython.core.display.HTML object>"
      ]
     },
     "metadata": {},
     "output_type": "display_data"
    },
    {
     "data": {
      "text/html": [
       " View run at <a href='https://wandb.ai/cs24m021-iit-madras/DA6401_DL_Assignment1/runs/6fw5e6x5' target=\"_blank\">https://wandb.ai/cs24m021-iit-madras/DA6401_DL_Assignment1/runs/6fw5e6x5</a>"
      ],
      "text/plain": [
       "<IPython.core.display.HTML object>"
      ]
     },
     "metadata": {},
     "output_type": "display_data"
    },
    {
     "name": "stdout",
     "output_type": "stream",
     "text": [
      "Epoch 1: Train Loss=0.2514, Train Acc=93.03%, Val Loss=0.2703, Val Acc=92.28%\n",
      "Epoch 2: Train Loss=0.1938, Train Acc=94.72%, Val Loss=0.2195, Val Acc=93.73%\n",
      "Epoch 3: Train Loss=0.1713, Train Acc=95.36%, Val Loss=0.2013, Val Acc=94.30%\n",
      "Epoch 4: Train Loss=0.1570, Train Acc=95.73%, Val Loss=0.1880, Val Acc=94.57%\n",
      "Epoch 5: Train Loss=0.1481, Train Acc=95.98%, Val Loss=0.1795, Val Acc=94.77%\n",
      "Epoch 6: Train Loss=0.1431, Train Acc=96.11%, Val Loss=0.1746, Val Acc=94.67%\n",
      "Epoch 7: Train Loss=0.1402, Train Acc=96.16%, Val Loss=0.1719, Val Acc=94.85%\n",
      "Epoch 8: Train Loss=0.1380, Train Acc=96.18%, Val Loss=0.1702, Val Acc=94.93%\n",
      "Epoch 9: Train Loss=0.1359, Train Acc=96.21%, Val Loss=0.1687, Val Acc=95.05%\n",
      "Epoch 10: Train Loss=0.1337, Train Acc=96.30%, Val Loss=0.1673, Val Acc=95.12%\n",
      "Test Loss: 0.1565, Test Acc: 95.36%\n"
     ]
    },
    {
     "data": {
      "text/html": [],
      "text/plain": [
       "<IPython.core.display.HTML object>"
      ]
     },
     "metadata": {},
     "output_type": "display_data"
    },
    {
     "data": {
      "text/html": [
       "<br>    <style><br>        .wandb-row {<br>            display: flex;<br>            flex-direction: row;<br>            flex-wrap: wrap;<br>            justify-content: flex-start;<br>            width: 100%;<br>        }<br>        .wandb-col {<br>            display: flex;<br>            flex-direction: column;<br>            flex-basis: 100%;<br>            flex: 1;<br>            padding: 10px;<br>        }<br>    </style><br><div class=\"wandb-row\"><div class=\"wandb-col\"><h3>Run history:</h3><br/><table class=\"wandb\"><tr><td>epoch</td><td>▁▂▃▃▄▅▆▆▇█</td></tr><tr><td>test_accuracy</td><td>▁</td></tr><tr><td>train_acc</td><td>▁▅▆▇▇█████</td></tr><tr><td>train_loss</td><td>█▅▃▂▂▂▁▁▁▁</td></tr><tr><td>val_acc</td><td>▁▅▆▇▇▇▇███</td></tr><tr><td>val_loss</td><td>█▅▃▂▂▁▁▁▁▁</td></tr></table><br/></div><div class=\"wandb-col\"><h3>Run summary:</h3><br/><table class=\"wandb\"><tr><td>epoch</td><td>10</td></tr><tr><td>test_accuracy</td><td>95.36</td></tr><tr><td>train_acc</td><td>96.30185</td></tr><tr><td>train_loss</td><td>0.13373</td></tr><tr><td>val_acc</td><td>95.11667</td></tr><tr><td>val_loss</td><td>0.16728</td></tr></table><br/></div></div>"
      ],
      "text/plain": [
       "<IPython.core.display.HTML object>"
      ]
     },
     "metadata": {},
     "output_type": "display_data"
    },
    {
     "data": {
      "text/html": [
       " View run <strong style=\"color:#cdcd00\">opt_nadam_hl_5_bs_64_e_10_act_sigmoid_eta_0.005_init_random_hls_32_dataset_mnist_cross_entropy</strong> at: <a href='https://wandb.ai/cs24m021-iit-madras/DA6401_DL_Assignment1/runs/6fw5e6x5' target=\"_blank\">https://wandb.ai/cs24m021-iit-madras/DA6401_DL_Assignment1/runs/6fw5e6x5</a><br> View project at: <a href='https://wandb.ai/cs24m021-iit-madras/DA6401_DL_Assignment1' target=\"_blank\">https://wandb.ai/cs24m021-iit-madras/DA6401_DL_Assignment1</a><br>Synced 5 W&B file(s), 0 media file(s), 0 artifact file(s) and 0 other file(s)"
      ],
      "text/plain": [
       "<IPython.core.display.HTML object>"
      ]
     },
     "metadata": {},
     "output_type": "display_data"
    },
    {
     "data": {
      "text/html": [
       "Find logs at: <code>./wandb/run-20250311_134925-6fw5e6x5/logs</code>"
      ],
      "text/plain": [
       "<IPython.core.display.HTML object>"
      ]
     },
     "metadata": {},
     "output_type": "display_data"
    },
    {
     "name": "stderr",
     "output_type": "stream",
     "text": [
      "\u001b[34m\u001b[1mwandb\u001b[0m: Agent Starting Run: hh92t88p with config:\n",
      "\u001b[34m\u001b[1mwandb\u001b[0m: \tactivation: sigmoid\n",
      "\u001b[34m\u001b[1mwandb\u001b[0m: \thidden_layer_sizes: 64\n",
      "\u001b[34m\u001b[1mwandb\u001b[0m: \toptimizer: rmsprop\n"
     ]
    },
    {
     "data": {
      "text/html": [
       "Ignoring project 'DA6401_DL_Assignment1' when running a sweep."
      ],
      "text/plain": [
       "<IPython.core.display.HTML object>"
      ]
     },
     "metadata": {},
     "output_type": "display_data"
    },
    {
     "data": {
      "text/html": [
       "Tracking run with wandb version 0.19.8"
      ],
      "text/plain": [
       "<IPython.core.display.HTML object>"
      ]
     },
     "metadata": {},
     "output_type": "display_data"
    },
    {
     "data": {
      "text/html": [
       "Run data is saved locally in <code>/home/ubuntu/wandb/run-20250311_134958-hh92t88p</code>"
      ],
      "text/plain": [
       "<IPython.core.display.HTML object>"
      ]
     },
     "metadata": {},
     "output_type": "display_data"
    },
    {
     "data": {
      "text/html": [
       "Syncing run <strong><a href='https://wandb.ai/cs24m021-iit-madras/DA6401_DL_Assignment1/runs/hh92t88p' target=\"_blank\">stilted-sweep-3</a></strong> to <a href='https://wandb.ai/cs24m021-iit-madras/DA6401_DL_Assignment1' target=\"_blank\">Weights & Biases</a> (<a href='https://wandb.me/developer-guide' target=\"_blank\">docs</a>)<br>Sweep page: <a href='https://wandb.ai/cs24m021-iit-madras/DA6401_DL_Assignment1/sweeps/jtj28a74' target=\"_blank\">https://wandb.ai/cs24m021-iit-madras/DA6401_DL_Assignment1/sweeps/jtj28a74</a>"
      ],
      "text/plain": [
       "<IPython.core.display.HTML object>"
      ]
     },
     "metadata": {},
     "output_type": "display_data"
    },
    {
     "data": {
      "text/html": [
       " View project at <a href='https://wandb.ai/cs24m021-iit-madras/DA6401_DL_Assignment1' target=\"_blank\">https://wandb.ai/cs24m021-iit-madras/DA6401_DL_Assignment1</a>"
      ],
      "text/plain": [
       "<IPython.core.display.HTML object>"
      ]
     },
     "metadata": {},
     "output_type": "display_data"
    },
    {
     "data": {
      "text/html": [
       " View sweep at <a href='https://wandb.ai/cs24m021-iit-madras/DA6401_DL_Assignment1/sweeps/jtj28a74' target=\"_blank\">https://wandb.ai/cs24m021-iit-madras/DA6401_DL_Assignment1/sweeps/jtj28a74</a>"
      ],
      "text/plain": [
       "<IPython.core.display.HTML object>"
      ]
     },
     "metadata": {},
     "output_type": "display_data"
    },
    {
     "data": {
      "text/html": [
       " View run at <a href='https://wandb.ai/cs24m021-iit-madras/DA6401_DL_Assignment1/runs/hh92t88p' target=\"_blank\">https://wandb.ai/cs24m021-iit-madras/DA6401_DL_Assignment1/runs/hh92t88p</a>"
      ],
      "text/plain": [
       "<IPython.core.display.HTML object>"
      ]
     },
     "metadata": {},
     "output_type": "display_data"
    },
    {
     "name": "stdout",
     "output_type": "stream",
     "text": [
      "Epoch 1: Train Loss=0.3526, Train Acc=89.72%, Val Loss=0.3602, Val Acc=89.58%\n",
      "Epoch 2: Train Loss=0.2488, Train Acc=92.92%, Val Loss=0.2645, Val Acc=92.70%\n",
      "Epoch 3: Train Loss=0.1863, Train Acc=94.93%, Val Loss=0.2054, Val Acc=94.38%\n",
      "Epoch 4: Train Loss=0.1730, Train Acc=95.35%, Val Loss=0.1939, Val Acc=94.73%\n",
      "Epoch 5: Train Loss=0.1598, Train Acc=95.66%, Val Loss=0.1821, Val Acc=94.83%\n",
      "Epoch 6: Train Loss=0.1560, Train Acc=95.65%, Val Loss=0.1804, Val Acc=94.68%\n",
      "Epoch 7: Train Loss=0.1486, Train Acc=95.84%, Val Loss=0.1750, Val Acc=94.95%\n",
      "Epoch 8: Train Loss=0.1456, Train Acc=95.96%, Val Loss=0.1728, Val Acc=94.88%\n",
      "Epoch 9: Train Loss=0.1330, Train Acc=96.38%, Val Loss=0.1597, Val Acc=95.48%\n",
      "Epoch 10: Train Loss=0.1364, Train Acc=96.22%, Val Loss=0.1647, Val Acc=95.22%\n",
      "Test Loss: 0.1450, Test Acc: 95.88%\n"
     ]
    },
    {
     "data": {
      "text/html": [],
      "text/plain": [
       "<IPython.core.display.HTML object>"
      ]
     },
     "metadata": {},
     "output_type": "display_data"
    },
    {
     "data": {
      "text/html": [
       "<br>    <style><br>        .wandb-row {<br>            display: flex;<br>            flex-direction: row;<br>            flex-wrap: wrap;<br>            justify-content: flex-start;<br>            width: 100%;<br>        }<br>        .wandb-col {<br>            display: flex;<br>            flex-direction: column;<br>            flex-basis: 100%;<br>            flex: 1;<br>            padding: 10px;<br>        }<br>    </style><br><div class=\"wandb-row\"><div class=\"wandb-col\"><h3>Run history:</h3><br/><table class=\"wandb\"><tr><td>epoch</td><td>▁▂▃▃▄▅▆▆▇█</td></tr><tr><td>test_accuracy</td><td>▁</td></tr><tr><td>train_acc</td><td>▁▄▆▇▇▇▇███</td></tr><tr><td>train_loss</td><td>█▅▃▂▂▂▁▁▁▁</td></tr><tr><td>val_acc</td><td>▁▅▇▇▇▇▇▇██</td></tr><tr><td>val_loss</td><td>█▅▃▂▂▂▂▁▁▁</td></tr></table><br/></div><div class=\"wandb-col\"><h3>Run summary:</h3><br/><table class=\"wandb\"><tr><td>epoch</td><td>10</td></tr><tr><td>test_accuracy</td><td>95.88</td></tr><tr><td>train_acc</td><td>96.22222</td></tr><tr><td>train_loss</td><td>0.13644</td></tr><tr><td>val_acc</td><td>95.21667</td></tr><tr><td>val_loss</td><td>0.16469</td></tr></table><br/></div></div>"
      ],
      "text/plain": [
       "<IPython.core.display.HTML object>"
      ]
     },
     "metadata": {},
     "output_type": "display_data"
    },
    {
     "data": {
      "text/html": [
       " View run <strong style=\"color:#cdcd00\">opt_rmsprop_hl_5_bs_64_e_10_act_sigmoid_eta_0.005_init_random_hls_64_dataset_mnist_cross_entropy</strong> at: <a href='https://wandb.ai/cs24m021-iit-madras/DA6401_DL_Assignment1/runs/hh92t88p' target=\"_blank\">https://wandb.ai/cs24m021-iit-madras/DA6401_DL_Assignment1/runs/hh92t88p</a><br> View project at: <a href='https://wandb.ai/cs24m021-iit-madras/DA6401_DL_Assignment1' target=\"_blank\">https://wandb.ai/cs24m021-iit-madras/DA6401_DL_Assignment1</a><br>Synced 5 W&B file(s), 0 media file(s), 0 artifact file(s) and 0 other file(s)"
      ],
      "text/plain": [
       "<IPython.core.display.HTML object>"
      ]
     },
     "metadata": {},
     "output_type": "display_data"
    },
    {
     "data": {
      "text/html": [
       "Find logs at: <code>./wandb/run-20250311_134958-hh92t88p/logs</code>"
      ],
      "text/plain": [
       "<IPython.core.display.HTML object>"
      ]
     },
     "metadata": {},
     "output_type": "display_data"
    },
    {
     "name": "stderr",
     "output_type": "stream",
     "text": [
      "\u001b[34m\u001b[1mwandb\u001b[0m: Agent Starting Run: 2pmz91ob with config:\n",
      "\u001b[34m\u001b[1mwandb\u001b[0m: \tactivation: tanh\n",
      "\u001b[34m\u001b[1mwandb\u001b[0m: \thidden_layer_sizes: 32\n",
      "\u001b[34m\u001b[1mwandb\u001b[0m: \toptimizer: nadam\n"
     ]
    },
    {
     "data": {
      "text/html": [
       "Ignoring project 'DA6401_DL_Assignment1' when running a sweep."
      ],
      "text/plain": [
       "<IPython.core.display.HTML object>"
      ]
     },
     "metadata": {},
     "output_type": "display_data"
    },
    {
     "data": {
      "text/html": [
       "Tracking run with wandb version 0.19.8"
      ],
      "text/plain": [
       "<IPython.core.display.HTML object>"
      ]
     },
     "metadata": {},
     "output_type": "display_data"
    },
    {
     "data": {
      "text/html": [
       "Run data is saved locally in <code>/home/ubuntu/wandb/run-20250311_135040-2pmz91ob</code>"
      ],
      "text/plain": [
       "<IPython.core.display.HTML object>"
      ]
     },
     "metadata": {},
     "output_type": "display_data"
    },
    {
     "data": {
      "text/html": [
       "Syncing run <strong><a href='https://wandb.ai/cs24m021-iit-madras/DA6401_DL_Assignment1/runs/2pmz91ob' target=\"_blank\">stellar-sweep-4</a></strong> to <a href='https://wandb.ai/cs24m021-iit-madras/DA6401_DL_Assignment1' target=\"_blank\">Weights & Biases</a> (<a href='https://wandb.me/developer-guide' target=\"_blank\">docs</a>)<br>Sweep page: <a href='https://wandb.ai/cs24m021-iit-madras/DA6401_DL_Assignment1/sweeps/jtj28a74' target=\"_blank\">https://wandb.ai/cs24m021-iit-madras/DA6401_DL_Assignment1/sweeps/jtj28a74</a>"
      ],
      "text/plain": [
       "<IPython.core.display.HTML object>"
      ]
     },
     "metadata": {},
     "output_type": "display_data"
    },
    {
     "data": {
      "text/html": [
       " View project at <a href='https://wandb.ai/cs24m021-iit-madras/DA6401_DL_Assignment1' target=\"_blank\">https://wandb.ai/cs24m021-iit-madras/DA6401_DL_Assignment1</a>"
      ],
      "text/plain": [
       "<IPython.core.display.HTML object>"
      ]
     },
     "metadata": {},
     "output_type": "display_data"
    },
    {
     "data": {
      "text/html": [
       " View sweep at <a href='https://wandb.ai/cs24m021-iit-madras/DA6401_DL_Assignment1/sweeps/jtj28a74' target=\"_blank\">https://wandb.ai/cs24m021-iit-madras/DA6401_DL_Assignment1/sweeps/jtj28a74</a>"
      ],
      "text/plain": [
       "<IPython.core.display.HTML object>"
      ]
     },
     "metadata": {},
     "output_type": "display_data"
    },
    {
     "data": {
      "text/html": [
       " View run at <a href='https://wandb.ai/cs24m021-iit-madras/DA6401_DL_Assignment1/runs/2pmz91ob' target=\"_blank\">https://wandb.ai/cs24m021-iit-madras/DA6401_DL_Assignment1/runs/2pmz91ob</a>"
      ],
      "text/plain": [
       "<IPython.core.display.HTML object>"
      ]
     },
     "metadata": {},
     "output_type": "display_data"
    },
    {
     "name": "stdout",
     "output_type": "stream",
     "text": [
      "Epoch 1: Train Loss=1.4845, Train Acc=48.83%, Val Loss=1.4905, Val Acc=48.82%\n",
      "Epoch 2: Train Loss=1.0763, Train Acc=63.83%, Val Loss=1.1005, Val Acc=62.92%\n",
      "Epoch 3: Train Loss=0.8041, Train Acc=74.89%, Val Loss=0.8291, Val Acc=74.38%\n",
      "Epoch 4: Train Loss=0.6360, Train Acc=81.08%, Val Loss=0.6867, Val Acc=79.63%\n",
      "Epoch 5: Train Loss=0.5111, Train Acc=85.18%, Val Loss=0.5463, Val Acc=84.28%\n",
      "Epoch 6: Train Loss=0.4320, Train Acc=87.98%, Val Loss=0.4812, Val Acc=87.00%\n",
      "Epoch 7: Train Loss=0.3625, Train Acc=90.16%, Val Loss=0.4093, Val Acc=88.78%\n",
      "Epoch 8: Train Loss=0.3237, Train Acc=90.92%, Val Loss=0.3711, Val Acc=90.10%\n",
      "Epoch 9: Train Loss=0.2825, Train Acc=92.05%, Val Loss=0.3368, Val Acc=90.60%\n",
      "Epoch 10: Train Loss=0.2592, Train Acc=92.69%, Val Loss=0.3093, Val Acc=91.43%\n",
      "Test Loss: 0.2906, Test Acc: 92.28%\n"
     ]
    },
    {
     "data": {
      "text/html": [],
      "text/plain": [
       "<IPython.core.display.HTML object>"
      ]
     },
     "metadata": {},
     "output_type": "display_data"
    },
    {
     "data": {
      "text/html": [
       "<br>    <style><br>        .wandb-row {<br>            display: flex;<br>            flex-direction: row;<br>            flex-wrap: wrap;<br>            justify-content: flex-start;<br>            width: 100%;<br>        }<br>        .wandb-col {<br>            display: flex;<br>            flex-direction: column;<br>            flex-basis: 100%;<br>            flex: 1;<br>            padding: 10px;<br>        }<br>    </style><br><div class=\"wandb-row\"><div class=\"wandb-col\"><h3>Run history:</h3><br/><table class=\"wandb\"><tr><td>epoch</td><td>▁▂▃▃▄▅▆▆▇█</td></tr><tr><td>test_accuracy</td><td>▁</td></tr><tr><td>train_acc</td><td>▁▃▅▆▇▇████</td></tr><tr><td>train_loss</td><td>█▆▄▃▂▂▂▁▁▁</td></tr><tr><td>val_acc</td><td>▁▃▅▆▇▇████</td></tr><tr><td>val_loss</td><td>█▆▄▃▂▂▂▁▁▁</td></tr></table><br/></div><div class=\"wandb-col\"><h3>Run summary:</h3><br/><table class=\"wandb\"><tr><td>epoch</td><td>10</td></tr><tr><td>test_accuracy</td><td>92.28</td></tr><tr><td>train_acc</td><td>92.69074</td></tr><tr><td>train_loss</td><td>0.25916</td></tr><tr><td>val_acc</td><td>91.43333</td></tr><tr><td>val_loss</td><td>0.30926</td></tr></table><br/></div></div>"
      ],
      "text/plain": [
       "<IPython.core.display.HTML object>"
      ]
     },
     "metadata": {},
     "output_type": "display_data"
    },
    {
     "data": {
      "text/html": [
       " View run <strong style=\"color:#cdcd00\">opt_nadam_hl_5_bs_64_e_10_act_tanh_eta_0.005_init_random_hls_32_dataset_mnist_cross_entropy</strong> at: <a href='https://wandb.ai/cs24m021-iit-madras/DA6401_DL_Assignment1/runs/2pmz91ob' target=\"_blank\">https://wandb.ai/cs24m021-iit-madras/DA6401_DL_Assignment1/runs/2pmz91ob</a><br> View project at: <a href='https://wandb.ai/cs24m021-iit-madras/DA6401_DL_Assignment1' target=\"_blank\">https://wandb.ai/cs24m021-iit-madras/DA6401_DL_Assignment1</a><br>Synced 5 W&B file(s), 0 media file(s), 0 artifact file(s) and 0 other file(s)"
      ],
      "text/plain": [
       "<IPython.core.display.HTML object>"
      ]
     },
     "metadata": {},
     "output_type": "display_data"
    },
    {
     "data": {
      "text/html": [
       "Find logs at: <code>./wandb/run-20250311_135040-2pmz91ob/logs</code>"
      ],
      "text/plain": [
       "<IPython.core.display.HTML object>"
      ]
     },
     "metadata": {},
     "output_type": "display_data"
    },
    {
     "name": "stderr",
     "output_type": "stream",
     "text": [
      "\u001b[34m\u001b[1mwandb\u001b[0m: Agent Starting Run: t4l585yc with config:\n",
      "\u001b[34m\u001b[1mwandb\u001b[0m: \tactivation: tanh\n",
      "\u001b[34m\u001b[1mwandb\u001b[0m: \thidden_layer_sizes: 64\n",
      "\u001b[34m\u001b[1mwandb\u001b[0m: \toptimizer: rmsprop\n"
     ]
    },
    {
     "data": {
      "text/html": [
       "Ignoring project 'DA6401_DL_Assignment1' when running a sweep."
      ],
      "text/plain": [
       "<IPython.core.display.HTML object>"
      ]
     },
     "metadata": {},
     "output_type": "display_data"
    },
    {
     "data": {
      "text/html": [
       "Tracking run with wandb version 0.19.8"
      ],
      "text/plain": [
       "<IPython.core.display.HTML object>"
      ]
     },
     "metadata": {},
     "output_type": "display_data"
    },
    {
     "data": {
      "text/html": [
       "Run data is saved locally in <code>/home/ubuntu/wandb/run-20250311_135101-t4l585yc</code>"
      ],
      "text/plain": [
       "<IPython.core.display.HTML object>"
      ]
     },
     "metadata": {},
     "output_type": "display_data"
    },
    {
     "data": {
      "text/html": [
       "Syncing run <strong><a href='https://wandb.ai/cs24m021-iit-madras/DA6401_DL_Assignment1/runs/t4l585yc' target=\"_blank\">whole-sweep-5</a></strong> to <a href='https://wandb.ai/cs24m021-iit-madras/DA6401_DL_Assignment1' target=\"_blank\">Weights & Biases</a> (<a href='https://wandb.me/developer-guide' target=\"_blank\">docs</a>)<br>Sweep page: <a href='https://wandb.ai/cs24m021-iit-madras/DA6401_DL_Assignment1/sweeps/jtj28a74' target=\"_blank\">https://wandb.ai/cs24m021-iit-madras/DA6401_DL_Assignment1/sweeps/jtj28a74</a>"
      ],
      "text/plain": [
       "<IPython.core.display.HTML object>"
      ]
     },
     "metadata": {},
     "output_type": "display_data"
    },
    {
     "data": {
      "text/html": [
       " View project at <a href='https://wandb.ai/cs24m021-iit-madras/DA6401_DL_Assignment1' target=\"_blank\">https://wandb.ai/cs24m021-iit-madras/DA6401_DL_Assignment1</a>"
      ],
      "text/plain": [
       "<IPython.core.display.HTML object>"
      ]
     },
     "metadata": {},
     "output_type": "display_data"
    },
    {
     "data": {
      "text/html": [
       " View sweep at <a href='https://wandb.ai/cs24m021-iit-madras/DA6401_DL_Assignment1/sweeps/jtj28a74' target=\"_blank\">https://wandb.ai/cs24m021-iit-madras/DA6401_DL_Assignment1/sweeps/jtj28a74</a>"
      ],
      "text/plain": [
       "<IPython.core.display.HTML object>"
      ]
     },
     "metadata": {},
     "output_type": "display_data"
    },
    {
     "data": {
      "text/html": [
       " View run at <a href='https://wandb.ai/cs24m021-iit-madras/DA6401_DL_Assignment1/runs/t4l585yc' target=\"_blank\">https://wandb.ai/cs24m021-iit-madras/DA6401_DL_Assignment1/runs/t4l585yc</a>"
      ],
      "text/plain": [
       "<IPython.core.display.HTML object>"
      ]
     },
     "metadata": {},
     "output_type": "display_data"
    },
    {
     "name": "stdout",
     "output_type": "stream",
     "text": [
      "Epoch 1: Train Loss=1.1744, Train Acc=58.08%, Val Loss=1.1768, Val Acc=58.25%\n",
      "Epoch 2: Train Loss=0.8053, Train Acc=74.21%, Val Loss=0.8076, Val Acc=74.30%\n",
      "Epoch 3: Train Loss=0.5419, Train Acc=84.67%, Val Loss=0.5745, Val Acc=84.07%\n",
      "Epoch 4: Train Loss=0.4315, Train Acc=88.25%, Val Loss=0.4518, Val Acc=87.83%\n",
      "Epoch 5: Train Loss=0.2988, Train Acc=92.08%, Val Loss=0.3377, Val Acc=91.17%\n",
      "Epoch 6: Train Loss=0.2892, Train Acc=91.90%, Val Loss=0.3170, Val Acc=91.63%\n",
      "Epoch 7: Train Loss=0.2685, Train Acc=92.25%, Val Loss=0.2949, Val Acc=91.40%\n",
      "Epoch 8: Train Loss=0.1715, Train Acc=95.26%, Val Loss=0.2124, Val Acc=94.50%\n",
      "Epoch 9: Train Loss=0.1639, Train Acc=95.43%, Val Loss=0.1879, Val Acc=94.87%\n",
      "Epoch 10: Train Loss=0.2779, Train Acc=92.12%, Val Loss=0.3305, Val Acc=91.22%\n",
      "Test Loss: 0.2957, Test Acc: 91.82%\n"
     ]
    },
    {
     "data": {
      "text/html": [],
      "text/plain": [
       "<IPython.core.display.HTML object>"
      ]
     },
     "metadata": {},
     "output_type": "display_data"
    },
    {
     "data": {
      "text/html": [
       "<br>    <style><br>        .wandb-row {<br>            display: flex;<br>            flex-direction: row;<br>            flex-wrap: wrap;<br>            justify-content: flex-start;<br>            width: 100%;<br>        }<br>        .wandb-col {<br>            display: flex;<br>            flex-direction: column;<br>            flex-basis: 100%;<br>            flex: 1;<br>            padding: 10px;<br>        }<br>    </style><br><div class=\"wandb-row\"><div class=\"wandb-col\"><h3>Run history:</h3><br/><table class=\"wandb\"><tr><td>epoch</td><td>▁▂▃▃▄▅▆▆▇█</td></tr><tr><td>test_accuracy</td><td>▁</td></tr><tr><td>train_acc</td><td>▁▄▆▇▇▇▇██▇</td></tr><tr><td>train_loss</td><td>█▅▄▃▂▂▂▁▁▂</td></tr><tr><td>val_acc</td><td>▁▄▆▇▇▇▇██▇</td></tr><tr><td>val_loss</td><td>█▅▄▃▂▂▂▁▁▂</td></tr></table><br/></div><div class=\"wandb-col\"><h3>Run summary:</h3><br/><table class=\"wandb\"><tr><td>epoch</td><td>10</td></tr><tr><td>test_accuracy</td><td>91.82</td></tr><tr><td>train_acc</td><td>92.11852</td></tr><tr><td>train_loss</td><td>0.27792</td></tr><tr><td>val_acc</td><td>91.21667</td></tr><tr><td>val_loss</td><td>0.33048</td></tr></table><br/></div></div>"
      ],
      "text/plain": [
       "<IPython.core.display.HTML object>"
      ]
     },
     "metadata": {},
     "output_type": "display_data"
    },
    {
     "data": {
      "text/html": [
       " View run <strong style=\"color:#cdcd00\">opt_rmsprop_hl_5_bs_64_e_10_act_tanh_eta_0.005_init_random_hls_64_dataset_mnist_cross_entropy</strong> at: <a href='https://wandb.ai/cs24m021-iit-madras/DA6401_DL_Assignment1/runs/t4l585yc' target=\"_blank\">https://wandb.ai/cs24m021-iit-madras/DA6401_DL_Assignment1/runs/t4l585yc</a><br> View project at: <a href='https://wandb.ai/cs24m021-iit-madras/DA6401_DL_Assignment1' target=\"_blank\">https://wandb.ai/cs24m021-iit-madras/DA6401_DL_Assignment1</a><br>Synced 5 W&B file(s), 0 media file(s), 0 artifact file(s) and 0 other file(s)"
      ],
      "text/plain": [
       "<IPython.core.display.HTML object>"
      ]
     },
     "metadata": {},
     "output_type": "display_data"
    },
    {
     "data": {
      "text/html": [
       "Find logs at: <code>./wandb/run-20250311_135101-t4l585yc/logs</code>"
      ],
      "text/plain": [
       "<IPython.core.display.HTML object>"
      ]
     },
     "metadata": {},
     "output_type": "display_data"
    },
    {
     "name": "stderr",
     "output_type": "stream",
     "text": [
      "\u001b[34m\u001b[1mwandb\u001b[0m: Agent Starting Run: j2etxz99 with config:\n",
      "\u001b[34m\u001b[1mwandb\u001b[0m: \tactivation: tanh\n",
      "\u001b[34m\u001b[1mwandb\u001b[0m: \thidden_layer_sizes: 128\n",
      "\u001b[34m\u001b[1mwandb\u001b[0m: \toptimizer: nadam\n"
     ]
    },
    {
     "data": {
      "text/html": [
       "Ignoring project 'DA6401_DL_Assignment1' when running a sweep."
      ],
      "text/plain": [
       "<IPython.core.display.HTML object>"
      ]
     },
     "metadata": {},
     "output_type": "display_data"
    },
    {
     "data": {
      "text/html": [
       "Tracking run with wandb version 0.19.8"
      ],
      "text/plain": [
       "<IPython.core.display.HTML object>"
      ]
     },
     "metadata": {},
     "output_type": "display_data"
    },
    {
     "data": {
      "text/html": [
       "Run data is saved locally in <code>/home/ubuntu/wandb/run-20250311_135133-j2etxz99</code>"
      ],
      "text/plain": [
       "<IPython.core.display.HTML object>"
      ]
     },
     "metadata": {},
     "output_type": "display_data"
    },
    {
     "data": {
      "text/html": [
       "Syncing run <strong><a href='https://wandb.ai/cs24m021-iit-madras/DA6401_DL_Assignment1/runs/j2etxz99' target=\"_blank\">brisk-sweep-6</a></strong> to <a href='https://wandb.ai/cs24m021-iit-madras/DA6401_DL_Assignment1' target=\"_blank\">Weights & Biases</a> (<a href='https://wandb.me/developer-guide' target=\"_blank\">docs</a>)<br>Sweep page: <a href='https://wandb.ai/cs24m021-iit-madras/DA6401_DL_Assignment1/sweeps/jtj28a74' target=\"_blank\">https://wandb.ai/cs24m021-iit-madras/DA6401_DL_Assignment1/sweeps/jtj28a74</a>"
      ],
      "text/plain": [
       "<IPython.core.display.HTML object>"
      ]
     },
     "metadata": {},
     "output_type": "display_data"
    },
    {
     "data": {
      "text/html": [
       " View project at <a href='https://wandb.ai/cs24m021-iit-madras/DA6401_DL_Assignment1' target=\"_blank\">https://wandb.ai/cs24m021-iit-madras/DA6401_DL_Assignment1</a>"
      ],
      "text/plain": [
       "<IPython.core.display.HTML object>"
      ]
     },
     "metadata": {},
     "output_type": "display_data"
    },
    {
     "data": {
      "text/html": [
       " View sweep at <a href='https://wandb.ai/cs24m021-iit-madras/DA6401_DL_Assignment1/sweeps/jtj28a74' target=\"_blank\">https://wandb.ai/cs24m021-iit-madras/DA6401_DL_Assignment1/sweeps/jtj28a74</a>"
      ],
      "text/plain": [
       "<IPython.core.display.HTML object>"
      ]
     },
     "metadata": {},
     "output_type": "display_data"
    },
    {
     "data": {
      "text/html": [
       " View run at <a href='https://wandb.ai/cs24m021-iit-madras/DA6401_DL_Assignment1/runs/j2etxz99' target=\"_blank\">https://wandb.ai/cs24m021-iit-madras/DA6401_DL_Assignment1/runs/j2etxz99</a>"
      ],
      "text/plain": [
       "<IPython.core.display.HTML object>"
      ]
     },
     "metadata": {},
     "output_type": "display_data"
    },
    {
     "name": "stdout",
     "output_type": "stream",
     "text": [
      "Epoch 1: Train Loss=1.7569, Train Acc=40.53%, Val Loss=1.7963, Val Acc=39.00%\n",
      "Epoch 2: Train Loss=1.3763, Train Acc=51.69%, Val Loss=1.3915, Val Acc=51.20%\n",
      "Epoch 3: Train Loss=1.1918, Train Acc=58.07%, Val Loss=1.1917, Val Acc=57.45%\n",
      "Epoch 4: Train Loss=1.0547, Train Acc=63.49%, Val Loss=1.0742, Val Acc=62.38%\n",
      "Epoch 5: Train Loss=0.8990, Train Acc=69.81%, Val Loss=0.9282, Val Acc=69.35%\n",
      "Epoch 6: Train Loss=0.7490, Train Acc=74.40%, Val Loss=0.7791, Val Acc=73.90%\n",
      "Epoch 7: Train Loss=0.6094, Train Acc=80.10%, Val Loss=0.6659, Val Acc=78.48%\n",
      "Epoch 8: Train Loss=0.4474, Train Acc=85.98%, Val Loss=0.4949, Val Acc=84.67%\n",
      "Epoch 9: Train Loss=0.3765, Train Acc=88.22%, Val Loss=0.4154, Val Acc=86.98%\n",
      "Epoch 10: Train Loss=0.2852, Train Acc=91.31%, Val Loss=0.3346, Val Acc=90.25%\n",
      "Test Loss: 0.3273, Test Acc: 90.24%\n"
     ]
    },
    {
     "data": {
      "text/html": [],
      "text/plain": [
       "<IPython.core.display.HTML object>"
      ]
     },
     "metadata": {},
     "output_type": "display_data"
    },
    {
     "data": {
      "text/html": [
       "<br>    <style><br>        .wandb-row {<br>            display: flex;<br>            flex-direction: row;<br>            flex-wrap: wrap;<br>            justify-content: flex-start;<br>            width: 100%;<br>        }<br>        .wandb-col {<br>            display: flex;<br>            flex-direction: column;<br>            flex-basis: 100%;<br>            flex: 1;<br>            padding: 10px;<br>        }<br>    </style><br><div class=\"wandb-row\"><div class=\"wandb-col\"><h3>Run history:</h3><br/><table class=\"wandb\"><tr><td>epoch</td><td>▁▂▃▃▄▅▆▆▇█</td></tr><tr><td>test_accuracy</td><td>▁</td></tr><tr><td>train_acc</td><td>▁▃▃▄▅▆▆▇██</td></tr><tr><td>train_loss</td><td>█▆▅▅▄▃▃▂▁▁</td></tr><tr><td>val_acc</td><td>▁▃▄▄▅▆▆▇██</td></tr><tr><td>val_loss</td><td>█▆▅▅▄▃▃▂▁▁</td></tr></table><br/></div><div class=\"wandb-col\"><h3>Run summary:</h3><br/><table class=\"wandb\"><tr><td>epoch</td><td>10</td></tr><tr><td>test_accuracy</td><td>90.24</td></tr><tr><td>train_acc</td><td>91.31296</td></tr><tr><td>train_loss</td><td>0.2852</td></tr><tr><td>val_acc</td><td>90.25</td></tr><tr><td>val_loss</td><td>0.33458</td></tr></table><br/></div></div>"
      ],
      "text/plain": [
       "<IPython.core.display.HTML object>"
      ]
     },
     "metadata": {},
     "output_type": "display_data"
    },
    {
     "data": {
      "text/html": [
       " View run <strong style=\"color:#cdcd00\">opt_nadam_hl_5_bs_64_e_10_act_tanh_eta_0.005_init_random_hls_128_dataset_mnist_cross_entropy</strong> at: <a href='https://wandb.ai/cs24m021-iit-madras/DA6401_DL_Assignment1/runs/j2etxz99' target=\"_blank\">https://wandb.ai/cs24m021-iit-madras/DA6401_DL_Assignment1/runs/j2etxz99</a><br> View project at: <a href='https://wandb.ai/cs24m021-iit-madras/DA6401_DL_Assignment1' target=\"_blank\">https://wandb.ai/cs24m021-iit-madras/DA6401_DL_Assignment1</a><br>Synced 5 W&B file(s), 0 media file(s), 0 artifact file(s) and 0 other file(s)"
      ],
      "text/plain": [
       "<IPython.core.display.HTML object>"
      ]
     },
     "metadata": {},
     "output_type": "display_data"
    },
    {
     "data": {
      "text/html": [
       "Find logs at: <code>./wandb/run-20250311_135133-j2etxz99/logs</code>"
      ],
      "text/plain": [
       "<IPython.core.display.HTML object>"
      ]
     },
     "metadata": {},
     "output_type": "display_data"
    },
    {
     "name": "stderr",
     "output_type": "stream",
     "text": [
      "\u001b[34m\u001b[1mwandb\u001b[0m: Agent Starting Run: b54oxzf3 with config:\n",
      "\u001b[34m\u001b[1mwandb\u001b[0m: \tactivation: ReLU\n",
      "\u001b[34m\u001b[1mwandb\u001b[0m: \thidden_layer_sizes: 128\n",
      "\u001b[34m\u001b[1mwandb\u001b[0m: \toptimizer: nadam\n"
     ]
    },
    {
     "data": {
      "text/html": [
       "Ignoring project 'DA6401_DL_Assignment1' when running a sweep."
      ],
      "text/plain": [
       "<IPython.core.display.HTML object>"
      ]
     },
     "metadata": {},
     "output_type": "display_data"
    },
    {
     "data": {
      "text/html": [
       "Tracking run with wandb version 0.19.8"
      ],
      "text/plain": [
       "<IPython.core.display.HTML object>"
      ]
     },
     "metadata": {},
     "output_type": "display_data"
    },
    {
     "data": {
      "text/html": [
       "Run data is saved locally in <code>/home/ubuntu/wandb/run-20250311_135258-b54oxzf3</code>"
      ],
      "text/plain": [
       "<IPython.core.display.HTML object>"
      ]
     },
     "metadata": {},
     "output_type": "display_data"
    },
    {
     "data": {
      "text/html": [
       "Syncing run <strong><a href='https://wandb.ai/cs24m021-iit-madras/DA6401_DL_Assignment1/runs/b54oxzf3' target=\"_blank\">young-sweep-7</a></strong> to <a href='https://wandb.ai/cs24m021-iit-madras/DA6401_DL_Assignment1' target=\"_blank\">Weights & Biases</a> (<a href='https://wandb.me/developer-guide' target=\"_blank\">docs</a>)<br>Sweep page: <a href='https://wandb.ai/cs24m021-iit-madras/DA6401_DL_Assignment1/sweeps/jtj28a74' target=\"_blank\">https://wandb.ai/cs24m021-iit-madras/DA6401_DL_Assignment1/sweeps/jtj28a74</a>"
      ],
      "text/plain": [
       "<IPython.core.display.HTML object>"
      ]
     },
     "metadata": {},
     "output_type": "display_data"
    },
    {
     "data": {
      "text/html": [
       " View project at <a href='https://wandb.ai/cs24m021-iit-madras/DA6401_DL_Assignment1' target=\"_blank\">https://wandb.ai/cs24m021-iit-madras/DA6401_DL_Assignment1</a>"
      ],
      "text/plain": [
       "<IPython.core.display.HTML object>"
      ]
     },
     "metadata": {},
     "output_type": "display_data"
    },
    {
     "data": {
      "text/html": [
       " View sweep at <a href='https://wandb.ai/cs24m021-iit-madras/DA6401_DL_Assignment1/sweeps/jtj28a74' target=\"_blank\">https://wandb.ai/cs24m021-iit-madras/DA6401_DL_Assignment1/sweeps/jtj28a74</a>"
      ],
      "text/plain": [
       "<IPython.core.display.HTML object>"
      ]
     },
     "metadata": {},
     "output_type": "display_data"
    },
    {
     "data": {
      "text/html": [
       " View run at <a href='https://wandb.ai/cs24m021-iit-madras/DA6401_DL_Assignment1/runs/b54oxzf3' target=\"_blank\">https://wandb.ai/cs24m021-iit-madras/DA6401_DL_Assignment1/runs/b54oxzf3</a>"
      ],
      "text/plain": [
       "<IPython.core.display.HTML object>"
      ]
     },
     "metadata": {},
     "output_type": "display_data"
    },
    {
     "name": "stdout",
     "output_type": "stream",
     "text": [
      "Epoch 1: Train Loss=5.3827, Train Acc=84.39%, Val Loss=5.6979, Val Acc=83.48%\n",
      "Epoch 2: Train Loss=3.9135, Train Acc=88.64%, Val Loss=4.6684, Val Acc=86.43%\n",
      "Epoch 3: Train Loss=3.3452, Train Acc=90.28%, Val Loss=4.2860, Val Acc=87.57%\n",
      "Epoch 4: Train Loss=2.9462, Train Acc=91.42%, Val Loss=3.9885, Val Acc=88.42%\n",
      "Epoch 5: Train Loss=2.5564, Train Acc=92.57%, Val Loss=3.4494, Val Acc=89.98%\n",
      "Epoch 6: Train Loss=2.1973, Train Acc=93.59%, Val Loss=3.0084, Val Acc=91.25%\n",
      "Epoch 7: Train Loss=2.2552, Train Acc=93.42%, Val Loss=3.0362, Val Acc=91.18%\n",
      "Epoch 8: Train Loss=2.6139, Train Acc=92.37%, Val Loss=3.5155, Val Acc=89.78%\n",
      "Epoch 9: Train Loss=2.1693, Train Acc=93.66%, Val Loss=3.1060, Val Acc=90.97%\n",
      "Epoch 10: Train Loss=1.9666, Train Acc=94.25%, Val Loss=2.6504, Val Acc=92.27%\n",
      "Test Loss: 3.0267, Test Acc: 91.18%\n"
     ]
    },
    {
     "data": {
      "text/html": [],
      "text/plain": [
       "<IPython.core.display.HTML object>"
      ]
     },
     "metadata": {},
     "output_type": "display_data"
    },
    {
     "data": {
      "text/html": [
       "<br>    <style><br>        .wandb-row {<br>            display: flex;<br>            flex-direction: row;<br>            flex-wrap: wrap;<br>            justify-content: flex-start;<br>            width: 100%;<br>        }<br>        .wandb-col {<br>            display: flex;<br>            flex-direction: column;<br>            flex-basis: 100%;<br>            flex: 1;<br>            padding: 10px;<br>        }<br>    </style><br><div class=\"wandb-row\"><div class=\"wandb-col\"><h3>Run history:</h3><br/><table class=\"wandb\"><tr><td>epoch</td><td>▁▂▃▃▄▅▆▆▇█</td></tr><tr><td>test_accuracy</td><td>▁</td></tr><tr><td>train_acc</td><td>▁▄▅▆▇█▇▇██</td></tr><tr><td>train_loss</td><td>█▅▄▃▂▁▂▂▁▁</td></tr><tr><td>val_acc</td><td>▁▃▄▅▆▇▇▆▇█</td></tr><tr><td>val_loss</td><td>█▆▅▄▃▂▂▃▂▁</td></tr></table><br/></div><div class=\"wandb-col\"><h3>Run summary:</h3><br/><table class=\"wandb\"><tr><td>epoch</td><td>10</td></tr><tr><td>test_accuracy</td><td>91.18</td></tr><tr><td>train_acc</td><td>94.24815</td></tr><tr><td>train_loss</td><td>1.96659</td></tr><tr><td>val_acc</td><td>92.26667</td></tr><tr><td>val_loss</td><td>2.65042</td></tr></table><br/></div></div>"
      ],
      "text/plain": [
       "<IPython.core.display.HTML object>"
      ]
     },
     "metadata": {},
     "output_type": "display_data"
    },
    {
     "data": {
      "text/html": [
       " View run <strong style=\"color:#cdcd00\">opt_nadam_hl_5_bs_64_e_10_act_ReLU_eta_0.005_init_random_hls_128_dataset_mnist_cross_entropy</strong> at: <a href='https://wandb.ai/cs24m021-iit-madras/DA6401_DL_Assignment1/runs/b54oxzf3' target=\"_blank\">https://wandb.ai/cs24m021-iit-madras/DA6401_DL_Assignment1/runs/b54oxzf3</a><br> View project at: <a href='https://wandb.ai/cs24m021-iit-madras/DA6401_DL_Assignment1' target=\"_blank\">https://wandb.ai/cs24m021-iit-madras/DA6401_DL_Assignment1</a><br>Synced 5 W&B file(s), 0 media file(s), 0 artifact file(s) and 0 other file(s)"
      ],
      "text/plain": [
       "<IPython.core.display.HTML object>"
      ]
     },
     "metadata": {},
     "output_type": "display_data"
    },
    {
     "data": {
      "text/html": [
       "Find logs at: <code>./wandb/run-20250311_135258-b54oxzf3/logs</code>"
      ],
      "text/plain": [
       "<IPython.core.display.HTML object>"
      ]
     },
     "metadata": {},
     "output_type": "display_data"
    },
    {
     "name": "stderr",
     "output_type": "stream",
     "text": [
      "\u001b[34m\u001b[1mwandb\u001b[0m: Agent Starting Run: vpwg3jm8 with config:\n",
      "\u001b[34m\u001b[1mwandb\u001b[0m: \tactivation: sigmoid\n",
      "\u001b[34m\u001b[1mwandb\u001b[0m: \thidden_layer_sizes: 64\n",
      "\u001b[34m\u001b[1mwandb\u001b[0m: \toptimizer: nesterov\n"
     ]
    },
    {
     "data": {
      "text/html": [
       "Ignoring project 'DA6401_DL_Assignment1' when running a sweep."
      ],
      "text/plain": [
       "<IPython.core.display.HTML object>"
      ]
     },
     "metadata": {},
     "output_type": "display_data"
    },
    {
     "data": {
      "text/html": [
       "Tracking run with wandb version 0.19.8"
      ],
      "text/plain": [
       "<IPython.core.display.HTML object>"
      ]
     },
     "metadata": {},
     "output_type": "display_data"
    },
    {
     "data": {
      "text/html": [
       "Run data is saved locally in <code>/home/ubuntu/wandb/run-20250311_135422-vpwg3jm8</code>"
      ],
      "text/plain": [
       "<IPython.core.display.HTML object>"
      ]
     },
     "metadata": {},
     "output_type": "display_data"
    },
    {
     "data": {
      "text/html": [
       "Syncing run <strong><a href='https://wandb.ai/cs24m021-iit-madras/DA6401_DL_Assignment1/runs/vpwg3jm8' target=\"_blank\">dainty-sweep-8</a></strong> to <a href='https://wandb.ai/cs24m021-iit-madras/DA6401_DL_Assignment1' target=\"_blank\">Weights & Biases</a> (<a href='https://wandb.me/developer-guide' target=\"_blank\">docs</a>)<br>Sweep page: <a href='https://wandb.ai/cs24m021-iit-madras/DA6401_DL_Assignment1/sweeps/jtj28a74' target=\"_blank\">https://wandb.ai/cs24m021-iit-madras/DA6401_DL_Assignment1/sweeps/jtj28a74</a>"
      ],
      "text/plain": [
       "<IPython.core.display.HTML object>"
      ]
     },
     "metadata": {},
     "output_type": "display_data"
    },
    {
     "data": {
      "text/html": [
       " View project at <a href='https://wandb.ai/cs24m021-iit-madras/DA6401_DL_Assignment1' target=\"_blank\">https://wandb.ai/cs24m021-iit-madras/DA6401_DL_Assignment1</a>"
      ],
      "text/plain": [
       "<IPython.core.display.HTML object>"
      ]
     },
     "metadata": {},
     "output_type": "display_data"
    },
    {
     "data": {
      "text/html": [
       " View sweep at <a href='https://wandb.ai/cs24m021-iit-madras/DA6401_DL_Assignment1/sweeps/jtj28a74' target=\"_blank\">https://wandb.ai/cs24m021-iit-madras/DA6401_DL_Assignment1/sweeps/jtj28a74</a>"
      ],
      "text/plain": [
       "<IPython.core.display.HTML object>"
      ]
     },
     "metadata": {},
     "output_type": "display_data"
    },
    {
     "data": {
      "text/html": [
       " View run at <a href='https://wandb.ai/cs24m021-iit-madras/DA6401_DL_Assignment1/runs/vpwg3jm8' target=\"_blank\">https://wandb.ai/cs24m021-iit-madras/DA6401_DL_Assignment1/runs/vpwg3jm8</a>"
      ],
      "text/plain": [
       "<IPython.core.display.HTML object>"
      ]
     },
     "metadata": {},
     "output_type": "display_data"
    },
    {
     "name": "stdout",
     "output_type": "stream",
     "text": [
      "Epoch 1: Train Loss=1.4909, Train Acc=51.58%, Val Loss=1.4874, Val Acc=51.13%\n",
      "Epoch 2: Train Loss=1.0737, Train Acc=66.20%, Val Loss=1.0769, Val Acc=66.45%\n",
      "Epoch 3: Train Loss=0.8502, Train Acc=73.17%, Val Loss=0.8591, Val Acc=72.62%\n",
      "Epoch 4: Train Loss=0.7179, Train Acc=77.37%, Val Loss=0.7309, Val Acc=77.17%\n",
      "Epoch 5: Train Loss=0.6284, Train Acc=80.33%, Val Loss=0.6442, Val Acc=79.78%\n",
      "Epoch 6: Train Loss=0.5624, Train Acc=82.41%, Val Loss=0.5807, Val Acc=81.90%\n",
      "Epoch 7: Train Loss=0.5126, Train Acc=84.06%, Val Loss=0.5330, Val Acc=83.43%\n",
      "Epoch 8: Train Loss=0.4735, Train Acc=85.40%, Val Loss=0.4956, Val Acc=84.75%\n",
      "Epoch 9: Train Loss=0.4420, Train Acc=86.53%, Val Loss=0.4655, Val Acc=85.65%\n",
      "Epoch 10: Train Loss=0.4159, Train Acc=87.41%, Val Loss=0.4406, Val Acc=86.67%\n",
      "Test Loss: 0.4387, Test Acc: 86.54%\n"
     ]
    },
    {
     "data": {
      "text/html": [],
      "text/plain": [
       "<IPython.core.display.HTML object>"
      ]
     },
     "metadata": {},
     "output_type": "display_data"
    },
    {
     "data": {
      "text/html": [
       "<br>    <style><br>        .wandb-row {<br>            display: flex;<br>            flex-direction: row;<br>            flex-wrap: wrap;<br>            justify-content: flex-start;<br>            width: 100%;<br>        }<br>        .wandb-col {<br>            display: flex;<br>            flex-direction: column;<br>            flex-basis: 100%;<br>            flex: 1;<br>            padding: 10px;<br>        }<br>    </style><br><div class=\"wandb-row\"><div class=\"wandb-col\"><h3>Run history:</h3><br/><table class=\"wandb\"><tr><td>epoch</td><td>▁▂▃▃▄▅▆▆▇█</td></tr><tr><td>test_accuracy</td><td>▁</td></tr><tr><td>train_acc</td><td>▁▄▅▆▇▇▇███</td></tr><tr><td>train_loss</td><td>█▅▄▃▂▂▂▁▁▁</td></tr><tr><td>val_acc</td><td>▁▄▅▆▇▇▇███</td></tr><tr><td>val_loss</td><td>█▅▄▃▂▂▂▁▁▁</td></tr></table><br/></div><div class=\"wandb-col\"><h3>Run summary:</h3><br/><table class=\"wandb\"><tr><td>epoch</td><td>10</td></tr><tr><td>test_accuracy</td><td>86.54</td></tr><tr><td>train_acc</td><td>87.40926</td></tr><tr><td>train_loss</td><td>0.41594</td></tr><tr><td>val_acc</td><td>86.66667</td></tr><tr><td>val_loss</td><td>0.44057</td></tr></table><br/></div></div>"
      ],
      "text/plain": [
       "<IPython.core.display.HTML object>"
      ]
     },
     "metadata": {},
     "output_type": "display_data"
    },
    {
     "data": {
      "text/html": [
       " View run <strong style=\"color:#cdcd00\">opt_nesterov_hl_5_bs_64_e_10_act_sigmoid_eta_0.005_init_random_hls_64_dataset_mnist_cross_entropy</strong> at: <a href='https://wandb.ai/cs24m021-iit-madras/DA6401_DL_Assignment1/runs/vpwg3jm8' target=\"_blank\">https://wandb.ai/cs24m021-iit-madras/DA6401_DL_Assignment1/runs/vpwg3jm8</a><br> View project at: <a href='https://wandb.ai/cs24m021-iit-madras/DA6401_DL_Assignment1' target=\"_blank\">https://wandb.ai/cs24m021-iit-madras/DA6401_DL_Assignment1</a><br>Synced 5 W&B file(s), 0 media file(s), 0 artifact file(s) and 0 other file(s)"
      ],
      "text/plain": [
       "<IPython.core.display.HTML object>"
      ]
     },
     "metadata": {},
     "output_type": "display_data"
    },
    {
     "data": {
      "text/html": [
       "Find logs at: <code>./wandb/run-20250311_135422-vpwg3jm8/logs</code>"
      ],
      "text/plain": [
       "<IPython.core.display.HTML object>"
      ]
     },
     "metadata": {},
     "output_type": "display_data"
    },
    {
     "name": "stderr",
     "output_type": "stream",
     "text": [
      "\u001b[34m\u001b[1mwandb\u001b[0m: Agent Starting Run: qsyt1hdx with config:\n",
      "\u001b[34m\u001b[1mwandb\u001b[0m: \tactivation: ReLU\n",
      "\u001b[34m\u001b[1mwandb\u001b[0m: \thidden_layer_sizes: 32\n",
      "\u001b[34m\u001b[1mwandb\u001b[0m: \toptimizer: nadam\n"
     ]
    },
    {
     "data": {
      "text/html": [
       "Ignoring project 'DA6401_DL_Assignment1' when running a sweep."
      ],
      "text/plain": [
       "<IPython.core.display.HTML object>"
      ]
     },
     "metadata": {},
     "output_type": "display_data"
    },
    {
     "data": {
      "text/html": [
       "Tracking run with wandb version 0.19.8"
      ],
      "text/plain": [
       "<IPython.core.display.HTML object>"
      ]
     },
     "metadata": {},
     "output_type": "display_data"
    },
    {
     "data": {
      "text/html": [
       "Run data is saved locally in <code>/home/ubuntu/wandb/run-20250311_135510-qsyt1hdx</code>"
      ],
      "text/plain": [
       "<IPython.core.display.HTML object>"
      ]
     },
     "metadata": {},
     "output_type": "display_data"
    },
    {
     "data": {
      "text/html": [
       "Syncing run <strong><a href='https://wandb.ai/cs24m021-iit-madras/DA6401_DL_Assignment1/runs/qsyt1hdx' target=\"_blank\">different-sweep-9</a></strong> to <a href='https://wandb.ai/cs24m021-iit-madras/DA6401_DL_Assignment1' target=\"_blank\">Weights & Biases</a> (<a href='https://wandb.me/developer-guide' target=\"_blank\">docs</a>)<br>Sweep page: <a href='https://wandb.ai/cs24m021-iit-madras/DA6401_DL_Assignment1/sweeps/jtj28a74' target=\"_blank\">https://wandb.ai/cs24m021-iit-madras/DA6401_DL_Assignment1/sweeps/jtj28a74</a>"
      ],
      "text/plain": [
       "<IPython.core.display.HTML object>"
      ]
     },
     "metadata": {},
     "output_type": "display_data"
    },
    {
     "data": {
      "text/html": [
       " View project at <a href='https://wandb.ai/cs24m021-iit-madras/DA6401_DL_Assignment1' target=\"_blank\">https://wandb.ai/cs24m021-iit-madras/DA6401_DL_Assignment1</a>"
      ],
      "text/plain": [
       "<IPython.core.display.HTML object>"
      ]
     },
     "metadata": {},
     "output_type": "display_data"
    },
    {
     "data": {
      "text/html": [
       " View sweep at <a href='https://wandb.ai/cs24m021-iit-madras/DA6401_DL_Assignment1/sweeps/jtj28a74' target=\"_blank\">https://wandb.ai/cs24m021-iit-madras/DA6401_DL_Assignment1/sweeps/jtj28a74</a>"
      ],
      "text/plain": [
       "<IPython.core.display.HTML object>"
      ]
     },
     "metadata": {},
     "output_type": "display_data"
    },
    {
     "data": {
      "text/html": [
       " View run at <a href='https://wandb.ai/cs24m021-iit-madras/DA6401_DL_Assignment1/runs/qsyt1hdx' target=\"_blank\">https://wandb.ai/cs24m021-iit-madras/DA6401_DL_Assignment1/runs/qsyt1hdx</a>"
      ],
      "text/plain": [
       "<IPython.core.display.HTML object>"
      ]
     },
     "metadata": {},
     "output_type": "display_data"
    },
    {
     "name": "stdout",
     "output_type": "stream",
     "text": [
      "Epoch 1: Train Loss=8.4352, Train Acc=28.83%, Val Loss=8.5828, Val Acc=28.70%\n",
      "Epoch 2: Train Loss=6.0366, Train Acc=34.43%, Val Loss=5.9782, Val Acc=34.62%\n",
      "Epoch 3: Train Loss=3.3977, Train Acc=39.90%, Val Loss=3.4460, Val Acc=39.08%\n",
      "Epoch 4: Train Loss=2.4899, Train Acc=41.54%, Val Loss=2.5633, Val Acc=40.80%\n",
      "Epoch 5: Train Loss=3.1291, Train Acc=42.20%, Val Loss=3.1669, Val Acc=42.20%\n",
      "Epoch 6: Train Loss=1.8852, Train Acc=48.63%, Val Loss=2.0177, Val Acc=47.28%\n",
      "Epoch 7: Train Loss=2.5974, Train Acc=43.32%, Val Loss=2.7240, Val Acc=42.48%\n",
      "Epoch 8: Train Loss=2.2484, Train Acc=47.86%, Val Loss=2.3512, Val Acc=46.98%\n",
      "Epoch 9: Train Loss=1.4359, Train Acc=58.58%, Val Loss=1.5013, Val Acc=58.13%\n",
      "Epoch 10: Train Loss=1.1662, Train Acc=62.93%, Val Loss=1.2038, Val Acc=61.98%\n",
      "Test Loss: 1.1946, Test Acc: 62.27%\n"
     ]
    },
    {
     "data": {
      "text/html": [],
      "text/plain": [
       "<IPython.core.display.HTML object>"
      ]
     },
     "metadata": {},
     "output_type": "display_data"
    },
    {
     "data": {
      "text/html": [
       "<br>    <style><br>        .wandb-row {<br>            display: flex;<br>            flex-direction: row;<br>            flex-wrap: wrap;<br>            justify-content: flex-start;<br>            width: 100%;<br>        }<br>        .wandb-col {<br>            display: flex;<br>            flex-direction: column;<br>            flex-basis: 100%;<br>            flex: 1;<br>            padding: 10px;<br>        }<br>    </style><br><div class=\"wandb-row\"><div class=\"wandb-col\"><h3>Run history:</h3><br/><table class=\"wandb\"><tr><td>epoch</td><td>▁▂▃▃▄▅▆▆▇█</td></tr><tr><td>test_accuracy</td><td>▁</td></tr><tr><td>train_acc</td><td>▁▂▃▄▄▅▄▅▇█</td></tr><tr><td>train_loss</td><td>█▆▃▂▃▂▂▂▁▁</td></tr><tr><td>val_acc</td><td>▁▂▃▄▄▅▄▅▇█</td></tr><tr><td>val_loss</td><td>█▆▃▂▃▂▂▂▁▁</td></tr></table><br/></div><div class=\"wandb-col\"><h3>Run summary:</h3><br/><table class=\"wandb\"><tr><td>epoch</td><td>10</td></tr><tr><td>test_accuracy</td><td>62.27</td></tr><tr><td>train_acc</td><td>62.93148</td></tr><tr><td>train_loss</td><td>1.16615</td></tr><tr><td>val_acc</td><td>61.98333</td></tr><tr><td>val_loss</td><td>1.20384</td></tr></table><br/></div></div>"
      ],
      "text/plain": [
       "<IPython.core.display.HTML object>"
      ]
     },
     "metadata": {},
     "output_type": "display_data"
    },
    {
     "data": {
      "text/html": [
       " View run <strong style=\"color:#cdcd00\">opt_nadam_hl_5_bs_64_e_10_act_ReLU_eta_0.005_init_random_hls_32_dataset_mnist_cross_entropy</strong> at: <a href='https://wandb.ai/cs24m021-iit-madras/DA6401_DL_Assignment1/runs/qsyt1hdx' target=\"_blank\">https://wandb.ai/cs24m021-iit-madras/DA6401_DL_Assignment1/runs/qsyt1hdx</a><br> View project at: <a href='https://wandb.ai/cs24m021-iit-madras/DA6401_DL_Assignment1' target=\"_blank\">https://wandb.ai/cs24m021-iit-madras/DA6401_DL_Assignment1</a><br>Synced 5 W&B file(s), 0 media file(s), 0 artifact file(s) and 0 other file(s)"
      ],
      "text/plain": [
       "<IPython.core.display.HTML object>"
      ]
     },
     "metadata": {},
     "output_type": "display_data"
    },
    {
     "data": {
      "text/html": [
       "Find logs at: <code>./wandb/run-20250311_135510-qsyt1hdx/logs</code>"
      ],
      "text/plain": [
       "<IPython.core.display.HTML object>"
      ]
     },
     "metadata": {},
     "output_type": "display_data"
    },
    {
     "name": "stderr",
     "output_type": "stream",
     "text": [
      "\u001b[34m\u001b[1mwandb\u001b[0m: Agent Starting Run: 1351mj5c with config:\n",
      "\u001b[34m\u001b[1mwandb\u001b[0m: \tactivation: sigmoid\n",
      "\u001b[34m\u001b[1mwandb\u001b[0m: \thidden_layer_sizes: 128\n",
      "\u001b[34m\u001b[1mwandb\u001b[0m: \toptimizer: rmsprop\n"
     ]
    },
    {
     "data": {
      "text/html": [
       "Ignoring project 'DA6401_DL_Assignment1' when running a sweep."
      ],
      "text/plain": [
       "<IPython.core.display.HTML object>"
      ]
     },
     "metadata": {},
     "output_type": "display_data"
    },
    {
     "data": {
      "text/html": [
       "Tracking run with wandb version 0.19.8"
      ],
      "text/plain": [
       "<IPython.core.display.HTML object>"
      ]
     },
     "metadata": {},
     "output_type": "display_data"
    },
    {
     "data": {
      "text/html": [
       "Run data is saved locally in <code>/home/ubuntu/wandb/run-20250311_135531-1351mj5c</code>"
      ],
      "text/plain": [
       "<IPython.core.display.HTML object>"
      ]
     },
     "metadata": {},
     "output_type": "display_data"
    },
    {
     "data": {
      "text/html": [
       "Syncing run <strong><a href='https://wandb.ai/cs24m021-iit-madras/DA6401_DL_Assignment1/runs/1351mj5c' target=\"_blank\">elated-sweep-10</a></strong> to <a href='https://wandb.ai/cs24m021-iit-madras/DA6401_DL_Assignment1' target=\"_blank\">Weights & Biases</a> (<a href='https://wandb.me/developer-guide' target=\"_blank\">docs</a>)<br>Sweep page: <a href='https://wandb.ai/cs24m021-iit-madras/DA6401_DL_Assignment1/sweeps/jtj28a74' target=\"_blank\">https://wandb.ai/cs24m021-iit-madras/DA6401_DL_Assignment1/sweeps/jtj28a74</a>"
      ],
      "text/plain": [
       "<IPython.core.display.HTML object>"
      ]
     },
     "metadata": {},
     "output_type": "display_data"
    },
    {
     "data": {
      "text/html": [
       " View project at <a href='https://wandb.ai/cs24m021-iit-madras/DA6401_DL_Assignment1' target=\"_blank\">https://wandb.ai/cs24m021-iit-madras/DA6401_DL_Assignment1</a>"
      ],
      "text/plain": [
       "<IPython.core.display.HTML object>"
      ]
     },
     "metadata": {},
     "output_type": "display_data"
    },
    {
     "data": {
      "text/html": [
       " View sweep at <a href='https://wandb.ai/cs24m021-iit-madras/DA6401_DL_Assignment1/sweeps/jtj28a74' target=\"_blank\">https://wandb.ai/cs24m021-iit-madras/DA6401_DL_Assignment1/sweeps/jtj28a74</a>"
      ],
      "text/plain": [
       "<IPython.core.display.HTML object>"
      ]
     },
     "metadata": {},
     "output_type": "display_data"
    },
    {
     "data": {
      "text/html": [
       " View run at <a href='https://wandb.ai/cs24m021-iit-madras/DA6401_DL_Assignment1/runs/1351mj5c' target=\"_blank\">https://wandb.ai/cs24m021-iit-madras/DA6401_DL_Assignment1/runs/1351mj5c</a>"
      ],
      "text/plain": [
       "<IPython.core.display.HTML object>"
      ]
     },
     "metadata": {},
     "output_type": "display_data"
    },
    {
     "name": "stdout",
     "output_type": "stream",
     "text": [
      "Epoch 1: Train Loss=2.3449, Train Acc=9.72%, Val Loss=2.3405, Val Acc=9.87%\n",
      "Epoch 2: Train Loss=2.3401, Train Acc=9.72%, Val Loss=2.3363, Val Acc=9.87%\n",
      "Epoch 3: Train Loss=2.3387, Train Acc=9.72%, Val Loss=2.3350, Val Acc=9.87%\n",
      "Epoch 4: Train Loss=2.3385, Train Acc=9.72%, Val Loss=2.3348, Val Acc=9.87%\n",
      "Epoch 5: Train Loss=2.3385, Train Acc=9.72%, Val Loss=2.3348, Val Acc=9.87%\n",
      "Epoch 6: Train Loss=2.3385, Train Acc=9.72%, Val Loss=2.3349, Val Acc=9.87%\n",
      "Epoch 7: Train Loss=2.3384, Train Acc=9.72%, Val Loss=2.3347, Val Acc=9.87%\n",
      "Epoch 8: Train Loss=2.3381, Train Acc=9.72%, Val Loss=2.3345, Val Acc=9.87%\n",
      "Epoch 9: Train Loss=2.3379, Train Acc=9.72%, Val Loss=2.3343, Val Acc=9.87%\n",
      "Epoch 10: Train Loss=2.3377, Train Acc=9.72%, Val Loss=2.3341, Val Acc=9.87%\n",
      "Test Loss: 2.3362, Test Acc: 9.82%\n"
     ]
    },
    {
     "data": {
      "text/html": [],
      "text/plain": [
       "<IPython.core.display.HTML object>"
      ]
     },
     "metadata": {},
     "output_type": "display_data"
    },
    {
     "data": {
      "text/html": [
       "<br>    <style><br>        .wandb-row {<br>            display: flex;<br>            flex-direction: row;<br>            flex-wrap: wrap;<br>            justify-content: flex-start;<br>            width: 100%;<br>        }<br>        .wandb-col {<br>            display: flex;<br>            flex-direction: column;<br>            flex-basis: 100%;<br>            flex: 1;<br>            padding: 10px;<br>        }<br>    </style><br><div class=\"wandb-row\"><div class=\"wandb-col\"><h3>Run history:</h3><br/><table class=\"wandb\"><tr><td>epoch</td><td>▁▂▃▃▄▅▆▆▇█</td></tr><tr><td>test_accuracy</td><td>▁</td></tr><tr><td>train_acc</td><td>▁▁▁▁▁▁▁▁▁▁</td></tr><tr><td>train_loss</td><td>█▃▂▂▂▂▂▁▁▁</td></tr><tr><td>val_acc</td><td>▁▁▁▁▁▁▁▁▁▁</td></tr><tr><td>val_loss</td><td>█▃▂▂▂▂▂▁▁▁</td></tr></table><br/></div><div class=\"wandb-col\"><h3>Run summary:</h3><br/><table class=\"wandb\"><tr><td>epoch</td><td>10</td></tr><tr><td>test_accuracy</td><td>9.82</td></tr><tr><td>train_acc</td><td>9.72222</td></tr><tr><td>train_loss</td><td>2.3377</td></tr><tr><td>val_acc</td><td>9.86667</td></tr><tr><td>val_loss</td><td>2.33413</td></tr></table><br/></div></div>"
      ],
      "text/plain": [
       "<IPython.core.display.HTML object>"
      ]
     },
     "metadata": {},
     "output_type": "display_data"
    },
    {
     "data": {
      "text/html": [
       " View run <strong style=\"color:#cdcd00\">opt_rmsprop_hl_5_bs_64_e_10_act_sigmoid_eta_0.005_init_random_hls_128_dataset_mnist_cross_entropy</strong> at: <a href='https://wandb.ai/cs24m021-iit-madras/DA6401_DL_Assignment1/runs/1351mj5c' target=\"_blank\">https://wandb.ai/cs24m021-iit-madras/DA6401_DL_Assignment1/runs/1351mj5c</a><br> View project at: <a href='https://wandb.ai/cs24m021-iit-madras/DA6401_DL_Assignment1' target=\"_blank\">https://wandb.ai/cs24m021-iit-madras/DA6401_DL_Assignment1</a><br>Synced 5 W&B file(s), 0 media file(s), 0 artifact file(s) and 0 other file(s)"
      ],
      "text/plain": [
       "<IPython.core.display.HTML object>"
      ]
     },
     "metadata": {},
     "output_type": "display_data"
    },
    {
     "data": {
      "text/html": [
       "Find logs at: <code>./wandb/run-20250311_135531-1351mj5c/logs</code>"
      ],
      "text/plain": [
       "<IPython.core.display.HTML object>"
      ]
     },
     "metadata": {},
     "output_type": "display_data"
    },
    {
     "name": "stderr",
     "output_type": "stream",
     "text": [
      "\u001b[34m\u001b[1mwandb\u001b[0m: Agent Starting Run: 76cvxwt9 with config:\n",
      "\u001b[34m\u001b[1mwandb\u001b[0m: \tactivation: ReLU\n",
      "\u001b[34m\u001b[1mwandb\u001b[0m: \thidden_layer_sizes: 32\n",
      "\u001b[34m\u001b[1mwandb\u001b[0m: \toptimizer: nesterov\n"
     ]
    },
    {
     "data": {
      "text/html": [
       "Ignoring project 'DA6401_DL_Assignment1' when running a sweep."
      ],
      "text/plain": [
       "<IPython.core.display.HTML object>"
      ]
     },
     "metadata": {},
     "output_type": "display_data"
    },
    {
     "data": {
      "text/html": [
       "Tracking run with wandb version 0.19.8"
      ],
      "text/plain": [
       "<IPython.core.display.HTML object>"
      ]
     },
     "metadata": {},
     "output_type": "display_data"
    },
    {
     "data": {
      "text/html": [
       "Run data is saved locally in <code>/home/ubuntu/wandb/run-20250311_135701-76cvxwt9</code>"
      ],
      "text/plain": [
       "<IPython.core.display.HTML object>"
      ]
     },
     "metadata": {},
     "output_type": "display_data"
    },
    {
     "data": {
      "text/html": [
       "Syncing run <strong><a href='https://wandb.ai/cs24m021-iit-madras/DA6401_DL_Assignment1/runs/76cvxwt9' target=\"_blank\">good-sweep-11</a></strong> to <a href='https://wandb.ai/cs24m021-iit-madras/DA6401_DL_Assignment1' target=\"_blank\">Weights & Biases</a> (<a href='https://wandb.me/developer-guide' target=\"_blank\">docs</a>)<br>Sweep page: <a href='https://wandb.ai/cs24m021-iit-madras/DA6401_DL_Assignment1/sweeps/jtj28a74' target=\"_blank\">https://wandb.ai/cs24m021-iit-madras/DA6401_DL_Assignment1/sweeps/jtj28a74</a>"
      ],
      "text/plain": [
       "<IPython.core.display.HTML object>"
      ]
     },
     "metadata": {},
     "output_type": "display_data"
    },
    {
     "data": {
      "text/html": [
       " View project at <a href='https://wandb.ai/cs24m021-iit-madras/DA6401_DL_Assignment1' target=\"_blank\">https://wandb.ai/cs24m021-iit-madras/DA6401_DL_Assignment1</a>"
      ],
      "text/plain": [
       "<IPython.core.display.HTML object>"
      ]
     },
     "metadata": {},
     "output_type": "display_data"
    },
    {
     "data": {
      "text/html": [
       " View sweep at <a href='https://wandb.ai/cs24m021-iit-madras/DA6401_DL_Assignment1/sweeps/jtj28a74' target=\"_blank\">https://wandb.ai/cs24m021-iit-madras/DA6401_DL_Assignment1/sweeps/jtj28a74</a>"
      ],
      "text/plain": [
       "<IPython.core.display.HTML object>"
      ]
     },
     "metadata": {},
     "output_type": "display_data"
    },
    {
     "data": {
      "text/html": [
       " View run at <a href='https://wandb.ai/cs24m021-iit-madras/DA6401_DL_Assignment1/runs/76cvxwt9' target=\"_blank\">https://wandb.ai/cs24m021-iit-madras/DA6401_DL_Assignment1/runs/76cvxwt9</a>"
      ],
      "text/plain": [
       "<IPython.core.display.HTML object>"
      ]
     },
     "metadata": {},
     "output_type": "display_data"
    },
    {
     "name": "stdout",
     "output_type": "stream",
     "text": [
      "Epoch 1: Train Loss=2.3013, Train Acc=11.25%, Val Loss=2.3022, Val Acc=11.08%\n",
      "Epoch 2: Train Loss=2.3012, Train Acc=11.25%, Val Loss=2.3023, Val Acc=11.08%\n",
      "Epoch 3: Train Loss=2.3012, Train Acc=11.25%, Val Loss=2.3023, Val Acc=11.08%\n",
      "Epoch 4: Train Loss=2.3012, Train Acc=11.25%, Val Loss=2.3023, Val Acc=11.08%\n",
      "Epoch 5: Train Loss=2.3012, Train Acc=11.25%, Val Loss=2.3023, Val Acc=11.08%\n",
      "Epoch 6: Train Loss=2.3012, Train Acc=11.25%, Val Loss=2.3023, Val Acc=11.08%\n",
      "Epoch 7: Train Loss=2.3012, Train Acc=11.25%, Val Loss=2.3023, Val Acc=11.08%\n",
      "Epoch 8: Train Loss=2.3012, Train Acc=11.25%, Val Loss=2.3023, Val Acc=11.08%\n",
      "Epoch 9: Train Loss=2.3012, Train Acc=11.25%, Val Loss=2.3023, Val Acc=11.08%\n",
      "Epoch 10: Train Loss=2.3012, Train Acc=11.25%, Val Loss=2.3023, Val Acc=11.08%\n",
      "Test Loss: 2.3012, Test Acc: 11.35%\n"
     ]
    },
    {
     "data": {
      "text/html": [],
      "text/plain": [
       "<IPython.core.display.HTML object>"
      ]
     },
     "metadata": {},
     "output_type": "display_data"
    },
    {
     "data": {
      "text/html": [
       "<br>    <style><br>        .wandb-row {<br>            display: flex;<br>            flex-direction: row;<br>            flex-wrap: wrap;<br>            justify-content: flex-start;<br>            width: 100%;<br>        }<br>        .wandb-col {<br>            display: flex;<br>            flex-direction: column;<br>            flex-basis: 100%;<br>            flex: 1;<br>            padding: 10px;<br>        }<br>    </style><br><div class=\"wandb-row\"><div class=\"wandb-col\"><h3>Run history:</h3><br/><table class=\"wandb\"><tr><td>epoch</td><td>▁▂▃▃▄▅▆▆▇█</td></tr><tr><td>test_accuracy</td><td>▁</td></tr><tr><td>train_acc</td><td>▁▁▁▁▁▁▁▁▁▁</td></tr><tr><td>train_loss</td><td>█▁▁▁▁▁▁▁▁▁</td></tr><tr><td>val_acc</td><td>▁▁▁▁▁▁▁▁▁▁</td></tr><tr><td>val_loss</td><td>▁█████████</td></tr></table><br/></div><div class=\"wandb-col\"><h3>Run summary:</h3><br/><table class=\"wandb\"><tr><td>epoch</td><td>10</td></tr><tr><td>test_accuracy</td><td>11.35</td></tr><tr><td>train_acc</td><td>11.2537</td></tr><tr><td>train_loss</td><td>2.30116</td></tr><tr><td>val_acc</td><td>11.08333</td></tr><tr><td>val_loss</td><td>2.30229</td></tr></table><br/></div></div>"
      ],
      "text/plain": [
       "<IPython.core.display.HTML object>"
      ]
     },
     "metadata": {},
     "output_type": "display_data"
    },
    {
     "data": {
      "text/html": [
       " View run <strong style=\"color:#cdcd00\">opt_nesterov_hl_5_bs_64_e_10_act_ReLU_eta_0.005_init_random_hls_32_dataset_mnist_cross_entropy</strong> at: <a href='https://wandb.ai/cs24m021-iit-madras/DA6401_DL_Assignment1/runs/76cvxwt9' target=\"_blank\">https://wandb.ai/cs24m021-iit-madras/DA6401_DL_Assignment1/runs/76cvxwt9</a><br> View project at: <a href='https://wandb.ai/cs24m021-iit-madras/DA6401_DL_Assignment1' target=\"_blank\">https://wandb.ai/cs24m021-iit-madras/DA6401_DL_Assignment1</a><br>Synced 5 W&B file(s), 0 media file(s), 0 artifact file(s) and 0 other file(s)"
      ],
      "text/plain": [
       "<IPython.core.display.HTML object>"
      ]
     },
     "metadata": {},
     "output_type": "display_data"
    },
    {
     "data": {
      "text/html": [
       "Find logs at: <code>./wandb/run-20250311_135701-76cvxwt9/logs</code>"
      ],
      "text/plain": [
       "<IPython.core.display.HTML object>"
      ]
     },
     "metadata": {},
     "output_type": "display_data"
    },
    {
     "name": "stderr",
     "output_type": "stream",
     "text": [
      "\u001b[34m\u001b[1mwandb\u001b[0m: Agent Starting Run: h77k0fye with config:\n",
      "\u001b[34m\u001b[1mwandb\u001b[0m: \tactivation: ReLU\n",
      "\u001b[34m\u001b[1mwandb\u001b[0m: \thidden_layer_sizes: 32\n",
      "\u001b[34m\u001b[1mwandb\u001b[0m: \toptimizer: nadam\n"
     ]
    },
    {
     "data": {
      "text/html": [
       "Ignoring project 'DA6401_DL_Assignment1' when running a sweep."
      ],
      "text/plain": [
       "<IPython.core.display.HTML object>"
      ]
     },
     "metadata": {},
     "output_type": "display_data"
    },
    {
     "data": {
      "text/html": [
       "Tracking run with wandb version 0.19.8"
      ],
      "text/plain": [
       "<IPython.core.display.HTML object>"
      ]
     },
     "metadata": {},
     "output_type": "display_data"
    },
    {
     "data": {
      "text/html": [
       "Run data is saved locally in <code>/home/ubuntu/wandb/run-20250311_135717-h77k0fye</code>"
      ],
      "text/plain": [
       "<IPython.core.display.HTML object>"
      ]
     },
     "metadata": {},
     "output_type": "display_data"
    },
    {
     "data": {
      "text/html": [
       "Syncing run <strong><a href='https://wandb.ai/cs24m021-iit-madras/DA6401_DL_Assignment1/runs/h77k0fye' target=\"_blank\">dashing-sweep-12</a></strong> to <a href='https://wandb.ai/cs24m021-iit-madras/DA6401_DL_Assignment1' target=\"_blank\">Weights & Biases</a> (<a href='https://wandb.me/developer-guide' target=\"_blank\">docs</a>)<br>Sweep page: <a href='https://wandb.ai/cs24m021-iit-madras/DA6401_DL_Assignment1/sweeps/jtj28a74' target=\"_blank\">https://wandb.ai/cs24m021-iit-madras/DA6401_DL_Assignment1/sweeps/jtj28a74</a>"
      ],
      "text/plain": [
       "<IPython.core.display.HTML object>"
      ]
     },
     "metadata": {},
     "output_type": "display_data"
    },
    {
     "data": {
      "text/html": [
       " View project at <a href='https://wandb.ai/cs24m021-iit-madras/DA6401_DL_Assignment1' target=\"_blank\">https://wandb.ai/cs24m021-iit-madras/DA6401_DL_Assignment1</a>"
      ],
      "text/plain": [
       "<IPython.core.display.HTML object>"
      ]
     },
     "metadata": {},
     "output_type": "display_data"
    },
    {
     "data": {
      "text/html": [
       " View sweep at <a href='https://wandb.ai/cs24m021-iit-madras/DA6401_DL_Assignment1/sweeps/jtj28a74' target=\"_blank\">https://wandb.ai/cs24m021-iit-madras/DA6401_DL_Assignment1/sweeps/jtj28a74</a>"
      ],
      "text/plain": [
       "<IPython.core.display.HTML object>"
      ]
     },
     "metadata": {},
     "output_type": "display_data"
    },
    {
     "data": {
      "text/html": [
       " View run at <a href='https://wandb.ai/cs24m021-iit-madras/DA6401_DL_Assignment1/runs/h77k0fye' target=\"_blank\">https://wandb.ai/cs24m021-iit-madras/DA6401_DL_Assignment1/runs/h77k0fye</a>"
      ],
      "text/plain": [
       "<IPython.core.display.HTML object>"
      ]
     },
     "metadata": {},
     "output_type": "display_data"
    },
    {
     "name": "stdout",
     "output_type": "stream",
     "text": [
      "Epoch 1: Train Loss=2.6588, Train Acc=21.03%, Val Loss=2.7054, Val Acc=21.13%\n",
      "Epoch 2: Train Loss=2.2753, Train Acc=23.11%, Val Loss=2.3381, Val Acc=22.85%\n",
      "Epoch 3: Train Loss=2.1601, Train Acc=24.04%, Val Loss=2.2117, Val Acc=23.62%\n",
      "Epoch 4: Train Loss=2.0615, Train Acc=25.26%, Val Loss=2.0978, Val Acc=24.85%\n",
      "Epoch 5: Train Loss=1.9040, Train Acc=29.68%, Val Loss=1.9290, Val Acc=28.67%\n",
      "Epoch 6: Train Loss=1.7705, Train Acc=33.51%, Val Loss=1.7756, Val Acc=32.70%\n",
      "Epoch 7: Train Loss=1.6121, Train Acc=38.26%, Val Loss=1.6167, Val Acc=38.08%\n",
      "Epoch 8: Train Loss=1.4885, Train Acc=41.27%, Val Loss=1.4981, Val Acc=41.35%\n",
      "Epoch 9: Train Loss=1.3629, Train Acc=46.64%, Val Loss=1.3582, Val Acc=46.42%\n",
      "Epoch 10: Train Loss=1.2071, Train Acc=54.06%, Val Loss=1.2092, Val Acc=54.42%\n",
      "Test Loss: 1.1847, Test Acc: 55.08%\n"
     ]
    },
    {
     "data": {
      "text/html": [],
      "text/plain": [
       "<IPython.core.display.HTML object>"
      ]
     },
     "metadata": {},
     "output_type": "display_data"
    },
    {
     "data": {
      "text/html": [
       "<br>    <style><br>        .wandb-row {<br>            display: flex;<br>            flex-direction: row;<br>            flex-wrap: wrap;<br>            justify-content: flex-start;<br>            width: 100%;<br>        }<br>        .wandb-col {<br>            display: flex;<br>            flex-direction: column;<br>            flex-basis: 100%;<br>            flex: 1;<br>            padding: 10px;<br>        }<br>    </style><br><div class=\"wandb-row\"><div class=\"wandb-col\"><h3>Run history:</h3><br/><table class=\"wandb\"><tr><td>epoch</td><td>▁▂▃▃▄▅▆▆▇█</td></tr><tr><td>test_accuracy</td><td>▁</td></tr><tr><td>train_acc</td><td>▁▁▂▂▃▄▅▅▆█</td></tr><tr><td>train_loss</td><td>█▆▆▅▄▄▃▂▂▁</td></tr><tr><td>val_acc</td><td>▁▁▂▂▃▃▅▅▆█</td></tr><tr><td>val_loss</td><td>█▆▆▅▄▄▃▂▂▁</td></tr></table><br/></div><div class=\"wandb-col\"><h3>Run summary:</h3><br/><table class=\"wandb\"><tr><td>epoch</td><td>10</td></tr><tr><td>test_accuracy</td><td>55.08</td></tr><tr><td>train_acc</td><td>54.05556</td></tr><tr><td>train_loss</td><td>1.20707</td></tr><tr><td>val_acc</td><td>54.41667</td></tr><tr><td>val_loss</td><td>1.20918</td></tr></table><br/></div></div>"
      ],
      "text/plain": [
       "<IPython.core.display.HTML object>"
      ]
     },
     "metadata": {},
     "output_type": "display_data"
    },
    {
     "data": {
      "text/html": [
       " View run <strong style=\"color:#cdcd00\">opt_nadam_hl_5_bs_64_e_10_act_ReLU_eta_0.005_init_random_hls_32_dataset_mnist_cross_entropy</strong> at: <a href='https://wandb.ai/cs24m021-iit-madras/DA6401_DL_Assignment1/runs/h77k0fye' target=\"_blank\">https://wandb.ai/cs24m021-iit-madras/DA6401_DL_Assignment1/runs/h77k0fye</a><br> View project at: <a href='https://wandb.ai/cs24m021-iit-madras/DA6401_DL_Assignment1' target=\"_blank\">https://wandb.ai/cs24m021-iit-madras/DA6401_DL_Assignment1</a><br>Synced 5 W&B file(s), 0 media file(s), 0 artifact file(s) and 0 other file(s)"
      ],
      "text/plain": [
       "<IPython.core.display.HTML object>"
      ]
     },
     "metadata": {},
     "output_type": "display_data"
    },
    {
     "data": {
      "text/html": [
       "Find logs at: <code>./wandb/run-20250311_135717-h77k0fye/logs</code>"
      ],
      "text/plain": [
       "<IPython.core.display.HTML object>"
      ]
     },
     "metadata": {},
     "output_type": "display_data"
    },
    {
     "name": "stderr",
     "output_type": "stream",
     "text": [
      "\u001b[34m\u001b[1mwandb\u001b[0m: Agent Starting Run: oh9cu59t with config:\n",
      "\u001b[34m\u001b[1mwandb\u001b[0m: \tactivation: ReLU\n",
      "\u001b[34m\u001b[1mwandb\u001b[0m: \thidden_layer_sizes: 64\n",
      "\u001b[34m\u001b[1mwandb\u001b[0m: \toptimizer: adam\n"
     ]
    },
    {
     "data": {
      "text/html": [
       "Ignoring project 'DA6401_DL_Assignment1' when running a sweep."
      ],
      "text/plain": [
       "<IPython.core.display.HTML object>"
      ]
     },
     "metadata": {},
     "output_type": "display_data"
    },
    {
     "data": {
      "text/html": [
       "Tracking run with wandb version 0.19.8"
      ],
      "text/plain": [
       "<IPython.core.display.HTML object>"
      ]
     },
     "metadata": {},
     "output_type": "display_data"
    },
    {
     "data": {
      "text/html": [
       "Run data is saved locally in <code>/home/ubuntu/wandb/run-20250311_135738-oh9cu59t</code>"
      ],
      "text/plain": [
       "<IPython.core.display.HTML object>"
      ]
     },
     "metadata": {},
     "output_type": "display_data"
    },
    {
     "data": {
      "text/html": [
       "Syncing run <strong><a href='https://wandb.ai/cs24m021-iit-madras/DA6401_DL_Assignment1/runs/oh9cu59t' target=\"_blank\">neat-sweep-13</a></strong> to <a href='https://wandb.ai/cs24m021-iit-madras/DA6401_DL_Assignment1' target=\"_blank\">Weights & Biases</a> (<a href='https://wandb.me/developer-guide' target=\"_blank\">docs</a>)<br>Sweep page: <a href='https://wandb.ai/cs24m021-iit-madras/DA6401_DL_Assignment1/sweeps/jtj28a74' target=\"_blank\">https://wandb.ai/cs24m021-iit-madras/DA6401_DL_Assignment1/sweeps/jtj28a74</a>"
      ],
      "text/plain": [
       "<IPython.core.display.HTML object>"
      ]
     },
     "metadata": {},
     "output_type": "display_data"
    },
    {
     "data": {
      "text/html": [
       " View project at <a href='https://wandb.ai/cs24m021-iit-madras/DA6401_DL_Assignment1' target=\"_blank\">https://wandb.ai/cs24m021-iit-madras/DA6401_DL_Assignment1</a>"
      ],
      "text/plain": [
       "<IPython.core.display.HTML object>"
      ]
     },
     "metadata": {},
     "output_type": "display_data"
    },
    {
     "data": {
      "text/html": [
       " View sweep at <a href='https://wandb.ai/cs24m021-iit-madras/DA6401_DL_Assignment1/sweeps/jtj28a74' target=\"_blank\">https://wandb.ai/cs24m021-iit-madras/DA6401_DL_Assignment1/sweeps/jtj28a74</a>"
      ],
      "text/plain": [
       "<IPython.core.display.HTML object>"
      ]
     },
     "metadata": {},
     "output_type": "display_data"
    },
    {
     "data": {
      "text/html": [
       " View run at <a href='https://wandb.ai/cs24m021-iit-madras/DA6401_DL_Assignment1/runs/oh9cu59t' target=\"_blank\">https://wandb.ai/cs24m021-iit-madras/DA6401_DL_Assignment1/runs/oh9cu59t</a>"
      ],
      "text/plain": [
       "<IPython.core.display.HTML object>"
      ]
     },
     "metadata": {},
     "output_type": "display_data"
    },
    {
     "name": "stdout",
     "output_type": "stream",
     "text": [
      "Epoch 1: Train Loss=12.2043, Train Acc=63.54%, Val Loss=12.3512, Val Acc=63.12%\n",
      "Epoch 2: Train Loss=9.9095, Train Acc=68.91%, Val Loss=10.2770, Val Acc=67.90%\n",
      "Epoch 3: Train Loss=9.7115, Train Acc=67.51%, Val Loss=9.8031, Val Acc=67.48%\n",
      "Epoch 4: Train Loss=9.8445, Train Acc=66.11%, Val Loss=9.9869, Val Acc=66.12%\n",
      "Epoch 5: Train Loss=8.2273, Train Acc=66.68%, Val Loss=8.3109, Val Acc=66.35%\n",
      "Epoch 6: Train Loss=7.4995, Train Acc=66.61%, Val Loss=7.7562, Val Acc=65.73%\n",
      "Epoch 7: Train Loss=5.5351, Train Acc=72.52%, Val Loss=5.6830, Val Acc=72.67%\n",
      "Epoch 8: Train Loss=3.4555, Train Acc=76.36%, Val Loss=3.6243, Val Acc=76.10%\n",
      "Epoch 9: Train Loss=2.8418, Train Acc=77.19%, Val Loss=3.0456, Val Acc=76.48%\n",
      "Epoch 10: Train Loss=2.2193, Train Acc=74.65%, Val Loss=2.4636, Val Acc=73.55%\n",
      "Test Loss: 2.3427, Test Acc: 74.61%\n"
     ]
    },
    {
     "data": {
      "text/html": [],
      "text/plain": [
       "<IPython.core.display.HTML object>"
      ]
     },
     "metadata": {},
     "output_type": "display_data"
    },
    {
     "data": {
      "text/html": [
       "<br>    <style><br>        .wandb-row {<br>            display: flex;<br>            flex-direction: row;<br>            flex-wrap: wrap;<br>            justify-content: flex-start;<br>            width: 100%;<br>        }<br>        .wandb-col {<br>            display: flex;<br>            flex-direction: column;<br>            flex-basis: 100%;<br>            flex: 1;<br>            padding: 10px;<br>        }<br>    </style><br><div class=\"wandb-row\"><div class=\"wandb-col\"><h3>Run history:</h3><br/><table class=\"wandb\"><tr><td>epoch</td><td>▁▂▃▃▄▅▆▆▇█</td></tr><tr><td>test_accuracy</td><td>▁</td></tr><tr><td>train_acc</td><td>▁▄▃▂▃▃▆██▇</td></tr><tr><td>train_loss</td><td>█▆▆▆▅▅▃▂▁▁</td></tr><tr><td>val_acc</td><td>▁▄▃▃▃▂▆██▆</td></tr><tr><td>val_loss</td><td>█▇▆▆▅▅▃▂▁▁</td></tr></table><br/></div><div class=\"wandb-col\"><h3>Run summary:</h3><br/><table class=\"wandb\"><tr><td>epoch</td><td>10</td></tr><tr><td>test_accuracy</td><td>74.61</td></tr><tr><td>train_acc</td><td>74.65185</td></tr><tr><td>train_loss</td><td>2.21934</td></tr><tr><td>val_acc</td><td>73.55</td></tr><tr><td>val_loss</td><td>2.46358</td></tr></table><br/></div></div>"
      ],
      "text/plain": [
       "<IPython.core.display.HTML object>"
      ]
     },
     "metadata": {},
     "output_type": "display_data"
    },
    {
     "data": {
      "text/html": [
       " View run <strong style=\"color:#cdcd00\">opt_adam_hl_5_bs_64_e_10_act_ReLU_eta_0.005_init_random_hls_64_dataset_mnist_cross_entropy</strong> at: <a href='https://wandb.ai/cs24m021-iit-madras/DA6401_DL_Assignment1/runs/oh9cu59t' target=\"_blank\">https://wandb.ai/cs24m021-iit-madras/DA6401_DL_Assignment1/runs/oh9cu59t</a><br> View project at: <a href='https://wandb.ai/cs24m021-iit-madras/DA6401_DL_Assignment1' target=\"_blank\">https://wandb.ai/cs24m021-iit-madras/DA6401_DL_Assignment1</a><br>Synced 5 W&B file(s), 0 media file(s), 0 artifact file(s) and 0 other file(s)"
      ],
      "text/plain": [
       "<IPython.core.display.HTML object>"
      ]
     },
     "metadata": {},
     "output_type": "display_data"
    },
    {
     "data": {
      "text/html": [
       "Find logs at: <code>./wandb/run-20250311_135738-oh9cu59t/logs</code>"
      ],
      "text/plain": [
       "<IPython.core.display.HTML object>"
      ]
     },
     "metadata": {},
     "output_type": "display_data"
    },
    {
     "name": "stderr",
     "output_type": "stream",
     "text": [
      "\u001b[34m\u001b[1mwandb\u001b[0m: Agent Starting Run: j405yf4y with config:\n",
      "\u001b[34m\u001b[1mwandb\u001b[0m: \tactivation: tanh\n",
      "\u001b[34m\u001b[1mwandb\u001b[0m: \thidden_layer_sizes: 32\n",
      "\u001b[34m\u001b[1mwandb\u001b[0m: \toptimizer: sgd\n"
     ]
    },
    {
     "data": {
      "text/html": [
       "Ignoring project 'DA6401_DL_Assignment1' when running a sweep."
      ],
      "text/plain": [
       "<IPython.core.display.HTML object>"
      ]
     },
     "metadata": {},
     "output_type": "display_data"
    },
    {
     "data": {
      "text/html": [
       "Tracking run with wandb version 0.19.8"
      ],
      "text/plain": [
       "<IPython.core.display.HTML object>"
      ]
     },
     "metadata": {},
     "output_type": "display_data"
    },
    {
     "data": {
      "text/html": [
       "Run data is saved locally in <code>/home/ubuntu/wandb/run-20250311_135816-j405yf4y</code>"
      ],
      "text/plain": [
       "<IPython.core.display.HTML object>"
      ]
     },
     "metadata": {},
     "output_type": "display_data"
    },
    {
     "data": {
      "text/html": [
       "Syncing run <strong><a href='https://wandb.ai/cs24m021-iit-madras/DA6401_DL_Assignment1/runs/j405yf4y' target=\"_blank\">usual-sweep-14</a></strong> to <a href='https://wandb.ai/cs24m021-iit-madras/DA6401_DL_Assignment1' target=\"_blank\">Weights & Biases</a> (<a href='https://wandb.me/developer-guide' target=\"_blank\">docs</a>)<br>Sweep page: <a href='https://wandb.ai/cs24m021-iit-madras/DA6401_DL_Assignment1/sweeps/jtj28a74' target=\"_blank\">https://wandb.ai/cs24m021-iit-madras/DA6401_DL_Assignment1/sweeps/jtj28a74</a>"
      ],
      "text/plain": [
       "<IPython.core.display.HTML object>"
      ]
     },
     "metadata": {},
     "output_type": "display_data"
    },
    {
     "data": {
      "text/html": [
       " View project at <a href='https://wandb.ai/cs24m021-iit-madras/DA6401_DL_Assignment1' target=\"_blank\">https://wandb.ai/cs24m021-iit-madras/DA6401_DL_Assignment1</a>"
      ],
      "text/plain": [
       "<IPython.core.display.HTML object>"
      ]
     },
     "metadata": {},
     "output_type": "display_data"
    },
    {
     "data": {
      "text/html": [
       " View sweep at <a href='https://wandb.ai/cs24m021-iit-madras/DA6401_DL_Assignment1/sweeps/jtj28a74' target=\"_blank\">https://wandb.ai/cs24m021-iit-madras/DA6401_DL_Assignment1/sweeps/jtj28a74</a>"
      ],
      "text/plain": [
       "<IPython.core.display.HTML object>"
      ]
     },
     "metadata": {},
     "output_type": "display_data"
    },
    {
     "data": {
      "text/html": [
       " View run at <a href='https://wandb.ai/cs24m021-iit-madras/DA6401_DL_Assignment1/runs/j405yf4y' target=\"_blank\">https://wandb.ai/cs24m021-iit-madras/DA6401_DL_Assignment1/runs/j405yf4y</a>"
      ],
      "text/plain": [
       "<IPython.core.display.HTML object>"
      ]
     },
     "metadata": {},
     "output_type": "display_data"
    },
    {
     "name": "stdout",
     "output_type": "stream",
     "text": [
      "Epoch 1: Train Loss=4.2480, Train Acc=20.30%, Val Loss=4.2620, Val Acc=19.97%\n",
      "Epoch 2: Train Loss=3.2107, Train Acc=24.94%, Val Loss=3.2254, Val Acc=24.83%\n",
      "Epoch 3: Train Loss=2.6555, Train Acc=28.36%, Val Loss=2.7228, Val Acc=27.30%\n",
      "Epoch 4: Train Loss=2.3733, Train Acc=30.77%, Val Loss=2.4090, Val Acc=30.37%\n",
      "Epoch 5: Train Loss=2.1695, Train Acc=33.05%, Val Loss=2.2175, Val Acc=31.98%\n",
      "Epoch 6: Train Loss=2.0415, Train Acc=35.63%, Val Loss=2.0917, Val Acc=35.35%\n",
      "Epoch 7: Train Loss=1.9306, Train Acc=37.56%, Val Loss=1.9765, Val Acc=37.18%\n",
      "Epoch 8: Train Loss=1.8448, Train Acc=39.64%, Val Loss=1.9092, Val Acc=38.97%\n",
      "Epoch 9: Train Loss=1.7710, Train Acc=41.48%, Val Loss=1.8402, Val Acc=40.52%\n",
      "Epoch 10: Train Loss=1.6992, Train Acc=43.29%, Val Loss=1.7711, Val Acc=42.65%\n",
      "Test Loss: 1.7799, Test Acc: 41.95%\n"
     ]
    },
    {
     "data": {
      "text/html": [],
      "text/plain": [
       "<IPython.core.display.HTML object>"
      ]
     },
     "metadata": {},
     "output_type": "display_data"
    },
    {
     "data": {
      "text/html": [
       "<br>    <style><br>        .wandb-row {<br>            display: flex;<br>            flex-direction: row;<br>            flex-wrap: wrap;<br>            justify-content: flex-start;<br>            width: 100%;<br>        }<br>        .wandb-col {<br>            display: flex;<br>            flex-direction: column;<br>            flex-basis: 100%;<br>            flex: 1;<br>            padding: 10px;<br>        }<br>    </style><br><div class=\"wandb-row\"><div class=\"wandb-col\"><h3>Run history:</h3><br/><table class=\"wandb\"><tr><td>epoch</td><td>▁▂▃▃▄▅▆▆▇█</td></tr><tr><td>test_accuracy</td><td>▁</td></tr><tr><td>train_acc</td><td>▁▂▃▄▅▆▆▇▇█</td></tr><tr><td>train_loss</td><td>█▅▄▃▂▂▂▁▁▁</td></tr><tr><td>val_acc</td><td>▁▃▃▄▅▆▆▇▇█</td></tr><tr><td>val_loss</td><td>█▅▄▃▂▂▂▁▁▁</td></tr></table><br/></div><div class=\"wandb-col\"><h3>Run summary:</h3><br/><table class=\"wandb\"><tr><td>epoch</td><td>10</td></tr><tr><td>test_accuracy</td><td>41.95</td></tr><tr><td>train_acc</td><td>43.29444</td></tr><tr><td>train_loss</td><td>1.69923</td></tr><tr><td>val_acc</td><td>42.65</td></tr><tr><td>val_loss</td><td>1.77106</td></tr></table><br/></div></div>"
      ],
      "text/plain": [
       "<IPython.core.display.HTML object>"
      ]
     },
     "metadata": {},
     "output_type": "display_data"
    },
    {
     "data": {
      "text/html": [
       " View run <strong style=\"color:#cdcd00\">opt_sgd_hl_5_bs_64_e_10_act_tanh_eta_0.005_init_random_hls_32_dataset_mnist_cross_entropy</strong> at: <a href='https://wandb.ai/cs24m021-iit-madras/DA6401_DL_Assignment1/runs/j405yf4y' target=\"_blank\">https://wandb.ai/cs24m021-iit-madras/DA6401_DL_Assignment1/runs/j405yf4y</a><br> View project at: <a href='https://wandb.ai/cs24m021-iit-madras/DA6401_DL_Assignment1' target=\"_blank\">https://wandb.ai/cs24m021-iit-madras/DA6401_DL_Assignment1</a><br>Synced 5 W&B file(s), 0 media file(s), 0 artifact file(s) and 0 other file(s)"
      ],
      "text/plain": [
       "<IPython.core.display.HTML object>"
      ]
     },
     "metadata": {},
     "output_type": "display_data"
    },
    {
     "data": {
      "text/html": [
       "Find logs at: <code>./wandb/run-20250311_135816-j405yf4y/logs</code>"
      ],
      "text/plain": [
       "<IPython.core.display.HTML object>"
      ]
     },
     "metadata": {},
     "output_type": "display_data"
    },
    {
     "name": "stderr",
     "output_type": "stream",
     "text": [
      "\u001b[34m\u001b[1mwandb\u001b[0m: Agent Starting Run: f6peubby with config:\n",
      "\u001b[34m\u001b[1mwandb\u001b[0m: \tactivation: ReLU\n",
      "\u001b[34m\u001b[1mwandb\u001b[0m: \thidden_layer_sizes: 64\n",
      "\u001b[34m\u001b[1mwandb\u001b[0m: \toptimizer: rmsprop\n"
     ]
    },
    {
     "data": {
      "text/html": [
       "Ignoring project 'DA6401_DL_Assignment1' when running a sweep."
      ],
      "text/plain": [
       "<IPython.core.display.HTML object>"
      ]
     },
     "metadata": {},
     "output_type": "display_data"
    },
    {
     "data": {
      "text/html": [
       "Tracking run with wandb version 0.19.8"
      ],
      "text/plain": [
       "<IPython.core.display.HTML object>"
      ]
     },
     "metadata": {},
     "output_type": "display_data"
    },
    {
     "data": {
      "text/html": [
       "Run data is saved locally in <code>/home/ubuntu/wandb/run-20250311_135832-f6peubby</code>"
      ],
      "text/plain": [
       "<IPython.core.display.HTML object>"
      ]
     },
     "metadata": {},
     "output_type": "display_data"
    },
    {
     "data": {
      "text/html": [
       "Syncing run <strong><a href='https://wandb.ai/cs24m021-iit-madras/DA6401_DL_Assignment1/runs/f6peubby' target=\"_blank\">glorious-sweep-15</a></strong> to <a href='https://wandb.ai/cs24m021-iit-madras/DA6401_DL_Assignment1' target=\"_blank\">Weights & Biases</a> (<a href='https://wandb.me/developer-guide' target=\"_blank\">docs</a>)<br>Sweep page: <a href='https://wandb.ai/cs24m021-iit-madras/DA6401_DL_Assignment1/sweeps/jtj28a74' target=\"_blank\">https://wandb.ai/cs24m021-iit-madras/DA6401_DL_Assignment1/sweeps/jtj28a74</a>"
      ],
      "text/plain": [
       "<IPython.core.display.HTML object>"
      ]
     },
     "metadata": {},
     "output_type": "display_data"
    },
    {
     "data": {
      "text/html": [
       " View project at <a href='https://wandb.ai/cs24m021-iit-madras/DA6401_DL_Assignment1' target=\"_blank\">https://wandb.ai/cs24m021-iit-madras/DA6401_DL_Assignment1</a>"
      ],
      "text/plain": [
       "<IPython.core.display.HTML object>"
      ]
     },
     "metadata": {},
     "output_type": "display_data"
    },
    {
     "data": {
      "text/html": [
       " View sweep at <a href='https://wandb.ai/cs24m021-iit-madras/DA6401_DL_Assignment1/sweeps/jtj28a74' target=\"_blank\">https://wandb.ai/cs24m021-iit-madras/DA6401_DL_Assignment1/sweeps/jtj28a74</a>"
      ],
      "text/plain": [
       "<IPython.core.display.HTML object>"
      ]
     },
     "metadata": {},
     "output_type": "display_data"
    },
    {
     "data": {
      "text/html": [
       " View run at <a href='https://wandb.ai/cs24m021-iit-madras/DA6401_DL_Assignment1/runs/f6peubby' target=\"_blank\">https://wandb.ai/cs24m021-iit-madras/DA6401_DL_Assignment1/runs/f6peubby</a>"
      ],
      "text/plain": [
       "<IPython.core.display.HTML object>"
      ]
     },
     "metadata": {},
     "output_type": "display_data"
    },
    {
     "name": "stdout",
     "output_type": "stream",
     "text": [
      "Epoch 1: Train Loss=2.3071, Train Acc=11.25%, Val Loss=2.3299, Val Acc=11.08%\n",
      "Epoch 2: Train Loss=2.3038, Train Acc=11.25%, Val Loss=2.3280, Val Acc=11.08%\n",
      "Epoch 3: Train Loss=2.3019, Train Acc=11.25%, Val Loss=2.3242, Val Acc=11.08%\n",
      "Epoch 4: Train Loss=2.3022, Train Acc=11.26%, Val Loss=2.3235, Val Acc=11.08%\n",
      "Epoch 5: Train Loss=2.3018, Train Acc=11.26%, Val Loss=2.3233, Val Acc=11.08%\n",
      "Epoch 6: Train Loss=2.3016, Train Acc=11.26%, Val Loss=2.3183, Val Acc=11.08%\n",
      "Epoch 7: Train Loss=2.3038, Train Acc=11.26%, Val Loss=2.3130, Val Acc=11.08%\n",
      "Epoch 8: Train Loss=2.3013, Train Acc=11.26%, Val Loss=2.3127, Val Acc=11.10%\n",
      "Epoch 9: Train Loss=2.3011, Train Acc=11.26%, Val Loss=2.3023, Val Acc=11.08%\n",
      "Epoch 10: Train Loss=2.3011, Train Acc=11.26%, Val Loss=2.3023, Val Acc=11.08%\n",
      "Test Loss: 2.3014, Test Acc: 11.35%\n"
     ]
    },
    {
     "data": {
      "text/html": [],
      "text/plain": [
       "<IPython.core.display.HTML object>"
      ]
     },
     "metadata": {},
     "output_type": "display_data"
    },
    {
     "data": {
      "text/html": [
       "<br>    <style><br>        .wandb-row {<br>            display: flex;<br>            flex-direction: row;<br>            flex-wrap: wrap;<br>            justify-content: flex-start;<br>            width: 100%;<br>        }<br>        .wandb-col {<br>            display: flex;<br>            flex-direction: column;<br>            flex-basis: 100%;<br>            flex: 1;<br>            padding: 10px;<br>        }<br>    </style><br><div class=\"wandb-row\"><div class=\"wandb-col\"><h3>Run history:</h3><br/><table class=\"wandb\"><tr><td>epoch</td><td>▁▂▃▃▄▅▆▆▇█</td></tr><tr><td>test_accuracy</td><td>▁</td></tr><tr><td>train_acc</td><td>▁▃▅██▇▇▇██</td></tr><tr><td>train_loss</td><td>█▄▂▂▂▂▄▁▁▁</td></tr><tr><td>val_acc</td><td>▁▁▁▁▁▁▁█▁▁</td></tr><tr><td>val_loss</td><td>██▇▆▆▅▄▄▁▁</td></tr></table><br/></div><div class=\"wandb-col\"><h3>Run summary:</h3><br/><table class=\"wandb\"><tr><td>epoch</td><td>10</td></tr><tr><td>test_accuracy</td><td>11.35</td></tr><tr><td>train_acc</td><td>11.25926</td></tr><tr><td>train_loss</td><td>2.30113</td></tr><tr><td>val_acc</td><td>11.08333</td></tr><tr><td>val_loss</td><td>2.30227</td></tr></table><br/></div></div>"
      ],
      "text/plain": [
       "<IPython.core.display.HTML object>"
      ]
     },
     "metadata": {},
     "output_type": "display_data"
    },
    {
     "data": {
      "text/html": [
       " View run <strong style=\"color:#cdcd00\">opt_rmsprop_hl_5_bs_64_e_10_act_ReLU_eta_0.005_init_random_hls_64_dataset_mnist_cross_entropy</strong> at: <a href='https://wandb.ai/cs24m021-iit-madras/DA6401_DL_Assignment1/runs/f6peubby' target=\"_blank\">https://wandb.ai/cs24m021-iit-madras/DA6401_DL_Assignment1/runs/f6peubby</a><br> View project at: <a href='https://wandb.ai/cs24m021-iit-madras/DA6401_DL_Assignment1' target=\"_blank\">https://wandb.ai/cs24m021-iit-madras/DA6401_DL_Assignment1</a><br>Synced 5 W&B file(s), 0 media file(s), 0 artifact file(s) and 0 other file(s)"
      ],
      "text/plain": [
       "<IPython.core.display.HTML object>"
      ]
     },
     "metadata": {},
     "output_type": "display_data"
    },
    {
     "data": {
      "text/html": [
       "Find logs at: <code>./wandb/run-20250311_135832-f6peubby/logs</code>"
      ],
      "text/plain": [
       "<IPython.core.display.HTML object>"
      ]
     },
     "metadata": {},
     "output_type": "display_data"
    },
    {
     "name": "stderr",
     "output_type": "stream",
     "text": [
      "\u001b[34m\u001b[1mwandb\u001b[0m: Agent Starting Run: vxplvl13 with config:\n",
      "\u001b[34m\u001b[1mwandb\u001b[0m: \tactivation: sigmoid\n",
      "\u001b[34m\u001b[1mwandb\u001b[0m: \thidden_layer_sizes: 32\n",
      "\u001b[34m\u001b[1mwandb\u001b[0m: \toptimizer: nesterov\n"
     ]
    },
    {
     "data": {
      "text/html": [
       "Ignoring project 'DA6401_DL_Assignment1' when running a sweep."
      ],
      "text/plain": [
       "<IPython.core.display.HTML object>"
      ]
     },
     "metadata": {},
     "output_type": "display_data"
    },
    {
     "data": {
      "text/html": [
       "Tracking run with wandb version 0.19.8"
      ],
      "text/plain": [
       "<IPython.core.display.HTML object>"
      ]
     },
     "metadata": {},
     "output_type": "display_data"
    },
    {
     "data": {
      "text/html": [
       "Run data is saved locally in <code>/home/ubuntu/wandb/run-20250311_135904-vxplvl13</code>"
      ],
      "text/plain": [
       "<IPython.core.display.HTML object>"
      ]
     },
     "metadata": {},
     "output_type": "display_data"
    },
    {
     "data": {
      "text/html": [
       "Syncing run <strong><a href='https://wandb.ai/cs24m021-iit-madras/DA6401_DL_Assignment1/runs/vxplvl13' target=\"_blank\">morning-sweep-16</a></strong> to <a href='https://wandb.ai/cs24m021-iit-madras/DA6401_DL_Assignment1' target=\"_blank\">Weights & Biases</a> (<a href='https://wandb.me/developer-guide' target=\"_blank\">docs</a>)<br>Sweep page: <a href='https://wandb.ai/cs24m021-iit-madras/DA6401_DL_Assignment1/sweeps/jtj28a74' target=\"_blank\">https://wandb.ai/cs24m021-iit-madras/DA6401_DL_Assignment1/sweeps/jtj28a74</a>"
      ],
      "text/plain": [
       "<IPython.core.display.HTML object>"
      ]
     },
     "metadata": {},
     "output_type": "display_data"
    },
    {
     "data": {
      "text/html": [
       " View project at <a href='https://wandb.ai/cs24m021-iit-madras/DA6401_DL_Assignment1' target=\"_blank\">https://wandb.ai/cs24m021-iit-madras/DA6401_DL_Assignment1</a>"
      ],
      "text/plain": [
       "<IPython.core.display.HTML object>"
      ]
     },
     "metadata": {},
     "output_type": "display_data"
    },
    {
     "data": {
      "text/html": [
       " View sweep at <a href='https://wandb.ai/cs24m021-iit-madras/DA6401_DL_Assignment1/sweeps/jtj28a74' target=\"_blank\">https://wandb.ai/cs24m021-iit-madras/DA6401_DL_Assignment1/sweeps/jtj28a74</a>"
      ],
      "text/plain": [
       "<IPython.core.display.HTML object>"
      ]
     },
     "metadata": {},
     "output_type": "display_data"
    },
    {
     "data": {
      "text/html": [
       " View run at <a href='https://wandb.ai/cs24m021-iit-madras/DA6401_DL_Assignment1/runs/vxplvl13' target=\"_blank\">https://wandb.ai/cs24m021-iit-madras/DA6401_DL_Assignment1/runs/vxplvl13</a>"
      ],
      "text/plain": [
       "<IPython.core.display.HTML object>"
      ]
     },
     "metadata": {},
     "output_type": "display_data"
    },
    {
     "name": "stdout",
     "output_type": "stream",
     "text": [
      "Epoch 1: Train Loss=1.7741, Train Acc=41.54%, Val Loss=1.7860, Val Acc=41.67%\n",
      "Epoch 2: Train Loss=1.3038, Train Acc=57.68%, Val Loss=1.3095, Val Acc=56.95%\n",
      "Epoch 3: Train Loss=1.0491, Train Acc=66.54%, Val Loss=1.0547, Val Acc=65.80%\n",
      "Epoch 4: Train Loss=0.8899, Train Acc=72.20%, Val Loss=0.8950, Val Acc=71.55%\n",
      "Epoch 5: Train Loss=0.7819, Train Acc=75.82%, Val Loss=0.7872, Val Acc=75.87%\n",
      "Epoch 6: Train Loss=0.7025, Train Acc=78.39%, Val Loss=0.7079, Val Acc=78.57%\n",
      "Epoch 7: Train Loss=0.6417, Train Acc=80.41%, Val Loss=0.6473, Val Acc=80.38%\n",
      "Epoch 8: Train Loss=0.5931, Train Acc=82.09%, Val Loss=0.5995, Val Acc=81.92%\n",
      "Epoch 9: Train Loss=0.5531, Train Acc=83.34%, Val Loss=0.5608, Val Acc=83.15%\n",
      "Epoch 10: Train Loss=0.5197, Train Acc=84.53%, Val Loss=0.5288, Val Acc=84.13%\n",
      "Test Loss: 0.5126, Test Acc: 84.54%\n"
     ]
    },
    {
     "data": {
      "text/html": [],
      "text/plain": [
       "<IPython.core.display.HTML object>"
      ]
     },
     "metadata": {},
     "output_type": "display_data"
    },
    {
     "data": {
      "text/html": [
       "<br>    <style><br>        .wandb-row {<br>            display: flex;<br>            flex-direction: row;<br>            flex-wrap: wrap;<br>            justify-content: flex-start;<br>            width: 100%;<br>        }<br>        .wandb-col {<br>            display: flex;<br>            flex-direction: column;<br>            flex-basis: 100%;<br>            flex: 1;<br>            padding: 10px;<br>        }<br>    </style><br><div class=\"wandb-row\"><div class=\"wandb-col\"><h3>Run history:</h3><br/><table class=\"wandb\"><tr><td>epoch</td><td>▁▂▃▃▄▅▆▆▇█</td></tr><tr><td>test_accuracy</td><td>▁</td></tr><tr><td>train_acc</td><td>▁▄▅▆▇▇▇███</td></tr><tr><td>train_loss</td><td>█▅▄▃▂▂▂▁▁▁</td></tr><tr><td>val_acc</td><td>▁▄▅▆▇▇▇███</td></tr><tr><td>val_loss</td><td>█▅▄▃▂▂▂▁▁▁</td></tr></table><br/></div><div class=\"wandb-col\"><h3>Run summary:</h3><br/><table class=\"wandb\"><tr><td>epoch</td><td>10</td></tr><tr><td>test_accuracy</td><td>84.54</td></tr><tr><td>train_acc</td><td>84.52778</td></tr><tr><td>train_loss</td><td>0.51973</td></tr><tr><td>val_acc</td><td>84.13333</td></tr><tr><td>val_loss</td><td>0.52876</td></tr></table><br/></div></div>"
      ],
      "text/plain": [
       "<IPython.core.display.HTML object>"
      ]
     },
     "metadata": {},
     "output_type": "display_data"
    },
    {
     "data": {
      "text/html": [
       " View run <strong style=\"color:#cdcd00\">opt_nesterov_hl_5_bs_64_e_10_act_sigmoid_eta_0.005_init_random_hls_32_dataset_mnist_cross_entropy</strong> at: <a href='https://wandb.ai/cs24m021-iit-madras/DA6401_DL_Assignment1/runs/vxplvl13' target=\"_blank\">https://wandb.ai/cs24m021-iit-madras/DA6401_DL_Assignment1/runs/vxplvl13</a><br> View project at: <a href='https://wandb.ai/cs24m021-iit-madras/DA6401_DL_Assignment1' target=\"_blank\">https://wandb.ai/cs24m021-iit-madras/DA6401_DL_Assignment1</a><br>Synced 5 W&B file(s), 0 media file(s), 0 artifact file(s) and 0 other file(s)"
      ],
      "text/plain": [
       "<IPython.core.display.HTML object>"
      ]
     },
     "metadata": {},
     "output_type": "display_data"
    },
    {
     "data": {
      "text/html": [
       "Find logs at: <code>./wandb/run-20250311_135904-vxplvl13/logs</code>"
      ],
      "text/plain": [
       "<IPython.core.display.HTML object>"
      ]
     },
     "metadata": {},
     "output_type": "display_data"
    },
    {
     "name": "stderr",
     "output_type": "stream",
     "text": [
      "\u001b[34m\u001b[1mwandb\u001b[0m: Agent Starting Run: lvk7cu75 with config:\n",
      "\u001b[34m\u001b[1mwandb\u001b[0m: \tactivation: tanh\n",
      "\u001b[34m\u001b[1mwandb\u001b[0m: \thidden_layer_sizes: 64\n",
      "\u001b[34m\u001b[1mwandb\u001b[0m: \toptimizer: rmsprop\n"
     ]
    },
    {
     "data": {
      "text/html": [
       "Ignoring project 'DA6401_DL_Assignment1' when running a sweep."
      ],
      "text/plain": [
       "<IPython.core.display.HTML object>"
      ]
     },
     "metadata": {},
     "output_type": "display_data"
    },
    {
     "data": {
      "text/html": [
       "Tracking run with wandb version 0.19.8"
      ],
      "text/plain": [
       "<IPython.core.display.HTML object>"
      ]
     },
     "metadata": {},
     "output_type": "display_data"
    },
    {
     "data": {
      "text/html": [
       "Run data is saved locally in <code>/home/ubuntu/wandb/run-20250311_135930-lvk7cu75</code>"
      ],
      "text/plain": [
       "<IPython.core.display.HTML object>"
      ]
     },
     "metadata": {},
     "output_type": "display_data"
    },
    {
     "data": {
      "text/html": [
       "Syncing run <strong><a href='https://wandb.ai/cs24m021-iit-madras/DA6401_DL_Assignment1/runs/lvk7cu75' target=\"_blank\">giddy-sweep-17</a></strong> to <a href='https://wandb.ai/cs24m021-iit-madras/DA6401_DL_Assignment1' target=\"_blank\">Weights & Biases</a> (<a href='https://wandb.me/developer-guide' target=\"_blank\">docs</a>)<br>Sweep page: <a href='https://wandb.ai/cs24m021-iit-madras/DA6401_DL_Assignment1/sweeps/jtj28a74' target=\"_blank\">https://wandb.ai/cs24m021-iit-madras/DA6401_DL_Assignment1/sweeps/jtj28a74</a>"
      ],
      "text/plain": [
       "<IPython.core.display.HTML object>"
      ]
     },
     "metadata": {},
     "output_type": "display_data"
    },
    {
     "data": {
      "text/html": [
       " View project at <a href='https://wandb.ai/cs24m021-iit-madras/DA6401_DL_Assignment1' target=\"_blank\">https://wandb.ai/cs24m021-iit-madras/DA6401_DL_Assignment1</a>"
      ],
      "text/plain": [
       "<IPython.core.display.HTML object>"
      ]
     },
     "metadata": {},
     "output_type": "display_data"
    },
    {
     "data": {
      "text/html": [
       " View sweep at <a href='https://wandb.ai/cs24m021-iit-madras/DA6401_DL_Assignment1/sweeps/jtj28a74' target=\"_blank\">https://wandb.ai/cs24m021-iit-madras/DA6401_DL_Assignment1/sweeps/jtj28a74</a>"
      ],
      "text/plain": [
       "<IPython.core.display.HTML object>"
      ]
     },
     "metadata": {},
     "output_type": "display_data"
    },
    {
     "data": {
      "text/html": [
       " View run at <a href='https://wandb.ai/cs24m021-iit-madras/DA6401_DL_Assignment1/runs/lvk7cu75' target=\"_blank\">https://wandb.ai/cs24m021-iit-madras/DA6401_DL_Assignment1/runs/lvk7cu75</a>"
      ],
      "text/plain": [
       "<IPython.core.display.HTML object>"
      ]
     },
     "metadata": {},
     "output_type": "display_data"
    },
    {
     "name": "stdout",
     "output_type": "stream",
     "text": [
      "Epoch 1: Train Loss=1.2078, Train Acc=53.40%, Val Loss=1.2058, Val Acc=54.35%\n",
      "Epoch 2: Train Loss=0.8262, Train Acc=72.77%, Val Loss=0.8313, Val Acc=72.82%\n",
      "Epoch 3: Train Loss=0.5954, Train Acc=82.97%, Val Loss=0.6041, Val Acc=83.07%\n",
      "Epoch 4: Train Loss=0.4125, Train Acc=88.62%, Val Loss=0.4395, Val Acc=88.05%\n",
      "Epoch 5: Train Loss=0.3940, Train Acc=89.40%, Val Loss=0.4145, Val Acc=89.12%\n",
      "Epoch 6: Train Loss=0.2885, Train Acc=92.04%, Val Loss=0.3166, Val Acc=91.47%\n",
      "Epoch 7: Train Loss=0.2581, Train Acc=92.76%, Val Loss=0.2881, Val Acc=91.75%\n",
      "Epoch 8: Train Loss=0.2677, Train Acc=92.17%, Val Loss=0.2840, Val Acc=91.57%\n",
      "Epoch 9: Train Loss=0.1854, Train Acc=94.89%, Val Loss=0.2178, Val Acc=94.13%\n",
      "Epoch 10: Train Loss=0.1738, Train Acc=95.31%, Val Loss=0.2096, Val Acc=94.47%\n",
      "Test Loss: 0.2067, Test Acc: 94.49%\n"
     ]
    },
    {
     "data": {
      "text/html": [],
      "text/plain": [
       "<IPython.core.display.HTML object>"
      ]
     },
     "metadata": {},
     "output_type": "display_data"
    },
    {
     "data": {
      "text/html": [
       "<br>    <style><br>        .wandb-row {<br>            display: flex;<br>            flex-direction: row;<br>            flex-wrap: wrap;<br>            justify-content: flex-start;<br>            width: 100%;<br>        }<br>        .wandb-col {<br>            display: flex;<br>            flex-direction: column;<br>            flex-basis: 100%;<br>            flex: 1;<br>            padding: 10px;<br>        }<br>    </style><br><div class=\"wandb-row\"><div class=\"wandb-col\"><h3>Run history:</h3><br/><table class=\"wandb\"><tr><td>epoch</td><td>▁▂▃▃▄▅▆▆▇█</td></tr><tr><td>test_accuracy</td><td>▁</td></tr><tr><td>train_acc</td><td>▁▄▆▇▇▇█▇██</td></tr><tr><td>train_loss</td><td>█▅▄▃▂▂▂▂▁▁</td></tr><tr><td>val_acc</td><td>▁▄▆▇▇▇█▇██</td></tr><tr><td>val_loss</td><td>█▅▄▃▂▂▂▂▁▁</td></tr></table><br/></div><div class=\"wandb-col\"><h3>Run summary:</h3><br/><table class=\"wandb\"><tr><td>epoch</td><td>10</td></tr><tr><td>test_accuracy</td><td>94.49</td></tr><tr><td>train_acc</td><td>95.31111</td></tr><tr><td>train_loss</td><td>0.17383</td></tr><tr><td>val_acc</td><td>94.46667</td></tr><tr><td>val_loss</td><td>0.20957</td></tr></table><br/></div></div>"
      ],
      "text/plain": [
       "<IPython.core.display.HTML object>"
      ]
     },
     "metadata": {},
     "output_type": "display_data"
    },
    {
     "data": {
      "text/html": [
       " View run <strong style=\"color:#cdcd00\">opt_rmsprop_hl_5_bs_64_e_10_act_tanh_eta_0.005_init_random_hls_64_dataset_mnist_cross_entropy</strong> at: <a href='https://wandb.ai/cs24m021-iit-madras/DA6401_DL_Assignment1/runs/lvk7cu75' target=\"_blank\">https://wandb.ai/cs24m021-iit-madras/DA6401_DL_Assignment1/runs/lvk7cu75</a><br> View project at: <a href='https://wandb.ai/cs24m021-iit-madras/DA6401_DL_Assignment1' target=\"_blank\">https://wandb.ai/cs24m021-iit-madras/DA6401_DL_Assignment1</a><br>Synced 5 W&B file(s), 0 media file(s), 0 artifact file(s) and 0 other file(s)"
      ],
      "text/plain": [
       "<IPython.core.display.HTML object>"
      ]
     },
     "metadata": {},
     "output_type": "display_data"
    },
    {
     "data": {
      "text/html": [
       "Find logs at: <code>./wandb/run-20250311_135930-lvk7cu75/logs</code>"
      ],
      "text/plain": [
       "<IPython.core.display.HTML object>"
      ]
     },
     "metadata": {},
     "output_type": "display_data"
    },
    {
     "name": "stderr",
     "output_type": "stream",
     "text": [
      "\u001b[34m\u001b[1mwandb\u001b[0m: Sweep Agent: Waiting for job.\n",
      "\u001b[34m\u001b[1mwandb\u001b[0m: Job received.\n",
      "\u001b[34m\u001b[1mwandb\u001b[0m: Agent Starting Run: dod7q4vo with config:\n",
      "\u001b[34m\u001b[1mwandb\u001b[0m: \tactivation: tanh\n",
      "\u001b[34m\u001b[1mwandb\u001b[0m: \thidden_layer_sizes: 128\n",
      "\u001b[34m\u001b[1mwandb\u001b[0m: \toptimizer: sgd\n"
     ]
    },
    {
     "data": {
      "text/html": [
       "Ignoring project 'DA6401_DL_Assignment1' when running a sweep."
      ],
      "text/plain": [
       "<IPython.core.display.HTML object>"
      ]
     },
     "metadata": {},
     "output_type": "display_data"
    },
    {
     "data": {
      "text/html": [
       "Tracking run with wandb version 0.19.8"
      ],
      "text/plain": [
       "<IPython.core.display.HTML object>"
      ]
     },
     "metadata": {},
     "output_type": "display_data"
    },
    {
     "data": {
      "text/html": [
       "Run data is saved locally in <code>/home/ubuntu/wandb/run-20250311_140008-dod7q4vo</code>"
      ],
      "text/plain": [
       "<IPython.core.display.HTML object>"
      ]
     },
     "metadata": {},
     "output_type": "display_data"
    },
    {
     "data": {
      "text/html": [
       "Syncing run <strong><a href='https://wandb.ai/cs24m021-iit-madras/DA6401_DL_Assignment1/runs/dod7q4vo' target=\"_blank\">wandering-sweep-18</a></strong> to <a href='https://wandb.ai/cs24m021-iit-madras/DA6401_DL_Assignment1' target=\"_blank\">Weights & Biases</a> (<a href='https://wandb.me/developer-guide' target=\"_blank\">docs</a>)<br>Sweep page: <a href='https://wandb.ai/cs24m021-iit-madras/DA6401_DL_Assignment1/sweeps/jtj28a74' target=\"_blank\">https://wandb.ai/cs24m021-iit-madras/DA6401_DL_Assignment1/sweeps/jtj28a74</a>"
      ],
      "text/plain": [
       "<IPython.core.display.HTML object>"
      ]
     },
     "metadata": {},
     "output_type": "display_data"
    },
    {
     "data": {
      "text/html": [
       " View project at <a href='https://wandb.ai/cs24m021-iit-madras/DA6401_DL_Assignment1' target=\"_blank\">https://wandb.ai/cs24m021-iit-madras/DA6401_DL_Assignment1</a>"
      ],
      "text/plain": [
       "<IPython.core.display.HTML object>"
      ]
     },
     "metadata": {},
     "output_type": "display_data"
    },
    {
     "data": {
      "text/html": [
       " View sweep at <a href='https://wandb.ai/cs24m021-iit-madras/DA6401_DL_Assignment1/sweeps/jtj28a74' target=\"_blank\">https://wandb.ai/cs24m021-iit-madras/DA6401_DL_Assignment1/sweeps/jtj28a74</a>"
      ],
      "text/plain": [
       "<IPython.core.display.HTML object>"
      ]
     },
     "metadata": {},
     "output_type": "display_data"
    },
    {
     "data": {
      "text/html": [
       " View run at <a href='https://wandb.ai/cs24m021-iit-madras/DA6401_DL_Assignment1/runs/dod7q4vo' target=\"_blank\">https://wandb.ai/cs24m021-iit-madras/DA6401_DL_Assignment1/runs/dod7q4vo</a>"
      ],
      "text/plain": [
       "<IPython.core.display.HTML object>"
      ]
     },
     "metadata": {},
     "output_type": "display_data"
    },
    {
     "name": "stdout",
     "output_type": "stream",
     "text": [
      "Epoch 1: Train Loss=9.4251, Train Acc=21.60%, Val Loss=9.4228, Val Acc=21.93%\n",
      "Epoch 2: Train Loss=6.8433, Train Acc=26.86%, Val Loss=6.8559, Val Acc=27.35%\n",
      "Epoch 3: Train Loss=5.2731, Train Acc=30.18%, Val Loss=5.2607, Val Acc=30.10%\n",
      "Epoch 4: Train Loss=3.9966, Train Acc=33.00%, Val Loss=4.0429, Val Acc=32.95%\n",
      "Epoch 5: Train Loss=2.9916, Train Acc=33.90%, Val Loss=3.0874, Val Acc=33.00%\n",
      "Epoch 6: Train Loss=2.3307, Train Acc=36.41%, Val Loss=2.4095, Val Acc=34.98%\n",
      "Epoch 7: Train Loss=1.9770, Train Acc=39.09%, Val Loss=2.0464, Val Acc=37.72%\n",
      "Epoch 8: Train Loss=1.7906, Train Acc=41.54%, Val Loss=1.8508, Val Acc=40.08%\n",
      "Epoch 9: Train Loss=1.6724, Train Acc=43.54%, Val Loss=1.7553, Val Acc=41.73%\n",
      "Epoch 10: Train Loss=1.5787, Train Acc=45.86%, Val Loss=1.6726, Val Acc=43.95%\n",
      "Test Loss: 1.6328, Test Acc: 44.88%\n"
     ]
    },
    {
     "data": {
      "text/html": [],
      "text/plain": [
       "<IPython.core.display.HTML object>"
      ]
     },
     "metadata": {},
     "output_type": "display_data"
    },
    {
     "data": {
      "text/html": [
       "<br>    <style><br>        .wandb-row {<br>            display: flex;<br>            flex-direction: row;<br>            flex-wrap: wrap;<br>            justify-content: flex-start;<br>            width: 100%;<br>        }<br>        .wandb-col {<br>            display: flex;<br>            flex-direction: column;<br>            flex-basis: 100%;<br>            flex: 1;<br>            padding: 10px;<br>        }<br>    </style><br><div class=\"wandb-row\"><div class=\"wandb-col\"><h3>Run history:</h3><br/><table class=\"wandb\"><tr><td>epoch</td><td>▁▂▃▃▄▅▆▆▇█</td></tr><tr><td>test_accuracy</td><td>▁</td></tr><tr><td>train_acc</td><td>▁▃▃▄▅▅▆▇▇█</td></tr><tr><td>train_loss</td><td>█▆▄▃▂▂▁▁▁▁</td></tr><tr><td>val_acc</td><td>▁▃▄▅▅▅▆▇▇█</td></tr><tr><td>val_loss</td><td>█▆▄▃▂▂▁▁▁▁</td></tr></table><br/></div><div class=\"wandb-col\"><h3>Run summary:</h3><br/><table class=\"wandb\"><tr><td>epoch</td><td>10</td></tr><tr><td>test_accuracy</td><td>44.88</td></tr><tr><td>train_acc</td><td>45.85741</td></tr><tr><td>train_loss</td><td>1.57871</td></tr><tr><td>val_acc</td><td>43.95</td></tr><tr><td>val_loss</td><td>1.67261</td></tr></table><br/></div></div>"
      ],
      "text/plain": [
       "<IPython.core.display.HTML object>"
      ]
     },
     "metadata": {},
     "output_type": "display_data"
    },
    {
     "data": {
      "text/html": [
       " View run <strong style=\"color:#cdcd00\">opt_sgd_hl_5_bs_64_e_10_act_tanh_eta_0.005_init_random_hls_128_dataset_mnist_cross_entropy</strong> at: <a href='https://wandb.ai/cs24m021-iit-madras/DA6401_DL_Assignment1/runs/dod7q4vo' target=\"_blank\">https://wandb.ai/cs24m021-iit-madras/DA6401_DL_Assignment1/runs/dod7q4vo</a><br> View project at: <a href='https://wandb.ai/cs24m021-iit-madras/DA6401_DL_Assignment1' target=\"_blank\">https://wandb.ai/cs24m021-iit-madras/DA6401_DL_Assignment1</a><br>Synced 5 W&B file(s), 0 media file(s), 0 artifact file(s) and 0 other file(s)"
      ],
      "text/plain": [
       "<IPython.core.display.HTML object>"
      ]
     },
     "metadata": {},
     "output_type": "display_data"
    },
    {
     "data": {
      "text/html": [
       "Find logs at: <code>./wandb/run-20250311_140008-dod7q4vo/logs</code>"
      ],
      "text/plain": [
       "<IPython.core.display.HTML object>"
      ]
     },
     "metadata": {},
     "output_type": "display_data"
    },
    {
     "name": "stderr",
     "output_type": "stream",
     "text": [
      "\u001b[34m\u001b[1mwandb\u001b[0m: Agent Starting Run: ov7xcxo4 with config:\n",
      "\u001b[34m\u001b[1mwandb\u001b[0m: \tactivation: ReLU\n",
      "\u001b[34m\u001b[1mwandb\u001b[0m: \thidden_layer_sizes: 128\n",
      "\u001b[34m\u001b[1mwandb\u001b[0m: \toptimizer: sgd\n"
     ]
    },
    {
     "data": {
      "text/html": [
       "Ignoring project 'DA6401_DL_Assignment1' when running a sweep."
      ],
      "text/plain": [
       "<IPython.core.display.HTML object>"
      ]
     },
     "metadata": {},
     "output_type": "display_data"
    },
    {
     "data": {
      "text/html": [
       "Tracking run with wandb version 0.19.8"
      ],
      "text/plain": [
       "<IPython.core.display.HTML object>"
      ]
     },
     "metadata": {},
     "output_type": "display_data"
    },
    {
     "data": {
      "text/html": [
       "Run data is saved locally in <code>/home/ubuntu/wandb/run-20250311_140111-ov7xcxo4</code>"
      ],
      "text/plain": [
       "<IPython.core.display.HTML object>"
      ]
     },
     "metadata": {},
     "output_type": "display_data"
    },
    {
     "data": {
      "text/html": [
       "Syncing run <strong><a href='https://wandb.ai/cs24m021-iit-madras/DA6401_DL_Assignment1/runs/ov7xcxo4' target=\"_blank\">colorful-sweep-19</a></strong> to <a href='https://wandb.ai/cs24m021-iit-madras/DA6401_DL_Assignment1' target=\"_blank\">Weights & Biases</a> (<a href='https://wandb.me/developer-guide' target=\"_blank\">docs</a>)<br>Sweep page: <a href='https://wandb.ai/cs24m021-iit-madras/DA6401_DL_Assignment1/sweeps/jtj28a74' target=\"_blank\">https://wandb.ai/cs24m021-iit-madras/DA6401_DL_Assignment1/sweeps/jtj28a74</a>"
      ],
      "text/plain": [
       "<IPython.core.display.HTML object>"
      ]
     },
     "metadata": {},
     "output_type": "display_data"
    },
    {
     "data": {
      "text/html": [
       " View project at <a href='https://wandb.ai/cs24m021-iit-madras/DA6401_DL_Assignment1' target=\"_blank\">https://wandb.ai/cs24m021-iit-madras/DA6401_DL_Assignment1</a>"
      ],
      "text/plain": [
       "<IPython.core.display.HTML object>"
      ]
     },
     "metadata": {},
     "output_type": "display_data"
    },
    {
     "data": {
      "text/html": [
       " View sweep at <a href='https://wandb.ai/cs24m021-iit-madras/DA6401_DL_Assignment1/sweeps/jtj28a74' target=\"_blank\">https://wandb.ai/cs24m021-iit-madras/DA6401_DL_Assignment1/sweeps/jtj28a74</a>"
      ],
      "text/plain": [
       "<IPython.core.display.HTML object>"
      ]
     },
     "metadata": {},
     "output_type": "display_data"
    },
    {
     "data": {
      "text/html": [
       " View run at <a href='https://wandb.ai/cs24m021-iit-madras/DA6401_DL_Assignment1/runs/ov7xcxo4' target=\"_blank\">https://wandb.ai/cs24m021-iit-madras/DA6401_DL_Assignment1/runs/ov7xcxo4</a>"
      ],
      "text/plain": [
       "<IPython.core.display.HTML object>"
      ]
     },
     "metadata": {},
     "output_type": "display_data"
    },
    {
     "name": "stderr",
     "output_type": "stream",
     "text": [
      "/tmp/ipykernel_17767/4278465179.py:65: RuntimeWarning: overflow encountered in matmul\n",
      "  final_linear_output = self.h[num_layers-1] @ self.weights[num_layers]\n",
      "/tmp/ipykernel_17767/1830457294.py:12: RuntimeWarning: invalid value encountered in subtract\n",
      "  exp_x = np.exp(x - np.max(x, axis=1, keepdims=True))  # numerical stability\n"
     ]
    },
    {
     "name": "stdout",
     "output_type": "stream",
     "text": [
      "Epoch 1: Train Loss=nan, Train Acc=9.88%, Val Loss=nan, Val Acc=9.82%\n",
      "Epoch 2: Train Loss=nan, Train Acc=9.88%, Val Loss=nan, Val Acc=9.82%\n",
      "Epoch 3: Train Loss=nan, Train Acc=9.88%, Val Loss=nan, Val Acc=9.82%\n",
      "Epoch 4: Train Loss=nan, Train Acc=9.88%, Val Loss=nan, Val Acc=9.82%\n",
      "Epoch 5: Train Loss=nan, Train Acc=9.88%, Val Loss=nan, Val Acc=9.82%\n",
      "Epoch 6: Train Loss=nan, Train Acc=9.88%, Val Loss=nan, Val Acc=9.82%\n",
      "Epoch 7: Train Loss=nan, Train Acc=9.88%, Val Loss=nan, Val Acc=9.82%\n",
      "Epoch 8: Train Loss=nan, Train Acc=9.88%, Val Loss=nan, Val Acc=9.82%\n",
      "Epoch 9: Train Loss=nan, Train Acc=9.88%, Val Loss=nan, Val Acc=9.82%\n",
      "Epoch 10: Train Loss=nan, Train Acc=9.88%, Val Loss=nan, Val Acc=9.82%\n",
      "Test Loss: nan, Test Acc: 9.80%\n"
     ]
    },
    {
     "data": {
      "text/html": [],
      "text/plain": [
       "<IPython.core.display.HTML object>"
      ]
     },
     "metadata": {},
     "output_type": "display_data"
    },
    {
     "data": {
      "text/html": [
       "<br>    <style><br>        .wandb-row {<br>            display: flex;<br>            flex-direction: row;<br>            flex-wrap: wrap;<br>            justify-content: flex-start;<br>            width: 100%;<br>        }<br>        .wandb-col {<br>            display: flex;<br>            flex-direction: column;<br>            flex-basis: 100%;<br>            flex: 1;<br>            padding: 10px;<br>        }<br>    </style><br><div class=\"wandb-row\"><div class=\"wandb-col\"><h3>Run history:</h3><br/><table class=\"wandb\"><tr><td>epoch</td><td>▁▂▃▃▄▅▆▆▇█</td></tr><tr><td>test_accuracy</td><td>▁</td></tr><tr><td>train_acc</td><td>▁▁▁▁▁▁▁▁▁▁</td></tr><tr><td>val_acc</td><td>▁▁▁▁▁▁▁▁▁▁</td></tr></table><br/></div><div class=\"wandb-col\"><h3>Run summary:</h3><br/><table class=\"wandb\"><tr><td>epoch</td><td>10</td></tr><tr><td>test_accuracy</td><td>9.8</td></tr><tr><td>train_acc</td><td>9.87778</td></tr><tr><td>train_loss</td><td>nan</td></tr><tr><td>val_acc</td><td>9.81667</td></tr><tr><td>val_loss</td><td>nan</td></tr></table><br/></div></div>"
      ],
      "text/plain": [
       "<IPython.core.display.HTML object>"
      ]
     },
     "metadata": {},
     "output_type": "display_data"
    },
    {
     "data": {
      "text/html": [
       " View run <strong style=\"color:#cdcd00\">opt_sgd_hl_5_bs_64_e_10_act_ReLU_eta_0.005_init_random_hls_128_dataset_mnist_cross_entropy</strong> at: <a href='https://wandb.ai/cs24m021-iit-madras/DA6401_DL_Assignment1/runs/ov7xcxo4' target=\"_blank\">https://wandb.ai/cs24m021-iit-madras/DA6401_DL_Assignment1/runs/ov7xcxo4</a><br> View project at: <a href='https://wandb.ai/cs24m021-iit-madras/DA6401_DL_Assignment1' target=\"_blank\">https://wandb.ai/cs24m021-iit-madras/DA6401_DL_Assignment1</a><br>Synced 5 W&B file(s), 0 media file(s), 0 artifact file(s) and 0 other file(s)"
      ],
      "text/plain": [
       "<IPython.core.display.HTML object>"
      ]
     },
     "metadata": {},
     "output_type": "display_data"
    },
    {
     "data": {
      "text/html": [
       "Find logs at: <code>./wandb/run-20250311_140111-ov7xcxo4/logs</code>"
      ],
      "text/plain": [
       "<IPython.core.display.HTML object>"
      ]
     },
     "metadata": {},
     "output_type": "display_data"
    },
    {
     "name": "stderr",
     "output_type": "stream",
     "text": [
      "\u001b[34m\u001b[1mwandb\u001b[0m: Agent Starting Run: tpkp1vqr with config:\n",
      "\u001b[34m\u001b[1mwandb\u001b[0m: \tactivation: sigmoid\n",
      "\u001b[34m\u001b[1mwandb\u001b[0m: \thidden_layer_sizes: 128\n",
      "\u001b[34m\u001b[1mwandb\u001b[0m: \toptimizer: nesterov\n"
     ]
    },
    {
     "data": {
      "text/html": [
       "Ignoring project 'DA6401_DL_Assignment1' when running a sweep."
      ],
      "text/plain": [
       "<IPython.core.display.HTML object>"
      ]
     },
     "metadata": {},
     "output_type": "display_data"
    },
    {
     "data": {
      "text/html": [
       "Tracking run with wandb version 0.19.8"
      ],
      "text/plain": [
       "<IPython.core.display.HTML object>"
      ]
     },
     "metadata": {},
     "output_type": "display_data"
    },
    {
     "data": {
      "text/html": [
       "Run data is saved locally in <code>/home/ubuntu/wandb/run-20250311_140209-tpkp1vqr</code>"
      ],
      "text/plain": [
       "<IPython.core.display.HTML object>"
      ]
     },
     "metadata": {},
     "output_type": "display_data"
    },
    {
     "data": {
      "text/html": [
       "Syncing run <strong><a href='https://wandb.ai/cs24m021-iit-madras/DA6401_DL_Assignment1/runs/tpkp1vqr' target=\"_blank\">happy-sweep-20</a></strong> to <a href='https://wandb.ai/cs24m021-iit-madras/DA6401_DL_Assignment1' target=\"_blank\">Weights & Biases</a> (<a href='https://wandb.me/developer-guide' target=\"_blank\">docs</a>)<br>Sweep page: <a href='https://wandb.ai/cs24m021-iit-madras/DA6401_DL_Assignment1/sweeps/jtj28a74' target=\"_blank\">https://wandb.ai/cs24m021-iit-madras/DA6401_DL_Assignment1/sweeps/jtj28a74</a>"
      ],
      "text/plain": [
       "<IPython.core.display.HTML object>"
      ]
     },
     "metadata": {},
     "output_type": "display_data"
    },
    {
     "data": {
      "text/html": [
       " View project at <a href='https://wandb.ai/cs24m021-iit-madras/DA6401_DL_Assignment1' target=\"_blank\">https://wandb.ai/cs24m021-iit-madras/DA6401_DL_Assignment1</a>"
      ],
      "text/plain": [
       "<IPython.core.display.HTML object>"
      ]
     },
     "metadata": {},
     "output_type": "display_data"
    },
    {
     "data": {
      "text/html": [
       " View sweep at <a href='https://wandb.ai/cs24m021-iit-madras/DA6401_DL_Assignment1/sweeps/jtj28a74' target=\"_blank\">https://wandb.ai/cs24m021-iit-madras/DA6401_DL_Assignment1/sweeps/jtj28a74</a>"
      ],
      "text/plain": [
       "<IPython.core.display.HTML object>"
      ]
     },
     "metadata": {},
     "output_type": "display_data"
    },
    {
     "data": {
      "text/html": [
       " View run at <a href='https://wandb.ai/cs24m021-iit-madras/DA6401_DL_Assignment1/runs/tpkp1vqr' target=\"_blank\">https://wandb.ai/cs24m021-iit-madras/DA6401_DL_Assignment1/runs/tpkp1vqr</a>"
      ],
      "text/plain": [
       "<IPython.core.display.HTML object>"
      ]
     },
     "metadata": {},
     "output_type": "display_data"
    },
    {
     "name": "stdout",
     "output_type": "stream",
     "text": [
      "Epoch 1: Train Loss=1.0858, Train Acc=64.05%, Val Loss=1.1017, Val Acc=63.27%\n",
      "Epoch 2: Train Loss=0.8122, Train Acc=73.70%, Val Loss=0.8430, Val Acc=72.30%\n",
      "Epoch 3: Train Loss=0.6731, Train Acc=78.61%, Val Loss=0.7145, Val Acc=77.23%\n",
      "Epoch 4: Train Loss=0.5830, Train Acc=81.77%, Val Loss=0.6279, Val Acc=80.35%\n",
      "Epoch 5: Train Loss=0.5187, Train Acc=83.89%, Val Loss=0.5660, Val Acc=82.77%\n",
      "Epoch 6: Train Loss=0.4695, Train Acc=85.46%, Val Loss=0.5192, Val Acc=84.07%\n",
      "Epoch 7: Train Loss=0.4301, Train Acc=86.69%, Val Loss=0.4816, Val Acc=85.35%\n",
      "Epoch 8: Train Loss=0.3978, Train Acc=87.74%, Val Loss=0.4502, Val Acc=86.20%\n",
      "Epoch 9: Train Loss=0.3709, Train Acc=88.62%, Val Loss=0.4236, Val Acc=87.17%\n",
      "Epoch 10: Train Loss=0.3481, Train Acc=89.32%, Val Loss=0.4009, Val Acc=87.92%\n",
      "Test Loss: 0.3670, Test Acc: 88.74%\n"
     ]
    },
    {
     "data": {
      "text/html": [],
      "text/plain": [
       "<IPython.core.display.HTML object>"
      ]
     },
     "metadata": {},
     "output_type": "display_data"
    },
    {
     "data": {
      "text/html": [
       "<br>    <style><br>        .wandb-row {<br>            display: flex;<br>            flex-direction: row;<br>            flex-wrap: wrap;<br>            justify-content: flex-start;<br>            width: 100%;<br>        }<br>        .wandb-col {<br>            display: flex;<br>            flex-direction: column;<br>            flex-basis: 100%;<br>            flex: 1;<br>            padding: 10px;<br>        }<br>    </style><br><div class=\"wandb-row\"><div class=\"wandb-col\"><h3>Run history:</h3><br/><table class=\"wandb\"><tr><td>epoch</td><td>▁▂▃▃▄▅▆▆▇█</td></tr><tr><td>test_accuracy</td><td>▁</td></tr><tr><td>train_acc</td><td>▁▄▅▆▆▇▇███</td></tr><tr><td>train_loss</td><td>█▅▄▃▃▂▂▁▁▁</td></tr><tr><td>val_acc</td><td>▁▄▅▆▇▇▇███</td></tr><tr><td>val_loss</td><td>█▅▄▃▃▂▂▁▁▁</td></tr></table><br/></div><div class=\"wandb-col\"><h3>Run summary:</h3><br/><table class=\"wandb\"><tr><td>epoch</td><td>10</td></tr><tr><td>test_accuracy</td><td>88.74</td></tr><tr><td>train_acc</td><td>89.32037</td></tr><tr><td>train_loss</td><td>0.34809</td></tr><tr><td>val_acc</td><td>87.91667</td></tr><tr><td>val_loss</td><td>0.40086</td></tr></table><br/></div></div>"
      ],
      "text/plain": [
       "<IPython.core.display.HTML object>"
      ]
     },
     "metadata": {},
     "output_type": "display_data"
    },
    {
     "data": {
      "text/html": [
       " View run <strong style=\"color:#cdcd00\">opt_nesterov_hl_5_bs_64_e_10_act_sigmoid_eta_0.005_init_random_hls_128_dataset_mnist_cross_entropy</strong> at: <a href='https://wandb.ai/cs24m021-iit-madras/DA6401_DL_Assignment1/runs/tpkp1vqr' target=\"_blank\">https://wandb.ai/cs24m021-iit-madras/DA6401_DL_Assignment1/runs/tpkp1vqr</a><br> View project at: <a href='https://wandb.ai/cs24m021-iit-madras/DA6401_DL_Assignment1' target=\"_blank\">https://wandb.ai/cs24m021-iit-madras/DA6401_DL_Assignment1</a><br>Synced 5 W&B file(s), 0 media file(s), 0 artifact file(s) and 0 other file(s)"
      ],
      "text/plain": [
       "<IPython.core.display.HTML object>"
      ]
     },
     "metadata": {},
     "output_type": "display_data"
    },
    {
     "data": {
      "text/html": [
       "Find logs at: <code>./wandb/run-20250311_140209-tpkp1vqr/logs</code>"
      ],
      "text/plain": [
       "<IPython.core.display.HTML object>"
      ]
     },
     "metadata": {},
     "output_type": "display_data"
    },
    {
     "name": "stderr",
     "output_type": "stream",
     "text": [
      "\u001b[34m\u001b[1mwandb\u001b[0m: Agent Starting Run: est0frmf with config:\n",
      "\u001b[34m\u001b[1mwandb\u001b[0m: \tactivation: tanh\n",
      "\u001b[34m\u001b[1mwandb\u001b[0m: \thidden_layer_sizes: 32\n",
      "\u001b[34m\u001b[1mwandb\u001b[0m: \toptimizer: momentum\n"
     ]
    },
    {
     "data": {
      "text/html": [
       "Ignoring project 'DA6401_DL_Assignment1' when running a sweep."
      ],
      "text/plain": [
       "<IPython.core.display.HTML object>"
      ]
     },
     "metadata": {},
     "output_type": "display_data"
    },
    {
     "data": {
      "text/html": [
       "Tracking run with wandb version 0.19.8"
      ],
      "text/plain": [
       "<IPython.core.display.HTML object>"
      ]
     },
     "metadata": {},
     "output_type": "display_data"
    },
    {
     "data": {
      "text/html": [
       "Run data is saved locally in <code>/home/ubuntu/wandb/run-20250311_140350-est0frmf</code>"
      ],
      "text/plain": [
       "<IPython.core.display.HTML object>"
      ]
     },
     "metadata": {},
     "output_type": "display_data"
    },
    {
     "data": {
      "text/html": [
       "Syncing run <strong><a href='https://wandb.ai/cs24m021-iit-madras/DA6401_DL_Assignment1/runs/est0frmf' target=\"_blank\">summer-sweep-21</a></strong> to <a href='https://wandb.ai/cs24m021-iit-madras/DA6401_DL_Assignment1' target=\"_blank\">Weights & Biases</a> (<a href='https://wandb.me/developer-guide' target=\"_blank\">docs</a>)<br>Sweep page: <a href='https://wandb.ai/cs24m021-iit-madras/DA6401_DL_Assignment1/sweeps/jtj28a74' target=\"_blank\">https://wandb.ai/cs24m021-iit-madras/DA6401_DL_Assignment1/sweeps/jtj28a74</a>"
      ],
      "text/plain": [
       "<IPython.core.display.HTML object>"
      ]
     },
     "metadata": {},
     "output_type": "display_data"
    },
    {
     "data": {
      "text/html": [
       " View project at <a href='https://wandb.ai/cs24m021-iit-madras/DA6401_DL_Assignment1' target=\"_blank\">https://wandb.ai/cs24m021-iit-madras/DA6401_DL_Assignment1</a>"
      ],
      "text/plain": [
       "<IPython.core.display.HTML object>"
      ]
     },
     "metadata": {},
     "output_type": "display_data"
    },
    {
     "data": {
      "text/html": [
       " View sweep at <a href='https://wandb.ai/cs24m021-iit-madras/DA6401_DL_Assignment1/sweeps/jtj28a74' target=\"_blank\">https://wandb.ai/cs24m021-iit-madras/DA6401_DL_Assignment1/sweeps/jtj28a74</a>"
      ],
      "text/plain": [
       "<IPython.core.display.HTML object>"
      ]
     },
     "metadata": {},
     "output_type": "display_data"
    },
    {
     "data": {
      "text/html": [
       " View run at <a href='https://wandb.ai/cs24m021-iit-madras/DA6401_DL_Assignment1/runs/est0frmf' target=\"_blank\">https://wandb.ai/cs24m021-iit-madras/DA6401_DL_Assignment1/runs/est0frmf</a>"
      ],
      "text/plain": [
       "<IPython.core.display.HTML object>"
      ]
     },
     "metadata": {},
     "output_type": "display_data"
    },
    {
     "name": "stdout",
     "output_type": "stream",
     "text": [
      "Epoch 1: Train Loss=1.6721, Train Acc=44.57%, Val Loss=1.6930, Val Acc=44.13%\n",
      "Epoch 2: Train Loss=1.3095, Train Acc=56.13%, Val Loss=1.3490, Val Acc=55.75%\n",
      "Epoch 3: Train Loss=1.1121, Train Acc=63.18%, Val Loss=1.1604, Val Acc=62.07%\n",
      "Epoch 4: Train Loss=1.0048, Train Acc=67.04%, Val Loss=1.0410, Val Acc=65.92%\n",
      "Epoch 5: Train Loss=0.9136, Train Acc=70.09%, Val Loss=0.9527, Val Acc=69.00%\n",
      "Epoch 6: Train Loss=0.8478, Train Acc=72.68%, Val Loss=0.8976, Val Acc=71.07%\n",
      "Epoch 7: Train Loss=0.7959, Train Acc=74.56%, Val Loss=0.8392, Val Acc=73.05%\n",
      "Epoch 8: Train Loss=0.7480, Train Acc=76.40%, Val Loss=0.7977, Val Acc=74.95%\n",
      "Epoch 9: Train Loss=0.7040, Train Acc=77.84%, Val Loss=0.7486, Val Acc=76.87%\n",
      "Epoch 10: Train Loss=0.6657, Train Acc=79.21%, Val Loss=0.7140, Val Acc=78.32%\n",
      "Test Loss: 0.6840, Test Acc: 79.17%\n"
     ]
    },
    {
     "data": {
      "text/html": [],
      "text/plain": [
       "<IPython.core.display.HTML object>"
      ]
     },
     "metadata": {},
     "output_type": "display_data"
    },
    {
     "data": {
      "text/html": [
       "<br>    <style><br>        .wandb-row {<br>            display: flex;<br>            flex-direction: row;<br>            flex-wrap: wrap;<br>            justify-content: flex-start;<br>            width: 100%;<br>        }<br>        .wandb-col {<br>            display: flex;<br>            flex-direction: column;<br>            flex-basis: 100%;<br>            flex: 1;<br>            padding: 10px;<br>        }<br>    </style><br><div class=\"wandb-row\"><div class=\"wandb-col\"><h3>Run history:</h3><br/><table class=\"wandb\"><tr><td>epoch</td><td>▁▂▃▃▄▅▆▆▇█</td></tr><tr><td>test_accuracy</td><td>▁</td></tr><tr><td>train_acc</td><td>▁▃▅▆▆▇▇▇██</td></tr><tr><td>train_loss</td><td>█▅▄▃▃▂▂▂▁▁</td></tr><tr><td>val_acc</td><td>▁▃▅▅▆▇▇▇██</td></tr><tr><td>val_loss</td><td>█▆▄▃▃▂▂▂▁▁</td></tr></table><br/></div><div class=\"wandb-col\"><h3>Run summary:</h3><br/><table class=\"wandb\"><tr><td>epoch</td><td>10</td></tr><tr><td>test_accuracy</td><td>79.17</td></tr><tr><td>train_acc</td><td>79.20741</td></tr><tr><td>train_loss</td><td>0.66571</td></tr><tr><td>val_acc</td><td>78.31667</td></tr><tr><td>val_loss</td><td>0.714</td></tr></table><br/></div></div>"
      ],
      "text/plain": [
       "<IPython.core.display.HTML object>"
      ]
     },
     "metadata": {},
     "output_type": "display_data"
    },
    {
     "data": {
      "text/html": [
       " View run <strong style=\"color:#cdcd00\">opt_momentum_hl_5_bs_64_e_10_act_tanh_eta_0.005_init_random_hls_32_dataset_mnist_cross_entropy</strong> at: <a href='https://wandb.ai/cs24m021-iit-madras/DA6401_DL_Assignment1/runs/est0frmf' target=\"_blank\">https://wandb.ai/cs24m021-iit-madras/DA6401_DL_Assignment1/runs/est0frmf</a><br> View project at: <a href='https://wandb.ai/cs24m021-iit-madras/DA6401_DL_Assignment1' target=\"_blank\">https://wandb.ai/cs24m021-iit-madras/DA6401_DL_Assignment1</a><br>Synced 5 W&B file(s), 0 media file(s), 0 artifact file(s) and 0 other file(s)"
      ],
      "text/plain": [
       "<IPython.core.display.HTML object>"
      ]
     },
     "metadata": {},
     "output_type": "display_data"
    },
    {
     "data": {
      "text/html": [
       "Find logs at: <code>./wandb/run-20250311_140350-est0frmf/logs</code>"
      ],
      "text/plain": [
       "<IPython.core.display.HTML object>"
      ]
     },
     "metadata": {},
     "output_type": "display_data"
    },
    {
     "name": "stderr",
     "output_type": "stream",
     "text": [
      "\u001b[34m\u001b[1mwandb\u001b[0m: Agent Starting Run: 8pw4k21z with config:\n",
      "\u001b[34m\u001b[1mwandb\u001b[0m: \tactivation: ReLU\n",
      "\u001b[34m\u001b[1mwandb\u001b[0m: \thidden_layer_sizes: 64\n",
      "\u001b[34m\u001b[1mwandb\u001b[0m: \toptimizer: adam\n"
     ]
    },
    {
     "data": {
      "text/html": [
       "Ignoring project 'DA6401_DL_Assignment1' when running a sweep."
      ],
      "text/plain": [
       "<IPython.core.display.HTML object>"
      ]
     },
     "metadata": {},
     "output_type": "display_data"
    },
    {
     "data": {
      "text/html": [
       "Tracking run with wandb version 0.19.8"
      ],
      "text/plain": [
       "<IPython.core.display.HTML object>"
      ]
     },
     "metadata": {},
     "output_type": "display_data"
    },
    {
     "data": {
      "text/html": [
       "Run data is saved locally in <code>/home/ubuntu/wandb/run-20250311_140406-8pw4k21z</code>"
      ],
      "text/plain": [
       "<IPython.core.display.HTML object>"
      ]
     },
     "metadata": {},
     "output_type": "display_data"
    },
    {
     "data": {
      "text/html": [
       "Syncing run <strong><a href='https://wandb.ai/cs24m021-iit-madras/DA6401_DL_Assignment1/runs/8pw4k21z' target=\"_blank\">azure-sweep-22</a></strong> to <a href='https://wandb.ai/cs24m021-iit-madras/DA6401_DL_Assignment1' target=\"_blank\">Weights & Biases</a> (<a href='https://wandb.me/developer-guide' target=\"_blank\">docs</a>)<br>Sweep page: <a href='https://wandb.ai/cs24m021-iit-madras/DA6401_DL_Assignment1/sweeps/jtj28a74' target=\"_blank\">https://wandb.ai/cs24m021-iit-madras/DA6401_DL_Assignment1/sweeps/jtj28a74</a>"
      ],
      "text/plain": [
       "<IPython.core.display.HTML object>"
      ]
     },
     "metadata": {},
     "output_type": "display_data"
    },
    {
     "data": {
      "text/html": [
       " View project at <a href='https://wandb.ai/cs24m021-iit-madras/DA6401_DL_Assignment1' target=\"_blank\">https://wandb.ai/cs24m021-iit-madras/DA6401_DL_Assignment1</a>"
      ],
      "text/plain": [
       "<IPython.core.display.HTML object>"
      ]
     },
     "metadata": {},
     "output_type": "display_data"
    },
    {
     "data": {
      "text/html": [
       " View sweep at <a href='https://wandb.ai/cs24m021-iit-madras/DA6401_DL_Assignment1/sweeps/jtj28a74' target=\"_blank\">https://wandb.ai/cs24m021-iit-madras/DA6401_DL_Assignment1/sweeps/jtj28a74</a>"
      ],
      "text/plain": [
       "<IPython.core.display.HTML object>"
      ]
     },
     "metadata": {},
     "output_type": "display_data"
    },
    {
     "data": {
      "text/html": [
       " View run at <a href='https://wandb.ai/cs24m021-iit-madras/DA6401_DL_Assignment1/runs/8pw4k21z' target=\"_blank\">https://wandb.ai/cs24m021-iit-madras/DA6401_DL_Assignment1/runs/8pw4k21z</a>"
      ],
      "text/plain": [
       "<IPython.core.display.HTML object>"
      ]
     },
     "metadata": {},
     "output_type": "display_data"
    },
    {
     "name": "stdout",
     "output_type": "stream",
     "text": [
      "Epoch 1: Train Loss=14.2633, Train Acc=57.03%, Val Loss=14.5821, Val Acc=55.92%\n",
      "Epoch 2: Train Loss=13.3435, Train Acc=51.12%, Val Loss=13.5833, Val Acc=50.27%\n",
      "Epoch 3: Train Loss=11.1662, Train Acc=46.06%, Val Loss=11.0654, Val Acc=45.77%\n",
      "Epoch 4: Train Loss=6.3090, Train Acc=44.60%, Val Loss=6.7015, Val Acc=43.93%\n",
      "Epoch 5: Train Loss=5.3841, Train Acc=42.97%, Val Loss=5.5942, Val Acc=42.80%\n",
      "Epoch 6: Train Loss=3.9353, Train Acc=51.33%, Val Loss=4.0489, Val Acc=51.87%\n",
      "Epoch 7: Train Loss=2.4506, Train Acc=53.17%, Val Loss=2.5635, Val Acc=52.68%\n",
      "Epoch 8: Train Loss=4.4052, Train Acc=47.39%, Val Loss=4.3621, Val Acc=48.00%\n",
      "Epoch 9: Train Loss=1.9160, Train Acc=54.36%, Val Loss=2.0054, Val Acc=54.30%\n",
      "Epoch 10: Train Loss=1.8885, Train Acc=56.48%, Val Loss=1.9317, Val Acc=57.07%\n",
      "Test Loss: 1.8646, Test Acc: 58.14%\n"
     ]
    },
    {
     "data": {
      "text/html": [],
      "text/plain": [
       "<IPython.core.display.HTML object>"
      ]
     },
     "metadata": {},
     "output_type": "display_data"
    },
    {
     "data": {
      "text/html": [
       "<br>    <style><br>        .wandb-row {<br>            display: flex;<br>            flex-direction: row;<br>            flex-wrap: wrap;<br>            justify-content: flex-start;<br>            width: 100%;<br>        }<br>        .wandb-col {<br>            display: flex;<br>            flex-direction: column;<br>            flex-basis: 100%;<br>            flex: 1;<br>            padding: 10px;<br>        }<br>    </style><br><div class=\"wandb-row\"><div class=\"wandb-col\"><h3>Run history:</h3><br/><table class=\"wandb\"><tr><td>epoch</td><td>▁▂▃▃▄▅▆▆▇█</td></tr><tr><td>test_accuracy</td><td>▁</td></tr><tr><td>train_acc</td><td>█▅▃▂▁▅▆▃▇█</td></tr><tr><td>train_loss</td><td>█▇▆▄▃▂▁▂▁▁</td></tr><tr><td>val_acc</td><td>▇▅▂▂▁▅▆▄▇█</td></tr><tr><td>val_loss</td><td>█▇▆▄▃▂▁▂▁▁</td></tr></table><br/></div><div class=\"wandb-col\"><h3>Run summary:</h3><br/><table class=\"wandb\"><tr><td>epoch</td><td>10</td></tr><tr><td>test_accuracy</td><td>58.14</td></tr><tr><td>train_acc</td><td>56.47963</td></tr><tr><td>train_loss</td><td>1.88852</td></tr><tr><td>val_acc</td><td>57.06667</td></tr><tr><td>val_loss</td><td>1.93169</td></tr></table><br/></div></div>"
      ],
      "text/plain": [
       "<IPython.core.display.HTML object>"
      ]
     },
     "metadata": {},
     "output_type": "display_data"
    },
    {
     "data": {
      "text/html": [
       " View run <strong style=\"color:#cdcd00\">opt_adam_hl_5_bs_64_e_10_act_ReLU_eta_0.005_init_random_hls_64_dataset_mnist_cross_entropy</strong> at: <a href='https://wandb.ai/cs24m021-iit-madras/DA6401_DL_Assignment1/runs/8pw4k21z' target=\"_blank\">https://wandb.ai/cs24m021-iit-madras/DA6401_DL_Assignment1/runs/8pw4k21z</a><br> View project at: <a href='https://wandb.ai/cs24m021-iit-madras/DA6401_DL_Assignment1' target=\"_blank\">https://wandb.ai/cs24m021-iit-madras/DA6401_DL_Assignment1</a><br>Synced 5 W&B file(s), 0 media file(s), 0 artifact file(s) and 0 other file(s)"
      ],
      "text/plain": [
       "<IPython.core.display.HTML object>"
      ]
     },
     "metadata": {},
     "output_type": "display_data"
    },
    {
     "data": {
      "text/html": [
       "Find logs at: <code>./wandb/run-20250311_140406-8pw4k21z/logs</code>"
      ],
      "text/plain": [
       "<IPython.core.display.HTML object>"
      ]
     },
     "metadata": {},
     "output_type": "display_data"
    },
    {
     "name": "stderr",
     "output_type": "stream",
     "text": [
      "\u001b[34m\u001b[1mwandb\u001b[0m: Agent Starting Run: qs175noi with config:\n",
      "\u001b[34m\u001b[1mwandb\u001b[0m: \tactivation: ReLU\n",
      "\u001b[34m\u001b[1mwandb\u001b[0m: \thidden_layer_sizes: 64\n",
      "\u001b[34m\u001b[1mwandb\u001b[0m: \toptimizer: rmsprop\n"
     ]
    },
    {
     "data": {
      "text/html": [
       "Ignoring project 'DA6401_DL_Assignment1' when running a sweep."
      ],
      "text/plain": [
       "<IPython.core.display.HTML object>"
      ]
     },
     "metadata": {},
     "output_type": "display_data"
    },
    {
     "data": {
      "text/html": [
       "Tracking run with wandb version 0.19.8"
      ],
      "text/plain": [
       "<IPython.core.display.HTML object>"
      ]
     },
     "metadata": {},
     "output_type": "display_data"
    },
    {
     "data": {
      "text/html": [
       "Run data is saved locally in <code>/home/ubuntu/wandb/run-20250311_140443-qs175noi</code>"
      ],
      "text/plain": [
       "<IPython.core.display.HTML object>"
      ]
     },
     "metadata": {},
     "output_type": "display_data"
    },
    {
     "data": {
      "text/html": [
       "Syncing run <strong><a href='https://wandb.ai/cs24m021-iit-madras/DA6401_DL_Assignment1/runs/qs175noi' target=\"_blank\">northern-sweep-23</a></strong> to <a href='https://wandb.ai/cs24m021-iit-madras/DA6401_DL_Assignment1' target=\"_blank\">Weights & Biases</a> (<a href='https://wandb.me/developer-guide' target=\"_blank\">docs</a>)<br>Sweep page: <a href='https://wandb.ai/cs24m021-iit-madras/DA6401_DL_Assignment1/sweeps/jtj28a74' target=\"_blank\">https://wandb.ai/cs24m021-iit-madras/DA6401_DL_Assignment1/sweeps/jtj28a74</a>"
      ],
      "text/plain": [
       "<IPython.core.display.HTML object>"
      ]
     },
     "metadata": {},
     "output_type": "display_data"
    },
    {
     "data": {
      "text/html": [
       " View project at <a href='https://wandb.ai/cs24m021-iit-madras/DA6401_DL_Assignment1' target=\"_blank\">https://wandb.ai/cs24m021-iit-madras/DA6401_DL_Assignment1</a>"
      ],
      "text/plain": [
       "<IPython.core.display.HTML object>"
      ]
     },
     "metadata": {},
     "output_type": "display_data"
    },
    {
     "data": {
      "text/html": [
       " View sweep at <a href='https://wandb.ai/cs24m021-iit-madras/DA6401_DL_Assignment1/sweeps/jtj28a74' target=\"_blank\">https://wandb.ai/cs24m021-iit-madras/DA6401_DL_Assignment1/sweeps/jtj28a74</a>"
      ],
      "text/plain": [
       "<IPython.core.display.HTML object>"
      ]
     },
     "metadata": {},
     "output_type": "display_data"
    },
    {
     "data": {
      "text/html": [
       " View run at <a href='https://wandb.ai/cs24m021-iit-madras/DA6401_DL_Assignment1/runs/qs175noi' target=\"_blank\">https://wandb.ai/cs24m021-iit-madras/DA6401_DL_Assignment1/runs/qs175noi</a>"
      ],
      "text/plain": [
       "<IPython.core.display.HTML object>"
      ]
     },
     "metadata": {},
     "output_type": "display_data"
    },
    {
     "name": "stdout",
     "output_type": "stream",
     "text": [
      "Epoch 1: Train Loss=13.6762, Train Acc=47.79%, Val Loss=13.9412, Val Acc=46.78%\n",
      "Epoch 2: Train Loss=6.8002, Train Acc=54.09%, Val Loss=6.9137, Val Acc=53.68%\n",
      "Epoch 3: Train Loss=3.9075, Train Acc=59.46%, Val Loss=3.9029, Val Acc=59.67%\n",
      "Epoch 4: Train Loss=2.5201, Train Acc=60.86%, Val Loss=2.6138, Val Acc=60.63%\n",
      "Epoch 5: Train Loss=2.8656, Train Acc=57.84%, Val Loss=2.9969, Val Acc=56.78%\n",
      "Epoch 6: Train Loss=1.6729, Train Acc=62.73%, Val Loss=1.8144, Val Acc=62.68%\n",
      "Epoch 7: Train Loss=1.3711, Train Acc=67.53%, Val Loss=1.5009, Val Acc=67.35%\n",
      "Epoch 8: Train Loss=1.5771, Train Acc=58.39%, Val Loss=1.6232, Val Acc=58.07%\n",
      "Epoch 9: Train Loss=0.9590, Train Acc=71.57%, Val Loss=1.0032, Val Acc=71.50%\n",
      "Epoch 10: Train Loss=1.0255, Train Acc=67.89%, Val Loss=1.0500, Val Acc=67.95%\n",
      "Test Loss: 1.0340, Test Acc: 67.31%\n"
     ]
    },
    {
     "data": {
      "text/html": [],
      "text/plain": [
       "<IPython.core.display.HTML object>"
      ]
     },
     "metadata": {},
     "output_type": "display_data"
    },
    {
     "data": {
      "text/html": [
       "<br>    <style><br>        .wandb-row {<br>            display: flex;<br>            flex-direction: row;<br>            flex-wrap: wrap;<br>            justify-content: flex-start;<br>            width: 100%;<br>        }<br>        .wandb-col {<br>            display: flex;<br>            flex-direction: column;<br>            flex-basis: 100%;<br>            flex: 1;<br>            padding: 10px;<br>        }<br>    </style><br><div class=\"wandb-row\"><div class=\"wandb-col\"><h3>Run history:</h3><br/><table class=\"wandb\"><tr><td>epoch</td><td>▁▂▃▃▄▅▆▆▇█</td></tr><tr><td>test_accuracy</td><td>▁</td></tr><tr><td>train_acc</td><td>▁▃▄▅▄▅▇▄█▇</td></tr><tr><td>train_loss</td><td>█▄▃▂▂▁▁▁▁▁</td></tr><tr><td>val_acc</td><td>▁▃▅▅▄▆▇▄█▇</td></tr><tr><td>val_loss</td><td>█▄▃▂▂▁▁▁▁▁</td></tr></table><br/></div><div class=\"wandb-col\"><h3>Run summary:</h3><br/><table class=\"wandb\"><tr><td>epoch</td><td>10</td></tr><tr><td>test_accuracy</td><td>67.31</td></tr><tr><td>train_acc</td><td>67.88704</td></tr><tr><td>train_loss</td><td>1.02549</td></tr><tr><td>val_acc</td><td>67.95</td></tr><tr><td>val_loss</td><td>1.04999</td></tr></table><br/></div></div>"
      ],
      "text/plain": [
       "<IPython.core.display.HTML object>"
      ]
     },
     "metadata": {},
     "output_type": "display_data"
    },
    {
     "data": {
      "text/html": [
       " View run <strong style=\"color:#cdcd00\">opt_rmsprop_hl_5_bs_64_e_10_act_ReLU_eta_0.005_init_random_hls_64_dataset_mnist_cross_entropy</strong> at: <a href='https://wandb.ai/cs24m021-iit-madras/DA6401_DL_Assignment1/runs/qs175noi' target=\"_blank\">https://wandb.ai/cs24m021-iit-madras/DA6401_DL_Assignment1/runs/qs175noi</a><br> View project at: <a href='https://wandb.ai/cs24m021-iit-madras/DA6401_DL_Assignment1' target=\"_blank\">https://wandb.ai/cs24m021-iit-madras/DA6401_DL_Assignment1</a><br>Synced 5 W&B file(s), 0 media file(s), 0 artifact file(s) and 0 other file(s)"
      ],
      "text/plain": [
       "<IPython.core.display.HTML object>"
      ]
     },
     "metadata": {},
     "output_type": "display_data"
    },
    {
     "data": {
      "text/html": [
       "Find logs at: <code>./wandb/run-20250311_140443-qs175noi/logs</code>"
      ],
      "text/plain": [
       "<IPython.core.display.HTML object>"
      ]
     },
     "metadata": {},
     "output_type": "display_data"
    },
    {
     "name": "stderr",
     "output_type": "stream",
     "text": [
      "\u001b[34m\u001b[1mwandb\u001b[0m: Agent Starting Run: a1cg5g6z with config:\n",
      "\u001b[34m\u001b[1mwandb\u001b[0m: \tactivation: tanh\n",
      "\u001b[34m\u001b[1mwandb\u001b[0m: \thidden_layer_sizes: 64\n",
      "\u001b[34m\u001b[1mwandb\u001b[0m: \toptimizer: momentum\n"
     ]
    },
    {
     "data": {
      "text/html": [
       "Ignoring project 'DA6401_DL_Assignment1' when running a sweep."
      ],
      "text/plain": [
       "<IPython.core.display.HTML object>"
      ]
     },
     "metadata": {},
     "output_type": "display_data"
    },
    {
     "data": {
      "text/html": [
       "Tracking run with wandb version 0.19.8"
      ],
      "text/plain": [
       "<IPython.core.display.HTML object>"
      ]
     },
     "metadata": {},
     "output_type": "display_data"
    },
    {
     "data": {
      "text/html": [
       "Run data is saved locally in <code>/home/ubuntu/wandb/run-20250311_140515-a1cg5g6z</code>"
      ],
      "text/plain": [
       "<IPython.core.display.HTML object>"
      ]
     },
     "metadata": {},
     "output_type": "display_data"
    },
    {
     "data": {
      "text/html": [
       "Syncing run <strong><a href='https://wandb.ai/cs24m021-iit-madras/DA6401_DL_Assignment1/runs/a1cg5g6z' target=\"_blank\">lunar-sweep-24</a></strong> to <a href='https://wandb.ai/cs24m021-iit-madras/DA6401_DL_Assignment1' target=\"_blank\">Weights & Biases</a> (<a href='https://wandb.me/developer-guide' target=\"_blank\">docs</a>)<br>Sweep page: <a href='https://wandb.ai/cs24m021-iit-madras/DA6401_DL_Assignment1/sweeps/jtj28a74' target=\"_blank\">https://wandb.ai/cs24m021-iit-madras/DA6401_DL_Assignment1/sweeps/jtj28a74</a>"
      ],
      "text/plain": [
       "<IPython.core.display.HTML object>"
      ]
     },
     "metadata": {},
     "output_type": "display_data"
    },
    {
     "data": {
      "text/html": [
       " View project at <a href='https://wandb.ai/cs24m021-iit-madras/DA6401_DL_Assignment1' target=\"_blank\">https://wandb.ai/cs24m021-iit-madras/DA6401_DL_Assignment1</a>"
      ],
      "text/plain": [
       "<IPython.core.display.HTML object>"
      ]
     },
     "metadata": {},
     "output_type": "display_data"
    },
    {
     "data": {
      "text/html": [
       " View sweep at <a href='https://wandb.ai/cs24m021-iit-madras/DA6401_DL_Assignment1/sweeps/jtj28a74' target=\"_blank\">https://wandb.ai/cs24m021-iit-madras/DA6401_DL_Assignment1/sweeps/jtj28a74</a>"
      ],
      "text/plain": [
       "<IPython.core.display.HTML object>"
      ]
     },
     "metadata": {},
     "output_type": "display_data"
    },
    {
     "data": {
      "text/html": [
       " View run at <a href='https://wandb.ai/cs24m021-iit-madras/DA6401_DL_Assignment1/runs/a1cg5g6z' target=\"_blank\">https://wandb.ai/cs24m021-iit-madras/DA6401_DL_Assignment1/runs/a1cg5g6z</a>"
      ],
      "text/plain": [
       "<IPython.core.display.HTML object>"
      ]
     },
     "metadata": {},
     "output_type": "display_data"
    },
    {
     "name": "stdout",
     "output_type": "stream",
     "text": [
      "Epoch 1: Train Loss=1.7338, Train Acc=39.98%, Val Loss=1.7491, Val Acc=39.23%\n",
      "Epoch 2: Train Loss=1.4514, Train Acc=49.33%, Val Loss=1.4972, Val Acc=47.85%\n",
      "Epoch 3: Train Loss=1.2736, Train Acc=55.21%, Val Loss=1.3156, Val Acc=54.00%\n",
      "Epoch 4: Train Loss=1.1715, Train Acc=59.18%, Val Loss=1.2056, Val Acc=57.90%\n",
      "Epoch 5: Train Loss=1.0883, Train Acc=62.67%, Val Loss=1.1085, Val Acc=61.67%\n",
      "Epoch 6: Train Loss=0.9876, Train Acc=66.05%, Val Loss=1.0267, Val Acc=64.90%\n",
      "Epoch 7: Train Loss=0.9022, Train Acc=70.85%, Val Loss=0.9294, Val Acc=70.65%\n",
      "Epoch 8: Train Loss=0.8213, Train Acc=74.59%, Val Loss=0.8642, Val Acc=73.80%\n",
      "Epoch 9: Train Loss=0.7603, Train Acc=77.33%, Val Loss=0.8052, Val Acc=76.27%\n",
      "Epoch 10: Train Loss=0.7155, Train Acc=78.74%, Val Loss=0.7617, Val Acc=77.35%\n",
      "Test Loss: 0.7508, Test Acc: 77.85%\n"
     ]
    },
    {
     "data": {
      "text/html": [],
      "text/plain": [
       "<IPython.core.display.HTML object>"
      ]
     },
     "metadata": {},
     "output_type": "display_data"
    },
    {
     "data": {
      "text/html": [
       "<br>    <style><br>        .wandb-row {<br>            display: flex;<br>            flex-direction: row;<br>            flex-wrap: wrap;<br>            justify-content: flex-start;<br>            width: 100%;<br>        }<br>        .wandb-col {<br>            display: flex;<br>            flex-direction: column;<br>            flex-basis: 100%;<br>            flex: 1;<br>            padding: 10px;<br>        }<br>    </style><br><div class=\"wandb-row\"><div class=\"wandb-col\"><h3>Run history:</h3><br/><table class=\"wandb\"><tr><td>epoch</td><td>▁▂▃▃▄▅▆▆▇█</td></tr><tr><td>test_accuracy</td><td>▁</td></tr><tr><td>train_acc</td><td>▁▃▄▄▅▆▇▇██</td></tr><tr><td>train_loss</td><td>█▆▅▄▄▃▂▂▁▁</td></tr><tr><td>val_acc</td><td>▁▃▄▄▅▆▇▇██</td></tr><tr><td>val_loss</td><td>█▆▅▄▃▃▂▂▁▁</td></tr></table><br/></div><div class=\"wandb-col\"><h3>Run summary:</h3><br/><table class=\"wandb\"><tr><td>epoch</td><td>10</td></tr><tr><td>test_accuracy</td><td>77.85</td></tr><tr><td>train_acc</td><td>78.73704</td></tr><tr><td>train_loss</td><td>0.71549</td></tr><tr><td>val_acc</td><td>77.35</td></tr><tr><td>val_loss</td><td>0.76167</td></tr></table><br/></div></div>"
      ],
      "text/plain": [
       "<IPython.core.display.HTML object>"
      ]
     },
     "metadata": {},
     "output_type": "display_data"
    },
    {
     "data": {
      "text/html": [
       " View run <strong style=\"color:#cdcd00\">opt_momentum_hl_5_bs_64_e_10_act_tanh_eta_0.005_init_random_hls_64_dataset_mnist_cross_entropy</strong> at: <a href='https://wandb.ai/cs24m021-iit-madras/DA6401_DL_Assignment1/runs/a1cg5g6z' target=\"_blank\">https://wandb.ai/cs24m021-iit-madras/DA6401_DL_Assignment1/runs/a1cg5g6z</a><br> View project at: <a href='https://wandb.ai/cs24m021-iit-madras/DA6401_DL_Assignment1' target=\"_blank\">https://wandb.ai/cs24m021-iit-madras/DA6401_DL_Assignment1</a><br>Synced 5 W&B file(s), 0 media file(s), 0 artifact file(s) and 0 other file(s)"
      ],
      "text/plain": [
       "<IPython.core.display.HTML object>"
      ]
     },
     "metadata": {},
     "output_type": "display_data"
    },
    {
     "data": {
      "text/html": [
       "Find logs at: <code>./wandb/run-20250311_140515-a1cg5g6z/logs</code>"
      ],
      "text/plain": [
       "<IPython.core.display.HTML object>"
      ]
     },
     "metadata": {},
     "output_type": "display_data"
    },
    {
     "name": "stderr",
     "output_type": "stream",
     "text": [
      "\u001b[34m\u001b[1mwandb\u001b[0m: Agent Starting Run: 7qhqwmvq with config:\n",
      "\u001b[34m\u001b[1mwandb\u001b[0m: \tactivation: ReLU\n",
      "\u001b[34m\u001b[1mwandb\u001b[0m: \thidden_layer_sizes: 64\n",
      "\u001b[34m\u001b[1mwandb\u001b[0m: \toptimizer: momentum\n"
     ]
    },
    {
     "data": {
      "text/html": [
       "Ignoring project 'DA6401_DL_Assignment1' when running a sweep."
      ],
      "text/plain": [
       "<IPython.core.display.HTML object>"
      ]
     },
     "metadata": {},
     "output_type": "display_data"
    },
    {
     "data": {
      "text/html": [
       "Tracking run with wandb version 0.19.8"
      ],
      "text/plain": [
       "<IPython.core.display.HTML object>"
      ]
     },
     "metadata": {},
     "output_type": "display_data"
    },
    {
     "data": {
      "text/html": [
       "Run data is saved locally in <code>/home/ubuntu/wandb/run-20250311_140547-7qhqwmvq</code>"
      ],
      "text/plain": [
       "<IPython.core.display.HTML object>"
      ]
     },
     "metadata": {},
     "output_type": "display_data"
    },
    {
     "data": {
      "text/html": [
       "Syncing run <strong><a href='https://wandb.ai/cs24m021-iit-madras/DA6401_DL_Assignment1/runs/7qhqwmvq' target=\"_blank\">cerulean-sweep-25</a></strong> to <a href='https://wandb.ai/cs24m021-iit-madras/DA6401_DL_Assignment1' target=\"_blank\">Weights & Biases</a> (<a href='https://wandb.me/developer-guide' target=\"_blank\">docs</a>)<br>Sweep page: <a href='https://wandb.ai/cs24m021-iit-madras/DA6401_DL_Assignment1/sweeps/jtj28a74' target=\"_blank\">https://wandb.ai/cs24m021-iit-madras/DA6401_DL_Assignment1/sweeps/jtj28a74</a>"
      ],
      "text/plain": [
       "<IPython.core.display.HTML object>"
      ]
     },
     "metadata": {},
     "output_type": "display_data"
    },
    {
     "data": {
      "text/html": [
       " View project at <a href='https://wandb.ai/cs24m021-iit-madras/DA6401_DL_Assignment1' target=\"_blank\">https://wandb.ai/cs24m021-iit-madras/DA6401_DL_Assignment1</a>"
      ],
      "text/plain": [
       "<IPython.core.display.HTML object>"
      ]
     },
     "metadata": {},
     "output_type": "display_data"
    },
    {
     "data": {
      "text/html": [
       " View sweep at <a href='https://wandb.ai/cs24m021-iit-madras/DA6401_DL_Assignment1/sweeps/jtj28a74' target=\"_blank\">https://wandb.ai/cs24m021-iit-madras/DA6401_DL_Assignment1/sweeps/jtj28a74</a>"
      ],
      "text/plain": [
       "<IPython.core.display.HTML object>"
      ]
     },
     "metadata": {},
     "output_type": "display_data"
    },
    {
     "data": {
      "text/html": [
       " View run at <a href='https://wandb.ai/cs24m021-iit-madras/DA6401_DL_Assignment1/runs/7qhqwmvq' target=\"_blank\">https://wandb.ai/cs24m021-iit-madras/DA6401_DL_Assignment1/runs/7qhqwmvq</a>"
      ],
      "text/plain": [
       "<IPython.core.display.HTML object>"
      ]
     },
     "metadata": {},
     "output_type": "display_data"
    },
    {
     "name": "stdout",
     "output_type": "stream",
     "text": [
      "Epoch 1: Train Loss=2.3012, Train Acc=11.25%, Val Loss=2.3024, Val Acc=11.08%\n",
      "Epoch 2: Train Loss=2.3012, Train Acc=11.25%, Val Loss=2.3023, Val Acc=11.08%\n",
      "Epoch 3: Train Loss=2.3012, Train Acc=11.25%, Val Loss=2.3023, Val Acc=11.08%\n",
      "Epoch 4: Train Loss=2.3012, Train Acc=11.25%, Val Loss=2.3023, Val Acc=11.08%\n",
      "Epoch 5: Train Loss=2.3012, Train Acc=11.25%, Val Loss=2.3023, Val Acc=11.08%\n",
      "Epoch 6: Train Loss=2.3012, Train Acc=11.25%, Val Loss=2.3023, Val Acc=11.08%\n",
      "Epoch 7: Train Loss=2.3012, Train Acc=11.25%, Val Loss=2.3023, Val Acc=11.08%\n",
      "Epoch 8: Train Loss=2.3012, Train Acc=11.25%, Val Loss=2.3023, Val Acc=11.08%\n",
      "Epoch 9: Train Loss=2.3012, Train Acc=11.25%, Val Loss=2.3023, Val Acc=11.08%\n",
      "Epoch 10: Train Loss=2.3012, Train Acc=11.25%, Val Loss=2.3023, Val Acc=11.08%\n",
      "Test Loss: 2.3012, Test Acc: 11.35%\n"
     ]
    },
    {
     "data": {
      "text/html": [],
      "text/plain": [
       "<IPython.core.display.HTML object>"
      ]
     },
     "metadata": {},
     "output_type": "display_data"
    },
    {
     "data": {
      "text/html": [
       "<br>    <style><br>        .wandb-row {<br>            display: flex;<br>            flex-direction: row;<br>            flex-wrap: wrap;<br>            justify-content: flex-start;<br>            width: 100%;<br>        }<br>        .wandb-col {<br>            display: flex;<br>            flex-direction: column;<br>            flex-basis: 100%;<br>            flex: 1;<br>            padding: 10px;<br>        }<br>    </style><br><div class=\"wandb-row\"><div class=\"wandb-col\"><h3>Run history:</h3><br/><table class=\"wandb\"><tr><td>epoch</td><td>▁▂▃▃▄▅▆▆▇█</td></tr><tr><td>test_accuracy</td><td>▁</td></tr><tr><td>train_acc</td><td>▁▁▁▁▁▁▁▁▁▁</td></tr><tr><td>train_loss</td><td>█▁▁▁▁▁▁▁▁▁</td></tr><tr><td>val_acc</td><td>▁▁▁▁▁▁▁▁▁▁</td></tr><tr><td>val_loss</td><td>█▁▁▁▁▁▁▁▁▁</td></tr></table><br/></div><div class=\"wandb-col\"><h3>Run summary:</h3><br/><table class=\"wandb\"><tr><td>epoch</td><td>10</td></tr><tr><td>test_accuracy</td><td>11.35</td></tr><tr><td>train_acc</td><td>11.2537</td></tr><tr><td>train_loss</td><td>2.30116</td></tr><tr><td>val_acc</td><td>11.08333</td></tr><tr><td>val_loss</td><td>2.30229</td></tr></table><br/></div></div>"
      ],
      "text/plain": [
       "<IPython.core.display.HTML object>"
      ]
     },
     "metadata": {},
     "output_type": "display_data"
    },
    {
     "data": {
      "text/html": [
       " View run <strong style=\"color:#cdcd00\">opt_momentum_hl_5_bs_64_e_10_act_ReLU_eta_0.005_init_random_hls_64_dataset_mnist_cross_entropy</strong> at: <a href='https://wandb.ai/cs24m021-iit-madras/DA6401_DL_Assignment1/runs/7qhqwmvq' target=\"_blank\">https://wandb.ai/cs24m021-iit-madras/DA6401_DL_Assignment1/runs/7qhqwmvq</a><br> View project at: <a href='https://wandb.ai/cs24m021-iit-madras/DA6401_DL_Assignment1' target=\"_blank\">https://wandb.ai/cs24m021-iit-madras/DA6401_DL_Assignment1</a><br>Synced 5 W&B file(s), 0 media file(s), 0 artifact file(s) and 0 other file(s)"
      ],
      "text/plain": [
       "<IPython.core.display.HTML object>"
      ]
     },
     "metadata": {},
     "output_type": "display_data"
    },
    {
     "data": {
      "text/html": [
       "Find logs at: <code>./wandb/run-20250311_140547-7qhqwmvq/logs</code>"
      ],
      "text/plain": [
       "<IPython.core.display.HTML object>"
      ]
     },
     "metadata": {},
     "output_type": "display_data"
    },
    {
     "name": "stderr",
     "output_type": "stream",
     "text": [
      "\u001b[34m\u001b[1mwandb\u001b[0m: Agent Starting Run: tfmzkqkp with config:\n",
      "\u001b[34m\u001b[1mwandb\u001b[0m: \tactivation: tanh\n",
      "\u001b[34m\u001b[1mwandb\u001b[0m: \thidden_layer_sizes: 128\n",
      "\u001b[34m\u001b[1mwandb\u001b[0m: \toptimizer: sgd\n"
     ]
    },
    {
     "data": {
      "text/html": [
       "Ignoring project 'DA6401_DL_Assignment1' when running a sweep."
      ],
      "text/plain": [
       "<IPython.core.display.HTML object>"
      ]
     },
     "metadata": {},
     "output_type": "display_data"
    },
    {
     "data": {
      "text/html": [
       "Tracking run with wandb version 0.19.8"
      ],
      "text/plain": [
       "<IPython.core.display.HTML object>"
      ]
     },
     "metadata": {},
     "output_type": "display_data"
    },
    {
     "data": {
      "text/html": [
       "Run data is saved locally in <code>/home/ubuntu/wandb/run-20250311_140614-tfmzkqkp</code>"
      ],
      "text/plain": [
       "<IPython.core.display.HTML object>"
      ]
     },
     "metadata": {},
     "output_type": "display_data"
    },
    {
     "data": {
      "text/html": [
       "Syncing run <strong><a href='https://wandb.ai/cs24m021-iit-madras/DA6401_DL_Assignment1/runs/tfmzkqkp' target=\"_blank\">easy-sweep-26</a></strong> to <a href='https://wandb.ai/cs24m021-iit-madras/DA6401_DL_Assignment1' target=\"_blank\">Weights & Biases</a> (<a href='https://wandb.me/developer-guide' target=\"_blank\">docs</a>)<br>Sweep page: <a href='https://wandb.ai/cs24m021-iit-madras/DA6401_DL_Assignment1/sweeps/jtj28a74' target=\"_blank\">https://wandb.ai/cs24m021-iit-madras/DA6401_DL_Assignment1/sweeps/jtj28a74</a>"
      ],
      "text/plain": [
       "<IPython.core.display.HTML object>"
      ]
     },
     "metadata": {},
     "output_type": "display_data"
    },
    {
     "data": {
      "text/html": [
       " View project at <a href='https://wandb.ai/cs24m021-iit-madras/DA6401_DL_Assignment1' target=\"_blank\">https://wandb.ai/cs24m021-iit-madras/DA6401_DL_Assignment1</a>"
      ],
      "text/plain": [
       "<IPython.core.display.HTML object>"
      ]
     },
     "metadata": {},
     "output_type": "display_data"
    },
    {
     "data": {
      "text/html": [
       " View sweep at <a href='https://wandb.ai/cs24m021-iit-madras/DA6401_DL_Assignment1/sweeps/jtj28a74' target=\"_blank\">https://wandb.ai/cs24m021-iit-madras/DA6401_DL_Assignment1/sweeps/jtj28a74</a>"
      ],
      "text/plain": [
       "<IPython.core.display.HTML object>"
      ]
     },
     "metadata": {},
     "output_type": "display_data"
    },
    {
     "data": {
      "text/html": [
       " View run at <a href='https://wandb.ai/cs24m021-iit-madras/DA6401_DL_Assignment1/runs/tfmzkqkp' target=\"_blank\">https://wandb.ai/cs24m021-iit-madras/DA6401_DL_Assignment1/runs/tfmzkqkp</a>"
      ],
      "text/plain": [
       "<IPython.core.display.HTML object>"
      ]
     },
     "metadata": {},
     "output_type": "display_data"
    },
    {
     "name": "stdout",
     "output_type": "stream",
     "text": [
      "Epoch 1: Train Loss=9.7312, Train Acc=22.38%, Val Loss=9.9274, Val Acc=22.05%\n",
      "Epoch 2: Train Loss=6.9254, Train Acc=30.19%, Val Loss=7.0426, Val Acc=30.23%\n",
      "Epoch 3: Train Loss=5.6659, Train Acc=32.66%, Val Loss=5.6901, Val Acc=32.60%\n",
      "Epoch 4: Train Loss=4.4125, Train Acc=34.93%, Val Loss=4.4882, Val Acc=34.37%\n",
      "Epoch 5: Train Loss=3.4772, Train Acc=37.87%, Val Loss=3.5494, Val Acc=37.53%\n",
      "Epoch 6: Train Loss=2.7093, Train Acc=38.59%, Val Loss=2.7904, Val Acc=37.75%\n",
      "Epoch 7: Train Loss=2.1407, Train Acc=39.80%, Val Loss=2.1892, Val Acc=39.75%\n",
      "Epoch 8: Train Loss=1.8706, Train Acc=42.01%, Val Loss=1.9635, Val Acc=41.52%\n",
      "Epoch 9: Train Loss=1.7197, Train Acc=44.73%, Val Loss=1.7803, Val Acc=42.87%\n",
      "Epoch 10: Train Loss=1.6207, Train Acc=46.30%, Val Loss=1.7016, Val Acc=44.67%\n",
      "Test Loss: 1.6641, Test Acc: 45.43%\n"
     ]
    },
    {
     "data": {
      "text/html": [],
      "text/plain": [
       "<IPython.core.display.HTML object>"
      ]
     },
     "metadata": {},
     "output_type": "display_data"
    },
    {
     "data": {
      "text/html": [
       "<br>    <style><br>        .wandb-row {<br>            display: flex;<br>            flex-direction: row;<br>            flex-wrap: wrap;<br>            justify-content: flex-start;<br>            width: 100%;<br>        }<br>        .wandb-col {<br>            display: flex;<br>            flex-direction: column;<br>            flex-basis: 100%;<br>            flex: 1;<br>            padding: 10px;<br>        }<br>    </style><br><div class=\"wandb-row\"><div class=\"wandb-col\"><h3>Run history:</h3><br/><table class=\"wandb\"><tr><td>epoch</td><td>▁▂▃▃▄▅▆▆▇█</td></tr><tr><td>test_accuracy</td><td>▁</td></tr><tr><td>train_acc</td><td>▁▃▄▅▆▆▆▇██</td></tr><tr><td>train_loss</td><td>█▆▄▃▃▂▁▁▁▁</td></tr><tr><td>val_acc</td><td>▁▄▄▅▆▆▆▇▇█</td></tr><tr><td>val_loss</td><td>█▆▄▃▃▂▁▁▁▁</td></tr></table><br/></div><div class=\"wandb-col\"><h3>Run summary:</h3><br/><table class=\"wandb\"><tr><td>epoch</td><td>10</td></tr><tr><td>test_accuracy</td><td>45.43</td></tr><tr><td>train_acc</td><td>46.2963</td></tr><tr><td>train_loss</td><td>1.6207</td></tr><tr><td>val_acc</td><td>44.66667</td></tr><tr><td>val_loss</td><td>1.70159</td></tr></table><br/></div></div>"
      ],
      "text/plain": [
       "<IPython.core.display.HTML object>"
      ]
     },
     "metadata": {},
     "output_type": "display_data"
    },
    {
     "data": {
      "text/html": [
       " View run <strong style=\"color:#cdcd00\">opt_sgd_hl_5_bs_64_e_10_act_tanh_eta_0.005_init_random_hls_128_dataset_mnist_cross_entropy</strong> at: <a href='https://wandb.ai/cs24m021-iit-madras/DA6401_DL_Assignment1/runs/tfmzkqkp' target=\"_blank\">https://wandb.ai/cs24m021-iit-madras/DA6401_DL_Assignment1/runs/tfmzkqkp</a><br> View project at: <a href='https://wandb.ai/cs24m021-iit-madras/DA6401_DL_Assignment1' target=\"_blank\">https://wandb.ai/cs24m021-iit-madras/DA6401_DL_Assignment1</a><br>Synced 5 W&B file(s), 0 media file(s), 0 artifact file(s) and 0 other file(s)"
      ],
      "text/plain": [
       "<IPython.core.display.HTML object>"
      ]
     },
     "metadata": {},
     "output_type": "display_data"
    },
    {
     "data": {
      "text/html": [
       "Find logs at: <code>./wandb/run-20250311_140614-tfmzkqkp/logs</code>"
      ],
      "text/plain": [
       "<IPython.core.display.HTML object>"
      ]
     },
     "metadata": {},
     "output_type": "display_data"
    },
    {
     "name": "stderr",
     "output_type": "stream",
     "text": [
      "\u001b[34m\u001b[1mwandb\u001b[0m: Agent Starting Run: as7wc3dk with config:\n",
      "\u001b[34m\u001b[1mwandb\u001b[0m: \tactivation: sigmoid\n",
      "\u001b[34m\u001b[1mwandb\u001b[0m: \thidden_layer_sizes: 128\n",
      "\u001b[34m\u001b[1mwandb\u001b[0m: \toptimizer: momentum\n"
     ]
    },
    {
     "data": {
      "text/html": [
       "Ignoring project 'DA6401_DL_Assignment1' when running a sweep."
      ],
      "text/plain": [
       "<IPython.core.display.HTML object>"
      ]
     },
     "metadata": {},
     "output_type": "display_data"
    },
    {
     "data": {
      "text/html": [
       "Tracking run with wandb version 0.19.8"
      ],
      "text/plain": [
       "<IPython.core.display.HTML object>"
      ]
     },
     "metadata": {},
     "output_type": "display_data"
    },
    {
     "data": {
      "text/html": [
       "Run data is saved locally in <code>/home/ubuntu/wandb/run-20250311_140717-as7wc3dk</code>"
      ],
      "text/plain": [
       "<IPython.core.display.HTML object>"
      ]
     },
     "metadata": {},
     "output_type": "display_data"
    },
    {
     "data": {
      "text/html": [
       "Syncing run <strong><a href='https://wandb.ai/cs24m021-iit-madras/DA6401_DL_Assignment1/runs/as7wc3dk' target=\"_blank\">earthy-sweep-27</a></strong> to <a href='https://wandb.ai/cs24m021-iit-madras/DA6401_DL_Assignment1' target=\"_blank\">Weights & Biases</a> (<a href='https://wandb.me/developer-guide' target=\"_blank\">docs</a>)<br>Sweep page: <a href='https://wandb.ai/cs24m021-iit-madras/DA6401_DL_Assignment1/sweeps/jtj28a74' target=\"_blank\">https://wandb.ai/cs24m021-iit-madras/DA6401_DL_Assignment1/sweeps/jtj28a74</a>"
      ],
      "text/plain": [
       "<IPython.core.display.HTML object>"
      ]
     },
     "metadata": {},
     "output_type": "display_data"
    },
    {
     "data": {
      "text/html": [
       " View project at <a href='https://wandb.ai/cs24m021-iit-madras/DA6401_DL_Assignment1' target=\"_blank\">https://wandb.ai/cs24m021-iit-madras/DA6401_DL_Assignment1</a>"
      ],
      "text/plain": [
       "<IPython.core.display.HTML object>"
      ]
     },
     "metadata": {},
     "output_type": "display_data"
    },
    {
     "data": {
      "text/html": [
       " View sweep at <a href='https://wandb.ai/cs24m021-iit-madras/DA6401_DL_Assignment1/sweeps/jtj28a74' target=\"_blank\">https://wandb.ai/cs24m021-iit-madras/DA6401_DL_Assignment1/sweeps/jtj28a74</a>"
      ],
      "text/plain": [
       "<IPython.core.display.HTML object>"
      ]
     },
     "metadata": {},
     "output_type": "display_data"
    },
    {
     "data": {
      "text/html": [
       " View run at <a href='https://wandb.ai/cs24m021-iit-madras/DA6401_DL_Assignment1/runs/as7wc3dk' target=\"_blank\">https://wandb.ai/cs24m021-iit-madras/DA6401_DL_Assignment1/runs/as7wc3dk</a>"
      ],
      "text/plain": [
       "<IPython.core.display.HTML object>"
      ]
     },
     "metadata": {},
     "output_type": "display_data"
    },
    {
     "name": "stdout",
     "output_type": "stream",
     "text": [
      "Epoch 1: Train Loss=1.1611, Train Acc=61.35%, Val Loss=1.1914, Val Acc=59.92%\n",
      "Epoch 2: Train Loss=0.8583, Train Acc=71.90%, Val Loss=0.8881, Val Acc=71.05%\n",
      "Epoch 3: Train Loss=0.7029, Train Acc=77.37%, Val Loss=0.7355, Val Acc=76.25%\n",
      "Epoch 4: Train Loss=0.6053, Train Acc=80.83%, Val Loss=0.6406, Val Acc=79.75%\n",
      "Epoch 5: Train Loss=0.5356, Train Acc=83.30%, Val Loss=0.5732, Val Acc=82.02%\n",
      "Epoch 6: Train Loss=0.4832, Train Acc=85.10%, Val Loss=0.5234, Val Acc=83.87%\n",
      "Epoch 7: Train Loss=0.4419, Train Acc=86.47%, Val Loss=0.4849, Val Acc=85.08%\n",
      "Epoch 8: Train Loss=0.4081, Train Acc=87.53%, Val Loss=0.4538, Val Acc=85.97%\n",
      "Epoch 9: Train Loss=0.3796, Train Acc=88.51%, Val Loss=0.4274, Val Acc=87.03%\n",
      "Epoch 10: Train Loss=0.3550, Train Acc=89.25%, Val Loss=0.4044, Val Acc=87.40%\n",
      "Test Loss: 0.3908, Test Acc: 88.14%\n"
     ]
    },
    {
     "data": {
      "text/html": [],
      "text/plain": [
       "<IPython.core.display.HTML object>"
      ]
     },
     "metadata": {},
     "output_type": "display_data"
    },
    {
     "data": {
      "text/html": [
       "<br>    <style><br>        .wandb-row {<br>            display: flex;<br>            flex-direction: row;<br>            flex-wrap: wrap;<br>            justify-content: flex-start;<br>            width: 100%;<br>        }<br>        .wandb-col {<br>            display: flex;<br>            flex-direction: column;<br>            flex-basis: 100%;<br>            flex: 1;<br>            padding: 10px;<br>        }<br>    </style><br><div class=\"wandb-row\"><div class=\"wandb-col\"><h3>Run history:</h3><br/><table class=\"wandb\"><tr><td>epoch</td><td>▁▂▃▃▄▅▆▆▇█</td></tr><tr><td>test_accuracy</td><td>▁</td></tr><tr><td>train_acc</td><td>▁▄▅▆▇▇▇███</td></tr><tr><td>train_loss</td><td>█▅▄▃▃▂▂▁▁▁</td></tr><tr><td>val_acc</td><td>▁▄▅▆▇▇▇███</td></tr><tr><td>val_loss</td><td>█▅▄▃▃▂▂▁▁▁</td></tr></table><br/></div><div class=\"wandb-col\"><h3>Run summary:</h3><br/><table class=\"wandb\"><tr><td>epoch</td><td>10</td></tr><tr><td>test_accuracy</td><td>88.14</td></tr><tr><td>train_acc</td><td>89.24815</td></tr><tr><td>train_loss</td><td>0.35499</td></tr><tr><td>val_acc</td><td>87.4</td></tr><tr><td>val_loss</td><td>0.40441</td></tr></table><br/></div></div>"
      ],
      "text/plain": [
       "<IPython.core.display.HTML object>"
      ]
     },
     "metadata": {},
     "output_type": "display_data"
    },
    {
     "data": {
      "text/html": [
       " View run <strong style=\"color:#cdcd00\">opt_momentum_hl_5_bs_64_e_10_act_sigmoid_eta_0.005_init_random_hls_128_dataset_mnist_cross_entropy</strong> at: <a href='https://wandb.ai/cs24m021-iit-madras/DA6401_DL_Assignment1/runs/as7wc3dk' target=\"_blank\">https://wandb.ai/cs24m021-iit-madras/DA6401_DL_Assignment1/runs/as7wc3dk</a><br> View project at: <a href='https://wandb.ai/cs24m021-iit-madras/DA6401_DL_Assignment1' target=\"_blank\">https://wandb.ai/cs24m021-iit-madras/DA6401_DL_Assignment1</a><br>Synced 5 W&B file(s), 0 media file(s), 0 artifact file(s) and 0 other file(s)"
      ],
      "text/plain": [
       "<IPython.core.display.HTML object>"
      ]
     },
     "metadata": {},
     "output_type": "display_data"
    },
    {
     "data": {
      "text/html": [
       "Find logs at: <code>./wandb/run-20250311_140717-as7wc3dk/logs</code>"
      ],
      "text/plain": [
       "<IPython.core.display.HTML object>"
      ]
     },
     "metadata": {},
     "output_type": "display_data"
    },
    {
     "name": "stderr",
     "output_type": "stream",
     "text": [
      "\u001b[34m\u001b[1mwandb\u001b[0m: Agent Starting Run: uj44hpop with config:\n",
      "\u001b[34m\u001b[1mwandb\u001b[0m: \tactivation: tanh\n",
      "\u001b[34m\u001b[1mwandb\u001b[0m: \thidden_layer_sizes: 32\n",
      "\u001b[34m\u001b[1mwandb\u001b[0m: \toptimizer: nadam\n"
     ]
    },
    {
     "data": {
      "text/html": [
       "Ignoring project 'DA6401_DL_Assignment1' when running a sweep."
      ],
      "text/plain": [
       "<IPython.core.display.HTML object>"
      ]
     },
     "metadata": {},
     "output_type": "display_data"
    },
    {
     "data": {
      "text/html": [
       "Tracking run with wandb version 0.19.8"
      ],
      "text/plain": [
       "<IPython.core.display.HTML object>"
      ]
     },
     "metadata": {},
     "output_type": "display_data"
    },
    {
     "data": {
      "text/html": [
       "Run data is saved locally in <code>/home/ubuntu/wandb/run-20250311_140903-uj44hpop</code>"
      ],
      "text/plain": [
       "<IPython.core.display.HTML object>"
      ]
     },
     "metadata": {},
     "output_type": "display_data"
    },
    {
     "data": {
      "text/html": [
       "Syncing run <strong><a href='https://wandb.ai/cs24m021-iit-madras/DA6401_DL_Assignment1/runs/uj44hpop' target=\"_blank\">radiant-sweep-28</a></strong> to <a href='https://wandb.ai/cs24m021-iit-madras/DA6401_DL_Assignment1' target=\"_blank\">Weights & Biases</a> (<a href='https://wandb.me/developer-guide' target=\"_blank\">docs</a>)<br>Sweep page: <a href='https://wandb.ai/cs24m021-iit-madras/DA6401_DL_Assignment1/sweeps/jtj28a74' target=\"_blank\">https://wandb.ai/cs24m021-iit-madras/DA6401_DL_Assignment1/sweeps/jtj28a74</a>"
      ],
      "text/plain": [
       "<IPython.core.display.HTML object>"
      ]
     },
     "metadata": {},
     "output_type": "display_data"
    },
    {
     "data": {
      "text/html": [
       " View project at <a href='https://wandb.ai/cs24m021-iit-madras/DA6401_DL_Assignment1' target=\"_blank\">https://wandb.ai/cs24m021-iit-madras/DA6401_DL_Assignment1</a>"
      ],
      "text/plain": [
       "<IPython.core.display.HTML object>"
      ]
     },
     "metadata": {},
     "output_type": "display_data"
    },
    {
     "data": {
      "text/html": [
       " View sweep at <a href='https://wandb.ai/cs24m021-iit-madras/DA6401_DL_Assignment1/sweeps/jtj28a74' target=\"_blank\">https://wandb.ai/cs24m021-iit-madras/DA6401_DL_Assignment1/sweeps/jtj28a74</a>"
      ],
      "text/plain": [
       "<IPython.core.display.HTML object>"
      ]
     },
     "metadata": {},
     "output_type": "display_data"
    },
    {
     "data": {
      "text/html": [
       " View run at <a href='https://wandb.ai/cs24m021-iit-madras/DA6401_DL_Assignment1/runs/uj44hpop' target=\"_blank\">https://wandb.ai/cs24m021-iit-madras/DA6401_DL_Assignment1/runs/uj44hpop</a>"
      ],
      "text/plain": [
       "<IPython.core.display.HTML object>"
      ]
     },
     "metadata": {},
     "output_type": "display_data"
    },
    {
     "name": "stdout",
     "output_type": "stream",
     "text": [
      "Epoch 1: Train Loss=1.6575, Train Acc=41.59%, Val Loss=1.7072, Val Acc=40.35%\n",
      "Epoch 2: Train Loss=1.2113, Train Acc=57.87%, Val Loss=1.2555, Val Acc=56.28%\n",
      "Epoch 3: Train Loss=0.9548, Train Acc=67.79%, Val Loss=1.0030, Val Acc=66.62%\n",
      "Epoch 4: Train Loss=0.7652, Train Acc=76.37%, Val Loss=0.8038, Val Acc=76.12%\n",
      "Epoch 5: Train Loss=0.6330, Train Acc=80.73%, Val Loss=0.6662, Val Acc=79.97%\n",
      "Epoch 6: Train Loss=0.5004, Train Acc=85.65%, Val Loss=0.5483, Val Acc=84.77%\n",
      "Epoch 7: Train Loss=0.4174, Train Acc=88.38%, Val Loss=0.4612, Val Acc=87.22%\n",
      "Epoch 8: Train Loss=0.3507, Train Acc=90.19%, Val Loss=0.3942, Val Acc=89.10%\n",
      "Epoch 9: Train Loss=0.3043, Train Acc=91.46%, Val Loss=0.3375, Val Acc=91.03%\n",
      "Epoch 10: Train Loss=0.2586, Train Acc=92.73%, Val Loss=0.3107, Val Acc=91.65%\n",
      "Test Loss: 0.2995, Test Acc: 91.76%\n"
     ]
    },
    {
     "data": {
      "text/html": [],
      "text/plain": [
       "<IPython.core.display.HTML object>"
      ]
     },
     "metadata": {},
     "output_type": "display_data"
    },
    {
     "data": {
      "text/html": [
       "<br>    <style><br>        .wandb-row {<br>            display: flex;<br>            flex-direction: row;<br>            flex-wrap: wrap;<br>            justify-content: flex-start;<br>            width: 100%;<br>        }<br>        .wandb-col {<br>            display: flex;<br>            flex-direction: column;<br>            flex-basis: 100%;<br>            flex: 1;<br>            padding: 10px;<br>        }<br>    </style><br><div class=\"wandb-row\"><div class=\"wandb-col\"><h3>Run history:</h3><br/><table class=\"wandb\"><tr><td>epoch</td><td>▁▂▃▃▄▅▆▆▇█</td></tr><tr><td>test_accuracy</td><td>▁</td></tr><tr><td>train_acc</td><td>▁▃▅▆▆▇▇███</td></tr><tr><td>train_loss</td><td>█▆▄▄▃▂▂▁▁▁</td></tr><tr><td>val_acc</td><td>▁▃▅▆▆▇▇███</td></tr><tr><td>val_loss</td><td>█▆▄▃▃▂▂▁▁▁</td></tr></table><br/></div><div class=\"wandb-col\"><h3>Run summary:</h3><br/><table class=\"wandb\"><tr><td>epoch</td><td>10</td></tr><tr><td>test_accuracy</td><td>91.76</td></tr><tr><td>train_acc</td><td>92.72593</td></tr><tr><td>train_loss</td><td>0.25859</td></tr><tr><td>val_acc</td><td>91.65</td></tr><tr><td>val_loss</td><td>0.31069</td></tr></table><br/></div></div>"
      ],
      "text/plain": [
       "<IPython.core.display.HTML object>"
      ]
     },
     "metadata": {},
     "output_type": "display_data"
    },
    {
     "data": {
      "text/html": [
       " View run <strong style=\"color:#cdcd00\">opt_nadam_hl_5_bs_64_e_10_act_tanh_eta_0.005_init_random_hls_32_dataset_mnist_cross_entropy</strong> at: <a href='https://wandb.ai/cs24m021-iit-madras/DA6401_DL_Assignment1/runs/uj44hpop' target=\"_blank\">https://wandb.ai/cs24m021-iit-madras/DA6401_DL_Assignment1/runs/uj44hpop</a><br> View project at: <a href='https://wandb.ai/cs24m021-iit-madras/DA6401_DL_Assignment1' target=\"_blank\">https://wandb.ai/cs24m021-iit-madras/DA6401_DL_Assignment1</a><br>Synced 5 W&B file(s), 0 media file(s), 0 artifact file(s) and 0 other file(s)"
      ],
      "text/plain": [
       "<IPython.core.display.HTML object>"
      ]
     },
     "metadata": {},
     "output_type": "display_data"
    },
    {
     "data": {
      "text/html": [
       "Find logs at: <code>./wandb/run-20250311_140903-uj44hpop/logs</code>"
      ],
      "text/plain": [
       "<IPython.core.display.HTML object>"
      ]
     },
     "metadata": {},
     "output_type": "display_data"
    },
    {
     "name": "stderr",
     "output_type": "stream",
     "text": [
      "\u001b[34m\u001b[1mwandb\u001b[0m: Agent Starting Run: zpejmv6o with config:\n",
      "\u001b[34m\u001b[1mwandb\u001b[0m: \tactivation: sigmoid\n",
      "\u001b[34m\u001b[1mwandb\u001b[0m: \thidden_layer_sizes: 128\n",
      "\u001b[34m\u001b[1mwandb\u001b[0m: \toptimizer: nesterov\n"
     ]
    },
    {
     "data": {
      "text/html": [
       "Ignoring project 'DA6401_DL_Assignment1' when running a sweep."
      ],
      "text/plain": [
       "<IPython.core.display.HTML object>"
      ]
     },
     "metadata": {},
     "output_type": "display_data"
    },
    {
     "data": {
      "text/html": [
       "Tracking run with wandb version 0.19.8"
      ],
      "text/plain": [
       "<IPython.core.display.HTML object>"
      ]
     },
     "metadata": {},
     "output_type": "display_data"
    },
    {
     "data": {
      "text/html": [
       "Run data is saved locally in <code>/home/ubuntu/wandb/run-20250311_140924-zpejmv6o</code>"
      ],
      "text/plain": [
       "<IPython.core.display.HTML object>"
      ]
     },
     "metadata": {},
     "output_type": "display_data"
    },
    {
     "data": {
      "text/html": [
       "Syncing run <strong><a href='https://wandb.ai/cs24m021-iit-madras/DA6401_DL_Assignment1/runs/zpejmv6o' target=\"_blank\">worldly-sweep-29</a></strong> to <a href='https://wandb.ai/cs24m021-iit-madras/DA6401_DL_Assignment1' target=\"_blank\">Weights & Biases</a> (<a href='https://wandb.me/developer-guide' target=\"_blank\">docs</a>)<br>Sweep page: <a href='https://wandb.ai/cs24m021-iit-madras/DA6401_DL_Assignment1/sweeps/jtj28a74' target=\"_blank\">https://wandb.ai/cs24m021-iit-madras/DA6401_DL_Assignment1/sweeps/jtj28a74</a>"
      ],
      "text/plain": [
       "<IPython.core.display.HTML object>"
      ]
     },
     "metadata": {},
     "output_type": "display_data"
    },
    {
     "data": {
      "text/html": [
       " View project at <a href='https://wandb.ai/cs24m021-iit-madras/DA6401_DL_Assignment1' target=\"_blank\">https://wandb.ai/cs24m021-iit-madras/DA6401_DL_Assignment1</a>"
      ],
      "text/plain": [
       "<IPython.core.display.HTML object>"
      ]
     },
     "metadata": {},
     "output_type": "display_data"
    },
    {
     "data": {
      "text/html": [
       " View sweep at <a href='https://wandb.ai/cs24m021-iit-madras/DA6401_DL_Assignment1/sweeps/jtj28a74' target=\"_blank\">https://wandb.ai/cs24m021-iit-madras/DA6401_DL_Assignment1/sweeps/jtj28a74</a>"
      ],
      "text/plain": [
       "<IPython.core.display.HTML object>"
      ]
     },
     "metadata": {},
     "output_type": "display_data"
    },
    {
     "data": {
      "text/html": [
       " View run at <a href='https://wandb.ai/cs24m021-iit-madras/DA6401_DL_Assignment1/runs/zpejmv6o' target=\"_blank\">https://wandb.ai/cs24m021-iit-madras/DA6401_DL_Assignment1/runs/zpejmv6o</a>"
      ],
      "text/plain": [
       "<IPython.core.display.HTML object>"
      ]
     },
     "metadata": {},
     "output_type": "display_data"
    },
    {
     "name": "stdout",
     "output_type": "stream",
     "text": [
      "Epoch 1: Train Loss=1.1778, Train Acc=59.88%, Val Loss=1.1835, Val Acc=59.63%\n",
      "Epoch 2: Train Loss=0.8644, Train Acc=71.27%, Val Loss=0.8760, Val Acc=70.30%\n",
      "Epoch 3: Train Loss=0.7081, Train Acc=76.95%, Val Loss=0.7305, Val Acc=76.10%\n",
      "Epoch 4: Train Loss=0.6098, Train Acc=80.41%, Val Loss=0.6392, Val Acc=79.20%\n",
      "Epoch 5: Train Loss=0.5402, Train Acc=82.96%, Val Loss=0.5738, Val Acc=81.83%\n",
      "Epoch 6: Train Loss=0.4874, Train Acc=84.72%, Val Loss=0.5233, Val Acc=83.48%\n",
      "Epoch 7: Train Loss=0.4457, Train Acc=86.09%, Val Loss=0.4831, Val Acc=84.92%\n",
      "Epoch 8: Train Loss=0.4116, Train Acc=87.19%, Val Loss=0.4508, Val Acc=86.08%\n",
      "Epoch 9: Train Loss=0.3829, Train Acc=88.19%, Val Loss=0.4244, Val Acc=86.88%\n",
      "Epoch 10: Train Loss=0.3584, Train Acc=88.97%, Val Loss=0.4021, Val Acc=87.53%\n",
      "Test Loss: 0.3898, Test Acc: 88.19%\n"
     ]
    },
    {
     "data": {
      "text/html": [],
      "text/plain": [
       "<IPython.core.display.HTML object>"
      ]
     },
     "metadata": {},
     "output_type": "display_data"
    },
    {
     "data": {
      "text/html": [
       "<br>    <style><br>        .wandb-row {<br>            display: flex;<br>            flex-direction: row;<br>            flex-wrap: wrap;<br>            justify-content: flex-start;<br>            width: 100%;<br>        }<br>        .wandb-col {<br>            display: flex;<br>            flex-direction: column;<br>            flex-basis: 100%;<br>            flex: 1;<br>            padding: 10px;<br>        }<br>    </style><br><div class=\"wandb-row\"><div class=\"wandb-col\"><h3>Run history:</h3><br/><table class=\"wandb\"><tr><td>epoch</td><td>▁▂▃▃▄▅▆▆▇█</td></tr><tr><td>test_accuracy</td><td>▁</td></tr><tr><td>train_acc</td><td>▁▄▅▆▇▇▇███</td></tr><tr><td>train_loss</td><td>█▅▄▃▃▂▂▁▁▁</td></tr><tr><td>val_acc</td><td>▁▄▅▆▇▇▇███</td></tr><tr><td>val_loss</td><td>█▅▄▃▃▂▂▁▁▁</td></tr></table><br/></div><div class=\"wandb-col\"><h3>Run summary:</h3><br/><table class=\"wandb\"><tr><td>epoch</td><td>10</td></tr><tr><td>test_accuracy</td><td>88.19</td></tr><tr><td>train_acc</td><td>88.97037</td></tr><tr><td>train_loss</td><td>0.35835</td></tr><tr><td>val_acc</td><td>87.53333</td></tr><tr><td>val_loss</td><td>0.4021</td></tr></table><br/></div></div>"
      ],
      "text/plain": [
       "<IPython.core.display.HTML object>"
      ]
     },
     "metadata": {},
     "output_type": "display_data"
    },
    {
     "data": {
      "text/html": [
       " View run <strong style=\"color:#cdcd00\">opt_nesterov_hl_5_bs_64_e_10_act_sigmoid_eta_0.005_init_random_hls_128_dataset_mnist_cross_entropy</strong> at: <a href='https://wandb.ai/cs24m021-iit-madras/DA6401_DL_Assignment1/runs/zpejmv6o' target=\"_blank\">https://wandb.ai/cs24m021-iit-madras/DA6401_DL_Assignment1/runs/zpejmv6o</a><br> View project at: <a href='https://wandb.ai/cs24m021-iit-madras/DA6401_DL_Assignment1' target=\"_blank\">https://wandb.ai/cs24m021-iit-madras/DA6401_DL_Assignment1</a><br>Synced 5 W&B file(s), 0 media file(s), 0 artifact file(s) and 0 other file(s)"
      ],
      "text/plain": [
       "<IPython.core.display.HTML object>"
      ]
     },
     "metadata": {},
     "output_type": "display_data"
    },
    {
     "data": {
      "text/html": [
       "Find logs at: <code>./wandb/run-20250311_140924-zpejmv6o/logs</code>"
      ],
      "text/plain": [
       "<IPython.core.display.HTML object>"
      ]
     },
     "metadata": {},
     "output_type": "display_data"
    },
    {
     "name": "stderr",
     "output_type": "stream",
     "text": [
      "\u001b[34m\u001b[1mwandb\u001b[0m: Agent Starting Run: sgvzp1d0 with config:\n",
      "\u001b[34m\u001b[1mwandb\u001b[0m: \tactivation: ReLU\n",
      "\u001b[34m\u001b[1mwandb\u001b[0m: \thidden_layer_sizes: 64\n",
      "\u001b[34m\u001b[1mwandb\u001b[0m: \toptimizer: adam\n"
     ]
    },
    {
     "data": {
      "text/html": [
       "Ignoring project 'DA6401_DL_Assignment1' when running a sweep."
      ],
      "text/plain": [
       "<IPython.core.display.HTML object>"
      ]
     },
     "metadata": {},
     "output_type": "display_data"
    },
    {
     "data": {
      "text/html": [
       "Tracking run with wandb version 0.19.8"
      ],
      "text/plain": [
       "<IPython.core.display.HTML object>"
      ]
     },
     "metadata": {},
     "output_type": "display_data"
    },
    {
     "data": {
      "text/html": [
       "Run data is saved locally in <code>/home/ubuntu/wandb/run-20250311_141115-sgvzp1d0</code>"
      ],
      "text/plain": [
       "<IPython.core.display.HTML object>"
      ]
     },
     "metadata": {},
     "output_type": "display_data"
    },
    {
     "data": {
      "text/html": [
       "Syncing run <strong><a href='https://wandb.ai/cs24m021-iit-madras/DA6401_DL_Assignment1/runs/sgvzp1d0' target=\"_blank\">fiery-sweep-30</a></strong> to <a href='https://wandb.ai/cs24m021-iit-madras/DA6401_DL_Assignment1' target=\"_blank\">Weights & Biases</a> (<a href='https://wandb.me/developer-guide' target=\"_blank\">docs</a>)<br>Sweep page: <a href='https://wandb.ai/cs24m021-iit-madras/DA6401_DL_Assignment1/sweeps/jtj28a74' target=\"_blank\">https://wandb.ai/cs24m021-iit-madras/DA6401_DL_Assignment1/sweeps/jtj28a74</a>"
      ],
      "text/plain": [
       "<IPython.core.display.HTML object>"
      ]
     },
     "metadata": {},
     "output_type": "display_data"
    },
    {
     "data": {
      "text/html": [
       " View project at <a href='https://wandb.ai/cs24m021-iit-madras/DA6401_DL_Assignment1' target=\"_blank\">https://wandb.ai/cs24m021-iit-madras/DA6401_DL_Assignment1</a>"
      ],
      "text/plain": [
       "<IPython.core.display.HTML object>"
      ]
     },
     "metadata": {},
     "output_type": "display_data"
    },
    {
     "data": {
      "text/html": [
       " View sweep at <a href='https://wandb.ai/cs24m021-iit-madras/DA6401_DL_Assignment1/sweeps/jtj28a74' target=\"_blank\">https://wandb.ai/cs24m021-iit-madras/DA6401_DL_Assignment1/sweeps/jtj28a74</a>"
      ],
      "text/plain": [
       "<IPython.core.display.HTML object>"
      ]
     },
     "metadata": {},
     "output_type": "display_data"
    },
    {
     "data": {
      "text/html": [
       " View run at <a href='https://wandb.ai/cs24m021-iit-madras/DA6401_DL_Assignment1/runs/sgvzp1d0' target=\"_blank\">https://wandb.ai/cs24m021-iit-madras/DA6401_DL_Assignment1/runs/sgvzp1d0</a>"
      ],
      "text/plain": [
       "<IPython.core.display.HTML object>"
      ]
     },
     "metadata": {},
     "output_type": "display_data"
    },
    {
     "name": "stdout",
     "output_type": "stream",
     "text": [
      "Epoch 1: Train Loss=8.6398, Train Acc=74.29%, Val Loss=9.5005, Val Acc=71.63%\n",
      "Epoch 2: Train Loss=7.3846, Train Acc=77.33%, Val Loss=8.1370, Val Acc=75.18%\n",
      "Epoch 3: Train Loss=6.7233, Train Acc=78.89%, Val Loss=7.5262, Val Acc=76.55%\n",
      "Epoch 4: Train Loss=5.9572, Train Acc=80.63%, Val Loss=6.7532, Val Acc=78.42%\n",
      "Epoch 5: Train Loss=5.6601, Train Acc=81.32%, Val Loss=6.4567, Val Acc=78.93%\n",
      "Epoch 6: Train Loss=5.1644, Train Acc=81.93%, Val Loss=5.9621, Val Acc=79.77%\n",
      "Epoch 7: Train Loss=4.6641, Train Acc=83.21%, Val Loss=5.4727, Val Acc=80.67%\n",
      "Epoch 8: Train Loss=3.9287, Train Acc=84.33%, Val Loss=4.6526, Val Acc=82.22%\n",
      "Epoch 9: Train Loss=4.6110, Train Acc=80.45%, Val Loss=5.4003, Val Acc=78.25%\n",
      "Epoch 10: Train Loss=2.9955, Train Acc=85.07%, Val Loss=3.6481, Val Acc=82.82%\n",
      "Test Loss: 3.1969, Test Acc: 84.72%\n"
     ]
    },
    {
     "data": {
      "text/html": [],
      "text/plain": [
       "<IPython.core.display.HTML object>"
      ]
     },
     "metadata": {},
     "output_type": "display_data"
    },
    {
     "data": {
      "text/html": [
       "<br>    <style><br>        .wandb-row {<br>            display: flex;<br>            flex-direction: row;<br>            flex-wrap: wrap;<br>            justify-content: flex-start;<br>            width: 100%;<br>        }<br>        .wandb-col {<br>            display: flex;<br>            flex-direction: column;<br>            flex-basis: 100%;<br>            flex: 1;<br>            padding: 10px;<br>        }<br>    </style><br><div class=\"wandb-row\"><div class=\"wandb-col\"><h3>Run history:</h3><br/><table class=\"wandb\"><tr><td>epoch</td><td>▁▂▃▃▄▅▆▆▇█</td></tr><tr><td>test_accuracy</td><td>▁</td></tr><tr><td>train_acc</td><td>▁▃▄▅▆▆▇█▅█</td></tr><tr><td>train_loss</td><td>█▆▆▅▄▄▃▂▃▁</td></tr><tr><td>val_acc</td><td>▁▃▄▅▆▆▇█▅█</td></tr><tr><td>val_loss</td><td>█▆▆▅▄▄▃▂▃▁</td></tr></table><br/></div><div class=\"wandb-col\"><h3>Run summary:</h3><br/><table class=\"wandb\"><tr><td>epoch</td><td>10</td></tr><tr><td>test_accuracy</td><td>84.72</td></tr><tr><td>train_acc</td><td>85.06852</td></tr><tr><td>train_loss</td><td>2.99551</td></tr><tr><td>val_acc</td><td>82.81667</td></tr><tr><td>val_loss</td><td>3.64814</td></tr></table><br/></div></div>"
      ],
      "text/plain": [
       "<IPython.core.display.HTML object>"
      ]
     },
     "metadata": {},
     "output_type": "display_data"
    },
    {
     "data": {
      "text/html": [
       " View run <strong style=\"color:#cdcd00\">opt_adam_hl_5_bs_64_e_10_act_ReLU_eta_0.005_init_random_hls_64_dataset_mnist_cross_entropy</strong> at: <a href='https://wandb.ai/cs24m021-iit-madras/DA6401_DL_Assignment1/runs/sgvzp1d0' target=\"_blank\">https://wandb.ai/cs24m021-iit-madras/DA6401_DL_Assignment1/runs/sgvzp1d0</a><br> View project at: <a href='https://wandb.ai/cs24m021-iit-madras/DA6401_DL_Assignment1' target=\"_blank\">https://wandb.ai/cs24m021-iit-madras/DA6401_DL_Assignment1</a><br>Synced 5 W&B file(s), 0 media file(s), 0 artifact file(s) and 0 other file(s)"
      ],
      "text/plain": [
       "<IPython.core.display.HTML object>"
      ]
     },
     "metadata": {},
     "output_type": "display_data"
    },
    {
     "data": {
      "text/html": [
       "Find logs at: <code>./wandb/run-20250311_141115-sgvzp1d0/logs</code>"
      ],
      "text/plain": [
       "<IPython.core.display.HTML object>"
      ]
     },
     "metadata": {},
     "output_type": "display_data"
    },
    {
     "name": "stderr",
     "output_type": "stream",
     "text": [
      "\u001b[34m\u001b[1mwandb\u001b[0m: Agent Starting Run: 5xw0xf4h with config:\n",
      "\u001b[34m\u001b[1mwandb\u001b[0m: \tactivation: tanh\n",
      "\u001b[34m\u001b[1mwandb\u001b[0m: \thidden_layer_sizes: 128\n",
      "\u001b[34m\u001b[1mwandb\u001b[0m: \toptimizer: sgd\n"
     ]
    },
    {
     "data": {
      "text/html": [
       "Ignoring project 'DA6401_DL_Assignment1' when running a sweep."
      ],
      "text/plain": [
       "<IPython.core.display.HTML object>"
      ]
     },
     "metadata": {},
     "output_type": "display_data"
    },
    {
     "data": {
      "text/html": [
       "Tracking run with wandb version 0.19.8"
      ],
      "text/plain": [
       "<IPython.core.display.HTML object>"
      ]
     },
     "metadata": {},
     "output_type": "display_data"
    },
    {
     "data": {
      "text/html": [
       "Run data is saved locally in <code>/home/ubuntu/wandb/run-20250311_141147-5xw0xf4h</code>"
      ],
      "text/plain": [
       "<IPython.core.display.HTML object>"
      ]
     },
     "metadata": {},
     "output_type": "display_data"
    },
    {
     "data": {
      "text/html": [
       "Syncing run <strong><a href='https://wandb.ai/cs24m021-iit-madras/DA6401_DL_Assignment1/runs/5xw0xf4h' target=\"_blank\">ancient-sweep-31</a></strong> to <a href='https://wandb.ai/cs24m021-iit-madras/DA6401_DL_Assignment1' target=\"_blank\">Weights & Biases</a> (<a href='https://wandb.me/developer-guide' target=\"_blank\">docs</a>)<br>Sweep page: <a href='https://wandb.ai/cs24m021-iit-madras/DA6401_DL_Assignment1/sweeps/jtj28a74' target=\"_blank\">https://wandb.ai/cs24m021-iit-madras/DA6401_DL_Assignment1/sweeps/jtj28a74</a>"
      ],
      "text/plain": [
       "<IPython.core.display.HTML object>"
      ]
     },
     "metadata": {},
     "output_type": "display_data"
    },
    {
     "data": {
      "text/html": [
       " View project at <a href='https://wandb.ai/cs24m021-iit-madras/DA6401_DL_Assignment1' target=\"_blank\">https://wandb.ai/cs24m021-iit-madras/DA6401_DL_Assignment1</a>"
      ],
      "text/plain": [
       "<IPython.core.display.HTML object>"
      ]
     },
     "metadata": {},
     "output_type": "display_data"
    },
    {
     "data": {
      "text/html": [
       " View sweep at <a href='https://wandb.ai/cs24m021-iit-madras/DA6401_DL_Assignment1/sweeps/jtj28a74' target=\"_blank\">https://wandb.ai/cs24m021-iit-madras/DA6401_DL_Assignment1/sweeps/jtj28a74</a>"
      ],
      "text/plain": [
       "<IPython.core.display.HTML object>"
      ]
     },
     "metadata": {},
     "output_type": "display_data"
    },
    {
     "data": {
      "text/html": [
       " View run at <a href='https://wandb.ai/cs24m021-iit-madras/DA6401_DL_Assignment1/runs/5xw0xf4h' target=\"_blank\">https://wandb.ai/cs24m021-iit-madras/DA6401_DL_Assignment1/runs/5xw0xf4h</a>"
      ],
      "text/plain": [
       "<IPython.core.display.HTML object>"
      ]
     },
     "metadata": {},
     "output_type": "display_data"
    },
    {
     "name": "stdout",
     "output_type": "stream",
     "text": [
      "Epoch 1: Train Loss=8.4772, Train Acc=22.70%, Val Loss=8.2716, Val Acc=23.87%\n",
      "Epoch 2: Train Loss=6.8068, Train Acc=28.10%, Val Loss=6.7488, Val Acc=27.75%\n",
      "Epoch 3: Train Loss=5.4946, Train Acc=32.65%, Val Loss=5.6120, Val Acc=30.85%\n",
      "Epoch 4: Train Loss=4.4613, Train Acc=34.77%, Val Loss=4.5339, Val Acc=34.82%\n",
      "Epoch 5: Train Loss=3.6388, Train Acc=37.72%, Val Loss=3.6647, Val Acc=38.48%\n",
      "Epoch 6: Train Loss=2.9454, Train Acc=38.86%, Val Loss=3.0036, Val Acc=39.48%\n",
      "Epoch 7: Train Loss=2.3976, Train Acc=42.48%, Val Loss=2.4564, Val Acc=41.42%\n",
      "Epoch 8: Train Loss=2.0885, Train Acc=44.39%, Val Loss=2.0682, Val Acc=45.03%\n",
      "Epoch 9: Train Loss=1.8793, Train Acc=45.43%, Val Loss=1.9001, Val Acc=45.35%\n",
      "Epoch 10: Train Loss=1.7096, Train Acc=48.86%, Val Loss=1.7616, Val Acc=49.17%\n",
      "Test Loss: 1.7330, Test Acc: 48.41%\n"
     ]
    },
    {
     "data": {
      "text/html": [],
      "text/plain": [
       "<IPython.core.display.HTML object>"
      ]
     },
     "metadata": {},
     "output_type": "display_data"
    },
    {
     "data": {
      "text/html": [
       "<br>    <style><br>        .wandb-row {<br>            display: flex;<br>            flex-direction: row;<br>            flex-wrap: wrap;<br>            justify-content: flex-start;<br>            width: 100%;<br>        }<br>        .wandb-col {<br>            display: flex;<br>            flex-direction: column;<br>            flex-basis: 100%;<br>            flex: 1;<br>            padding: 10px;<br>        }<br>    </style><br><div class=\"wandb-row\"><div class=\"wandb-col\"><h3>Run history:</h3><br/><table class=\"wandb\"><tr><td>epoch</td><td>▁▂▃▃▄▅▆▆▇█</td></tr><tr><td>test_accuracy</td><td>▁</td></tr><tr><td>train_acc</td><td>▁▂▄▄▅▅▆▇▇█</td></tr><tr><td>train_loss</td><td>█▆▅▄▃▂▂▁▁▁</td></tr><tr><td>val_acc</td><td>▁▂▃▄▅▅▆▇▇█</td></tr><tr><td>val_loss</td><td>█▆▅▄▃▂▂▁▁▁</td></tr></table><br/></div><div class=\"wandb-col\"><h3>Run summary:</h3><br/><table class=\"wandb\"><tr><td>epoch</td><td>10</td></tr><tr><td>test_accuracy</td><td>48.41</td></tr><tr><td>train_acc</td><td>48.85741</td></tr><tr><td>train_loss</td><td>1.70961</td></tr><tr><td>val_acc</td><td>49.16667</td></tr><tr><td>val_loss</td><td>1.76165</td></tr></table><br/></div></div>"
      ],
      "text/plain": [
       "<IPython.core.display.HTML object>"
      ]
     },
     "metadata": {},
     "output_type": "display_data"
    },
    {
     "data": {
      "text/html": [
       " View run <strong style=\"color:#cdcd00\">opt_sgd_hl_5_bs_64_e_10_act_tanh_eta_0.005_init_random_hls_128_dataset_mnist_cross_entropy</strong> at: <a href='https://wandb.ai/cs24m021-iit-madras/DA6401_DL_Assignment1/runs/5xw0xf4h' target=\"_blank\">https://wandb.ai/cs24m021-iit-madras/DA6401_DL_Assignment1/runs/5xw0xf4h</a><br> View project at: <a href='https://wandb.ai/cs24m021-iit-madras/DA6401_DL_Assignment1' target=\"_blank\">https://wandb.ai/cs24m021-iit-madras/DA6401_DL_Assignment1</a><br>Synced 5 W&B file(s), 0 media file(s), 0 artifact file(s) and 0 other file(s)"
      ],
      "text/plain": [
       "<IPython.core.display.HTML object>"
      ]
     },
     "metadata": {},
     "output_type": "display_data"
    },
    {
     "data": {
      "text/html": [
       "Find logs at: <code>./wandb/run-20250311_141147-5xw0xf4h/logs</code>"
      ],
      "text/plain": [
       "<IPython.core.display.HTML object>"
      ]
     },
     "metadata": {},
     "output_type": "display_data"
    },
    {
     "name": "stderr",
     "output_type": "stream",
     "text": [
      "\u001b[34m\u001b[1mwandb\u001b[0m: Agent Starting Run: sn6fxiue with config:\n",
      "\u001b[34m\u001b[1mwandb\u001b[0m: \tactivation: ReLU\n",
      "\u001b[34m\u001b[1mwandb\u001b[0m: \thidden_layer_sizes: 64\n",
      "\u001b[34m\u001b[1mwandb\u001b[0m: \toptimizer: rmsprop\n"
     ]
    },
    {
     "data": {
      "text/html": [
       "Ignoring project 'DA6401_DL_Assignment1' when running a sweep."
      ],
      "text/plain": [
       "<IPython.core.display.HTML object>"
      ]
     },
     "metadata": {},
     "output_type": "display_data"
    },
    {
     "data": {
      "text/html": [
       "Tracking run with wandb version 0.19.8"
      ],
      "text/plain": [
       "<IPython.core.display.HTML object>"
      ]
     },
     "metadata": {},
     "output_type": "display_data"
    },
    {
     "data": {
      "text/html": [
       "Run data is saved locally in <code>/home/ubuntu/wandb/run-20250311_141251-sn6fxiue</code>"
      ],
      "text/plain": [
       "<IPython.core.display.HTML object>"
      ]
     },
     "metadata": {},
     "output_type": "display_data"
    },
    {
     "data": {
      "text/html": [
       "Syncing run <strong><a href='https://wandb.ai/cs24m021-iit-madras/DA6401_DL_Assignment1/runs/sn6fxiue' target=\"_blank\">pious-sweep-32</a></strong> to <a href='https://wandb.ai/cs24m021-iit-madras/DA6401_DL_Assignment1' target=\"_blank\">Weights & Biases</a> (<a href='https://wandb.me/developer-guide' target=\"_blank\">docs</a>)<br>Sweep page: <a href='https://wandb.ai/cs24m021-iit-madras/DA6401_DL_Assignment1/sweeps/jtj28a74' target=\"_blank\">https://wandb.ai/cs24m021-iit-madras/DA6401_DL_Assignment1/sweeps/jtj28a74</a>"
      ],
      "text/plain": [
       "<IPython.core.display.HTML object>"
      ]
     },
     "metadata": {},
     "output_type": "display_data"
    },
    {
     "data": {
      "text/html": [
       " View project at <a href='https://wandb.ai/cs24m021-iit-madras/DA6401_DL_Assignment1' target=\"_blank\">https://wandb.ai/cs24m021-iit-madras/DA6401_DL_Assignment1</a>"
      ],
      "text/plain": [
       "<IPython.core.display.HTML object>"
      ]
     },
     "metadata": {},
     "output_type": "display_data"
    },
    {
     "data": {
      "text/html": [
       " View sweep at <a href='https://wandb.ai/cs24m021-iit-madras/DA6401_DL_Assignment1/sweeps/jtj28a74' target=\"_blank\">https://wandb.ai/cs24m021-iit-madras/DA6401_DL_Assignment1/sweeps/jtj28a74</a>"
      ],
      "text/plain": [
       "<IPython.core.display.HTML object>"
      ]
     },
     "metadata": {},
     "output_type": "display_data"
    },
    {
     "data": {
      "text/html": [
       " View run at <a href='https://wandb.ai/cs24m021-iit-madras/DA6401_DL_Assignment1/runs/sn6fxiue' target=\"_blank\">https://wandb.ai/cs24m021-iit-madras/DA6401_DL_Assignment1/runs/sn6fxiue</a>"
      ],
      "text/plain": [
       "<IPython.core.display.HTML object>"
      ]
     },
     "metadata": {},
     "output_type": "display_data"
    },
    {
     "name": "stdout",
     "output_type": "stream",
     "text": [
      "Epoch 1: Train Loss=2.3286, Train Acc=14.96%, Val Loss=2.3670, Val Acc=15.18%\n",
      "Epoch 2: Train Loss=2.2370, Train Acc=14.59%, Val Loss=2.2951, Val Acc=14.75%\n",
      "Epoch 3: Train Loss=2.2084, Train Acc=15.02%, Val Loss=2.2473, Val Acc=15.10%\n",
      "Epoch 4: Train Loss=2.1779, Train Acc=17.06%, Val Loss=2.2030, Val Acc=17.22%\n",
      "Epoch 5: Train Loss=2.1295, Train Acc=19.69%, Val Loss=2.1464, Val Acc=19.45%\n",
      "Epoch 6: Train Loss=2.0462, Train Acc=22.06%, Val Loss=2.0567, Val Acc=21.70%\n",
      "Epoch 7: Train Loss=1.9547, Train Acc=24.55%, Val Loss=1.9896, Val Acc=24.52%\n",
      "Epoch 8: Train Loss=2.0080, Train Acc=22.03%, Val Loss=2.0118, Val Acc=22.22%\n",
      "Epoch 9: Train Loss=1.9477, Train Acc=23.91%, Val Loss=1.9856, Val Acc=23.90%\n",
      "Epoch 10: Train Loss=1.8839, Train Acc=25.93%, Val Loss=1.9035, Val Acc=26.13%\n",
      "Test Loss: 1.8854, Test Acc: 25.67%\n"
     ]
    },
    {
     "data": {
      "text/html": [],
      "text/plain": [
       "<IPython.core.display.HTML object>"
      ]
     },
     "metadata": {},
     "output_type": "display_data"
    },
    {
     "data": {
      "text/html": [
       "<br>    <style><br>        .wandb-row {<br>            display: flex;<br>            flex-direction: row;<br>            flex-wrap: wrap;<br>            justify-content: flex-start;<br>            width: 100%;<br>        }<br>        .wandb-col {<br>            display: flex;<br>            flex-direction: column;<br>            flex-basis: 100%;<br>            flex: 1;<br>            padding: 10px;<br>        }<br>    </style><br><div class=\"wandb-row\"><div class=\"wandb-col\"><h3>Run history:</h3><br/><table class=\"wandb\"><tr><td>epoch</td><td>▁▂▃▃▄▅▆▆▇█</td></tr><tr><td>test_accuracy</td><td>▁</td></tr><tr><td>train_acc</td><td>▁▁▁▃▄▆▇▆▇█</td></tr><tr><td>train_loss</td><td>█▇▆▆▅▄▂▃▂▁</td></tr><tr><td>val_acc</td><td>▁▁▁▃▄▅▇▆▇█</td></tr><tr><td>val_loss</td><td>█▇▆▆▅▃▂▃▂▁</td></tr></table><br/></div><div class=\"wandb-col\"><h3>Run summary:</h3><br/><table class=\"wandb\"><tr><td>epoch</td><td>10</td></tr><tr><td>test_accuracy</td><td>25.67</td></tr><tr><td>train_acc</td><td>25.93148</td></tr><tr><td>train_loss</td><td>1.88392</td></tr><tr><td>val_acc</td><td>26.13333</td></tr><tr><td>val_loss</td><td>1.90349</td></tr></table><br/></div></div>"
      ],
      "text/plain": [
       "<IPython.core.display.HTML object>"
      ]
     },
     "metadata": {},
     "output_type": "display_data"
    },
    {
     "data": {
      "text/html": [
       " View run <strong style=\"color:#cdcd00\">opt_rmsprop_hl_5_bs_64_e_10_act_ReLU_eta_0.005_init_random_hls_64_dataset_mnist_cross_entropy</strong> at: <a href='https://wandb.ai/cs24m021-iit-madras/DA6401_DL_Assignment1/runs/sn6fxiue' target=\"_blank\">https://wandb.ai/cs24m021-iit-madras/DA6401_DL_Assignment1/runs/sn6fxiue</a><br> View project at: <a href='https://wandb.ai/cs24m021-iit-madras/DA6401_DL_Assignment1' target=\"_blank\">https://wandb.ai/cs24m021-iit-madras/DA6401_DL_Assignment1</a><br>Synced 5 W&B file(s), 0 media file(s), 0 artifact file(s) and 0 other file(s)"
      ],
      "text/plain": [
       "<IPython.core.display.HTML object>"
      ]
     },
     "metadata": {},
     "output_type": "display_data"
    },
    {
     "data": {
      "text/html": [
       "Find logs at: <code>./wandb/run-20250311_141251-sn6fxiue/logs</code>"
      ],
      "text/plain": [
       "<IPython.core.display.HTML object>"
      ]
     },
     "metadata": {},
     "output_type": "display_data"
    },
    {
     "name": "stderr",
     "output_type": "stream",
     "text": [
      "\u001b[34m\u001b[1mwandb\u001b[0m: Agent Starting Run: 8ka20kt8 with config:\n",
      "\u001b[34m\u001b[1mwandb\u001b[0m: \tactivation: ReLU\n",
      "\u001b[34m\u001b[1mwandb\u001b[0m: \thidden_layer_sizes: 64\n",
      "\u001b[34m\u001b[1mwandb\u001b[0m: \toptimizer: adam\n"
     ]
    },
    {
     "data": {
      "text/html": [
       "Ignoring project 'DA6401_DL_Assignment1' when running a sweep."
      ],
      "text/plain": [
       "<IPython.core.display.HTML object>"
      ]
     },
     "metadata": {},
     "output_type": "display_data"
    },
    {
     "data": {
      "text/html": [
       "Tracking run with wandb version 0.19.8"
      ],
      "text/plain": [
       "<IPython.core.display.HTML object>"
      ]
     },
     "metadata": {},
     "output_type": "display_data"
    },
    {
     "data": {
      "text/html": [
       "Run data is saved locally in <code>/home/ubuntu/wandb/run-20250311_141323-8ka20kt8</code>"
      ],
      "text/plain": [
       "<IPython.core.display.HTML object>"
      ]
     },
     "metadata": {},
     "output_type": "display_data"
    },
    {
     "data": {
      "text/html": [
       "Syncing run <strong><a href='https://wandb.ai/cs24m021-iit-madras/DA6401_DL_Assignment1/runs/8ka20kt8' target=\"_blank\">happy-sweep-33</a></strong> to <a href='https://wandb.ai/cs24m021-iit-madras/DA6401_DL_Assignment1' target=\"_blank\">Weights & Biases</a> (<a href='https://wandb.me/developer-guide' target=\"_blank\">docs</a>)<br>Sweep page: <a href='https://wandb.ai/cs24m021-iit-madras/DA6401_DL_Assignment1/sweeps/jtj28a74' target=\"_blank\">https://wandb.ai/cs24m021-iit-madras/DA6401_DL_Assignment1/sweeps/jtj28a74</a>"
      ],
      "text/plain": [
       "<IPython.core.display.HTML object>"
      ]
     },
     "metadata": {},
     "output_type": "display_data"
    },
    {
     "data": {
      "text/html": [
       " View project at <a href='https://wandb.ai/cs24m021-iit-madras/DA6401_DL_Assignment1' target=\"_blank\">https://wandb.ai/cs24m021-iit-madras/DA6401_DL_Assignment1</a>"
      ],
      "text/plain": [
       "<IPython.core.display.HTML object>"
      ]
     },
     "metadata": {},
     "output_type": "display_data"
    },
    {
     "data": {
      "text/html": [
       " View sweep at <a href='https://wandb.ai/cs24m021-iit-madras/DA6401_DL_Assignment1/sweeps/jtj28a74' target=\"_blank\">https://wandb.ai/cs24m021-iit-madras/DA6401_DL_Assignment1/sweeps/jtj28a74</a>"
      ],
      "text/plain": [
       "<IPython.core.display.HTML object>"
      ]
     },
     "metadata": {},
     "output_type": "display_data"
    },
    {
     "data": {
      "text/html": [
       " View run at <a href='https://wandb.ai/cs24m021-iit-madras/DA6401_DL_Assignment1/runs/8ka20kt8' target=\"_blank\">https://wandb.ai/cs24m021-iit-madras/DA6401_DL_Assignment1/runs/8ka20kt8</a>"
      ],
      "text/plain": [
       "<IPython.core.display.HTML object>"
      ]
     },
     "metadata": {},
     "output_type": "display_data"
    },
    {
     "name": "stdout",
     "output_type": "stream",
     "text": [
      "Epoch 1: Train Loss=9.1010, Train Acc=73.11%, Val Loss=9.5776, Val Acc=71.68%\n",
      "Epoch 2: Train Loss=8.1298, Train Acc=75.25%, Val Loss=8.5413, Val Acc=73.90%\n",
      "Epoch 3: Train Loss=6.8750, Train Acc=78.42%, Val Loss=7.2208, Val Acc=77.58%\n",
      "Epoch 4: Train Loss=6.0468, Train Acc=79.87%, Val Loss=6.6849, Val Acc=77.90%\n",
      "Epoch 5: Train Loss=5.3651, Train Acc=80.93%, Val Loss=5.9630, Val Acc=79.13%\n",
      "Epoch 6: Train Loss=4.5468, Train Acc=82.21%, Val Loss=5.1635, Val Acc=80.23%\n",
      "Epoch 7: Train Loss=3.9058, Train Acc=82.13%, Val Loss=4.5540, Val Acc=79.88%\n",
      "Epoch 8: Train Loss=3.4744, Train Acc=81.89%, Val Loss=4.0139, Val Acc=80.18%\n",
      "Epoch 9: Train Loss=2.6352, Train Acc=82.45%, Val Loss=3.1453, Val Acc=80.83%\n",
      "Epoch 10: Train Loss=1.9961, Train Acc=82.44%, Val Loss=2.4254, Val Acc=80.60%\n",
      "Test Loss: 2.2005, Test Acc: 82.22%\n"
     ]
    },
    {
     "data": {
      "text/html": [],
      "text/plain": [
       "<IPython.core.display.HTML object>"
      ]
     },
     "metadata": {},
     "output_type": "display_data"
    },
    {
     "data": {
      "text/html": [
       "<br>    <style><br>        .wandb-row {<br>            display: flex;<br>            flex-direction: row;<br>            flex-wrap: wrap;<br>            justify-content: flex-start;<br>            width: 100%;<br>        }<br>        .wandb-col {<br>            display: flex;<br>            flex-direction: column;<br>            flex-basis: 100%;<br>            flex: 1;<br>            padding: 10px;<br>        }<br>    </style><br><div class=\"wandb-row\"><div class=\"wandb-col\"><h3>Run history:</h3><br/><table class=\"wandb\"><tr><td>epoch</td><td>▁▂▃▃▄▅▆▆▇█</td></tr><tr><td>test_accuracy</td><td>▁</td></tr><tr><td>train_acc</td><td>▁▃▅▆▇█████</td></tr><tr><td>train_loss</td><td>█▇▆▅▄▄▃▂▂▁</td></tr><tr><td>val_acc</td><td>▁▃▆▆▇█▇███</td></tr><tr><td>val_loss</td><td>█▇▆▅▄▄▃▃▂▁</td></tr></table><br/></div><div class=\"wandb-col\"><h3>Run summary:</h3><br/><table class=\"wandb\"><tr><td>epoch</td><td>10</td></tr><tr><td>test_accuracy</td><td>82.22</td></tr><tr><td>train_acc</td><td>82.43519</td></tr><tr><td>train_loss</td><td>1.99608</td></tr><tr><td>val_acc</td><td>80.6</td></tr><tr><td>val_loss</td><td>2.42537</td></tr></table><br/></div></div>"
      ],
      "text/plain": [
       "<IPython.core.display.HTML object>"
      ]
     },
     "metadata": {},
     "output_type": "display_data"
    },
    {
     "data": {
      "text/html": [
       " View run <strong style=\"color:#cdcd00\">opt_adam_hl_5_bs_64_e_10_act_ReLU_eta_0.005_init_random_hls_64_dataset_mnist_cross_entropy</strong> at: <a href='https://wandb.ai/cs24m021-iit-madras/DA6401_DL_Assignment1/runs/8ka20kt8' target=\"_blank\">https://wandb.ai/cs24m021-iit-madras/DA6401_DL_Assignment1/runs/8ka20kt8</a><br> View project at: <a href='https://wandb.ai/cs24m021-iit-madras/DA6401_DL_Assignment1' target=\"_blank\">https://wandb.ai/cs24m021-iit-madras/DA6401_DL_Assignment1</a><br>Synced 5 W&B file(s), 0 media file(s), 0 artifact file(s) and 0 other file(s)"
      ],
      "text/plain": [
       "<IPython.core.display.HTML object>"
      ]
     },
     "metadata": {},
     "output_type": "display_data"
    },
    {
     "data": {
      "text/html": [
       "Find logs at: <code>./wandb/run-20250311_141323-8ka20kt8/logs</code>"
      ],
      "text/plain": [
       "<IPython.core.display.HTML object>"
      ]
     },
     "metadata": {},
     "output_type": "display_data"
    },
    {
     "name": "stderr",
     "output_type": "stream",
     "text": [
      "\u001b[34m\u001b[1mwandb\u001b[0m: Agent Starting Run: j0vdj26t with config:\n",
      "\u001b[34m\u001b[1mwandb\u001b[0m: \tactivation: sigmoid\n",
      "\u001b[34m\u001b[1mwandb\u001b[0m: \thidden_layer_sizes: 128\n",
      "\u001b[34m\u001b[1mwandb\u001b[0m: \toptimizer: nesterov\n"
     ]
    },
    {
     "data": {
      "text/html": [
       "Ignoring project 'DA6401_DL_Assignment1' when running a sweep."
      ],
      "text/plain": [
       "<IPython.core.display.HTML object>"
      ]
     },
     "metadata": {},
     "output_type": "display_data"
    },
    {
     "data": {
      "text/html": [
       "Tracking run with wandb version 0.19.8"
      ],
      "text/plain": [
       "<IPython.core.display.HTML object>"
      ]
     },
     "metadata": {},
     "output_type": "display_data"
    },
    {
     "data": {
      "text/html": [
       "Run data is saved locally in <code>/home/ubuntu/wandb/run-20250311_141400-j0vdj26t</code>"
      ],
      "text/plain": [
       "<IPython.core.display.HTML object>"
      ]
     },
     "metadata": {},
     "output_type": "display_data"
    },
    {
     "data": {
      "text/html": [
       "Syncing run <strong><a href='https://wandb.ai/cs24m021-iit-madras/DA6401_DL_Assignment1/runs/j0vdj26t' target=\"_blank\">pretty-sweep-34</a></strong> to <a href='https://wandb.ai/cs24m021-iit-madras/DA6401_DL_Assignment1' target=\"_blank\">Weights & Biases</a> (<a href='https://wandb.me/developer-guide' target=\"_blank\">docs</a>)<br>Sweep page: <a href='https://wandb.ai/cs24m021-iit-madras/DA6401_DL_Assignment1/sweeps/jtj28a74' target=\"_blank\">https://wandb.ai/cs24m021-iit-madras/DA6401_DL_Assignment1/sweeps/jtj28a74</a>"
      ],
      "text/plain": [
       "<IPython.core.display.HTML object>"
      ]
     },
     "metadata": {},
     "output_type": "display_data"
    },
    {
     "data": {
      "text/html": [
       " View project at <a href='https://wandb.ai/cs24m021-iit-madras/DA6401_DL_Assignment1' target=\"_blank\">https://wandb.ai/cs24m021-iit-madras/DA6401_DL_Assignment1</a>"
      ],
      "text/plain": [
       "<IPython.core.display.HTML object>"
      ]
     },
     "metadata": {},
     "output_type": "display_data"
    },
    {
     "data": {
      "text/html": [
       " View sweep at <a href='https://wandb.ai/cs24m021-iit-madras/DA6401_DL_Assignment1/sweeps/jtj28a74' target=\"_blank\">https://wandb.ai/cs24m021-iit-madras/DA6401_DL_Assignment1/sweeps/jtj28a74</a>"
      ],
      "text/plain": [
       "<IPython.core.display.HTML object>"
      ]
     },
     "metadata": {},
     "output_type": "display_data"
    },
    {
     "data": {
      "text/html": [
       " View run at <a href='https://wandb.ai/cs24m021-iit-madras/DA6401_DL_Assignment1/runs/j0vdj26t' target=\"_blank\">https://wandb.ai/cs24m021-iit-madras/DA6401_DL_Assignment1/runs/j0vdj26t</a>"
      ],
      "text/plain": [
       "<IPython.core.display.HTML object>"
      ]
     },
     "metadata": {},
     "output_type": "display_data"
    },
    {
     "name": "stdout",
     "output_type": "stream",
     "text": [
      "Epoch 1: Train Loss=1.1504, Train Acc=61.24%, Val Loss=1.1502, Val Acc=60.03%\n",
      "Epoch 2: Train Loss=0.8328, Train Acc=72.83%, Val Loss=0.8488, Val Acc=71.75%\n",
      "Epoch 3: Train Loss=0.6862, Train Acc=78.03%, Val Loss=0.7108, Val Acc=76.90%\n",
      "Epoch 4: Train Loss=0.5938, Train Acc=81.34%, Val Loss=0.6232, Val Acc=79.95%\n",
      "Epoch 5: Train Loss=0.5279, Train Acc=83.62%, Val Loss=0.5605, Val Acc=82.02%\n",
      "Epoch 6: Train Loss=0.4780, Train Acc=85.27%, Val Loss=0.5132, Val Acc=83.63%\n",
      "Epoch 7: Train Loss=0.4387, Train Acc=86.44%, Val Loss=0.4760, Val Acc=85.02%\n",
      "Epoch 8: Train Loss=0.4067, Train Acc=87.46%, Val Loss=0.4456, Val Acc=86.00%\n",
      "Epoch 9: Train Loss=0.3799, Train Acc=88.35%, Val Loss=0.4201, Val Acc=86.90%\n",
      "Epoch 10: Train Loss=0.3571, Train Acc=89.09%, Val Loss=0.3984, Val Acc=87.75%\n",
      "Test Loss: 0.3857, Test Acc: 88.13%\n"
     ]
    },
    {
     "data": {
      "text/html": [],
      "text/plain": [
       "<IPython.core.display.HTML object>"
      ]
     },
     "metadata": {},
     "output_type": "display_data"
    },
    {
     "data": {
      "text/html": [
       "<br>    <style><br>        .wandb-row {<br>            display: flex;<br>            flex-direction: row;<br>            flex-wrap: wrap;<br>            justify-content: flex-start;<br>            width: 100%;<br>        }<br>        .wandb-col {<br>            display: flex;<br>            flex-direction: column;<br>            flex-basis: 100%;<br>            flex: 1;<br>            padding: 10px;<br>        }<br>    </style><br><div class=\"wandb-row\"><div class=\"wandb-col\"><h3>Run history:</h3><br/><table class=\"wandb\"><tr><td>epoch</td><td>▁▂▃▃▄▅▆▆▇█</td></tr><tr><td>test_accuracy</td><td>▁</td></tr><tr><td>train_acc</td><td>▁▄▅▆▇▇▇███</td></tr><tr><td>train_loss</td><td>█▅▄▃▃▂▂▁▁▁</td></tr><tr><td>val_acc</td><td>▁▄▅▆▇▇▇███</td></tr><tr><td>val_loss</td><td>█▅▄▃▃▂▂▁▁▁</td></tr></table><br/></div><div class=\"wandb-col\"><h3>Run summary:</h3><br/><table class=\"wandb\"><tr><td>epoch</td><td>10</td></tr><tr><td>test_accuracy</td><td>88.13</td></tr><tr><td>train_acc</td><td>89.09259</td></tr><tr><td>train_loss</td><td>0.35706</td></tr><tr><td>val_acc</td><td>87.75</td></tr><tr><td>val_loss</td><td>0.39835</td></tr></table><br/></div></div>"
      ],
      "text/plain": [
       "<IPython.core.display.HTML object>"
      ]
     },
     "metadata": {},
     "output_type": "display_data"
    },
    {
     "data": {
      "text/html": [
       " View run <strong style=\"color:#cdcd00\">opt_nesterov_hl_5_bs_64_e_10_act_sigmoid_eta_0.005_init_random_hls_128_dataset_mnist_cross_entropy</strong> at: <a href='https://wandb.ai/cs24m021-iit-madras/DA6401_DL_Assignment1/runs/j0vdj26t' target=\"_blank\">https://wandb.ai/cs24m021-iit-madras/DA6401_DL_Assignment1/runs/j0vdj26t</a><br> View project at: <a href='https://wandb.ai/cs24m021-iit-madras/DA6401_DL_Assignment1' target=\"_blank\">https://wandb.ai/cs24m021-iit-madras/DA6401_DL_Assignment1</a><br>Synced 5 W&B file(s), 0 media file(s), 0 artifact file(s) and 0 other file(s)"
      ],
      "text/plain": [
       "<IPython.core.display.HTML object>"
      ]
     },
     "metadata": {},
     "output_type": "display_data"
    },
    {
     "data": {
      "text/html": [
       "Find logs at: <code>./wandb/run-20250311_141400-j0vdj26t/logs</code>"
      ],
      "text/plain": [
       "<IPython.core.display.HTML object>"
      ]
     },
     "metadata": {},
     "output_type": "display_data"
    },
    {
     "name": "stderr",
     "output_type": "stream",
     "text": [
      "\u001b[34m\u001b[1mwandb\u001b[0m: Agent Starting Run: rxr2ufga with config:\n",
      "\u001b[34m\u001b[1mwandb\u001b[0m: \tactivation: ReLU\n",
      "\u001b[34m\u001b[1mwandb\u001b[0m: \thidden_layer_sizes: 32\n",
      "\u001b[34m\u001b[1mwandb\u001b[0m: \toptimizer: rmsprop\n"
     ]
    },
    {
     "data": {
      "text/html": [
       "Ignoring project 'DA6401_DL_Assignment1' when running a sweep."
      ],
      "text/plain": [
       "<IPython.core.display.HTML object>"
      ]
     },
     "metadata": {},
     "output_type": "display_data"
    },
    {
     "data": {
      "text/html": [
       "Tracking run with wandb version 0.19.8"
      ],
      "text/plain": [
       "<IPython.core.display.HTML object>"
      ]
     },
     "metadata": {},
     "output_type": "display_data"
    },
    {
     "data": {
      "text/html": [
       "Run data is saved locally in <code>/home/ubuntu/wandb/run-20250311_141541-rxr2ufga</code>"
      ],
      "text/plain": [
       "<IPython.core.display.HTML object>"
      ]
     },
     "metadata": {},
     "output_type": "display_data"
    },
    {
     "data": {
      "text/html": [
       "Syncing run <strong><a href='https://wandb.ai/cs24m021-iit-madras/DA6401_DL_Assignment1/runs/rxr2ufga' target=\"_blank\">breezy-sweep-35</a></strong> to <a href='https://wandb.ai/cs24m021-iit-madras/DA6401_DL_Assignment1' target=\"_blank\">Weights & Biases</a> (<a href='https://wandb.me/developer-guide' target=\"_blank\">docs</a>)<br>Sweep page: <a href='https://wandb.ai/cs24m021-iit-madras/DA6401_DL_Assignment1/sweeps/jtj28a74' target=\"_blank\">https://wandb.ai/cs24m021-iit-madras/DA6401_DL_Assignment1/sweeps/jtj28a74</a>"
      ],
      "text/plain": [
       "<IPython.core.display.HTML object>"
      ]
     },
     "metadata": {},
     "output_type": "display_data"
    },
    {
     "data": {
      "text/html": [
       " View project at <a href='https://wandb.ai/cs24m021-iit-madras/DA6401_DL_Assignment1' target=\"_blank\">https://wandb.ai/cs24m021-iit-madras/DA6401_DL_Assignment1</a>"
      ],
      "text/plain": [
       "<IPython.core.display.HTML object>"
      ]
     },
     "metadata": {},
     "output_type": "display_data"
    },
    {
     "data": {
      "text/html": [
       " View sweep at <a href='https://wandb.ai/cs24m021-iit-madras/DA6401_DL_Assignment1/sweeps/jtj28a74' target=\"_blank\">https://wandb.ai/cs24m021-iit-madras/DA6401_DL_Assignment1/sweeps/jtj28a74</a>"
      ],
      "text/plain": [
       "<IPython.core.display.HTML object>"
      ]
     },
     "metadata": {},
     "output_type": "display_data"
    },
    {
     "data": {
      "text/html": [
       " View run at <a href='https://wandb.ai/cs24m021-iit-madras/DA6401_DL_Assignment1/runs/rxr2ufga' target=\"_blank\">https://wandb.ai/cs24m021-iit-madras/DA6401_DL_Assignment1/runs/rxr2ufga</a>"
      ],
      "text/plain": [
       "<IPython.core.display.HTML object>"
      ]
     },
     "metadata": {},
     "output_type": "display_data"
    },
    {
     "name": "stdout",
     "output_type": "stream",
     "text": [
      "Epoch 1: Train Loss=2.3010, Train Acc=11.38%, Val Loss=2.2967, Val Acc=11.10%\n",
      "Epoch 2: Train Loss=2.2752, Train Acc=11.66%, Val Loss=2.2788, Val Acc=12.00%\n",
      "Epoch 3: Train Loss=2.2638, Train Acc=12.08%, Val Loss=2.2743, Val Acc=11.68%\n",
      "Epoch 4: Train Loss=2.2572, Train Acc=11.99%, Val Loss=2.2592, Val Acc=12.32%\n",
      "Epoch 5: Train Loss=2.2370, Train Acc=12.88%, Val Loss=2.2531, Val Acc=13.12%\n",
      "Epoch 6: Train Loss=2.2346, Train Acc=12.90%, Val Loss=2.2505, Val Acc=13.15%\n",
      "Epoch 7: Train Loss=2.2554, Train Acc=11.91%, Val Loss=2.2509, Val Acc=12.23%\n",
      "Epoch 8: Train Loss=2.1934, Train Acc=14.60%, Val Loss=2.2035, Val Acc=14.32%\n",
      "Epoch 9: Train Loss=2.2923, Train Acc=11.23%, Val Loss=2.2931, Val Acc=11.05%\n",
      "Epoch 10: Train Loss=2.2634, Train Acc=11.55%, Val Loss=2.2580, Val Acc=11.93%\n",
      "Test Loss: 2.2579, Test Acc: 11.87%\n"
     ]
    },
    {
     "data": {
      "text/html": [],
      "text/plain": [
       "<IPython.core.display.HTML object>"
      ]
     },
     "metadata": {},
     "output_type": "display_data"
    },
    {
     "data": {
      "text/html": [
       "<br>    <style><br>        .wandb-row {<br>            display: flex;<br>            flex-direction: row;<br>            flex-wrap: wrap;<br>            justify-content: flex-start;<br>            width: 100%;<br>        }<br>        .wandb-col {<br>            display: flex;<br>            flex-direction: column;<br>            flex-basis: 100%;<br>            flex: 1;<br>            padding: 10px;<br>        }<br>    </style><br><div class=\"wandb-row\"><div class=\"wandb-col\"><h3>Run history:</h3><br/><table class=\"wandb\"><tr><td>epoch</td><td>▁▂▃▃▄▅▆▆▇█</td></tr><tr><td>test_accuracy</td><td>▁</td></tr><tr><td>train_acc</td><td>▁▂▃▃▄▄▂█▁▂</td></tr><tr><td>train_loss</td><td>█▆▆▅▄▄▅▁▇▆</td></tr><tr><td>val_acc</td><td>▁▃▂▄▅▅▄█▁▃</td></tr><tr><td>val_loss</td><td>█▇▆▅▅▅▅▁█▅</td></tr></table><br/></div><div class=\"wandb-col\"><h3>Run summary:</h3><br/><table class=\"wandb\"><tr><td>epoch</td><td>10</td></tr><tr><td>test_accuracy</td><td>11.87</td></tr><tr><td>train_acc</td><td>11.5463</td></tr><tr><td>train_loss</td><td>2.26344</td></tr><tr><td>val_acc</td><td>11.93333</td></tr><tr><td>val_loss</td><td>2.25803</td></tr></table><br/></div></div>"
      ],
      "text/plain": [
       "<IPython.core.display.HTML object>"
      ]
     },
     "metadata": {},
     "output_type": "display_data"
    },
    {
     "data": {
      "text/html": [
       " View run <strong style=\"color:#cdcd00\">opt_rmsprop_hl_5_bs_64_e_10_act_ReLU_eta_0.005_init_random_hls_32_dataset_mnist_cross_entropy</strong> at: <a href='https://wandb.ai/cs24m021-iit-madras/DA6401_DL_Assignment1/runs/rxr2ufga' target=\"_blank\">https://wandb.ai/cs24m021-iit-madras/DA6401_DL_Assignment1/runs/rxr2ufga</a><br> View project at: <a href='https://wandb.ai/cs24m021-iit-madras/DA6401_DL_Assignment1' target=\"_blank\">https://wandb.ai/cs24m021-iit-madras/DA6401_DL_Assignment1</a><br>Synced 5 W&B file(s), 0 media file(s), 0 artifact file(s) and 0 other file(s)"
      ],
      "text/plain": [
       "<IPython.core.display.HTML object>"
      ]
     },
     "metadata": {},
     "output_type": "display_data"
    },
    {
     "data": {
      "text/html": [
       "Find logs at: <code>./wandb/run-20250311_141541-rxr2ufga/logs</code>"
      ],
      "text/plain": [
       "<IPython.core.display.HTML object>"
      ]
     },
     "metadata": {},
     "output_type": "display_data"
    },
    {
     "name": "stderr",
     "output_type": "stream",
     "text": [
      "\u001b[34m\u001b[1mwandb\u001b[0m: Sweep Agent: Waiting for job.\n",
      "\u001b[34m\u001b[1mwandb\u001b[0m: Job received.\n",
      "\u001b[34m\u001b[1mwandb\u001b[0m: Agent Starting Run: 11byq58f with config:\n",
      "\u001b[34m\u001b[1mwandb\u001b[0m: \tactivation: ReLU\n",
      "\u001b[34m\u001b[1mwandb\u001b[0m: \thidden_layer_sizes: 32\n",
      "\u001b[34m\u001b[1mwandb\u001b[0m: \toptimizer: sgd\n"
     ]
    },
    {
     "data": {
      "text/html": [
       "Ignoring project 'DA6401_DL_Assignment1' when running a sweep."
      ],
      "text/plain": [
       "<IPython.core.display.HTML object>"
      ]
     },
     "metadata": {},
     "output_type": "display_data"
    },
    {
     "data": {
      "text/html": [
       "Tracking run with wandb version 0.19.8"
      ],
      "text/plain": [
       "<IPython.core.display.HTML object>"
      ]
     },
     "metadata": {},
     "output_type": "display_data"
    },
    {
     "data": {
      "text/html": [
       "Run data is saved locally in <code>/home/ubuntu/wandb/run-20250311_141608-11byq58f</code>"
      ],
      "text/plain": [
       "<IPython.core.display.HTML object>"
      ]
     },
     "metadata": {},
     "output_type": "display_data"
    },
    {
     "data": {
      "text/html": [
       "Syncing run <strong><a href='https://wandb.ai/cs24m021-iit-madras/DA6401_DL_Assignment1/runs/11byq58f' target=\"_blank\">earthy-sweep-36</a></strong> to <a href='https://wandb.ai/cs24m021-iit-madras/DA6401_DL_Assignment1' target=\"_blank\">Weights & Biases</a> (<a href='https://wandb.me/developer-guide' target=\"_blank\">docs</a>)<br>Sweep page: <a href='https://wandb.ai/cs24m021-iit-madras/DA6401_DL_Assignment1/sweeps/jtj28a74' target=\"_blank\">https://wandb.ai/cs24m021-iit-madras/DA6401_DL_Assignment1/sweeps/jtj28a74</a>"
      ],
      "text/plain": [
       "<IPython.core.display.HTML object>"
      ]
     },
     "metadata": {},
     "output_type": "display_data"
    },
    {
     "data": {
      "text/html": [
       " View project at <a href='https://wandb.ai/cs24m021-iit-madras/DA6401_DL_Assignment1' target=\"_blank\">https://wandb.ai/cs24m021-iit-madras/DA6401_DL_Assignment1</a>"
      ],
      "text/plain": [
       "<IPython.core.display.HTML object>"
      ]
     },
     "metadata": {},
     "output_type": "display_data"
    },
    {
     "data": {
      "text/html": [
       " View sweep at <a href='https://wandb.ai/cs24m021-iit-madras/DA6401_DL_Assignment1/sweeps/jtj28a74' target=\"_blank\">https://wandb.ai/cs24m021-iit-madras/DA6401_DL_Assignment1/sweeps/jtj28a74</a>"
      ],
      "text/plain": [
       "<IPython.core.display.HTML object>"
      ]
     },
     "metadata": {},
     "output_type": "display_data"
    },
    {
     "data": {
      "text/html": [
       " View run at <a href='https://wandb.ai/cs24m021-iit-madras/DA6401_DL_Assignment1/runs/11byq58f' target=\"_blank\">https://wandb.ai/cs24m021-iit-madras/DA6401_DL_Assignment1/runs/11byq58f</a>"
      ],
      "text/plain": [
       "<IPython.core.display.HTML object>"
      ]
     },
     "metadata": {},
     "output_type": "display_data"
    },
    {
     "name": "stderr",
     "output_type": "stream",
     "text": [
      "/tmp/ipykernel_17767/4278465179.py:61: RuntimeWarning: overflow encountered in matmul\n",
      "  linear_output = self.h[layer-1] @ self.weights[layer]\n"
     ]
    },
    {
     "name": "stdout",
     "output_type": "stream",
     "text": [
      "Epoch 1: Train Loss=nan, Train Acc=9.88%, Val Loss=nan, Val Acc=9.82%\n",
      "Epoch 2: Train Loss=nan, Train Acc=9.88%, Val Loss=nan, Val Acc=9.82%\n",
      "Epoch 3: Train Loss=nan, Train Acc=9.88%, Val Loss=nan, Val Acc=9.82%\n",
      "Epoch 4: Train Loss=nan, Train Acc=9.88%, Val Loss=nan, Val Acc=9.82%\n",
      "Epoch 5: Train Loss=nan, Train Acc=9.88%, Val Loss=nan, Val Acc=9.82%\n",
      "Epoch 6: Train Loss=nan, Train Acc=9.88%, Val Loss=nan, Val Acc=9.82%\n",
      "Epoch 7: Train Loss=nan, Train Acc=9.88%, Val Loss=nan, Val Acc=9.82%\n",
      "Epoch 8: Train Loss=nan, Train Acc=9.88%, Val Loss=nan, Val Acc=9.82%\n",
      "Epoch 9: Train Loss=nan, Train Acc=9.88%, Val Loss=nan, Val Acc=9.82%\n",
      "Epoch 10: Train Loss=nan, Train Acc=9.88%, Val Loss=nan, Val Acc=9.82%\n",
      "Test Loss: nan, Test Acc: 9.80%\n"
     ]
    },
    {
     "data": {
      "text/html": [],
      "text/plain": [
       "<IPython.core.display.HTML object>"
      ]
     },
     "metadata": {},
     "output_type": "display_data"
    },
    {
     "data": {
      "text/html": [
       "<br>    <style><br>        .wandb-row {<br>            display: flex;<br>            flex-direction: row;<br>            flex-wrap: wrap;<br>            justify-content: flex-start;<br>            width: 100%;<br>        }<br>        .wandb-col {<br>            display: flex;<br>            flex-direction: column;<br>            flex-basis: 100%;<br>            flex: 1;<br>            padding: 10px;<br>        }<br>    </style><br><div class=\"wandb-row\"><div class=\"wandb-col\"><h3>Run history:</h3><br/><table class=\"wandb\"><tr><td>epoch</td><td>▁▂▃▃▄▅▆▆▇█</td></tr><tr><td>test_accuracy</td><td>▁</td></tr><tr><td>train_acc</td><td>▁▁▁▁▁▁▁▁▁▁</td></tr><tr><td>val_acc</td><td>▁▁▁▁▁▁▁▁▁▁</td></tr></table><br/></div><div class=\"wandb-col\"><h3>Run summary:</h3><br/><table class=\"wandb\"><tr><td>epoch</td><td>10</td></tr><tr><td>test_accuracy</td><td>9.8</td></tr><tr><td>train_acc</td><td>9.87778</td></tr><tr><td>train_loss</td><td>nan</td></tr><tr><td>val_acc</td><td>9.81667</td></tr><tr><td>val_loss</td><td>nan</td></tr></table><br/></div></div>"
      ],
      "text/plain": [
       "<IPython.core.display.HTML object>"
      ]
     },
     "metadata": {},
     "output_type": "display_data"
    },
    {
     "data": {
      "text/html": [
       " View run <strong style=\"color:#cdcd00\">opt_sgd_hl_5_bs_64_e_10_act_ReLU_eta_0.005_init_random_hls_32_dataset_mnist_cross_entropy</strong> at: <a href='https://wandb.ai/cs24m021-iit-madras/DA6401_DL_Assignment1/runs/11byq58f' target=\"_blank\">https://wandb.ai/cs24m021-iit-madras/DA6401_DL_Assignment1/runs/11byq58f</a><br> View project at: <a href='https://wandb.ai/cs24m021-iit-madras/DA6401_DL_Assignment1' target=\"_blank\">https://wandb.ai/cs24m021-iit-madras/DA6401_DL_Assignment1</a><br>Synced 5 W&B file(s), 0 media file(s), 0 artifact file(s) and 0 other file(s)"
      ],
      "text/plain": [
       "<IPython.core.display.HTML object>"
      ]
     },
     "metadata": {},
     "output_type": "display_data"
    },
    {
     "data": {
      "text/html": [
       "Find logs at: <code>./wandb/run-20250311_141608-11byq58f/logs</code>"
      ],
      "text/plain": [
       "<IPython.core.display.HTML object>"
      ]
     },
     "metadata": {},
     "output_type": "display_data"
    },
    {
     "name": "stderr",
     "output_type": "stream",
     "text": [
      "\u001b[34m\u001b[1mwandb\u001b[0m: Agent Starting Run: 5a6zhagq with config:\n",
      "\u001b[34m\u001b[1mwandb\u001b[0m: \tactivation: tanh\n",
      "\u001b[34m\u001b[1mwandb\u001b[0m: \thidden_layer_sizes: 64\n",
      "\u001b[34m\u001b[1mwandb\u001b[0m: \toptimizer: momentum\n"
     ]
    },
    {
     "data": {
      "text/html": [
       "Ignoring project 'DA6401_DL_Assignment1' when running a sweep."
      ],
      "text/plain": [
       "<IPython.core.display.HTML object>"
      ]
     },
     "metadata": {},
     "output_type": "display_data"
    },
    {
     "data": {
      "text/html": [
       "Tracking run with wandb version 0.19.8"
      ],
      "text/plain": [
       "<IPython.core.display.HTML object>"
      ]
     },
     "metadata": {},
     "output_type": "display_data"
    },
    {
     "data": {
      "text/html": [
       "Run data is saved locally in <code>/home/ubuntu/wandb/run-20250311_141624-5a6zhagq</code>"
      ],
      "text/plain": [
       "<IPython.core.display.HTML object>"
      ]
     },
     "metadata": {},
     "output_type": "display_data"
    },
    {
     "data": {
      "text/html": [
       "Syncing run <strong><a href='https://wandb.ai/cs24m021-iit-madras/DA6401_DL_Assignment1/runs/5a6zhagq' target=\"_blank\">driven-sweep-37</a></strong> to <a href='https://wandb.ai/cs24m021-iit-madras/DA6401_DL_Assignment1' target=\"_blank\">Weights & Biases</a> (<a href='https://wandb.me/developer-guide' target=\"_blank\">docs</a>)<br>Sweep page: <a href='https://wandb.ai/cs24m021-iit-madras/DA6401_DL_Assignment1/sweeps/jtj28a74' target=\"_blank\">https://wandb.ai/cs24m021-iit-madras/DA6401_DL_Assignment1/sweeps/jtj28a74</a>"
      ],
      "text/plain": [
       "<IPython.core.display.HTML object>"
      ]
     },
     "metadata": {},
     "output_type": "display_data"
    },
    {
     "data": {
      "text/html": [
       " View project at <a href='https://wandb.ai/cs24m021-iit-madras/DA6401_DL_Assignment1' target=\"_blank\">https://wandb.ai/cs24m021-iit-madras/DA6401_DL_Assignment1</a>"
      ],
      "text/plain": [
       "<IPython.core.display.HTML object>"
      ]
     },
     "metadata": {},
     "output_type": "display_data"
    },
    {
     "data": {
      "text/html": [
       " View sweep at <a href='https://wandb.ai/cs24m021-iit-madras/DA6401_DL_Assignment1/sweeps/jtj28a74' target=\"_blank\">https://wandb.ai/cs24m021-iit-madras/DA6401_DL_Assignment1/sweeps/jtj28a74</a>"
      ],
      "text/plain": [
       "<IPython.core.display.HTML object>"
      ]
     },
     "metadata": {},
     "output_type": "display_data"
    },
    {
     "data": {
      "text/html": [
       " View run at <a href='https://wandb.ai/cs24m021-iit-madras/DA6401_DL_Assignment1/runs/5a6zhagq' target=\"_blank\">https://wandb.ai/cs24m021-iit-madras/DA6401_DL_Assignment1/runs/5a6zhagq</a>"
      ],
      "text/plain": [
       "<IPython.core.display.HTML object>"
      ]
     },
     "metadata": {},
     "output_type": "display_data"
    },
    {
     "name": "stdout",
     "output_type": "stream",
     "text": [
      "Epoch 1: Train Loss=1.8622, Train Acc=31.40%, Val Loss=1.8775, Val Acc=31.13%\n",
      "Epoch 2: Train Loss=1.6026, Train Acc=41.65%, Val Loss=1.6193, Val Acc=41.65%\n",
      "Epoch 3: Train Loss=1.3741, Train Acc=52.00%, Val Loss=1.3788, Val Acc=52.05%\n",
      "Epoch 4: Train Loss=1.2244, Train Acc=58.20%, Val Loss=1.2267, Val Acc=58.45%\n",
      "Epoch 5: Train Loss=1.1039, Train Acc=63.06%, Val Loss=1.1253, Val Acc=61.95%\n",
      "Epoch 6: Train Loss=1.0105, Train Acc=67.46%, Val Loss=1.0526, Val Acc=66.47%\n",
      "Epoch 7: Train Loss=0.9086, Train Acc=71.52%, Val Loss=0.9459, Val Acc=71.47%\n",
      "Epoch 8: Train Loss=0.8372, Train Acc=74.38%, Val Loss=0.8674, Val Acc=73.52%\n",
      "Epoch 9: Train Loss=0.7645, Train Acc=77.05%, Val Loss=0.7949, Val Acc=76.45%\n",
      "Epoch 10: Train Loss=0.7098, Train Acc=78.79%, Val Loss=0.7509, Val Acc=77.78%\n",
      "Test Loss: 0.7234, Test Acc: 79.33%\n"
     ]
    },
    {
     "data": {
      "text/html": [],
      "text/plain": [
       "<IPython.core.display.HTML object>"
      ]
     },
     "metadata": {},
     "output_type": "display_data"
    },
    {
     "data": {
      "text/html": [
       "<br>    <style><br>        .wandb-row {<br>            display: flex;<br>            flex-direction: row;<br>            flex-wrap: wrap;<br>            justify-content: flex-start;<br>            width: 100%;<br>        }<br>        .wandb-col {<br>            display: flex;<br>            flex-direction: column;<br>            flex-basis: 100%;<br>            flex: 1;<br>            padding: 10px;<br>        }<br>    </style><br><div class=\"wandb-row\"><div class=\"wandb-col\"><h3>Run history:</h3><br/><table class=\"wandb\"><tr><td>epoch</td><td>▁▂▃▃▄▅▆▆▇█</td></tr><tr><td>test_accuracy</td><td>▁</td></tr><tr><td>train_acc</td><td>▁▃▄▅▆▆▇▇██</td></tr><tr><td>train_loss</td><td>█▆▅▄▃▃▂▂▁▁</td></tr><tr><td>val_acc</td><td>▁▃▄▅▆▆▇▇██</td></tr><tr><td>val_loss</td><td>█▆▅▄▃▃▂▂▁▁</td></tr></table><br/></div><div class=\"wandb-col\"><h3>Run summary:</h3><br/><table class=\"wandb\"><tr><td>epoch</td><td>10</td></tr><tr><td>test_accuracy</td><td>79.33</td></tr><tr><td>train_acc</td><td>78.79259</td></tr><tr><td>train_loss</td><td>0.70979</td></tr><tr><td>val_acc</td><td>77.78333</td></tr><tr><td>val_loss</td><td>0.75085</td></tr></table><br/></div></div>"
      ],
      "text/plain": [
       "<IPython.core.display.HTML object>"
      ]
     },
     "metadata": {},
     "output_type": "display_data"
    },
    {
     "data": {
      "text/html": [
       " View run <strong style=\"color:#cdcd00\">opt_momentum_hl_5_bs_64_e_10_act_tanh_eta_0.005_init_random_hls_64_dataset_mnist_cross_entropy</strong> at: <a href='https://wandb.ai/cs24m021-iit-madras/DA6401_DL_Assignment1/runs/5a6zhagq' target=\"_blank\">https://wandb.ai/cs24m021-iit-madras/DA6401_DL_Assignment1/runs/5a6zhagq</a><br> View project at: <a href='https://wandb.ai/cs24m021-iit-madras/DA6401_DL_Assignment1' target=\"_blank\">https://wandb.ai/cs24m021-iit-madras/DA6401_DL_Assignment1</a><br>Synced 5 W&B file(s), 0 media file(s), 0 artifact file(s) and 0 other file(s)"
      ],
      "text/plain": [
       "<IPython.core.display.HTML object>"
      ]
     },
     "metadata": {},
     "output_type": "display_data"
    },
    {
     "data": {
      "text/html": [
       "Find logs at: <code>./wandb/run-20250311_141624-5a6zhagq/logs</code>"
      ],
      "text/plain": [
       "<IPython.core.display.HTML object>"
      ]
     },
     "metadata": {},
     "output_type": "display_data"
    },
    {
     "name": "stderr",
     "output_type": "stream",
     "text": [
      "\u001b[34m\u001b[1mwandb\u001b[0m: Agent Starting Run: s3nbuj2g with config:\n",
      "\u001b[34m\u001b[1mwandb\u001b[0m: \tactivation: ReLU\n",
      "\u001b[34m\u001b[1mwandb\u001b[0m: \thidden_layer_sizes: 32\n",
      "\u001b[34m\u001b[1mwandb\u001b[0m: \toptimizer: momentum\n"
     ]
    },
    {
     "data": {
      "text/html": [
       "Ignoring project 'DA6401_DL_Assignment1' when running a sweep."
      ],
      "text/plain": [
       "<IPython.core.display.HTML object>"
      ]
     },
     "metadata": {},
     "output_type": "display_data"
    },
    {
     "data": {
      "text/html": [
       "Tracking run with wandb version 0.19.8"
      ],
      "text/plain": [
       "<IPython.core.display.HTML object>"
      ]
     },
     "metadata": {},
     "output_type": "display_data"
    },
    {
     "data": {
      "text/html": [
       "Run data is saved locally in <code>/home/ubuntu/wandb/run-20250311_141656-s3nbuj2g</code>"
      ],
      "text/plain": [
       "<IPython.core.display.HTML object>"
      ]
     },
     "metadata": {},
     "output_type": "display_data"
    },
    {
     "data": {
      "text/html": [
       "Syncing run <strong><a href='https://wandb.ai/cs24m021-iit-madras/DA6401_DL_Assignment1/runs/s3nbuj2g' target=\"_blank\">genial-sweep-38</a></strong> to <a href='https://wandb.ai/cs24m021-iit-madras/DA6401_DL_Assignment1' target=\"_blank\">Weights & Biases</a> (<a href='https://wandb.me/developer-guide' target=\"_blank\">docs</a>)<br>Sweep page: <a href='https://wandb.ai/cs24m021-iit-madras/DA6401_DL_Assignment1/sweeps/jtj28a74' target=\"_blank\">https://wandb.ai/cs24m021-iit-madras/DA6401_DL_Assignment1/sweeps/jtj28a74</a>"
      ],
      "text/plain": [
       "<IPython.core.display.HTML object>"
      ]
     },
     "metadata": {},
     "output_type": "display_data"
    },
    {
     "data": {
      "text/html": [
       " View project at <a href='https://wandb.ai/cs24m021-iit-madras/DA6401_DL_Assignment1' target=\"_blank\">https://wandb.ai/cs24m021-iit-madras/DA6401_DL_Assignment1</a>"
      ],
      "text/plain": [
       "<IPython.core.display.HTML object>"
      ]
     },
     "metadata": {},
     "output_type": "display_data"
    },
    {
     "data": {
      "text/html": [
       " View sweep at <a href='https://wandb.ai/cs24m021-iit-madras/DA6401_DL_Assignment1/sweeps/jtj28a74' target=\"_blank\">https://wandb.ai/cs24m021-iit-madras/DA6401_DL_Assignment1/sweeps/jtj28a74</a>"
      ],
      "text/plain": [
       "<IPython.core.display.HTML object>"
      ]
     },
     "metadata": {},
     "output_type": "display_data"
    },
    {
     "data": {
      "text/html": [
       " View run at <a href='https://wandb.ai/cs24m021-iit-madras/DA6401_DL_Assignment1/runs/s3nbuj2g' target=\"_blank\">https://wandb.ai/cs24m021-iit-madras/DA6401_DL_Assignment1/runs/s3nbuj2g</a>"
      ],
      "text/plain": [
       "<IPython.core.display.HTML object>"
      ]
     },
     "metadata": {},
     "output_type": "display_data"
    },
    {
     "name": "stdout",
     "output_type": "stream",
     "text": [
      "Epoch 1: Train Loss=2.3014, Train Acc=11.25%, Val Loss=2.3023, Val Acc=11.08%\n",
      "Epoch 2: Train Loss=2.3012, Train Acc=11.25%, Val Loss=2.3023, Val Acc=11.08%\n",
      "Epoch 3: Train Loss=2.3012, Train Acc=11.25%, Val Loss=2.3023, Val Acc=11.08%\n",
      "Epoch 4: Train Loss=2.3012, Train Acc=11.25%, Val Loss=2.3023, Val Acc=11.08%\n",
      "Epoch 5: Train Loss=2.3012, Train Acc=11.25%, Val Loss=2.3023, Val Acc=11.08%\n",
      "Epoch 6: Train Loss=2.3012, Train Acc=11.25%, Val Loss=2.3023, Val Acc=11.08%\n",
      "Epoch 7: Train Loss=2.3012, Train Acc=11.25%, Val Loss=2.3023, Val Acc=11.08%\n",
      "Epoch 8: Train Loss=2.3012, Train Acc=11.25%, Val Loss=2.3023, Val Acc=11.08%\n",
      "Epoch 9: Train Loss=2.3012, Train Acc=11.25%, Val Loss=2.3023, Val Acc=11.08%\n",
      "Epoch 10: Train Loss=2.3012, Train Acc=11.25%, Val Loss=2.3023, Val Acc=11.08%\n",
      "Test Loss: 2.3012, Test Acc: 11.35%\n"
     ]
    },
    {
     "data": {
      "text/html": [],
      "text/plain": [
       "<IPython.core.display.HTML object>"
      ]
     },
     "metadata": {},
     "output_type": "display_data"
    },
    {
     "data": {
      "text/html": [
       "<br>    <style><br>        .wandb-row {<br>            display: flex;<br>            flex-direction: row;<br>            flex-wrap: wrap;<br>            justify-content: flex-start;<br>            width: 100%;<br>        }<br>        .wandb-col {<br>            display: flex;<br>            flex-direction: column;<br>            flex-basis: 100%;<br>            flex: 1;<br>            padding: 10px;<br>        }<br>    </style><br><div class=\"wandb-row\"><div class=\"wandb-col\"><h3>Run history:</h3><br/><table class=\"wandb\"><tr><td>epoch</td><td>▁▂▃▃▄▅▆▆▇█</td></tr><tr><td>test_accuracy</td><td>▁</td></tr><tr><td>train_acc</td><td>▁▁▁▁▁▁▁▁▁▁</td></tr><tr><td>train_loss</td><td>█▁▁▁▁▁▁▁▁▁</td></tr><tr><td>val_acc</td><td>▁▁▁▁▁▁▁▁▁▁</td></tr><tr><td>val_loss</td><td>▁▇████████</td></tr></table><br/></div><div class=\"wandb-col\"><h3>Run summary:</h3><br/><table class=\"wandb\"><tr><td>epoch</td><td>10</td></tr><tr><td>test_accuracy</td><td>11.35</td></tr><tr><td>train_acc</td><td>11.2537</td></tr><tr><td>train_loss</td><td>2.30116</td></tr><tr><td>val_acc</td><td>11.08333</td></tr><tr><td>val_loss</td><td>2.30229</td></tr></table><br/></div></div>"
      ],
      "text/plain": [
       "<IPython.core.display.HTML object>"
      ]
     },
     "metadata": {},
     "output_type": "display_data"
    },
    {
     "data": {
      "text/html": [
       " View run <strong style=\"color:#cdcd00\">opt_momentum_hl_5_bs_64_e_10_act_ReLU_eta_0.005_init_random_hls_32_dataset_mnist_cross_entropy</strong> at: <a href='https://wandb.ai/cs24m021-iit-madras/DA6401_DL_Assignment1/runs/s3nbuj2g' target=\"_blank\">https://wandb.ai/cs24m021-iit-madras/DA6401_DL_Assignment1/runs/s3nbuj2g</a><br> View project at: <a href='https://wandb.ai/cs24m021-iit-madras/DA6401_DL_Assignment1' target=\"_blank\">https://wandb.ai/cs24m021-iit-madras/DA6401_DL_Assignment1</a><br>Synced 5 W&B file(s), 0 media file(s), 0 artifact file(s) and 0 other file(s)"
      ],
      "text/plain": [
       "<IPython.core.display.HTML object>"
      ]
     },
     "metadata": {},
     "output_type": "display_data"
    },
    {
     "data": {
      "text/html": [
       "Find logs at: <code>./wandb/run-20250311_141656-s3nbuj2g/logs</code>"
      ],
      "text/plain": [
       "<IPython.core.display.HTML object>"
      ]
     },
     "metadata": {},
     "output_type": "display_data"
    },
    {
     "name": "stderr",
     "output_type": "stream",
     "text": [
      "\u001b[34m\u001b[1mwandb\u001b[0m: Agent Starting Run: 2v939gdr with config:\n",
      "\u001b[34m\u001b[1mwandb\u001b[0m: \tactivation: sigmoid\n",
      "\u001b[34m\u001b[1mwandb\u001b[0m: \thidden_layer_sizes: 32\n",
      "\u001b[34m\u001b[1mwandb\u001b[0m: \toptimizer: sgd\n"
     ]
    },
    {
     "data": {
      "text/html": [
       "Ignoring project 'DA6401_DL_Assignment1' when running a sweep."
      ],
      "text/plain": [
       "<IPython.core.display.HTML object>"
      ]
     },
     "metadata": {},
     "output_type": "display_data"
    },
    {
     "data": {
      "text/html": [
       "Tracking run with wandb version 0.19.8"
      ],
      "text/plain": [
       "<IPython.core.display.HTML object>"
      ]
     },
     "metadata": {},
     "output_type": "display_data"
    },
    {
     "data": {
      "text/html": [
       "Run data is saved locally in <code>/home/ubuntu/wandb/run-20250311_141712-2v939gdr</code>"
      ],
      "text/plain": [
       "<IPython.core.display.HTML object>"
      ]
     },
     "metadata": {},
     "output_type": "display_data"
    },
    {
     "data": {
      "text/html": [
       "Syncing run <strong><a href='https://wandb.ai/cs24m021-iit-madras/DA6401_DL_Assignment1/runs/2v939gdr' target=\"_blank\">rare-sweep-39</a></strong> to <a href='https://wandb.ai/cs24m021-iit-madras/DA6401_DL_Assignment1' target=\"_blank\">Weights & Biases</a> (<a href='https://wandb.me/developer-guide' target=\"_blank\">docs</a>)<br>Sweep page: <a href='https://wandb.ai/cs24m021-iit-madras/DA6401_DL_Assignment1/sweeps/jtj28a74' target=\"_blank\">https://wandb.ai/cs24m021-iit-madras/DA6401_DL_Assignment1/sweeps/jtj28a74</a>"
      ],
      "text/plain": [
       "<IPython.core.display.HTML object>"
      ]
     },
     "metadata": {},
     "output_type": "display_data"
    },
    {
     "data": {
      "text/html": [
       " View project at <a href='https://wandb.ai/cs24m021-iit-madras/DA6401_DL_Assignment1' target=\"_blank\">https://wandb.ai/cs24m021-iit-madras/DA6401_DL_Assignment1</a>"
      ],
      "text/plain": [
       "<IPython.core.display.HTML object>"
      ]
     },
     "metadata": {},
     "output_type": "display_data"
    },
    {
     "data": {
      "text/html": [
       " View sweep at <a href='https://wandb.ai/cs24m021-iit-madras/DA6401_DL_Assignment1/sweeps/jtj28a74' target=\"_blank\">https://wandb.ai/cs24m021-iit-madras/DA6401_DL_Assignment1/sweeps/jtj28a74</a>"
      ],
      "text/plain": [
       "<IPython.core.display.HTML object>"
      ]
     },
     "metadata": {},
     "output_type": "display_data"
    },
    {
     "data": {
      "text/html": [
       " View run at <a href='https://wandb.ai/cs24m021-iit-madras/DA6401_DL_Assignment1/runs/2v939gdr' target=\"_blank\">https://wandb.ai/cs24m021-iit-madras/DA6401_DL_Assignment1/runs/2v939gdr</a>"
      ],
      "text/plain": [
       "<IPython.core.display.HTML object>"
      ]
     },
     "metadata": {},
     "output_type": "display_data"
    },
    {
     "name": "stdout",
     "output_type": "stream",
     "text": [
      "Epoch 1: Train Loss=2.2412, Train Acc=15.32%, Val Loss=2.2549, Val Acc=14.63%\n",
      "Epoch 2: Train Loss=2.1208, Train Acc=24.29%, Val Loss=2.1381, Val Acc=23.50%\n",
      "Epoch 3: Train Loss=2.0343, Train Acc=30.37%, Val Loss=2.0538, Val Acc=29.32%\n",
      "Epoch 4: Train Loss=1.9619, Train Acc=34.06%, Val Loss=1.9833, Val Acc=32.87%\n",
      "Epoch 5: Train Loss=1.8977, Train Acc=37.16%, Val Loss=1.9206, Val Acc=35.85%\n",
      "Epoch 6: Train Loss=1.8374, Train Acc=39.86%, Val Loss=1.8615, Val Acc=38.77%\n",
      "Epoch 7: Train Loss=1.7786, Train Acc=42.53%, Val Loss=1.8035, Val Acc=41.55%\n",
      "Epoch 8: Train Loss=1.7202, Train Acc=45.05%, Val Loss=1.7458, Val Acc=44.33%\n",
      "Epoch 9: Train Loss=1.6624, Train Acc=47.30%, Val Loss=1.6884, Val Acc=46.72%\n",
      "Epoch 10: Train Loss=1.6058, Train Acc=49.36%, Val Loss=1.6319, Val Acc=49.03%\n",
      "Test Loss: 1.5972, Test Acc: 50.75%\n"
     ]
    },
    {
     "data": {
      "text/html": [],
      "text/plain": [
       "<IPython.core.display.HTML object>"
      ]
     },
     "metadata": {},
     "output_type": "display_data"
    },
    {
     "data": {
      "text/html": [
       "<br>    <style><br>        .wandb-row {<br>            display: flex;<br>            flex-direction: row;<br>            flex-wrap: wrap;<br>            justify-content: flex-start;<br>            width: 100%;<br>        }<br>        .wandb-col {<br>            display: flex;<br>            flex-direction: column;<br>            flex-basis: 100%;<br>            flex: 1;<br>            padding: 10px;<br>        }<br>    </style><br><div class=\"wandb-row\"><div class=\"wandb-col\"><h3>Run history:</h3><br/><table class=\"wandb\"><tr><td>epoch</td><td>▁▂▃▃▄▅▆▆▇█</td></tr><tr><td>test_accuracy</td><td>▁</td></tr><tr><td>train_acc</td><td>▁▃▄▅▅▆▇▇██</td></tr><tr><td>train_loss</td><td>█▇▆▅▄▄▃▂▂▁</td></tr><tr><td>val_acc</td><td>▁▃▄▅▅▆▆▇██</td></tr><tr><td>val_loss</td><td>█▇▆▅▄▄▃▂▂▁</td></tr></table><br/></div><div class=\"wandb-col\"><h3>Run summary:</h3><br/><table class=\"wandb\"><tr><td>epoch</td><td>10</td></tr><tr><td>test_accuracy</td><td>50.75</td></tr><tr><td>train_acc</td><td>49.35556</td></tr><tr><td>train_loss</td><td>1.60582</td></tr><tr><td>val_acc</td><td>49.03333</td></tr><tr><td>val_loss</td><td>1.63187</td></tr></table><br/></div></div>"
      ],
      "text/plain": [
       "<IPython.core.display.HTML object>"
      ]
     },
     "metadata": {},
     "output_type": "display_data"
    },
    {
     "data": {
      "text/html": [
       " View run <strong style=\"color:#cdcd00\">opt_sgd_hl_5_bs_64_e_10_act_sigmoid_eta_0.005_init_random_hls_32_dataset_mnist_cross_entropy</strong> at: <a href='https://wandb.ai/cs24m021-iit-madras/DA6401_DL_Assignment1/runs/2v939gdr' target=\"_blank\">https://wandb.ai/cs24m021-iit-madras/DA6401_DL_Assignment1/runs/2v939gdr</a><br> View project at: <a href='https://wandb.ai/cs24m021-iit-madras/DA6401_DL_Assignment1' target=\"_blank\">https://wandb.ai/cs24m021-iit-madras/DA6401_DL_Assignment1</a><br>Synced 5 W&B file(s), 0 media file(s), 0 artifact file(s) and 0 other file(s)"
      ],
      "text/plain": [
       "<IPython.core.display.HTML object>"
      ]
     },
     "metadata": {},
     "output_type": "display_data"
    },
    {
     "data": {
      "text/html": [
       "Find logs at: <code>./wandb/run-20250311_141712-2v939gdr/logs</code>"
      ],
      "text/plain": [
       "<IPython.core.display.HTML object>"
      ]
     },
     "metadata": {},
     "output_type": "display_data"
    },
    {
     "name": "stderr",
     "output_type": "stream",
     "text": [
      "\u001b[34m\u001b[1mwandb\u001b[0m: Sweep Agent: Waiting for job.\n",
      "\u001b[34m\u001b[1mwandb\u001b[0m: Job received.\n",
      "\u001b[34m\u001b[1mwandb\u001b[0m: Agent Starting Run: ye9t8wmw with config:\n",
      "\u001b[34m\u001b[1mwandb\u001b[0m: \tactivation: tanh\n",
      "\u001b[34m\u001b[1mwandb\u001b[0m: \thidden_layer_sizes: 128\n",
      "\u001b[34m\u001b[1mwandb\u001b[0m: \toptimizer: momentum\n"
     ]
    },
    {
     "data": {
      "text/html": [
       "Ignoring project 'DA6401_DL_Assignment1' when running a sweep."
      ],
      "text/plain": [
       "<IPython.core.display.HTML object>"
      ]
     },
     "metadata": {},
     "output_type": "display_data"
    },
    {
     "data": {
      "text/html": [
       "Tracking run with wandb version 0.19.8"
      ],
      "text/plain": [
       "<IPython.core.display.HTML object>"
      ]
     },
     "metadata": {},
     "output_type": "display_data"
    },
    {
     "data": {
      "text/html": [
       "Run data is saved locally in <code>/home/ubuntu/wandb/run-20250311_141744-ye9t8wmw</code>"
      ],
      "text/plain": [
       "<IPython.core.display.HTML object>"
      ]
     },
     "metadata": {},
     "output_type": "display_data"
    },
    {
     "data": {
      "text/html": [
       "Syncing run <strong><a href='https://wandb.ai/cs24m021-iit-madras/DA6401_DL_Assignment1/runs/ye9t8wmw' target=\"_blank\">peach-sweep-40</a></strong> to <a href='https://wandb.ai/cs24m021-iit-madras/DA6401_DL_Assignment1' target=\"_blank\">Weights & Biases</a> (<a href='https://wandb.me/developer-guide' target=\"_blank\">docs</a>)<br>Sweep page: <a href='https://wandb.ai/cs24m021-iit-madras/DA6401_DL_Assignment1/sweeps/jtj28a74' target=\"_blank\">https://wandb.ai/cs24m021-iit-madras/DA6401_DL_Assignment1/sweeps/jtj28a74</a>"
      ],
      "text/plain": [
       "<IPython.core.display.HTML object>"
      ]
     },
     "metadata": {},
     "output_type": "display_data"
    },
    {
     "data": {
      "text/html": [
       " View project at <a href='https://wandb.ai/cs24m021-iit-madras/DA6401_DL_Assignment1' target=\"_blank\">https://wandb.ai/cs24m021-iit-madras/DA6401_DL_Assignment1</a>"
      ],
      "text/plain": [
       "<IPython.core.display.HTML object>"
      ]
     },
     "metadata": {},
     "output_type": "display_data"
    },
    {
     "data": {
      "text/html": [
       " View sweep at <a href='https://wandb.ai/cs24m021-iit-madras/DA6401_DL_Assignment1/sweeps/jtj28a74' target=\"_blank\">https://wandb.ai/cs24m021-iit-madras/DA6401_DL_Assignment1/sweeps/jtj28a74</a>"
      ],
      "text/plain": [
       "<IPython.core.display.HTML object>"
      ]
     },
     "metadata": {},
     "output_type": "display_data"
    },
    {
     "data": {
      "text/html": [
       " View run at <a href='https://wandb.ai/cs24m021-iit-madras/DA6401_DL_Assignment1/runs/ye9t8wmw' target=\"_blank\">https://wandb.ai/cs24m021-iit-madras/DA6401_DL_Assignment1/runs/ye9t8wmw</a>"
      ],
      "text/plain": [
       "<IPython.core.display.HTML object>"
      ]
     },
     "metadata": {},
     "output_type": "display_data"
    },
    {
     "name": "stdout",
     "output_type": "stream",
     "text": [
      "Epoch 1: Train Loss=1.9615, Train Acc=28.36%, Val Loss=1.9624, Val Acc=28.02%\n",
      "Epoch 2: Train Loss=1.6831, Train Acc=40.72%, Val Loss=1.6803, Val Acc=41.00%\n",
      "Epoch 3: Train Loss=1.4826, Train Acc=48.55%, Val Loss=1.4825, Val Acc=48.60%\n",
      "Epoch 4: Train Loss=1.3237, Train Acc=53.16%, Val Loss=1.3242, Val Acc=52.47%\n",
      "Epoch 5: Train Loss=1.2212, Train Acc=56.93%, Val Loss=1.2286, Val Acc=56.45%\n",
      "Epoch 6: Train Loss=1.1290, Train Acc=59.54%, Val Loss=1.1419, Val Acc=58.65%\n",
      "Epoch 7: Train Loss=1.0306, Train Acc=64.34%, Val Loss=1.0505, Val Acc=62.83%\n",
      "Epoch 8: Train Loss=0.9590, Train Acc=67.18%, Val Loss=0.9898, Val Acc=65.52%\n",
      "Epoch 9: Train Loss=0.8729, Train Acc=71.76%, Val Loss=0.9222, Val Acc=70.37%\n",
      "Epoch 10: Train Loss=0.8073, Train Acc=74.62%, Val Loss=0.8535, Val Acc=73.30%\n",
      "Test Loss: 0.8253, Test Acc: 74.78%\n"
     ]
    },
    {
     "data": {
      "text/html": [],
      "text/plain": [
       "<IPython.core.display.HTML object>"
      ]
     },
     "metadata": {},
     "output_type": "display_data"
    },
    {
     "data": {
      "text/html": [
       "<br>    <style><br>        .wandb-row {<br>            display: flex;<br>            flex-direction: row;<br>            flex-wrap: wrap;<br>            justify-content: flex-start;<br>            width: 100%;<br>        }<br>        .wandb-col {<br>            display: flex;<br>            flex-direction: column;<br>            flex-basis: 100%;<br>            flex: 1;<br>            padding: 10px;<br>        }<br>    </style><br><div class=\"wandb-row\"><div class=\"wandb-col\"><h3>Run history:</h3><br/><table class=\"wandb\"><tr><td>epoch</td><td>▁▂▃▃▄▅▆▆▇█</td></tr><tr><td>test_accuracy</td><td>▁</td></tr><tr><td>train_acc</td><td>▁▃▄▅▅▆▆▇██</td></tr><tr><td>train_loss</td><td>█▆▅▄▄▃▂▂▁▁</td></tr><tr><td>val_acc</td><td>▁▃▄▅▅▆▆▇██</td></tr><tr><td>val_loss</td><td>█▆▅▄▃▃▂▂▁▁</td></tr></table><br/></div><div class=\"wandb-col\"><h3>Run summary:</h3><br/><table class=\"wandb\"><tr><td>epoch</td><td>10</td></tr><tr><td>test_accuracy</td><td>74.78</td></tr><tr><td>train_acc</td><td>74.62407</td></tr><tr><td>train_loss</td><td>0.80734</td></tr><tr><td>val_acc</td><td>73.3</td></tr><tr><td>val_loss</td><td>0.8535</td></tr></table><br/></div></div>"
      ],
      "text/plain": [
       "<IPython.core.display.HTML object>"
      ]
     },
     "metadata": {},
     "output_type": "display_data"
    },
    {
     "data": {
      "text/html": [
       " View run <strong style=\"color:#cdcd00\">opt_momentum_hl_5_bs_64_e_10_act_tanh_eta_0.005_init_random_hls_128_dataset_mnist_cross_entropy</strong> at: <a href='https://wandb.ai/cs24m021-iit-madras/DA6401_DL_Assignment1/runs/ye9t8wmw' target=\"_blank\">https://wandb.ai/cs24m021-iit-madras/DA6401_DL_Assignment1/runs/ye9t8wmw</a><br> View project at: <a href='https://wandb.ai/cs24m021-iit-madras/DA6401_DL_Assignment1' target=\"_blank\">https://wandb.ai/cs24m021-iit-madras/DA6401_DL_Assignment1</a><br>Synced 5 W&B file(s), 0 media file(s), 0 artifact file(s) and 0 other file(s)"
      ],
      "text/plain": [
       "<IPython.core.display.HTML object>"
      ]
     },
     "metadata": {},
     "output_type": "display_data"
    },
    {
     "data": {
      "text/html": [
       "Find logs at: <code>./wandb/run-20250311_141744-ye9t8wmw/logs</code>"
      ],
      "text/plain": [
       "<IPython.core.display.HTML object>"
      ]
     },
     "metadata": {},
     "output_type": "display_data"
    },
    {
     "name": "stderr",
     "output_type": "stream",
     "text": [
      "\u001b[34m\u001b[1mwandb\u001b[0m: Sweep Agent: Waiting for job.\n",
      "\u001b[34m\u001b[1mwandb\u001b[0m: Job received.\n",
      "\u001b[34m\u001b[1mwandb\u001b[0m: Agent Starting Run: 599p4ldf with config:\n",
      "\u001b[34m\u001b[1mwandb\u001b[0m: \tactivation: sigmoid\n",
      "\u001b[34m\u001b[1mwandb\u001b[0m: \thidden_layer_sizes: 128\n",
      "\u001b[34m\u001b[1mwandb\u001b[0m: \toptimizer: rmsprop\n"
     ]
    },
    {
     "data": {
      "text/html": [
       "Ignoring project 'DA6401_DL_Assignment1' when running a sweep."
      ],
      "text/plain": [
       "<IPython.core.display.HTML object>"
      ]
     },
     "metadata": {},
     "output_type": "display_data"
    },
    {
     "data": {
      "text/html": [
       "Tracking run with wandb version 0.19.8"
      ],
      "text/plain": [
       "<IPython.core.display.HTML object>"
      ]
     },
     "metadata": {},
     "output_type": "display_data"
    },
    {
     "data": {
      "text/html": [
       "Run data is saved locally in <code>/home/ubuntu/wandb/run-20250311_141858-599p4ldf</code>"
      ],
      "text/plain": [
       "<IPython.core.display.HTML object>"
      ]
     },
     "metadata": {},
     "output_type": "display_data"
    },
    {
     "data": {
      "text/html": [
       "Syncing run <strong><a href='https://wandb.ai/cs24m021-iit-madras/DA6401_DL_Assignment1/runs/599p4ldf' target=\"_blank\">woven-sweep-41</a></strong> to <a href='https://wandb.ai/cs24m021-iit-madras/DA6401_DL_Assignment1' target=\"_blank\">Weights & Biases</a> (<a href='https://wandb.me/developer-guide' target=\"_blank\">docs</a>)<br>Sweep page: <a href='https://wandb.ai/cs24m021-iit-madras/DA6401_DL_Assignment1/sweeps/jtj28a74' target=\"_blank\">https://wandb.ai/cs24m021-iit-madras/DA6401_DL_Assignment1/sweeps/jtj28a74</a>"
      ],
      "text/plain": [
       "<IPython.core.display.HTML object>"
      ]
     },
     "metadata": {},
     "output_type": "display_data"
    },
    {
     "data": {
      "text/html": [
       " View project at <a href='https://wandb.ai/cs24m021-iit-madras/DA6401_DL_Assignment1' target=\"_blank\">https://wandb.ai/cs24m021-iit-madras/DA6401_DL_Assignment1</a>"
      ],
      "text/plain": [
       "<IPython.core.display.HTML object>"
      ]
     },
     "metadata": {},
     "output_type": "display_data"
    },
    {
     "data": {
      "text/html": [
       " View sweep at <a href='https://wandb.ai/cs24m021-iit-madras/DA6401_DL_Assignment1/sweeps/jtj28a74' target=\"_blank\">https://wandb.ai/cs24m021-iit-madras/DA6401_DL_Assignment1/sweeps/jtj28a74</a>"
      ],
      "text/plain": [
       "<IPython.core.display.HTML object>"
      ]
     },
     "metadata": {},
     "output_type": "display_data"
    },
    {
     "data": {
      "text/html": [
       " View run at <a href='https://wandb.ai/cs24m021-iit-madras/DA6401_DL_Assignment1/runs/599p4ldf' target=\"_blank\">https://wandb.ai/cs24m021-iit-madras/DA6401_DL_Assignment1/runs/599p4ldf</a>"
      ],
      "text/plain": [
       "<IPython.core.display.HTML object>"
      ]
     },
     "metadata": {},
     "output_type": "display_data"
    },
    {
     "name": "stdout",
     "output_type": "stream",
     "text": [
      "Epoch 1: Train Loss=2.3400, Train Acc=9.72%, Val Loss=2.3361, Val Acc=9.87%\n",
      "Epoch 2: Train Loss=2.3356, Train Acc=9.72%, Val Loss=2.3323, Val Acc=9.87%\n",
      "Epoch 3: Train Loss=2.3349, Train Acc=9.72%, Val Loss=2.3317, Val Acc=9.87%\n",
      "Epoch 4: Train Loss=2.3347, Train Acc=9.72%, Val Loss=2.3314, Val Acc=9.87%\n",
      "Epoch 5: Train Loss=2.3343, Train Acc=9.72%, Val Loss=2.3311, Val Acc=9.87%\n",
      "Epoch 6: Train Loss=2.3342, Train Acc=9.72%, Val Loss=2.3310, Val Acc=9.87%\n",
      "Epoch 7: Train Loss=2.3339, Train Acc=9.72%, Val Loss=2.3308, Val Acc=9.87%\n",
      "Epoch 8: Train Loss=2.3337, Train Acc=9.72%, Val Loss=2.3306, Val Acc=9.87%\n",
      "Epoch 9: Train Loss=2.3336, Train Acc=9.72%, Val Loss=2.3305, Val Acc=9.87%\n",
      "Epoch 10: Train Loss=2.3334, Train Acc=9.72%, Val Loss=2.3303, Val Acc=9.87%\n",
      "Test Loss: 2.3324, Test Acc: 9.82%\n"
     ]
    },
    {
     "data": {
      "text/html": [],
      "text/plain": [
       "<IPython.core.display.HTML object>"
      ]
     },
     "metadata": {},
     "output_type": "display_data"
    },
    {
     "data": {
      "text/html": [
       "<br>    <style><br>        .wandb-row {<br>            display: flex;<br>            flex-direction: row;<br>            flex-wrap: wrap;<br>            justify-content: flex-start;<br>            width: 100%;<br>        }<br>        .wandb-col {<br>            display: flex;<br>            flex-direction: column;<br>            flex-basis: 100%;<br>            flex: 1;<br>            padding: 10px;<br>        }<br>    </style><br><div class=\"wandb-row\"><div class=\"wandb-col\"><h3>Run history:</h3><br/><table class=\"wandb\"><tr><td>epoch</td><td>▁▂▃▃▄▅▆▆▇█</td></tr><tr><td>test_accuracy</td><td>▁</td></tr><tr><td>train_acc</td><td>▁▁▁▁▁▁▁▁▁▁</td></tr><tr><td>train_loss</td><td>█▃▃▂▂▂▂▁▁▁</td></tr><tr><td>val_acc</td><td>▁▁▁▁▁▁▁▁▁▁</td></tr><tr><td>val_loss</td><td>█▃▃▂▂▂▂▁▁▁</td></tr></table><br/></div><div class=\"wandb-col\"><h3>Run summary:</h3><br/><table class=\"wandb\"><tr><td>epoch</td><td>10</td></tr><tr><td>test_accuracy</td><td>9.82</td></tr><tr><td>train_acc</td><td>9.72222</td></tr><tr><td>train_loss</td><td>2.33339</td></tr><tr><td>val_acc</td><td>9.86667</td></tr><tr><td>val_loss</td><td>2.33032</td></tr></table><br/></div></div>"
      ],
      "text/plain": [
       "<IPython.core.display.HTML object>"
      ]
     },
     "metadata": {},
     "output_type": "display_data"
    },
    {
     "data": {
      "text/html": [
       " View run <strong style=\"color:#cdcd00\">opt_rmsprop_hl_5_bs_64_e_10_act_sigmoid_eta_0.005_init_random_hls_128_dataset_mnist_cross_entropy</strong> at: <a href='https://wandb.ai/cs24m021-iit-madras/DA6401_DL_Assignment1/runs/599p4ldf' target=\"_blank\">https://wandb.ai/cs24m021-iit-madras/DA6401_DL_Assignment1/runs/599p4ldf</a><br> View project at: <a href='https://wandb.ai/cs24m021-iit-madras/DA6401_DL_Assignment1' target=\"_blank\">https://wandb.ai/cs24m021-iit-madras/DA6401_DL_Assignment1</a><br>Synced 5 W&B file(s), 0 media file(s), 0 artifact file(s) and 0 other file(s)"
      ],
      "text/plain": [
       "<IPython.core.display.HTML object>"
      ]
     },
     "metadata": {},
     "output_type": "display_data"
    },
    {
     "data": {
      "text/html": [
       "Find logs at: <code>./wandb/run-20250311_141858-599p4ldf/logs</code>"
      ],
      "text/plain": [
       "<IPython.core.display.HTML object>"
      ]
     },
     "metadata": {},
     "output_type": "display_data"
    },
    {
     "name": "stderr",
     "output_type": "stream",
     "text": [
      "\u001b[34m\u001b[1mwandb\u001b[0m: Agent Starting Run: qoq4awba with config:\n",
      "\u001b[34m\u001b[1mwandb\u001b[0m: \tactivation: ReLU\n",
      "\u001b[34m\u001b[1mwandb\u001b[0m: \thidden_layer_sizes: 64\n",
      "\u001b[34m\u001b[1mwandb\u001b[0m: \toptimizer: sgd\n"
     ]
    },
    {
     "data": {
      "text/html": [
       "Ignoring project 'DA6401_DL_Assignment1' when running a sweep."
      ],
      "text/plain": [
       "<IPython.core.display.HTML object>"
      ]
     },
     "metadata": {},
     "output_type": "display_data"
    },
    {
     "data": {
      "text/html": [
       "Tracking run with wandb version 0.19.8"
      ],
      "text/plain": [
       "<IPython.core.display.HTML object>"
      ]
     },
     "metadata": {},
     "output_type": "display_data"
    },
    {
     "data": {
      "text/html": [
       "Run data is saved locally in <code>/home/ubuntu/wandb/run-20250311_142034-qoq4awba</code>"
      ],
      "text/plain": [
       "<IPython.core.display.HTML object>"
      ]
     },
     "metadata": {},
     "output_type": "display_data"
    },
    {
     "data": {
      "text/html": [
       "Syncing run <strong><a href='https://wandb.ai/cs24m021-iit-madras/DA6401_DL_Assignment1/runs/qoq4awba' target=\"_blank\">dauntless-sweep-42</a></strong> to <a href='https://wandb.ai/cs24m021-iit-madras/DA6401_DL_Assignment1' target=\"_blank\">Weights & Biases</a> (<a href='https://wandb.me/developer-guide' target=\"_blank\">docs</a>)<br>Sweep page: <a href='https://wandb.ai/cs24m021-iit-madras/DA6401_DL_Assignment1/sweeps/jtj28a74' target=\"_blank\">https://wandb.ai/cs24m021-iit-madras/DA6401_DL_Assignment1/sweeps/jtj28a74</a>"
      ],
      "text/plain": [
       "<IPython.core.display.HTML object>"
      ]
     },
     "metadata": {},
     "output_type": "display_data"
    },
    {
     "data": {
      "text/html": [
       " View project at <a href='https://wandb.ai/cs24m021-iit-madras/DA6401_DL_Assignment1' target=\"_blank\">https://wandb.ai/cs24m021-iit-madras/DA6401_DL_Assignment1</a>"
      ],
      "text/plain": [
       "<IPython.core.display.HTML object>"
      ]
     },
     "metadata": {},
     "output_type": "display_data"
    },
    {
     "data": {
      "text/html": [
       " View sweep at <a href='https://wandb.ai/cs24m021-iit-madras/DA6401_DL_Assignment1/sweeps/jtj28a74' target=\"_blank\">https://wandb.ai/cs24m021-iit-madras/DA6401_DL_Assignment1/sweeps/jtj28a74</a>"
      ],
      "text/plain": [
       "<IPython.core.display.HTML object>"
      ]
     },
     "metadata": {},
     "output_type": "display_data"
    },
    {
     "data": {
      "text/html": [
       " View run at <a href='https://wandb.ai/cs24m021-iit-madras/DA6401_DL_Assignment1/runs/qoq4awba' target=\"_blank\">https://wandb.ai/cs24m021-iit-madras/DA6401_DL_Assignment1/runs/qoq4awba</a>"
      ],
      "text/plain": [
       "<IPython.core.display.HTML object>"
      ]
     },
     "metadata": {},
     "output_type": "display_data"
    },
    {
     "name": "stdout",
     "output_type": "stream",
     "text": [
      "Epoch 1: Train Loss=2.5131, Train Acc=9.81%, Val Loss=2.5087, Val Acc=9.27%\n",
      "Epoch 2: Train Loss=2.3894, Train Acc=9.81%, Val Loss=2.3867, Val Acc=9.27%\n",
      "Epoch 3: Train Loss=2.3397, Train Acc=9.81%, Val Loss=2.3382, Val Acc=9.27%\n",
      "Epoch 4: Train Loss=2.3183, Train Acc=9.81%, Val Loss=2.3176, Val Acc=9.27%\n",
      "Epoch 5: Train Loss=2.3087, Train Acc=9.81%, Val Loss=2.3086, Val Acc=9.27%\n",
      "Epoch 6: Train Loss=2.3045, Train Acc=10.48%, Val Loss=2.3047, Val Acc=10.10%\n",
      "Epoch 7: Train Loss=2.3026, Train Acc=11.25%, Val Loss=2.3030, Val Acc=11.08%\n",
      "Epoch 8: Train Loss=2.3017, Train Acc=11.25%, Val Loss=2.3023, Val Acc=11.08%\n",
      "Epoch 9: Train Loss=2.3014, Train Acc=11.25%, Val Loss=2.3021, Val Acc=11.08%\n",
      "Epoch 10: Train Loss=2.3012, Train Acc=11.25%, Val Loss=2.3020, Val Acc=11.08%\n",
      "Test Loss: 2.3012, Test Acc: 11.35%\n"
     ]
    },
    {
     "data": {
      "text/html": [],
      "text/plain": [
       "<IPython.core.display.HTML object>"
      ]
     },
     "metadata": {},
     "output_type": "display_data"
    },
    {
     "data": {
      "text/html": [
       "<br>    <style><br>        .wandb-row {<br>            display: flex;<br>            flex-direction: row;<br>            flex-wrap: wrap;<br>            justify-content: flex-start;<br>            width: 100%;<br>        }<br>        .wandb-col {<br>            display: flex;<br>            flex-direction: column;<br>            flex-basis: 100%;<br>            flex: 1;<br>            padding: 10px;<br>        }<br>    </style><br><div class=\"wandb-row\"><div class=\"wandb-col\"><h3>Run history:</h3><br/><table class=\"wandb\"><tr><td>epoch</td><td>▁▂▃▃▄▅▆▆▇█</td></tr><tr><td>test_accuracy</td><td>▁</td></tr><tr><td>train_acc</td><td>▁▁▁▁▁▄████</td></tr><tr><td>train_loss</td><td>█▄▂▂▁▁▁▁▁▁</td></tr><tr><td>val_acc</td><td>▁▁▁▁▁▄████</td></tr><tr><td>val_loss</td><td>█▄▂▂▁▁▁▁▁▁</td></tr></table><br/></div><div class=\"wandb-col\"><h3>Run summary:</h3><br/><table class=\"wandb\"><tr><td>epoch</td><td>10</td></tr><tr><td>test_accuracy</td><td>11.35</td></tr><tr><td>train_acc</td><td>11.2537</td></tr><tr><td>train_loss</td><td>2.3012</td></tr><tr><td>val_acc</td><td>11.08333</td></tr><tr><td>val_loss</td><td>2.30197</td></tr></table><br/></div></div>"
      ],
      "text/plain": [
       "<IPython.core.display.HTML object>"
      ]
     },
     "metadata": {},
     "output_type": "display_data"
    },
    {
     "data": {
      "text/html": [
       " View run <strong style=\"color:#cdcd00\">opt_sgd_hl_5_bs_64_e_10_act_ReLU_eta_0.005_init_random_hls_64_dataset_mnist_cross_entropy</strong> at: <a href='https://wandb.ai/cs24m021-iit-madras/DA6401_DL_Assignment1/runs/qoq4awba' target=\"_blank\">https://wandb.ai/cs24m021-iit-madras/DA6401_DL_Assignment1/runs/qoq4awba</a><br> View project at: <a href='https://wandb.ai/cs24m021-iit-madras/DA6401_DL_Assignment1' target=\"_blank\">https://wandb.ai/cs24m021-iit-madras/DA6401_DL_Assignment1</a><br>Synced 5 W&B file(s), 0 media file(s), 0 artifact file(s) and 0 other file(s)"
      ],
      "text/plain": [
       "<IPython.core.display.HTML object>"
      ]
     },
     "metadata": {},
     "output_type": "display_data"
    },
    {
     "data": {
      "text/html": [
       "Find logs at: <code>./wandb/run-20250311_142034-qoq4awba/logs</code>"
      ],
      "text/plain": [
       "<IPython.core.display.HTML object>"
      ]
     },
     "metadata": {},
     "output_type": "display_data"
    },
    {
     "name": "stderr",
     "output_type": "stream",
     "text": [
      "\u001b[34m\u001b[1mwandb\u001b[0m: Agent Starting Run: vwzqepsc with config:\n",
      "\u001b[34m\u001b[1mwandb\u001b[0m: \tactivation: tanh\n",
      "\u001b[34m\u001b[1mwandb\u001b[0m: \thidden_layer_sizes: 64\n",
      "\u001b[34m\u001b[1mwandb\u001b[0m: \toptimizer: sgd\n"
     ]
    },
    {
     "data": {
      "text/html": [
       "Ignoring project 'DA6401_DL_Assignment1' when running a sweep."
      ],
      "text/plain": [
       "<IPython.core.display.HTML object>"
      ]
     },
     "metadata": {},
     "output_type": "display_data"
    },
    {
     "data": {
      "text/html": [
       "Tracking run with wandb version 0.19.8"
      ],
      "text/plain": [
       "<IPython.core.display.HTML object>"
      ]
     },
     "metadata": {},
     "output_type": "display_data"
    },
    {
     "data": {
      "text/html": [
       "Run data is saved locally in <code>/home/ubuntu/wandb/run-20250311_142100-vwzqepsc</code>"
      ],
      "text/plain": [
       "<IPython.core.display.HTML object>"
      ]
     },
     "metadata": {},
     "output_type": "display_data"
    },
    {
     "data": {
      "text/html": [
       "Syncing run <strong><a href='https://wandb.ai/cs24m021-iit-madras/DA6401_DL_Assignment1/runs/vwzqepsc' target=\"_blank\">generous-sweep-43</a></strong> to <a href='https://wandb.ai/cs24m021-iit-madras/DA6401_DL_Assignment1' target=\"_blank\">Weights & Biases</a> (<a href='https://wandb.me/developer-guide' target=\"_blank\">docs</a>)<br>Sweep page: <a href='https://wandb.ai/cs24m021-iit-madras/DA6401_DL_Assignment1/sweeps/jtj28a74' target=\"_blank\">https://wandb.ai/cs24m021-iit-madras/DA6401_DL_Assignment1/sweeps/jtj28a74</a>"
      ],
      "text/plain": [
       "<IPython.core.display.HTML object>"
      ]
     },
     "metadata": {},
     "output_type": "display_data"
    },
    {
     "data": {
      "text/html": [
       " View project at <a href='https://wandb.ai/cs24m021-iit-madras/DA6401_DL_Assignment1' target=\"_blank\">https://wandb.ai/cs24m021-iit-madras/DA6401_DL_Assignment1</a>"
      ],
      "text/plain": [
       "<IPython.core.display.HTML object>"
      ]
     },
     "metadata": {},
     "output_type": "display_data"
    },
    {
     "data": {
      "text/html": [
       " View sweep at <a href='https://wandb.ai/cs24m021-iit-madras/DA6401_DL_Assignment1/sweeps/jtj28a74' target=\"_blank\">https://wandb.ai/cs24m021-iit-madras/DA6401_DL_Assignment1/sweeps/jtj28a74</a>"
      ],
      "text/plain": [
       "<IPython.core.display.HTML object>"
      ]
     },
     "metadata": {},
     "output_type": "display_data"
    },
    {
     "data": {
      "text/html": [
       " View run at <a href='https://wandb.ai/cs24m021-iit-madras/DA6401_DL_Assignment1/runs/vwzqepsc' target=\"_blank\">https://wandb.ai/cs24m021-iit-madras/DA6401_DL_Assignment1/runs/vwzqepsc</a>"
      ],
      "text/plain": [
       "<IPython.core.display.HTML object>"
      ]
     },
     "metadata": {},
     "output_type": "display_data"
    },
    {
     "name": "stdout",
     "output_type": "stream",
     "text": [
      "Epoch 1: Train Loss=6.1831, Train Acc=22.09%, Val Loss=6.1232, Val Acc=21.83%\n",
      "Epoch 2: Train Loss=4.6307, Train Acc=28.63%, Val Loss=4.7393, Val Acc=27.13%\n",
      "Epoch 3: Train Loss=3.7437, Train Acc=30.10%, Val Loss=3.8192, Val Acc=29.07%\n",
      "Epoch 4: Train Loss=3.0506, Train Acc=32.34%, Val Loss=3.1412, Val Acc=31.98%\n",
      "Epoch 5: Train Loss=2.5830, Train Acc=34.57%, Val Loss=2.6662, Val Acc=32.93%\n",
      "Epoch 6: Train Loss=2.2709, Train Acc=35.69%, Val Loss=2.3304, Val Acc=34.88%\n",
      "Epoch 7: Train Loss=2.0425, Train Acc=37.84%, Val Loss=2.0825, Val Acc=37.13%\n",
      "Epoch 8: Train Loss=1.8569, Train Acc=40.64%, Val Loss=1.9242, Val Acc=39.35%\n",
      "Epoch 9: Train Loss=1.7440, Train Acc=43.00%, Val Loss=1.8146, Val Acc=41.02%\n",
      "Epoch 10: Train Loss=1.6627, Train Acc=44.67%, Val Loss=1.7631, Val Acc=42.40%\n",
      "Test Loss: 1.7631, Test Acc: 42.64%\n"
     ]
    },
    {
     "data": {
      "text/html": [],
      "text/plain": [
       "<IPython.core.display.HTML object>"
      ]
     },
     "metadata": {},
     "output_type": "display_data"
    },
    {
     "data": {
      "text/html": [
       "<br>    <style><br>        .wandb-row {<br>            display: flex;<br>            flex-direction: row;<br>            flex-wrap: wrap;<br>            justify-content: flex-start;<br>            width: 100%;<br>        }<br>        .wandb-col {<br>            display: flex;<br>            flex-direction: column;<br>            flex-basis: 100%;<br>            flex: 1;<br>            padding: 10px;<br>        }<br>    </style><br><div class=\"wandb-row\"><div class=\"wandb-col\"><h3>Run history:</h3><br/><table class=\"wandb\"><tr><td>epoch</td><td>▁▂▃▃▄▅▆▆▇█</td></tr><tr><td>test_accuracy</td><td>▁</td></tr><tr><td>train_acc</td><td>▁▃▃▄▅▅▆▇▇█</td></tr><tr><td>train_loss</td><td>█▆▄▃▂▂▂▁▁▁</td></tr><tr><td>val_acc</td><td>▁▃▃▄▅▅▆▇██</td></tr><tr><td>val_loss</td><td>█▆▄▃▂▂▂▁▁▁</td></tr></table><br/></div><div class=\"wandb-col\"><h3>Run summary:</h3><br/><table class=\"wandb\"><tr><td>epoch</td><td>10</td></tr><tr><td>test_accuracy</td><td>42.64</td></tr><tr><td>train_acc</td><td>44.67037</td></tr><tr><td>train_loss</td><td>1.66271</td></tr><tr><td>val_acc</td><td>42.4</td></tr><tr><td>val_loss</td><td>1.76305</td></tr></table><br/></div></div>"
      ],
      "text/plain": [
       "<IPython.core.display.HTML object>"
      ]
     },
     "metadata": {},
     "output_type": "display_data"
    },
    {
     "data": {
      "text/html": [
       " View run <strong style=\"color:#cdcd00\">opt_sgd_hl_5_bs_64_e_10_act_tanh_eta_0.005_init_random_hls_64_dataset_mnist_cross_entropy</strong> at: <a href='https://wandb.ai/cs24m021-iit-madras/DA6401_DL_Assignment1/runs/vwzqepsc' target=\"_blank\">https://wandb.ai/cs24m021-iit-madras/DA6401_DL_Assignment1/runs/vwzqepsc</a><br> View project at: <a href='https://wandb.ai/cs24m021-iit-madras/DA6401_DL_Assignment1' target=\"_blank\">https://wandb.ai/cs24m021-iit-madras/DA6401_DL_Assignment1</a><br>Synced 5 W&B file(s), 0 media file(s), 0 artifact file(s) and 0 other file(s)"
      ],
      "text/plain": [
       "<IPython.core.display.HTML object>"
      ]
     },
     "metadata": {},
     "output_type": "display_data"
    },
    {
     "data": {
      "text/html": [
       "Find logs at: <code>./wandb/run-20250311_142100-vwzqepsc/logs</code>"
      ],
      "text/plain": [
       "<IPython.core.display.HTML object>"
      ]
     },
     "metadata": {},
     "output_type": "display_data"
    },
    {
     "name": "stderr",
     "output_type": "stream",
     "text": [
      "\u001b[34m\u001b[1mwandb\u001b[0m: Agent Starting Run: b2gr80di with config:\n",
      "\u001b[34m\u001b[1mwandb\u001b[0m: \tactivation: sigmoid\n",
      "\u001b[34m\u001b[1mwandb\u001b[0m: \thidden_layer_sizes: 64\n",
      "\u001b[34m\u001b[1mwandb\u001b[0m: \toptimizer: rmsprop\n"
     ]
    },
    {
     "data": {
      "text/html": [
       "Ignoring project 'DA6401_DL_Assignment1' when running a sweep."
      ],
      "text/plain": [
       "<IPython.core.display.HTML object>"
      ]
     },
     "metadata": {},
     "output_type": "display_data"
    },
    {
     "data": {
      "text/html": [
       "Tracking run with wandb version 0.19.8"
      ],
      "text/plain": [
       "<IPython.core.display.HTML object>"
      ]
     },
     "metadata": {},
     "output_type": "display_data"
    },
    {
     "data": {
      "text/html": [
       "Run data is saved locally in <code>/home/ubuntu/wandb/run-20250311_142127-b2gr80di</code>"
      ],
      "text/plain": [
       "<IPython.core.display.HTML object>"
      ]
     },
     "metadata": {},
     "output_type": "display_data"
    },
    {
     "data": {
      "text/html": [
       "Syncing run <strong><a href='https://wandb.ai/cs24m021-iit-madras/DA6401_DL_Assignment1/runs/b2gr80di' target=\"_blank\">unique-sweep-44</a></strong> to <a href='https://wandb.ai/cs24m021-iit-madras/DA6401_DL_Assignment1' target=\"_blank\">Weights & Biases</a> (<a href='https://wandb.me/developer-guide' target=\"_blank\">docs</a>)<br>Sweep page: <a href='https://wandb.ai/cs24m021-iit-madras/DA6401_DL_Assignment1/sweeps/jtj28a74' target=\"_blank\">https://wandb.ai/cs24m021-iit-madras/DA6401_DL_Assignment1/sweeps/jtj28a74</a>"
      ],
      "text/plain": [
       "<IPython.core.display.HTML object>"
      ]
     },
     "metadata": {},
     "output_type": "display_data"
    },
    {
     "data": {
      "text/html": [
       " View project at <a href='https://wandb.ai/cs24m021-iit-madras/DA6401_DL_Assignment1' target=\"_blank\">https://wandb.ai/cs24m021-iit-madras/DA6401_DL_Assignment1</a>"
      ],
      "text/plain": [
       "<IPython.core.display.HTML object>"
      ]
     },
     "metadata": {},
     "output_type": "display_data"
    },
    {
     "data": {
      "text/html": [
       " View sweep at <a href='https://wandb.ai/cs24m021-iit-madras/DA6401_DL_Assignment1/sweeps/jtj28a74' target=\"_blank\">https://wandb.ai/cs24m021-iit-madras/DA6401_DL_Assignment1/sweeps/jtj28a74</a>"
      ],
      "text/plain": [
       "<IPython.core.display.HTML object>"
      ]
     },
     "metadata": {},
     "output_type": "display_data"
    },
    {
     "data": {
      "text/html": [
       " View run at <a href='https://wandb.ai/cs24m021-iit-madras/DA6401_DL_Assignment1/runs/b2gr80di' target=\"_blank\">https://wandb.ai/cs24m021-iit-madras/DA6401_DL_Assignment1/runs/b2gr80di</a>"
      ],
      "text/plain": [
       "<IPython.core.display.HTML object>"
      ]
     },
     "metadata": {},
     "output_type": "display_data"
    },
    {
     "name": "stdout",
     "output_type": "stream",
     "text": [
      "Epoch 1: Train Loss=0.3015, Train Acc=91.20%, Val Loss=0.3095, Val Acc=90.88%\n",
      "Epoch 2: Train Loss=0.2023, Train Acc=94.15%, Val Loss=0.2200, Val Acc=93.85%\n",
      "Epoch 3: Train Loss=0.1743, Train Acc=95.15%, Val Loss=0.1953, Val Acc=94.47%\n",
      "Epoch 4: Train Loss=0.1638, Train Acc=95.44%, Val Loss=0.1854, Val Acc=94.83%\n",
      "Epoch 5: Train Loss=0.1574, Train Acc=95.57%, Val Loss=0.1803, Val Acc=94.97%\n",
      "Epoch 6: Train Loss=0.1577, Train Acc=95.58%, Val Loss=0.1804, Val Acc=95.00%\n",
      "Epoch 7: Train Loss=0.1628, Train Acc=95.33%, Val Loss=0.1847, Val Acc=94.67%\n",
      "Epoch 8: Train Loss=0.1463, Train Acc=95.88%, Val Loss=0.1704, Val Acc=95.07%\n",
      "Epoch 9: Train Loss=0.1383, Train Acc=96.14%, Val Loss=0.1641, Val Acc=95.32%\n",
      "Epoch 10: Train Loss=0.1370, Train Acc=96.20%, Val Loss=0.1625, Val Acc=95.40%\n",
      "Test Loss: 0.1425, Test Acc: 96.03%\n"
     ]
    },
    {
     "data": {
      "text/html": [],
      "text/plain": [
       "<IPython.core.display.HTML object>"
      ]
     },
     "metadata": {},
     "output_type": "display_data"
    },
    {
     "data": {
      "text/html": [
       "<br>    <style><br>        .wandb-row {<br>            display: flex;<br>            flex-direction: row;<br>            flex-wrap: wrap;<br>            justify-content: flex-start;<br>            width: 100%;<br>        }<br>        .wandb-col {<br>            display: flex;<br>            flex-direction: column;<br>            flex-basis: 100%;<br>            flex: 1;<br>            padding: 10px;<br>        }<br>    </style><br><div class=\"wandb-row\"><div class=\"wandb-col\"><h3>Run history:</h3><br/><table class=\"wandb\"><tr><td>epoch</td><td>▁▂▃▃▄▅▆▆▇█</td></tr><tr><td>test_accuracy</td><td>▁</td></tr><tr><td>train_acc</td><td>▁▅▇▇▇▇▇███</td></tr><tr><td>train_loss</td><td>█▄▃▂▂▂▂▁▁▁</td></tr><tr><td>val_acc</td><td>▁▆▇▇▇▇▇▇██</td></tr><tr><td>val_loss</td><td>█▄▃▂▂▂▂▁▁▁</td></tr></table><br/></div><div class=\"wandb-col\"><h3>Run summary:</h3><br/><table class=\"wandb\"><tr><td>epoch</td><td>10</td></tr><tr><td>test_accuracy</td><td>96.03</td></tr><tr><td>train_acc</td><td>96.19815</td></tr><tr><td>train_loss</td><td>0.13704</td></tr><tr><td>val_acc</td><td>95.4</td></tr><tr><td>val_loss</td><td>0.16253</td></tr></table><br/></div></div>"
      ],
      "text/plain": [
       "<IPython.core.display.HTML object>"
      ]
     },
     "metadata": {},
     "output_type": "display_data"
    },
    {
     "data": {
      "text/html": [
       " View run <strong style=\"color:#cdcd00\">opt_rmsprop_hl_5_bs_64_e_10_act_sigmoid_eta_0.005_init_random_hls_64_dataset_mnist_cross_entropy</strong> at: <a href='https://wandb.ai/cs24m021-iit-madras/DA6401_DL_Assignment1/runs/b2gr80di' target=\"_blank\">https://wandb.ai/cs24m021-iit-madras/DA6401_DL_Assignment1/runs/b2gr80di</a><br> View project at: <a href='https://wandb.ai/cs24m021-iit-madras/DA6401_DL_Assignment1' target=\"_blank\">https://wandb.ai/cs24m021-iit-madras/DA6401_DL_Assignment1</a><br>Synced 5 W&B file(s), 0 media file(s), 0 artifact file(s) and 0 other file(s)"
      ],
      "text/plain": [
       "<IPython.core.display.HTML object>"
      ]
     },
     "metadata": {},
     "output_type": "display_data"
    },
    {
     "data": {
      "text/html": [
       "Find logs at: <code>./wandb/run-20250311_142127-b2gr80di/logs</code>"
      ],
      "text/plain": [
       "<IPython.core.display.HTML object>"
      ]
     },
     "metadata": {},
     "output_type": "display_data"
    },
    {
     "name": "stderr",
     "output_type": "stream",
     "text": [
      "\u001b[34m\u001b[1mwandb\u001b[0m: Agent Starting Run: 8t6eqkrf with config:\n",
      "\u001b[34m\u001b[1mwandb\u001b[0m: \tactivation: sigmoid\n",
      "\u001b[34m\u001b[1mwandb\u001b[0m: \thidden_layer_sizes: 64\n",
      "\u001b[34m\u001b[1mwandb\u001b[0m: \toptimizer: nesterov\n"
     ]
    },
    {
     "data": {
      "text/html": [
       "Ignoring project 'DA6401_DL_Assignment1' when running a sweep."
      ],
      "text/plain": [
       "<IPython.core.display.HTML object>"
      ]
     },
     "metadata": {},
     "output_type": "display_data"
    },
    {
     "data": {
      "text/html": [
       "Tracking run with wandb version 0.19.8"
      ],
      "text/plain": [
       "<IPython.core.display.HTML object>"
      ]
     },
     "metadata": {},
     "output_type": "display_data"
    },
    {
     "data": {
      "text/html": [
       "Run data is saved locally in <code>/home/ubuntu/wandb/run-20250311_142209-8t6eqkrf</code>"
      ],
      "text/plain": [
       "<IPython.core.display.HTML object>"
      ]
     },
     "metadata": {},
     "output_type": "display_data"
    },
    {
     "data": {
      "text/html": [
       "Syncing run <strong><a href='https://wandb.ai/cs24m021-iit-madras/DA6401_DL_Assignment1/runs/8t6eqkrf' target=\"_blank\">sparkling-sweep-45</a></strong> to <a href='https://wandb.ai/cs24m021-iit-madras/DA6401_DL_Assignment1' target=\"_blank\">Weights & Biases</a> (<a href='https://wandb.me/developer-guide' target=\"_blank\">docs</a>)<br>Sweep page: <a href='https://wandb.ai/cs24m021-iit-madras/DA6401_DL_Assignment1/sweeps/jtj28a74' target=\"_blank\">https://wandb.ai/cs24m021-iit-madras/DA6401_DL_Assignment1/sweeps/jtj28a74</a>"
      ],
      "text/plain": [
       "<IPython.core.display.HTML object>"
      ]
     },
     "metadata": {},
     "output_type": "display_data"
    },
    {
     "data": {
      "text/html": [
       " View project at <a href='https://wandb.ai/cs24m021-iit-madras/DA6401_DL_Assignment1' target=\"_blank\">https://wandb.ai/cs24m021-iit-madras/DA6401_DL_Assignment1</a>"
      ],
      "text/plain": [
       "<IPython.core.display.HTML object>"
      ]
     },
     "metadata": {},
     "output_type": "display_data"
    },
    {
     "data": {
      "text/html": [
       " View sweep at <a href='https://wandb.ai/cs24m021-iit-madras/DA6401_DL_Assignment1/sweeps/jtj28a74' target=\"_blank\">https://wandb.ai/cs24m021-iit-madras/DA6401_DL_Assignment1/sweeps/jtj28a74</a>"
      ],
      "text/plain": [
       "<IPython.core.display.HTML object>"
      ]
     },
     "metadata": {},
     "output_type": "display_data"
    },
    {
     "data": {
      "text/html": [
       " View run at <a href='https://wandb.ai/cs24m021-iit-madras/DA6401_DL_Assignment1/runs/8t6eqkrf' target=\"_blank\">https://wandb.ai/cs24m021-iit-madras/DA6401_DL_Assignment1/runs/8t6eqkrf</a>"
      ],
      "text/plain": [
       "<IPython.core.display.HTML object>"
      ]
     },
     "metadata": {},
     "output_type": "display_data"
    },
    {
     "name": "stdout",
     "output_type": "stream",
     "text": [
      "Epoch 1: Train Loss=1.3332, Train Acc=56.98%, Val Loss=1.3265, Val Acc=57.68%\n",
      "Epoch 2: Train Loss=0.9610, Train Acc=69.13%, Val Loss=0.9538, Val Acc=69.70%\n",
      "Epoch 3: Train Loss=0.7750, Train Acc=75.26%, Val Loss=0.7746, Val Acc=75.38%\n",
      "Epoch 4: Train Loss=0.6646, Train Acc=78.96%, Val Loss=0.6676, Val Acc=78.97%\n",
      "Epoch 5: Train Loss=0.5899, Train Acc=81.61%, Val Loss=0.5946, Val Acc=81.23%\n",
      "Epoch 6: Train Loss=0.5347, Train Acc=83.32%, Val Loss=0.5407, Val Acc=83.30%\n",
      "Epoch 7: Train Loss=0.4920, Train Acc=84.75%, Val Loss=0.4993, Val Acc=84.60%\n",
      "Epoch 8: Train Loss=0.4575, Train Acc=85.90%, Val Loss=0.4663, Val Acc=85.75%\n",
      "Epoch 9: Train Loss=0.4287, Train Acc=86.87%, Val Loss=0.4392, Val Acc=86.75%\n",
      "Epoch 10: Train Loss=0.4043, Train Acc=87.59%, Val Loss=0.4164, Val Acc=87.70%\n",
      "Test Loss: 0.4135, Test Acc: 87.12%\n"
     ]
    },
    {
     "data": {
      "text/html": [],
      "text/plain": [
       "<IPython.core.display.HTML object>"
      ]
     },
     "metadata": {},
     "output_type": "display_data"
    },
    {
     "data": {
      "text/html": [
       "<br>    <style><br>        .wandb-row {<br>            display: flex;<br>            flex-direction: row;<br>            flex-wrap: wrap;<br>            justify-content: flex-start;<br>            width: 100%;<br>        }<br>        .wandb-col {<br>            display: flex;<br>            flex-direction: column;<br>            flex-basis: 100%;<br>            flex: 1;<br>            padding: 10px;<br>        }<br>    </style><br><div class=\"wandb-row\"><div class=\"wandb-col\"><h3>Run history:</h3><br/><table class=\"wandb\"><tr><td>epoch</td><td>▁▂▃▃▄▅▆▆▇█</td></tr><tr><td>test_accuracy</td><td>▁</td></tr><tr><td>train_acc</td><td>▁▄▅▆▇▇▇███</td></tr><tr><td>train_loss</td><td>█▅▄▃▂▂▂▁▁▁</td></tr><tr><td>val_acc</td><td>▁▄▅▆▆▇▇███</td></tr><tr><td>val_loss</td><td>█▅▄▃▂▂▂▁▁▁</td></tr></table><br/></div><div class=\"wandb-col\"><h3>Run summary:</h3><br/><table class=\"wandb\"><tr><td>epoch</td><td>10</td></tr><tr><td>test_accuracy</td><td>87.12</td></tr><tr><td>train_acc</td><td>87.59074</td></tr><tr><td>train_loss</td><td>0.40428</td></tr><tr><td>val_acc</td><td>87.7</td></tr><tr><td>val_loss</td><td>0.41637</td></tr></table><br/></div></div>"
      ],
      "text/plain": [
       "<IPython.core.display.HTML object>"
      ]
     },
     "metadata": {},
     "output_type": "display_data"
    },
    {
     "data": {
      "text/html": [
       " View run <strong style=\"color:#cdcd00\">opt_nesterov_hl_5_bs_64_e_10_act_sigmoid_eta_0.005_init_random_hls_64_dataset_mnist_cross_entropy</strong> at: <a href='https://wandb.ai/cs24m021-iit-madras/DA6401_DL_Assignment1/runs/8t6eqkrf' target=\"_blank\">https://wandb.ai/cs24m021-iit-madras/DA6401_DL_Assignment1/runs/8t6eqkrf</a><br> View project at: <a href='https://wandb.ai/cs24m021-iit-madras/DA6401_DL_Assignment1' target=\"_blank\">https://wandb.ai/cs24m021-iit-madras/DA6401_DL_Assignment1</a><br>Synced 5 W&B file(s), 0 media file(s), 0 artifact file(s) and 0 other file(s)"
      ],
      "text/plain": [
       "<IPython.core.display.HTML object>"
      ]
     },
     "metadata": {},
     "output_type": "display_data"
    },
    {
     "data": {
      "text/html": [
       "Find logs at: <code>./wandb/run-20250311_142209-8t6eqkrf/logs</code>"
      ],
      "text/plain": [
       "<IPython.core.display.HTML object>"
      ]
     },
     "metadata": {},
     "output_type": "display_data"
    },
    {
     "name": "stderr",
     "output_type": "stream",
     "text": [
      "\u001b[34m\u001b[1mwandb\u001b[0m: Agent Starting Run: qgo8kfhi with config:\n",
      "\u001b[34m\u001b[1mwandb\u001b[0m: \tactivation: tanh\n",
      "\u001b[34m\u001b[1mwandb\u001b[0m: \thidden_layer_sizes: 128\n",
      "\u001b[34m\u001b[1mwandb\u001b[0m: \toptimizer: adam\n"
     ]
    },
    {
     "data": {
      "text/html": [
       "Ignoring project 'DA6401_DL_Assignment1' when running a sweep."
      ],
      "text/plain": [
       "<IPython.core.display.HTML object>"
      ]
     },
     "metadata": {},
     "output_type": "display_data"
    },
    {
     "data": {
      "text/html": [
       "Tracking run with wandb version 0.19.8"
      ],
      "text/plain": [
       "<IPython.core.display.HTML object>"
      ]
     },
     "metadata": {},
     "output_type": "display_data"
    },
    {
     "data": {
      "text/html": [
       "Run data is saved locally in <code>/home/ubuntu/wandb/run-20250311_142257-qgo8kfhi</code>"
      ],
      "text/plain": [
       "<IPython.core.display.HTML object>"
      ]
     },
     "metadata": {},
     "output_type": "display_data"
    },
    {
     "data": {
      "text/html": [
       "Syncing run <strong><a href='https://wandb.ai/cs24m021-iit-madras/DA6401_DL_Assignment1/runs/qgo8kfhi' target=\"_blank\">royal-sweep-46</a></strong> to <a href='https://wandb.ai/cs24m021-iit-madras/DA6401_DL_Assignment1' target=\"_blank\">Weights & Biases</a> (<a href='https://wandb.me/developer-guide' target=\"_blank\">docs</a>)<br>Sweep page: <a href='https://wandb.ai/cs24m021-iit-madras/DA6401_DL_Assignment1/sweeps/jtj28a74' target=\"_blank\">https://wandb.ai/cs24m021-iit-madras/DA6401_DL_Assignment1/sweeps/jtj28a74</a>"
      ],
      "text/plain": [
       "<IPython.core.display.HTML object>"
      ]
     },
     "metadata": {},
     "output_type": "display_data"
    },
    {
     "data": {
      "text/html": [
       " View project at <a href='https://wandb.ai/cs24m021-iit-madras/DA6401_DL_Assignment1' target=\"_blank\">https://wandb.ai/cs24m021-iit-madras/DA6401_DL_Assignment1</a>"
      ],
      "text/plain": [
       "<IPython.core.display.HTML object>"
      ]
     },
     "metadata": {},
     "output_type": "display_data"
    },
    {
     "data": {
      "text/html": [
       " View sweep at <a href='https://wandb.ai/cs24m021-iit-madras/DA6401_DL_Assignment1/sweeps/jtj28a74' target=\"_blank\">https://wandb.ai/cs24m021-iit-madras/DA6401_DL_Assignment1/sweeps/jtj28a74</a>"
      ],
      "text/plain": [
       "<IPython.core.display.HTML object>"
      ]
     },
     "metadata": {},
     "output_type": "display_data"
    },
    {
     "data": {
      "text/html": [
       " View run at <a href='https://wandb.ai/cs24m021-iit-madras/DA6401_DL_Assignment1/runs/qgo8kfhi' target=\"_blank\">https://wandb.ai/cs24m021-iit-madras/DA6401_DL_Assignment1/runs/qgo8kfhi</a>"
      ],
      "text/plain": [
       "<IPython.core.display.HTML object>"
      ]
     },
     "metadata": {},
     "output_type": "display_data"
    },
    {
     "name": "stdout",
     "output_type": "stream",
     "text": [
      "Epoch 1: Train Loss=1.7995, Train Acc=45.84%, Val Loss=1.8387, Val Acc=44.43%\n",
      "Epoch 2: Train Loss=1.2879, Train Acc=55.84%, Val Loss=1.3097, Val Acc=55.20%\n",
      "Epoch 3: Train Loss=1.0600, Train Acc=64.22%, Val Loss=1.0762, Val Acc=63.30%\n",
      "Epoch 4: Train Loss=0.9140, Train Acc=68.94%, Val Loss=0.9091, Val Acc=68.93%\n",
      "Epoch 5: Train Loss=0.7995, Train Acc=73.51%, Val Loss=0.8352, Val Acc=71.72%\n",
      "Epoch 6: Train Loss=0.6727, Train Acc=77.86%, Val Loss=0.7087, Val Acc=76.32%\n",
      "Epoch 7: Train Loss=0.5245, Train Acc=82.98%, Val Loss=0.5729, Val Acc=81.93%\n",
      "Epoch 8: Train Loss=0.4252, Train Acc=86.55%, Val Loss=0.4764, Val Acc=84.87%\n",
      "Epoch 9: Train Loss=0.3494, Train Acc=89.34%, Val Loss=0.3911, Val Acc=88.65%\n",
      "Epoch 10: Train Loss=0.2635, Train Acc=91.91%, Val Loss=0.3116, Val Acc=90.75%\n",
      "Test Loss: 0.3132, Test Acc: 90.94%\n"
     ]
    },
    {
     "data": {
      "text/html": [],
      "text/plain": [
       "<IPython.core.display.HTML object>"
      ]
     },
     "metadata": {},
     "output_type": "display_data"
    },
    {
     "data": {
      "text/html": [
       "<br>    <style><br>        .wandb-row {<br>            display: flex;<br>            flex-direction: row;<br>            flex-wrap: wrap;<br>            justify-content: flex-start;<br>            width: 100%;<br>        }<br>        .wandb-col {<br>            display: flex;<br>            flex-direction: column;<br>            flex-basis: 100%;<br>            flex: 1;<br>            padding: 10px;<br>        }<br>    </style><br><div class=\"wandb-row\"><div class=\"wandb-col\"><h3>Run history:</h3><br/><table class=\"wandb\"><tr><td>epoch</td><td>▁▂▃▃▄▅▆▆▇█</td></tr><tr><td>test_accuracy</td><td>▁</td></tr><tr><td>train_acc</td><td>▁▃▄▅▅▆▇▇██</td></tr><tr><td>train_loss</td><td>█▆▅▄▃▃▂▂▁▁</td></tr><tr><td>val_acc</td><td>▁▃▄▅▅▆▇▇██</td></tr><tr><td>val_loss</td><td>█▆▅▄▃▃▂▂▁▁</td></tr></table><br/></div><div class=\"wandb-col\"><h3>Run summary:</h3><br/><table class=\"wandb\"><tr><td>epoch</td><td>10</td></tr><tr><td>test_accuracy</td><td>90.94</td></tr><tr><td>train_acc</td><td>91.91296</td></tr><tr><td>train_loss</td><td>0.26352</td></tr><tr><td>val_acc</td><td>90.75</td></tr><tr><td>val_loss</td><td>0.31162</td></tr></table><br/></div></div>"
      ],
      "text/plain": [
       "<IPython.core.display.HTML object>"
      ]
     },
     "metadata": {},
     "output_type": "display_data"
    },
    {
     "data": {
      "text/html": [
       " View run <strong style=\"color:#cdcd00\">opt_adam_hl_5_bs_64_e_10_act_tanh_eta_0.005_init_random_hls_128_dataset_mnist_cross_entropy</strong> at: <a href='https://wandb.ai/cs24m021-iit-madras/DA6401_DL_Assignment1/runs/qgo8kfhi' target=\"_blank\">https://wandb.ai/cs24m021-iit-madras/DA6401_DL_Assignment1/runs/qgo8kfhi</a><br> View project at: <a href='https://wandb.ai/cs24m021-iit-madras/DA6401_DL_Assignment1' target=\"_blank\">https://wandb.ai/cs24m021-iit-madras/DA6401_DL_Assignment1</a><br>Synced 5 W&B file(s), 0 media file(s), 0 artifact file(s) and 0 other file(s)"
      ],
      "text/plain": [
       "<IPython.core.display.HTML object>"
      ]
     },
     "metadata": {},
     "output_type": "display_data"
    },
    {
     "data": {
      "text/html": [
       "Find logs at: <code>./wandb/run-20250311_142257-qgo8kfhi/logs</code>"
      ],
      "text/plain": [
       "<IPython.core.display.HTML object>"
      ]
     },
     "metadata": {},
     "output_type": "display_data"
    },
    {
     "name": "stderr",
     "output_type": "stream",
     "text": [
      "\u001b[34m\u001b[1mwandb\u001b[0m: Agent Starting Run: db00lwrb with config:\n",
      "\u001b[34m\u001b[1mwandb\u001b[0m: \tactivation: sigmoid\n",
      "\u001b[34m\u001b[1mwandb\u001b[0m: \thidden_layer_sizes: 64\n",
      "\u001b[34m\u001b[1mwandb\u001b[0m: \toptimizer: rmsprop\n"
     ]
    },
    {
     "data": {
      "text/html": [
       "Ignoring project 'DA6401_DL_Assignment1' when running a sweep."
      ],
      "text/plain": [
       "<IPython.core.display.HTML object>"
      ]
     },
     "metadata": {},
     "output_type": "display_data"
    },
    {
     "data": {
      "text/html": [
       "Tracking run with wandb version 0.19.8"
      ],
      "text/plain": [
       "<IPython.core.display.HTML object>"
      ]
     },
     "metadata": {},
     "output_type": "display_data"
    },
    {
     "data": {
      "text/html": [
       "Run data is saved locally in <code>/home/ubuntu/wandb/run-20250311_142417-db00lwrb</code>"
      ],
      "text/plain": [
       "<IPython.core.display.HTML object>"
      ]
     },
     "metadata": {},
     "output_type": "display_data"
    },
    {
     "data": {
      "text/html": [
       "Syncing run <strong><a href='https://wandb.ai/cs24m021-iit-madras/DA6401_DL_Assignment1/runs/db00lwrb' target=\"_blank\">hearty-sweep-47</a></strong> to <a href='https://wandb.ai/cs24m021-iit-madras/DA6401_DL_Assignment1' target=\"_blank\">Weights & Biases</a> (<a href='https://wandb.me/developer-guide' target=\"_blank\">docs</a>)<br>Sweep page: <a href='https://wandb.ai/cs24m021-iit-madras/DA6401_DL_Assignment1/sweeps/jtj28a74' target=\"_blank\">https://wandb.ai/cs24m021-iit-madras/DA6401_DL_Assignment1/sweeps/jtj28a74</a>"
      ],
      "text/plain": [
       "<IPython.core.display.HTML object>"
      ]
     },
     "metadata": {},
     "output_type": "display_data"
    },
    {
     "data": {
      "text/html": [
       " View project at <a href='https://wandb.ai/cs24m021-iit-madras/DA6401_DL_Assignment1' target=\"_blank\">https://wandb.ai/cs24m021-iit-madras/DA6401_DL_Assignment1</a>"
      ],
      "text/plain": [
       "<IPython.core.display.HTML object>"
      ]
     },
     "metadata": {},
     "output_type": "display_data"
    },
    {
     "data": {
      "text/html": [
       " View sweep at <a href='https://wandb.ai/cs24m021-iit-madras/DA6401_DL_Assignment1/sweeps/jtj28a74' target=\"_blank\">https://wandb.ai/cs24m021-iit-madras/DA6401_DL_Assignment1/sweeps/jtj28a74</a>"
      ],
      "text/plain": [
       "<IPython.core.display.HTML object>"
      ]
     },
     "metadata": {},
     "output_type": "display_data"
    },
    {
     "data": {
      "text/html": [
       " View run at <a href='https://wandb.ai/cs24m021-iit-madras/DA6401_DL_Assignment1/runs/db00lwrb' target=\"_blank\">https://wandb.ai/cs24m021-iit-madras/DA6401_DL_Assignment1/runs/db00lwrb</a>"
      ],
      "text/plain": [
       "<IPython.core.display.HTML object>"
      ]
     },
     "metadata": {},
     "output_type": "display_data"
    },
    {
     "name": "stdout",
     "output_type": "stream",
     "text": [
      "Epoch 1: Train Loss=0.3201, Train Acc=90.93%, Val Loss=0.3350, Val Acc=90.62%\n",
      "Epoch 2: Train Loss=0.1954, Train Acc=94.60%, Val Loss=0.2150, Val Acc=94.05%\n",
      "Epoch 3: Train Loss=0.1878, Train Acc=94.60%, Val Loss=0.2107, Val Acc=94.05%\n",
      "Epoch 4: Train Loss=0.1599, Train Acc=95.57%, Val Loss=0.1839, Val Acc=94.73%\n",
      "Epoch 5: Train Loss=0.1496, Train Acc=95.80%, Val Loss=0.1766, Val Acc=94.87%\n",
      "Epoch 6: Train Loss=0.1440, Train Acc=95.99%, Val Loss=0.1715, Val Acc=95.10%\n",
      "Epoch 7: Train Loss=0.1408, Train Acc=96.12%, Val Loss=0.1664, Val Acc=95.30%\n",
      "Epoch 8: Train Loss=0.1361, Train Acc=96.24%, Val Loss=0.1609, Val Acc=95.37%\n",
      "Epoch 9: Train Loss=0.1354, Train Acc=96.23%, Val Loss=0.1594, Val Acc=95.33%\n",
      "Epoch 10: Train Loss=0.1366, Train Acc=96.20%, Val Loss=0.1608, Val Acc=95.30%\n",
      "Test Loss: 0.1444, Test Acc: 95.91%\n"
     ]
    },
    {
     "data": {
      "text/html": [],
      "text/plain": [
       "<IPython.core.display.HTML object>"
      ]
     },
     "metadata": {},
     "output_type": "display_data"
    },
    {
     "data": {
      "text/html": [
       "<br>    <style><br>        .wandb-row {<br>            display: flex;<br>            flex-direction: row;<br>            flex-wrap: wrap;<br>            justify-content: flex-start;<br>            width: 100%;<br>        }<br>        .wandb-col {<br>            display: flex;<br>            flex-direction: column;<br>            flex-basis: 100%;<br>            flex: 1;<br>            padding: 10px;<br>        }<br>    </style><br><div class=\"wandb-row\"><div class=\"wandb-col\"><h3>Run history:</h3><br/><table class=\"wandb\"><tr><td>epoch</td><td>▁▂▃▃▄▅▆▆▇█</td></tr><tr><td>test_accuracy</td><td>▁</td></tr><tr><td>train_acc</td><td>▁▆▆▇▇█████</td></tr><tr><td>train_loss</td><td>█▃▃▂▂▁▁▁▁▁</td></tr><tr><td>val_acc</td><td>▁▆▆▇▇█████</td></tr><tr><td>val_loss</td><td>█▃▃▂▂▁▁▁▁▁</td></tr></table><br/></div><div class=\"wandb-col\"><h3>Run summary:</h3><br/><table class=\"wandb\"><tr><td>epoch</td><td>10</td></tr><tr><td>test_accuracy</td><td>95.91</td></tr><tr><td>train_acc</td><td>96.20185</td></tr><tr><td>train_loss</td><td>0.13664</td></tr><tr><td>val_acc</td><td>95.3</td></tr><tr><td>val_loss</td><td>0.1608</td></tr></table><br/></div></div>"
      ],
      "text/plain": [
       "<IPython.core.display.HTML object>"
      ]
     },
     "metadata": {},
     "output_type": "display_data"
    },
    {
     "data": {
      "text/html": [
       " View run <strong style=\"color:#cdcd00\">opt_rmsprop_hl_5_bs_64_e_10_act_sigmoid_eta_0.005_init_random_hls_64_dataset_mnist_cross_entropy</strong> at: <a href='https://wandb.ai/cs24m021-iit-madras/DA6401_DL_Assignment1/runs/db00lwrb' target=\"_blank\">https://wandb.ai/cs24m021-iit-madras/DA6401_DL_Assignment1/runs/db00lwrb</a><br> View project at: <a href='https://wandb.ai/cs24m021-iit-madras/DA6401_DL_Assignment1' target=\"_blank\">https://wandb.ai/cs24m021-iit-madras/DA6401_DL_Assignment1</a><br>Synced 5 W&B file(s), 0 media file(s), 0 artifact file(s) and 0 other file(s)"
      ],
      "text/plain": [
       "<IPython.core.display.HTML object>"
      ]
     },
     "metadata": {},
     "output_type": "display_data"
    },
    {
     "data": {
      "text/html": [
       "Find logs at: <code>./wandb/run-20250311_142417-db00lwrb/logs</code>"
      ],
      "text/plain": [
       "<IPython.core.display.HTML object>"
      ]
     },
     "metadata": {},
     "output_type": "display_data"
    },
    {
     "name": "stderr",
     "output_type": "stream",
     "text": [
      "\u001b[34m\u001b[1mwandb\u001b[0m: Sweep Agent: Waiting for job.\n",
      "\u001b[34m\u001b[1mwandb\u001b[0m: Job received.\n",
      "\u001b[34m\u001b[1mwandb\u001b[0m: Agent Starting Run: 7ervsrle with config:\n",
      "\u001b[34m\u001b[1mwandb\u001b[0m: \tactivation: ReLU\n",
      "\u001b[34m\u001b[1mwandb\u001b[0m: \thidden_layer_sizes: 32\n",
      "\u001b[34m\u001b[1mwandb\u001b[0m: \toptimizer: adam\n"
     ]
    },
    {
     "data": {
      "text/html": [
       "Ignoring project 'DA6401_DL_Assignment1' when running a sweep."
      ],
      "text/plain": [
       "<IPython.core.display.HTML object>"
      ]
     },
     "metadata": {},
     "output_type": "display_data"
    },
    {
     "data": {
      "text/html": [
       "Tracking run with wandb version 0.19.8"
      ],
      "text/plain": [
       "<IPython.core.display.HTML object>"
      ]
     },
     "metadata": {},
     "output_type": "display_data"
    },
    {
     "data": {
      "text/html": [
       "Run data is saved locally in <code>/home/ubuntu/wandb/run-20250311_142509-7ervsrle</code>"
      ],
      "text/plain": [
       "<IPython.core.display.HTML object>"
      ]
     },
     "metadata": {},
     "output_type": "display_data"
    },
    {
     "data": {
      "text/html": [
       "Syncing run <strong><a href='https://wandb.ai/cs24m021-iit-madras/DA6401_DL_Assignment1/runs/7ervsrle' target=\"_blank\">treasured-sweep-48</a></strong> to <a href='https://wandb.ai/cs24m021-iit-madras/DA6401_DL_Assignment1' target=\"_blank\">Weights & Biases</a> (<a href='https://wandb.me/developer-guide' target=\"_blank\">docs</a>)<br>Sweep page: <a href='https://wandb.ai/cs24m021-iit-madras/DA6401_DL_Assignment1/sweeps/jtj28a74' target=\"_blank\">https://wandb.ai/cs24m021-iit-madras/DA6401_DL_Assignment1/sweeps/jtj28a74</a>"
      ],
      "text/plain": [
       "<IPython.core.display.HTML object>"
      ]
     },
     "metadata": {},
     "output_type": "display_data"
    },
    {
     "data": {
      "text/html": [
       " View project at <a href='https://wandb.ai/cs24m021-iit-madras/DA6401_DL_Assignment1' target=\"_blank\">https://wandb.ai/cs24m021-iit-madras/DA6401_DL_Assignment1</a>"
      ],
      "text/plain": [
       "<IPython.core.display.HTML object>"
      ]
     },
     "metadata": {},
     "output_type": "display_data"
    },
    {
     "data": {
      "text/html": [
       " View sweep at <a href='https://wandb.ai/cs24m021-iit-madras/DA6401_DL_Assignment1/sweeps/jtj28a74' target=\"_blank\">https://wandb.ai/cs24m021-iit-madras/DA6401_DL_Assignment1/sweeps/jtj28a74</a>"
      ],
      "text/plain": [
       "<IPython.core.display.HTML object>"
      ]
     },
     "metadata": {},
     "output_type": "display_data"
    },
    {
     "data": {
      "text/html": [
       " View run at <a href='https://wandb.ai/cs24m021-iit-madras/DA6401_DL_Assignment1/runs/7ervsrle' target=\"_blank\">https://wandb.ai/cs24m021-iit-madras/DA6401_DL_Assignment1/runs/7ervsrle</a>"
      ],
      "text/plain": [
       "<IPython.core.display.HTML object>"
      ]
     },
     "metadata": {},
     "output_type": "display_data"
    },
    {
     "name": "stdout",
     "output_type": "stream",
     "text": [
      "Epoch 1: Train Loss=2.6759, Train Acc=14.12%, Val Loss=2.6886, Val Acc=14.00%\n",
      "Epoch 2: Train Loss=2.3681, Train Acc=11.89%, Val Loss=2.3742, Val Acc=11.77%\n",
      "Epoch 3: Train Loss=2.3210, Train Acc=11.56%, Val Loss=2.3485, Val Acc=11.33%\n",
      "Epoch 4: Train Loss=2.3064, Train Acc=11.52%, Val Loss=2.3342, Val Acc=11.35%\n",
      "Epoch 5: Train Loss=2.2994, Train Acc=11.51%, Val Loss=2.3340, Val Acc=11.20%\n",
      "Epoch 6: Train Loss=2.2933, Train Acc=11.54%, Val Loss=2.3312, Val Acc=11.28%\n",
      "Epoch 7: Train Loss=2.2904, Train Acc=11.30%, Val Loss=2.3001, Val Acc=11.10%\n",
      "Epoch 8: Train Loss=2.3013, Train Acc=11.33%, Val Loss=2.3087, Val Acc=11.15%\n",
      "Epoch 9: Train Loss=2.3396, Train Acc=11.90%, Val Loss=2.3528, Val Acc=11.45%\n",
      "Epoch 10: Train Loss=2.2729, Train Acc=12.37%, Val Loss=2.2762, Val Acc=11.87%\n",
      "Test Loss: 2.2824, Test Acc: 12.03%\n"
     ]
    },
    {
     "data": {
      "text/html": [],
      "text/plain": [
       "<IPython.core.display.HTML object>"
      ]
     },
     "metadata": {},
     "output_type": "display_data"
    },
    {
     "data": {
      "text/html": [
       "<br>    <style><br>        .wandb-row {<br>            display: flex;<br>            flex-direction: row;<br>            flex-wrap: wrap;<br>            justify-content: flex-start;<br>            width: 100%;<br>        }<br>        .wandb-col {<br>            display: flex;<br>            flex-direction: column;<br>            flex-basis: 100%;<br>            flex: 1;<br>            padding: 10px;<br>        }<br>    </style><br><div class=\"wandb-row\"><div class=\"wandb-col\"><h3>Run history:</h3><br/><table class=\"wandb\"><tr><td>epoch</td><td>▁▂▃▃▄▅▆▆▇█</td></tr><tr><td>test_accuracy</td><td>▁</td></tr><tr><td>train_acc</td><td>█▂▂▂▂▂▁▁▂▄</td></tr><tr><td>train_loss</td><td>█▃▂▂▁▁▁▁▂▁</td></tr><tr><td>val_acc</td><td>█▃▂▂▁▁▁▁▂▃</td></tr><tr><td>val_loss</td><td>█▃▂▂▂▂▁▂▂▁</td></tr></table><br/></div><div class=\"wandb-col\"><h3>Run summary:</h3><br/><table class=\"wandb\"><tr><td>epoch</td><td>10</td></tr><tr><td>test_accuracy</td><td>12.03</td></tr><tr><td>train_acc</td><td>12.37222</td></tr><tr><td>train_loss</td><td>2.2729</td></tr><tr><td>val_acc</td><td>11.86667</td></tr><tr><td>val_loss</td><td>2.27624</td></tr></table><br/></div></div>"
      ],
      "text/plain": [
       "<IPython.core.display.HTML object>"
      ]
     },
     "metadata": {},
     "output_type": "display_data"
    },
    {
     "data": {
      "text/html": [
       " View run <strong style=\"color:#cdcd00\">opt_adam_hl_5_bs_64_e_10_act_ReLU_eta_0.005_init_random_hls_32_dataset_mnist_cross_entropy</strong> at: <a href='https://wandb.ai/cs24m021-iit-madras/DA6401_DL_Assignment1/runs/7ervsrle' target=\"_blank\">https://wandb.ai/cs24m021-iit-madras/DA6401_DL_Assignment1/runs/7ervsrle</a><br> View project at: <a href='https://wandb.ai/cs24m021-iit-madras/DA6401_DL_Assignment1' target=\"_blank\">https://wandb.ai/cs24m021-iit-madras/DA6401_DL_Assignment1</a><br>Synced 5 W&B file(s), 0 media file(s), 0 artifact file(s) and 0 other file(s)"
      ],
      "text/plain": [
       "<IPython.core.display.HTML object>"
      ]
     },
     "metadata": {},
     "output_type": "display_data"
    },
    {
     "data": {
      "text/html": [
       "Find logs at: <code>./wandb/run-20250311_142509-7ervsrle/logs</code>"
      ],
      "text/plain": [
       "<IPython.core.display.HTML object>"
      ]
     },
     "metadata": {},
     "output_type": "display_data"
    },
    {
     "name": "stderr",
     "output_type": "stream",
     "text": [
      "\u001b[34m\u001b[1mwandb\u001b[0m: Agent Starting Run: xkudygp0 with config:\n",
      "\u001b[34m\u001b[1mwandb\u001b[0m: \tactivation: sigmoid\n",
      "\u001b[34m\u001b[1mwandb\u001b[0m: \thidden_layer_sizes: 32\n",
      "\u001b[34m\u001b[1mwandb\u001b[0m: \toptimizer: sgd\n"
     ]
    },
    {
     "data": {
      "text/html": [
       "Ignoring project 'DA6401_DL_Assignment1' when running a sweep."
      ],
      "text/plain": [
       "<IPython.core.display.HTML object>"
      ]
     },
     "metadata": {},
     "output_type": "display_data"
    },
    {
     "data": {
      "text/html": [
       "Tracking run with wandb version 0.19.8"
      ],
      "text/plain": [
       "<IPython.core.display.HTML object>"
      ]
     },
     "metadata": {},
     "output_type": "display_data"
    },
    {
     "data": {
      "text/html": [
       "Run data is saved locally in <code>/home/ubuntu/wandb/run-20250311_142531-xkudygp0</code>"
      ],
      "text/plain": [
       "<IPython.core.display.HTML object>"
      ]
     },
     "metadata": {},
     "output_type": "display_data"
    },
    {
     "data": {
      "text/html": [
       "Syncing run <strong><a href='https://wandb.ai/cs24m021-iit-madras/DA6401_DL_Assignment1/runs/xkudygp0' target=\"_blank\">graceful-sweep-49</a></strong> to <a href='https://wandb.ai/cs24m021-iit-madras/DA6401_DL_Assignment1' target=\"_blank\">Weights & Biases</a> (<a href='https://wandb.me/developer-guide' target=\"_blank\">docs</a>)<br>Sweep page: <a href='https://wandb.ai/cs24m021-iit-madras/DA6401_DL_Assignment1/sweeps/jtj28a74' target=\"_blank\">https://wandb.ai/cs24m021-iit-madras/DA6401_DL_Assignment1/sweeps/jtj28a74</a>"
      ],
      "text/plain": [
       "<IPython.core.display.HTML object>"
      ]
     },
     "metadata": {},
     "output_type": "display_data"
    },
    {
     "data": {
      "text/html": [
       " View project at <a href='https://wandb.ai/cs24m021-iit-madras/DA6401_DL_Assignment1' target=\"_blank\">https://wandb.ai/cs24m021-iit-madras/DA6401_DL_Assignment1</a>"
      ],
      "text/plain": [
       "<IPython.core.display.HTML object>"
      ]
     },
     "metadata": {},
     "output_type": "display_data"
    },
    {
     "data": {
      "text/html": [
       " View sweep at <a href='https://wandb.ai/cs24m021-iit-madras/DA6401_DL_Assignment1/sweeps/jtj28a74' target=\"_blank\">https://wandb.ai/cs24m021-iit-madras/DA6401_DL_Assignment1/sweeps/jtj28a74</a>"
      ],
      "text/plain": [
       "<IPython.core.display.HTML object>"
      ]
     },
     "metadata": {},
     "output_type": "display_data"
    },
    {
     "data": {
      "text/html": [
       " View run at <a href='https://wandb.ai/cs24m021-iit-madras/DA6401_DL_Assignment1/runs/xkudygp0' target=\"_blank\">https://wandb.ai/cs24m021-iit-madras/DA6401_DL_Assignment1/runs/xkudygp0</a>"
      ],
      "text/plain": [
       "<IPython.core.display.HTML object>"
      ]
     },
     "metadata": {},
     "output_type": "display_data"
    },
    {
     "name": "stdout",
     "output_type": "stream",
     "text": [
      "Epoch 1: Train Loss=2.2983, Train Acc=14.73%, Val Loss=2.3048, Val Acc=14.55%\n",
      "Epoch 2: Train Loss=2.2314, Train Acc=18.57%, Val Loss=2.2374, Val Acc=18.80%\n",
      "Epoch 3: Train Loss=2.1758, Train Acc=21.82%, Val Loss=2.1811, Val Acc=22.92%\n",
      "Epoch 4: Train Loss=2.1194, Train Acc=25.21%, Val Loss=2.1240, Val Acc=25.97%\n",
      "Epoch 5: Train Loss=2.0594, Train Acc=28.24%, Val Loss=2.0629, Val Acc=28.92%\n",
      "Epoch 6: Train Loss=1.9972, Train Acc=30.89%, Val Loss=1.9994, Val Acc=31.53%\n",
      "Epoch 7: Train Loss=1.9352, Train Acc=33.31%, Val Loss=1.9359, Val Acc=33.80%\n",
      "Epoch 8: Train Loss=1.8749, Train Acc=35.65%, Val Loss=1.8747, Val Acc=36.22%\n",
      "Epoch 9: Train Loss=1.8171, Train Acc=37.75%, Val Loss=1.8167, Val Acc=38.35%\n",
      "Epoch 10: Train Loss=1.7618, Train Acc=39.80%, Val Loss=1.7617, Val Acc=40.35%\n",
      "Test Loss: 1.7471, Test Acc: 40.41%\n"
     ]
    },
    {
     "data": {
      "text/html": [],
      "text/plain": [
       "<IPython.core.display.HTML object>"
      ]
     },
     "metadata": {},
     "output_type": "display_data"
    },
    {
     "data": {
      "text/html": [
       "<br>    <style><br>        .wandb-row {<br>            display: flex;<br>            flex-direction: row;<br>            flex-wrap: wrap;<br>            justify-content: flex-start;<br>            width: 100%;<br>        }<br>        .wandb-col {<br>            display: flex;<br>            flex-direction: column;<br>            flex-basis: 100%;<br>            flex: 1;<br>            padding: 10px;<br>        }<br>    </style><br><div class=\"wandb-row\"><div class=\"wandb-col\"><h3>Run history:</h3><br/><table class=\"wandb\"><tr><td>epoch</td><td>▁▂▃▃▄▅▆▆▇█</td></tr><tr><td>test_accuracy</td><td>▁</td></tr><tr><td>train_acc</td><td>▁▂▃▄▅▆▆▇▇█</td></tr><tr><td>train_loss</td><td>█▇▆▆▅▄▃▂▂▁</td></tr><tr><td>val_acc</td><td>▁▂▃▄▅▆▆▇▇█</td></tr><tr><td>val_loss</td><td>█▇▆▆▅▄▃▂▂▁</td></tr></table><br/></div><div class=\"wandb-col\"><h3>Run summary:</h3><br/><table class=\"wandb\"><tr><td>epoch</td><td>10</td></tr><tr><td>test_accuracy</td><td>40.41</td></tr><tr><td>train_acc</td><td>39.7963</td></tr><tr><td>train_loss</td><td>1.7618</td></tr><tr><td>val_acc</td><td>40.35</td></tr><tr><td>val_loss</td><td>1.76165</td></tr></table><br/></div></div>"
      ],
      "text/plain": [
       "<IPython.core.display.HTML object>"
      ]
     },
     "metadata": {},
     "output_type": "display_data"
    },
    {
     "data": {
      "text/html": [
       " View run <strong style=\"color:#cdcd00\">opt_sgd_hl_5_bs_64_e_10_act_sigmoid_eta_0.005_init_random_hls_32_dataset_mnist_cross_entropy</strong> at: <a href='https://wandb.ai/cs24m021-iit-madras/DA6401_DL_Assignment1/runs/xkudygp0' target=\"_blank\">https://wandb.ai/cs24m021-iit-madras/DA6401_DL_Assignment1/runs/xkudygp0</a><br> View project at: <a href='https://wandb.ai/cs24m021-iit-madras/DA6401_DL_Assignment1' target=\"_blank\">https://wandb.ai/cs24m021-iit-madras/DA6401_DL_Assignment1</a><br>Synced 5 W&B file(s), 0 media file(s), 0 artifact file(s) and 0 other file(s)"
      ],
      "text/plain": [
       "<IPython.core.display.HTML object>"
      ]
     },
     "metadata": {},
     "output_type": "display_data"
    },
    {
     "data": {
      "text/html": [
       "Find logs at: <code>./wandb/run-20250311_142531-xkudygp0/logs</code>"
      ],
      "text/plain": [
       "<IPython.core.display.HTML object>"
      ]
     },
     "metadata": {},
     "output_type": "display_data"
    },
    {
     "name": "stderr",
     "output_type": "stream",
     "text": [
      "\u001b[34m\u001b[1mwandb\u001b[0m: Agent Starting Run: ibt0lz3d with config:\n",
      "\u001b[34m\u001b[1mwandb\u001b[0m: \tactivation: ReLU\n",
      "\u001b[34m\u001b[1mwandb\u001b[0m: \thidden_layer_sizes: 32\n",
      "\u001b[34m\u001b[1mwandb\u001b[0m: \toptimizer: nadam\n"
     ]
    },
    {
     "data": {
      "text/html": [
       "Ignoring project 'DA6401_DL_Assignment1' when running a sweep."
      ],
      "text/plain": [
       "<IPython.core.display.HTML object>"
      ]
     },
     "metadata": {},
     "output_type": "display_data"
    },
    {
     "data": {
      "text/html": [
       "Tracking run with wandb version 0.19.8"
      ],
      "text/plain": [
       "<IPython.core.display.HTML object>"
      ]
     },
     "metadata": {},
     "output_type": "display_data"
    },
    {
     "data": {
      "text/html": [
       "Run data is saved locally in <code>/home/ubuntu/wandb/run-20250311_142557-ibt0lz3d</code>"
      ],
      "text/plain": [
       "<IPython.core.display.HTML object>"
      ]
     },
     "metadata": {},
     "output_type": "display_data"
    },
    {
     "data": {
      "text/html": [
       "Syncing run <strong><a href='https://wandb.ai/cs24m021-iit-madras/DA6401_DL_Assignment1/runs/ibt0lz3d' target=\"_blank\">divine-sweep-50</a></strong> to <a href='https://wandb.ai/cs24m021-iit-madras/DA6401_DL_Assignment1' target=\"_blank\">Weights & Biases</a> (<a href='https://wandb.me/developer-guide' target=\"_blank\">docs</a>)<br>Sweep page: <a href='https://wandb.ai/cs24m021-iit-madras/DA6401_DL_Assignment1/sweeps/jtj28a74' target=\"_blank\">https://wandb.ai/cs24m021-iit-madras/DA6401_DL_Assignment1/sweeps/jtj28a74</a>"
      ],
      "text/plain": [
       "<IPython.core.display.HTML object>"
      ]
     },
     "metadata": {},
     "output_type": "display_data"
    },
    {
     "data": {
      "text/html": [
       " View project at <a href='https://wandb.ai/cs24m021-iit-madras/DA6401_DL_Assignment1' target=\"_blank\">https://wandb.ai/cs24m021-iit-madras/DA6401_DL_Assignment1</a>"
      ],
      "text/plain": [
       "<IPython.core.display.HTML object>"
      ]
     },
     "metadata": {},
     "output_type": "display_data"
    },
    {
     "data": {
      "text/html": [
       " View sweep at <a href='https://wandb.ai/cs24m021-iit-madras/DA6401_DL_Assignment1/sweeps/jtj28a74' target=\"_blank\">https://wandb.ai/cs24m021-iit-madras/DA6401_DL_Assignment1/sweeps/jtj28a74</a>"
      ],
      "text/plain": [
       "<IPython.core.display.HTML object>"
      ]
     },
     "metadata": {},
     "output_type": "display_data"
    },
    {
     "data": {
      "text/html": [
       " View run at <a href='https://wandb.ai/cs24m021-iit-madras/DA6401_DL_Assignment1/runs/ibt0lz3d' target=\"_blank\">https://wandb.ai/cs24m021-iit-madras/DA6401_DL_Assignment1/runs/ibt0lz3d</a>"
      ],
      "text/plain": [
       "<IPython.core.display.HTML object>"
      ]
     },
     "metadata": {},
     "output_type": "display_data"
    },
    {
     "name": "stdout",
     "output_type": "stream",
     "text": [
      "Epoch 1: Train Loss=7.1109, Train Acc=17.74%, Val Loss=7.1551, Val Acc=17.58%\n",
      "Epoch 2: Train Loss=4.0153, Train Acc=16.21%, Val Loss=4.0290, Val Acc=15.43%\n",
      "Epoch 3: Train Loss=3.0293, Train Acc=18.25%, Val Loss=3.0757, Val Acc=17.70%\n",
      "Epoch 4: Train Loss=2.5640, Train Acc=23.43%, Val Loss=2.6619, Val Acc=23.72%\n",
      "Epoch 5: Train Loss=2.1625, Train Acc=28.42%, Val Loss=2.2320, Val Acc=27.90%\n",
      "Epoch 6: Train Loss=2.0361, Train Acc=32.09%, Val Loss=2.1176, Val Acc=31.92%\n",
      "Epoch 7: Train Loss=1.8526, Train Acc=38.91%, Val Loss=1.9353, Val Acc=38.72%\n",
      "Epoch 8: Train Loss=1.6368, Train Acc=46.11%, Val Loss=1.7118, Val Acc=45.60%\n",
      "Epoch 9: Train Loss=1.2763, Train Acc=57.66%, Val Loss=1.3142, Val Acc=57.20%\n",
      "Epoch 10: Train Loss=1.0495, Train Acc=65.72%, Val Loss=1.0941, Val Acc=65.73%\n",
      "Test Loss: 1.0251, Test Acc: 67.53%\n"
     ]
    },
    {
     "data": {
      "text/html": [],
      "text/plain": [
       "<IPython.core.display.HTML object>"
      ]
     },
     "metadata": {},
     "output_type": "display_data"
    },
    {
     "data": {
      "text/html": [
       "<br>    <style><br>        .wandb-row {<br>            display: flex;<br>            flex-direction: row;<br>            flex-wrap: wrap;<br>            justify-content: flex-start;<br>            width: 100%;<br>        }<br>        .wandb-col {<br>            display: flex;<br>            flex-direction: column;<br>            flex-basis: 100%;<br>            flex: 1;<br>            padding: 10px;<br>        }<br>    </style><br><div class=\"wandb-row\"><div class=\"wandb-col\"><h3>Run history:</h3><br/><table class=\"wandb\"><tr><td>epoch</td><td>▁▂▃▃▄▅▆▆▇█</td></tr><tr><td>test_accuracy</td><td>▁</td></tr><tr><td>train_acc</td><td>▁▁▁▂▃▃▄▅▇█</td></tr><tr><td>train_loss</td><td>█▄▃▃▂▂▂▂▁▁</td></tr><tr><td>val_acc</td><td>▁▁▁▂▃▃▄▅▇█</td></tr><tr><td>val_loss</td><td>█▄▃▃▂▂▂▂▁▁</td></tr></table><br/></div><div class=\"wandb-col\"><h3>Run summary:</h3><br/><table class=\"wandb\"><tr><td>epoch</td><td>10</td></tr><tr><td>test_accuracy</td><td>67.53</td></tr><tr><td>train_acc</td><td>65.72222</td></tr><tr><td>train_loss</td><td>1.0495</td></tr><tr><td>val_acc</td><td>65.73333</td></tr><tr><td>val_loss</td><td>1.09406</td></tr></table><br/></div></div>"
      ],
      "text/plain": [
       "<IPython.core.display.HTML object>"
      ]
     },
     "metadata": {},
     "output_type": "display_data"
    },
    {
     "data": {
      "text/html": [
       " View run <strong style=\"color:#cdcd00\">opt_nadam_hl_5_bs_64_e_10_act_ReLU_eta_0.005_init_random_hls_32_dataset_mnist_cross_entropy</strong> at: <a href='https://wandb.ai/cs24m021-iit-madras/DA6401_DL_Assignment1/runs/ibt0lz3d' target=\"_blank\">https://wandb.ai/cs24m021-iit-madras/DA6401_DL_Assignment1/runs/ibt0lz3d</a><br> View project at: <a href='https://wandb.ai/cs24m021-iit-madras/DA6401_DL_Assignment1' target=\"_blank\">https://wandb.ai/cs24m021-iit-madras/DA6401_DL_Assignment1</a><br>Synced 5 W&B file(s), 0 media file(s), 0 artifact file(s) and 0 other file(s)"
      ],
      "text/plain": [
       "<IPython.core.display.HTML object>"
      ]
     },
     "metadata": {},
     "output_type": "display_data"
    },
    {
     "data": {
      "text/html": [
       "Find logs at: <code>./wandb/run-20250311_142557-ibt0lz3d/logs</code>"
      ],
      "text/plain": [
       "<IPython.core.display.HTML object>"
      ]
     },
     "metadata": {},
     "output_type": "display_data"
    },
    {
     "name": "stderr",
     "output_type": "stream",
     "text": [
      "\u001b[34m\u001b[1mwandb\u001b[0m: Agent Starting Run: l8qowdvi with config:\n",
      "\u001b[34m\u001b[1mwandb\u001b[0m: \tactivation: sigmoid\n",
      "\u001b[34m\u001b[1mwandb\u001b[0m: \thidden_layer_sizes: 32\n",
      "\u001b[34m\u001b[1mwandb\u001b[0m: \toptimizer: adam\n"
     ]
    },
    {
     "data": {
      "text/html": [
       "Ignoring project 'DA6401_DL_Assignment1' when running a sweep."
      ],
      "text/plain": [
       "<IPython.core.display.HTML object>"
      ]
     },
     "metadata": {},
     "output_type": "display_data"
    },
    {
     "data": {
      "text/html": [
       "Tracking run with wandb version 0.19.8"
      ],
      "text/plain": [
       "<IPython.core.display.HTML object>"
      ]
     },
     "metadata": {},
     "output_type": "display_data"
    },
    {
     "data": {
      "text/html": [
       "Run data is saved locally in <code>/home/ubuntu/wandb/run-20250311_142619-l8qowdvi</code>"
      ],
      "text/plain": [
       "<IPython.core.display.HTML object>"
      ]
     },
     "metadata": {},
     "output_type": "display_data"
    },
    {
     "data": {
      "text/html": [
       "Syncing run <strong><a href='https://wandb.ai/cs24m021-iit-madras/DA6401_DL_Assignment1/runs/l8qowdvi' target=\"_blank\">rose-sweep-51</a></strong> to <a href='https://wandb.ai/cs24m021-iit-madras/DA6401_DL_Assignment1' target=\"_blank\">Weights & Biases</a> (<a href='https://wandb.me/developer-guide' target=\"_blank\">docs</a>)<br>Sweep page: <a href='https://wandb.ai/cs24m021-iit-madras/DA6401_DL_Assignment1/sweeps/jtj28a74' target=\"_blank\">https://wandb.ai/cs24m021-iit-madras/DA6401_DL_Assignment1/sweeps/jtj28a74</a>"
      ],
      "text/plain": [
       "<IPython.core.display.HTML object>"
      ]
     },
     "metadata": {},
     "output_type": "display_data"
    },
    {
     "data": {
      "text/html": [
       " View project at <a href='https://wandb.ai/cs24m021-iit-madras/DA6401_DL_Assignment1' target=\"_blank\">https://wandb.ai/cs24m021-iit-madras/DA6401_DL_Assignment1</a>"
      ],
      "text/plain": [
       "<IPython.core.display.HTML object>"
      ]
     },
     "metadata": {},
     "output_type": "display_data"
    },
    {
     "data": {
      "text/html": [
       " View sweep at <a href='https://wandb.ai/cs24m021-iit-madras/DA6401_DL_Assignment1/sweeps/jtj28a74' target=\"_blank\">https://wandb.ai/cs24m021-iit-madras/DA6401_DL_Assignment1/sweeps/jtj28a74</a>"
      ],
      "text/plain": [
       "<IPython.core.display.HTML object>"
      ]
     },
     "metadata": {},
     "output_type": "display_data"
    },
    {
     "data": {
      "text/html": [
       " View run at <a href='https://wandb.ai/cs24m021-iit-madras/DA6401_DL_Assignment1/runs/l8qowdvi' target=\"_blank\">https://wandb.ai/cs24m021-iit-madras/DA6401_DL_Assignment1/runs/l8qowdvi</a>"
      ],
      "text/plain": [
       "<IPython.core.display.HTML object>"
      ]
     },
     "metadata": {},
     "output_type": "display_data"
    },
    {
     "name": "stdout",
     "output_type": "stream",
     "text": [
      "Epoch 1: Train Loss=0.2751, Train Acc=92.28%, Val Loss=0.2909, Val Acc=91.72%\n",
      "Epoch 2: Train Loss=0.1992, Train Acc=94.53%, Val Loss=0.2187, Val Acc=93.55%\n",
      "Epoch 3: Train Loss=0.1778, Train Acc=95.16%, Val Loss=0.2009, Val Acc=94.08%\n",
      "Epoch 4: Train Loss=0.1651, Train Acc=95.55%, Val Loss=0.1880, Val Acc=94.57%\n",
      "Epoch 5: Train Loss=0.1559, Train Acc=95.86%, Val Loss=0.1786, Val Acc=94.80%\n",
      "Epoch 6: Train Loss=0.1485, Train Acc=96.06%, Val Loss=0.1717, Val Acc=95.10%\n",
      "Epoch 7: Train Loss=0.1423, Train Acc=96.24%, Val Loss=0.1664, Val Acc=95.30%\n",
      "Epoch 8: Train Loss=0.1375, Train Acc=96.30%, Val Loss=0.1627, Val Acc=95.47%\n",
      "Epoch 9: Train Loss=0.1337, Train Acc=96.40%, Val Loss=0.1596, Val Acc=95.55%\n",
      "Epoch 10: Train Loss=0.1308, Train Acc=96.46%, Val Loss=0.1574, Val Acc=95.72%\n",
      "Test Loss: 0.1428, Test Acc: 95.95%\n"
     ]
    },
    {
     "data": {
      "text/html": [],
      "text/plain": [
       "<IPython.core.display.HTML object>"
      ]
     },
     "metadata": {},
     "output_type": "display_data"
    },
    {
     "data": {
      "text/html": [
       "<br>    <style><br>        .wandb-row {<br>            display: flex;<br>            flex-direction: row;<br>            flex-wrap: wrap;<br>            justify-content: flex-start;<br>            width: 100%;<br>        }<br>        .wandb-col {<br>            display: flex;<br>            flex-direction: column;<br>            flex-basis: 100%;<br>            flex: 1;<br>            padding: 10px;<br>        }<br>    </style><br><div class=\"wandb-row\"><div class=\"wandb-col\"><h3>Run history:</h3><br/><table class=\"wandb\"><tr><td>epoch</td><td>▁▂▃▃▄▅▆▆▇█</td></tr><tr><td>test_accuracy</td><td>▁</td></tr><tr><td>train_acc</td><td>▁▅▆▆▇▇████</td></tr><tr><td>train_loss</td><td>█▄▃▃▂▂▂▁▁▁</td></tr><tr><td>val_acc</td><td>▁▄▅▆▆▇▇███</td></tr><tr><td>val_loss</td><td>█▄▃▃▂▂▁▁▁▁</td></tr></table><br/></div><div class=\"wandb-col\"><h3>Run summary:</h3><br/><table class=\"wandb\"><tr><td>epoch</td><td>10</td></tr><tr><td>test_accuracy</td><td>95.95</td></tr><tr><td>train_acc</td><td>96.46111</td></tr><tr><td>train_loss</td><td>0.13077</td></tr><tr><td>val_acc</td><td>95.71667</td></tr><tr><td>val_loss</td><td>0.15745</td></tr></table><br/></div></div>"
      ],
      "text/plain": [
       "<IPython.core.display.HTML object>"
      ]
     },
     "metadata": {},
     "output_type": "display_data"
    },
    {
     "data": {
      "text/html": [
       " View run <strong style=\"color:#cdcd00\">opt_adam_hl_5_bs_64_e_10_act_sigmoid_eta_0.005_init_random_hls_32_dataset_mnist_cross_entropy</strong> at: <a href='https://wandb.ai/cs24m021-iit-madras/DA6401_DL_Assignment1/runs/l8qowdvi' target=\"_blank\">https://wandb.ai/cs24m021-iit-madras/DA6401_DL_Assignment1/runs/l8qowdvi</a><br> View project at: <a href='https://wandb.ai/cs24m021-iit-madras/DA6401_DL_Assignment1' target=\"_blank\">https://wandb.ai/cs24m021-iit-madras/DA6401_DL_Assignment1</a><br>Synced 5 W&B file(s), 0 media file(s), 0 artifact file(s) and 0 other file(s)"
      ],
      "text/plain": [
       "<IPython.core.display.HTML object>"
      ]
     },
     "metadata": {},
     "output_type": "display_data"
    },
    {
     "data": {
      "text/html": [
       "Find logs at: <code>./wandb/run-20250311_142619-l8qowdvi/logs</code>"
      ],
      "text/plain": [
       "<IPython.core.display.HTML object>"
      ]
     },
     "metadata": {},
     "output_type": "display_data"
    },
    {
     "name": "stderr",
     "output_type": "stream",
     "text": [
      "\u001b[34m\u001b[1mwandb\u001b[0m: Agent Starting Run: 6hdaoa3e with config:\n",
      "\u001b[34m\u001b[1mwandb\u001b[0m: \tactivation: sigmoid\n",
      "\u001b[34m\u001b[1mwandb\u001b[0m: \thidden_layer_sizes: 32\n",
      "\u001b[34m\u001b[1mwandb\u001b[0m: \toptimizer: adam\n"
     ]
    },
    {
     "data": {
      "text/html": [
       "Ignoring project 'DA6401_DL_Assignment1' when running a sweep."
      ],
      "text/plain": [
       "<IPython.core.display.HTML object>"
      ]
     },
     "metadata": {},
     "output_type": "display_data"
    },
    {
     "data": {
      "text/html": [
       "Tracking run with wandb version 0.19.8"
      ],
      "text/plain": [
       "<IPython.core.display.HTML object>"
      ]
     },
     "metadata": {},
     "output_type": "display_data"
    },
    {
     "data": {
      "text/html": [
       "Run data is saved locally in <code>/home/ubuntu/wandb/run-20250311_142650-6hdaoa3e</code>"
      ],
      "text/plain": [
       "<IPython.core.display.HTML object>"
      ]
     },
     "metadata": {},
     "output_type": "display_data"
    },
    {
     "data": {
      "text/html": [
       "Syncing run <strong><a href='https://wandb.ai/cs24m021-iit-madras/DA6401_DL_Assignment1/runs/6hdaoa3e' target=\"_blank\">expert-sweep-52</a></strong> to <a href='https://wandb.ai/cs24m021-iit-madras/DA6401_DL_Assignment1' target=\"_blank\">Weights & Biases</a> (<a href='https://wandb.me/developer-guide' target=\"_blank\">docs</a>)<br>Sweep page: <a href='https://wandb.ai/cs24m021-iit-madras/DA6401_DL_Assignment1/sweeps/jtj28a74' target=\"_blank\">https://wandb.ai/cs24m021-iit-madras/DA6401_DL_Assignment1/sweeps/jtj28a74</a>"
      ],
      "text/plain": [
       "<IPython.core.display.HTML object>"
      ]
     },
     "metadata": {},
     "output_type": "display_data"
    },
    {
     "data": {
      "text/html": [
       " View project at <a href='https://wandb.ai/cs24m021-iit-madras/DA6401_DL_Assignment1' target=\"_blank\">https://wandb.ai/cs24m021-iit-madras/DA6401_DL_Assignment1</a>"
      ],
      "text/plain": [
       "<IPython.core.display.HTML object>"
      ]
     },
     "metadata": {},
     "output_type": "display_data"
    },
    {
     "data": {
      "text/html": [
       " View sweep at <a href='https://wandb.ai/cs24m021-iit-madras/DA6401_DL_Assignment1/sweeps/jtj28a74' target=\"_blank\">https://wandb.ai/cs24m021-iit-madras/DA6401_DL_Assignment1/sweeps/jtj28a74</a>"
      ],
      "text/plain": [
       "<IPython.core.display.HTML object>"
      ]
     },
     "metadata": {},
     "output_type": "display_data"
    },
    {
     "data": {
      "text/html": [
       " View run at <a href='https://wandb.ai/cs24m021-iit-madras/DA6401_DL_Assignment1/runs/6hdaoa3e' target=\"_blank\">https://wandb.ai/cs24m021-iit-madras/DA6401_DL_Assignment1/runs/6hdaoa3e</a>"
      ],
      "text/plain": [
       "<IPython.core.display.HTML object>"
      ]
     },
     "metadata": {},
     "output_type": "display_data"
    },
    {
     "name": "stdout",
     "output_type": "stream",
     "text": [
      "Epoch 1: Train Loss=0.2714, Train Acc=92.62%, Val Loss=0.2815, Val Acc=92.47%\n",
      "Epoch 2: Train Loss=0.2096, Train Acc=94.41%, Val Loss=0.2290, Val Acc=93.50%\n",
      "Epoch 3: Train Loss=0.1830, Train Acc=95.03%, Val Loss=0.2070, Val Acc=94.03%\n",
      "Epoch 4: Train Loss=0.1668, Train Acc=95.41%, Val Loss=0.1941, Val Acc=94.43%\n",
      "Epoch 5: Train Loss=0.1559, Train Acc=95.73%, Val Loss=0.1850, Val Acc=94.80%\n",
      "Epoch 6: Train Loss=0.1487, Train Acc=95.92%, Val Loss=0.1787, Val Acc=95.08%\n",
      "Epoch 7: Train Loss=0.1431, Train Acc=96.14%, Val Loss=0.1740, Val Acc=95.13%\n",
      "Epoch 8: Train Loss=0.1392, Train Acc=96.27%, Val Loss=0.1706, Val Acc=95.23%\n",
      "Epoch 9: Train Loss=0.1358, Train Acc=96.34%, Val Loss=0.1680, Val Acc=95.23%\n",
      "Epoch 10: Train Loss=0.1330, Train Acc=96.40%, Val Loss=0.1663, Val Acc=95.28%\n",
      "Test Loss: 0.1486, Test Acc: 95.82%\n"
     ]
    },
    {
     "data": {
      "text/html": [],
      "text/plain": [
       "<IPython.core.display.HTML object>"
      ]
     },
     "metadata": {},
     "output_type": "display_data"
    },
    {
     "data": {
      "text/html": [
       "<br>    <style><br>        .wandb-row {<br>            display: flex;<br>            flex-direction: row;<br>            flex-wrap: wrap;<br>            justify-content: flex-start;<br>            width: 100%;<br>        }<br>        .wandb-col {<br>            display: flex;<br>            flex-direction: column;<br>            flex-basis: 100%;<br>            flex: 1;<br>            padding: 10px;<br>        }<br>    </style><br><div class=\"wandb-row\"><div class=\"wandb-col\"><h3>Run history:</h3><br/><table class=\"wandb\"><tr><td>epoch</td><td>▁▂▃▃▄▅▆▆▇█</td></tr><tr><td>test_accuracy</td><td>▁</td></tr><tr><td>train_acc</td><td>▁▄▅▆▇▇████</td></tr><tr><td>train_loss</td><td>█▅▄▃▂▂▂▁▁▁</td></tr><tr><td>val_acc</td><td>▁▄▅▆▇█████</td></tr><tr><td>val_loss</td><td>█▅▃▃▂▂▁▁▁▁</td></tr></table><br/></div><div class=\"wandb-col\"><h3>Run summary:</h3><br/><table class=\"wandb\"><tr><td>epoch</td><td>10</td></tr><tr><td>test_accuracy</td><td>95.82</td></tr><tr><td>train_acc</td><td>96.40185</td></tr><tr><td>train_loss</td><td>0.133</td></tr><tr><td>val_acc</td><td>95.28333</td></tr><tr><td>val_loss</td><td>0.1663</td></tr></table><br/></div></div>"
      ],
      "text/plain": [
       "<IPython.core.display.HTML object>"
      ]
     },
     "metadata": {},
     "output_type": "display_data"
    },
    {
     "data": {
      "text/html": [
       " View run <strong style=\"color:#cdcd00\">opt_adam_hl_5_bs_64_e_10_act_sigmoid_eta_0.005_init_random_hls_32_dataset_mnist_cross_entropy</strong> at: <a href='https://wandb.ai/cs24m021-iit-madras/DA6401_DL_Assignment1/runs/6hdaoa3e' target=\"_blank\">https://wandb.ai/cs24m021-iit-madras/DA6401_DL_Assignment1/runs/6hdaoa3e</a><br> View project at: <a href='https://wandb.ai/cs24m021-iit-madras/DA6401_DL_Assignment1' target=\"_blank\">https://wandb.ai/cs24m021-iit-madras/DA6401_DL_Assignment1</a><br>Synced 5 W&B file(s), 0 media file(s), 0 artifact file(s) and 0 other file(s)"
      ],
      "text/plain": [
       "<IPython.core.display.HTML object>"
      ]
     },
     "metadata": {},
     "output_type": "display_data"
    },
    {
     "data": {
      "text/html": [
       "Find logs at: <code>./wandb/run-20250311_142650-6hdaoa3e/logs</code>"
      ],
      "text/plain": [
       "<IPython.core.display.HTML object>"
      ]
     },
     "metadata": {},
     "output_type": "display_data"
    },
    {
     "name": "stderr",
     "output_type": "stream",
     "text": [
      "\u001b[34m\u001b[1mwandb\u001b[0m: Agent Starting Run: 81ahju27 with config:\n",
      "\u001b[34m\u001b[1mwandb\u001b[0m: \tactivation: ReLU\n",
      "\u001b[34m\u001b[1mwandb\u001b[0m: \thidden_layer_sizes: 128\n",
      "\u001b[34m\u001b[1mwandb\u001b[0m: \toptimizer: momentum\n"
     ]
    },
    {
     "data": {
      "text/html": [
       "Ignoring project 'DA6401_DL_Assignment1' when running a sweep."
      ],
      "text/plain": [
       "<IPython.core.display.HTML object>"
      ]
     },
     "metadata": {},
     "output_type": "display_data"
    },
    {
     "data": {
      "text/html": [
       "Tracking run with wandb version 0.19.8"
      ],
      "text/plain": [
       "<IPython.core.display.HTML object>"
      ]
     },
     "metadata": {},
     "output_type": "display_data"
    },
    {
     "data": {
      "text/html": [
       "Run data is saved locally in <code>/home/ubuntu/wandb/run-20250311_142723-81ahju27</code>"
      ],
      "text/plain": [
       "<IPython.core.display.HTML object>"
      ]
     },
     "metadata": {},
     "output_type": "display_data"
    },
    {
     "data": {
      "text/html": [
       "Syncing run <strong><a href='https://wandb.ai/cs24m021-iit-madras/DA6401_DL_Assignment1/runs/81ahju27' target=\"_blank\">noble-sweep-53</a></strong> to <a href='https://wandb.ai/cs24m021-iit-madras/DA6401_DL_Assignment1' target=\"_blank\">Weights & Biases</a> (<a href='https://wandb.me/developer-guide' target=\"_blank\">docs</a>)<br>Sweep page: <a href='https://wandb.ai/cs24m021-iit-madras/DA6401_DL_Assignment1/sweeps/jtj28a74' target=\"_blank\">https://wandb.ai/cs24m021-iit-madras/DA6401_DL_Assignment1/sweeps/jtj28a74</a>"
      ],
      "text/plain": [
       "<IPython.core.display.HTML object>"
      ]
     },
     "metadata": {},
     "output_type": "display_data"
    },
    {
     "data": {
      "text/html": [
       " View project at <a href='https://wandb.ai/cs24m021-iit-madras/DA6401_DL_Assignment1' target=\"_blank\">https://wandb.ai/cs24m021-iit-madras/DA6401_DL_Assignment1</a>"
      ],
      "text/plain": [
       "<IPython.core.display.HTML object>"
      ]
     },
     "metadata": {},
     "output_type": "display_data"
    },
    {
     "data": {
      "text/html": [
       " View sweep at <a href='https://wandb.ai/cs24m021-iit-madras/DA6401_DL_Assignment1/sweeps/jtj28a74' target=\"_blank\">https://wandb.ai/cs24m021-iit-madras/DA6401_DL_Assignment1/sweeps/jtj28a74</a>"
      ],
      "text/plain": [
       "<IPython.core.display.HTML object>"
      ]
     },
     "metadata": {},
     "output_type": "display_data"
    },
    {
     "data": {
      "text/html": [
       " View run at <a href='https://wandb.ai/cs24m021-iit-madras/DA6401_DL_Assignment1/runs/81ahju27' target=\"_blank\">https://wandb.ai/cs24m021-iit-madras/DA6401_DL_Assignment1/runs/81ahju27</a>"
      ],
      "text/plain": [
       "<IPython.core.display.HTML object>"
      ]
     },
     "metadata": {},
     "output_type": "display_data"
    },
    {
     "name": "stdout",
     "output_type": "stream",
     "text": [
      "Epoch 1: Train Loss=nan, Train Acc=9.88%, Val Loss=nan, Val Acc=9.82%\n",
      "Epoch 2: Train Loss=nan, Train Acc=9.88%, Val Loss=nan, Val Acc=9.82%\n",
      "Epoch 3: Train Loss=nan, Train Acc=9.88%, Val Loss=nan, Val Acc=9.82%\n",
      "Epoch 4: Train Loss=nan, Train Acc=9.88%, Val Loss=nan, Val Acc=9.82%\n",
      "Epoch 5: Train Loss=nan, Train Acc=9.88%, Val Loss=nan, Val Acc=9.82%\n",
      "Epoch 6: Train Loss=nan, Train Acc=9.88%, Val Loss=nan, Val Acc=9.82%\n",
      "Epoch 7: Train Loss=nan, Train Acc=9.88%, Val Loss=nan, Val Acc=9.82%\n",
      "Epoch 8: Train Loss=nan, Train Acc=9.88%, Val Loss=nan, Val Acc=9.82%\n",
      "Epoch 9: Train Loss=nan, Train Acc=9.88%, Val Loss=nan, Val Acc=9.82%\n",
      "Epoch 10: Train Loss=nan, Train Acc=9.88%, Val Loss=nan, Val Acc=9.82%\n",
      "Test Loss: nan, Test Acc: 9.80%\n"
     ]
    },
    {
     "data": {
      "text/html": [],
      "text/plain": [
       "<IPython.core.display.HTML object>"
      ]
     },
     "metadata": {},
     "output_type": "display_data"
    },
    {
     "data": {
      "text/html": [
       "<br>    <style><br>        .wandb-row {<br>            display: flex;<br>            flex-direction: row;<br>            flex-wrap: wrap;<br>            justify-content: flex-start;<br>            width: 100%;<br>        }<br>        .wandb-col {<br>            display: flex;<br>            flex-direction: column;<br>            flex-basis: 100%;<br>            flex: 1;<br>            padding: 10px;<br>        }<br>    </style><br><div class=\"wandb-row\"><div class=\"wandb-col\"><h3>Run history:</h3><br/><table class=\"wandb\"><tr><td>epoch</td><td>▁▂▃▃▄▅▆▆▇█</td></tr><tr><td>test_accuracy</td><td>▁</td></tr><tr><td>train_acc</td><td>▁▁▁▁▁▁▁▁▁▁</td></tr><tr><td>val_acc</td><td>▁▁▁▁▁▁▁▁▁▁</td></tr></table><br/></div><div class=\"wandb-col\"><h3>Run summary:</h3><br/><table class=\"wandb\"><tr><td>epoch</td><td>10</td></tr><tr><td>test_accuracy</td><td>9.8</td></tr><tr><td>train_acc</td><td>9.87778</td></tr><tr><td>train_loss</td><td>nan</td></tr><tr><td>val_acc</td><td>9.81667</td></tr><tr><td>val_loss</td><td>nan</td></tr></table><br/></div></div>"
      ],
      "text/plain": [
       "<IPython.core.display.HTML object>"
      ]
     },
     "metadata": {},
     "output_type": "display_data"
    },
    {
     "data": {
      "text/html": [
       " View run <strong style=\"color:#cdcd00\">opt_momentum_hl_5_bs_64_e_10_act_ReLU_eta_0.005_init_random_hls_128_dataset_mnist_cross_entropy</strong> at: <a href='https://wandb.ai/cs24m021-iit-madras/DA6401_DL_Assignment1/runs/81ahju27' target=\"_blank\">https://wandb.ai/cs24m021-iit-madras/DA6401_DL_Assignment1/runs/81ahju27</a><br> View project at: <a href='https://wandb.ai/cs24m021-iit-madras/DA6401_DL_Assignment1' target=\"_blank\">https://wandb.ai/cs24m021-iit-madras/DA6401_DL_Assignment1</a><br>Synced 5 W&B file(s), 0 media file(s), 0 artifact file(s) and 0 other file(s)"
      ],
      "text/plain": [
       "<IPython.core.display.HTML object>"
      ]
     },
     "metadata": {},
     "output_type": "display_data"
    },
    {
     "data": {
      "text/html": [
       "Find logs at: <code>./wandb/run-20250311_142723-81ahju27/logs</code>"
      ],
      "text/plain": [
       "<IPython.core.display.HTML object>"
      ]
     },
     "metadata": {},
     "output_type": "display_data"
    },
    {
     "name": "stderr",
     "output_type": "stream",
     "text": [
      "\u001b[34m\u001b[1mwandb\u001b[0m: Agent Starting Run: pu91wzmy with config:\n",
      "\u001b[34m\u001b[1mwandb\u001b[0m: \tactivation: tanh\n",
      "\u001b[34m\u001b[1mwandb\u001b[0m: \thidden_layer_sizes: 64\n",
      "\u001b[34m\u001b[1mwandb\u001b[0m: \toptimizer: momentum\n"
     ]
    },
    {
     "data": {
      "text/html": [
       "Ignoring project 'DA6401_DL_Assignment1' when running a sweep."
      ],
      "text/plain": [
       "<IPython.core.display.HTML object>"
      ]
     },
     "metadata": {},
     "output_type": "display_data"
    },
    {
     "data": {
      "text/html": [
       "Tracking run with wandb version 0.19.8"
      ],
      "text/plain": [
       "<IPython.core.display.HTML object>"
      ]
     },
     "metadata": {},
     "output_type": "display_data"
    },
    {
     "data": {
      "text/html": [
       "Run data is saved locally in <code>/home/ubuntu/wandb/run-20250311_142820-pu91wzmy</code>"
      ],
      "text/plain": [
       "<IPython.core.display.HTML object>"
      ]
     },
     "metadata": {},
     "output_type": "display_data"
    },
    {
     "data": {
      "text/html": [
       "Syncing run <strong><a href='https://wandb.ai/cs24m021-iit-madras/DA6401_DL_Assignment1/runs/pu91wzmy' target=\"_blank\">ancient-sweep-54</a></strong> to <a href='https://wandb.ai/cs24m021-iit-madras/DA6401_DL_Assignment1' target=\"_blank\">Weights & Biases</a> (<a href='https://wandb.me/developer-guide' target=\"_blank\">docs</a>)<br>Sweep page: <a href='https://wandb.ai/cs24m021-iit-madras/DA6401_DL_Assignment1/sweeps/jtj28a74' target=\"_blank\">https://wandb.ai/cs24m021-iit-madras/DA6401_DL_Assignment1/sweeps/jtj28a74</a>"
      ],
      "text/plain": [
       "<IPython.core.display.HTML object>"
      ]
     },
     "metadata": {},
     "output_type": "display_data"
    },
    {
     "data": {
      "text/html": [
       " View project at <a href='https://wandb.ai/cs24m021-iit-madras/DA6401_DL_Assignment1' target=\"_blank\">https://wandb.ai/cs24m021-iit-madras/DA6401_DL_Assignment1</a>"
      ],
      "text/plain": [
       "<IPython.core.display.HTML object>"
      ]
     },
     "metadata": {},
     "output_type": "display_data"
    },
    {
     "data": {
      "text/html": [
       " View sweep at <a href='https://wandb.ai/cs24m021-iit-madras/DA6401_DL_Assignment1/sweeps/jtj28a74' target=\"_blank\">https://wandb.ai/cs24m021-iit-madras/DA6401_DL_Assignment1/sweeps/jtj28a74</a>"
      ],
      "text/plain": [
       "<IPython.core.display.HTML object>"
      ]
     },
     "metadata": {},
     "output_type": "display_data"
    },
    {
     "data": {
      "text/html": [
       " View run at <a href='https://wandb.ai/cs24m021-iit-madras/DA6401_DL_Assignment1/runs/pu91wzmy' target=\"_blank\">https://wandb.ai/cs24m021-iit-madras/DA6401_DL_Assignment1/runs/pu91wzmy</a>"
      ],
      "text/plain": [
       "<IPython.core.display.HTML object>"
      ]
     },
     "metadata": {},
     "output_type": "display_data"
    },
    {
     "name": "stdout",
     "output_type": "stream",
     "text": [
      "Epoch 1: Train Loss=1.7352, Train Acc=38.36%, Val Loss=1.7562, Val Acc=37.70%\n",
      "Epoch 2: Train Loss=1.3959, Train Acc=52.10%, Val Loss=1.4271, Val Acc=51.37%\n",
      "Epoch 3: Train Loss=1.2179, Train Acc=58.45%, Val Loss=1.2564, Val Acc=56.37%\n",
      "Epoch 4: Train Loss=1.0646, Train Acc=63.23%, Val Loss=1.1123, Val Acc=61.88%\n",
      "Epoch 5: Train Loss=0.9660, Train Acc=67.12%, Val Loss=1.0146, Val Acc=65.63%\n",
      "Epoch 6: Train Loss=0.8913, Train Acc=70.26%, Val Loss=0.9364, Val Acc=69.52%\n",
      "Epoch 7: Train Loss=0.8146, Train Acc=74.49%, Val Loss=0.8674, Val Acc=73.65%\n",
      "Epoch 8: Train Loss=0.7580, Train Acc=76.74%, Val Loss=0.8114, Val Acc=75.42%\n",
      "Epoch 9: Train Loss=0.7107, Train Acc=78.47%, Val Loss=0.7630, Val Acc=76.93%\n",
      "Epoch 10: Train Loss=0.6667, Train Acc=79.98%, Val Loss=0.7258, Val Acc=78.10%\n",
      "Test Loss: 0.7007, Test Acc: 79.26%\n"
     ]
    },
    {
     "data": {
      "text/html": [],
      "text/plain": [
       "<IPython.core.display.HTML object>"
      ]
     },
     "metadata": {},
     "output_type": "display_data"
    },
    {
     "data": {
      "text/html": [
       "<br>    <style><br>        .wandb-row {<br>            display: flex;<br>            flex-direction: row;<br>            flex-wrap: wrap;<br>            justify-content: flex-start;<br>            width: 100%;<br>        }<br>        .wandb-col {<br>            display: flex;<br>            flex-direction: column;<br>            flex-basis: 100%;<br>            flex: 1;<br>            padding: 10px;<br>        }<br>    </style><br><div class=\"wandb-row\"><div class=\"wandb-col\"><h3>Run history:</h3><br/><table class=\"wandb\"><tr><td>epoch</td><td>▁▂▃▃▄▅▆▆▇█</td></tr><tr><td>test_accuracy</td><td>▁</td></tr><tr><td>train_acc</td><td>▁▃▄▅▆▆▇▇██</td></tr><tr><td>train_loss</td><td>█▆▅▄▃▂▂▂▁▁</td></tr><tr><td>val_acc</td><td>▁▃▄▅▆▇▇███</td></tr><tr><td>val_loss</td><td>█▆▅▄▃▂▂▂▁▁</td></tr></table><br/></div><div class=\"wandb-col\"><h3>Run summary:</h3><br/><table class=\"wandb\"><tr><td>epoch</td><td>10</td></tr><tr><td>test_accuracy</td><td>79.26</td></tr><tr><td>train_acc</td><td>79.98333</td></tr><tr><td>train_loss</td><td>0.66666</td></tr><tr><td>val_acc</td><td>78.1</td></tr><tr><td>val_loss</td><td>0.72584</td></tr></table><br/></div></div>"
      ],
      "text/plain": [
       "<IPython.core.display.HTML object>"
      ]
     },
     "metadata": {},
     "output_type": "display_data"
    },
    {
     "data": {
      "text/html": [
       " View run <strong style=\"color:#cdcd00\">opt_momentum_hl_5_bs_64_e_10_act_tanh_eta_0.005_init_random_hls_64_dataset_mnist_cross_entropy</strong> at: <a href='https://wandb.ai/cs24m021-iit-madras/DA6401_DL_Assignment1/runs/pu91wzmy' target=\"_blank\">https://wandb.ai/cs24m021-iit-madras/DA6401_DL_Assignment1/runs/pu91wzmy</a><br> View project at: <a href='https://wandb.ai/cs24m021-iit-madras/DA6401_DL_Assignment1' target=\"_blank\">https://wandb.ai/cs24m021-iit-madras/DA6401_DL_Assignment1</a><br>Synced 5 W&B file(s), 0 media file(s), 0 artifact file(s) and 0 other file(s)"
      ],
      "text/plain": [
       "<IPython.core.display.HTML object>"
      ]
     },
     "metadata": {},
     "output_type": "display_data"
    },
    {
     "data": {
      "text/html": [
       "Find logs at: <code>./wandb/run-20250311_142820-pu91wzmy/logs</code>"
      ],
      "text/plain": [
       "<IPython.core.display.HTML object>"
      ]
     },
     "metadata": {},
     "output_type": "display_data"
    }
   ],
   "source": []
  },
  {
   "cell_type": "code",
   "execution_count": null,
   "id": "549843bc-2656-4153-8925-251d52a9e2db",
   "metadata": {},
   "outputs": [],
   "source": []
  },
  {
   "cell_type": "code",
   "execution_count": null,
   "id": "04709acc-5ab1-4dee-a93e-6eab6d466c0c",
   "metadata": {},
   "outputs": [],
   "source": []
  },
  {
   "cell_type": "code",
   "execution_count": null,
   "id": "2b01218e-99d0-4ac9-a98d-ae20ba36e264",
   "metadata": {},
   "outputs": [],
   "source": [
    "!python train.py -wp DA6401A1 -e 15 -b 64 -o adam -lr 0.001 -beta1 0.999 -beta2 0.9 -w_i Xavier -nhl 4  -sz 128 -a sigmoid "
   ]
  },
  {
   "cell_type": "code",
   "execution_count": null,
   "id": "581e5813-398d-403b-90b1-ca1913e27361",
   "metadata": {},
   "outputs": [],
   "source": []
  }
 ],
 "metadata": {
  "kernelspec": {
   "display_name": "Python 3 (ipykernel)",
   "language": "python",
   "name": "python3"
  },
  "language_info": {
   "codemirror_mode": {
    "name": "ipython",
    "version": 3
   },
   "file_extension": ".py",
   "mimetype": "text/x-python",
   "name": "python",
   "nbconvert_exporter": "python",
   "pygments_lexer": "ipython3",
   "version": "3.11.7"
  }
 },
 "nbformat": 4,
 "nbformat_minor": 5
}
